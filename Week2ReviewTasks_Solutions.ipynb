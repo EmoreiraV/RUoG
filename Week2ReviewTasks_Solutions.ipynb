{
  "nbformat": 4,
  "nbformat_minor": 0,
  "metadata": {
    "colab": {
      "provenance": [],
      "include_colab_link": true
    },
    "kernelspec": {
      "name": "ir",
      "display_name": "R"
    },
    "language_info": {
      "name": "R"
    }
  },
  "cells": [
    {
      "cell_type": "markdown",
      "metadata": {
        "id": "view-in-github",
        "colab_type": "text"
      },
      "source": [
        "<a href=\"https://colab.research.google.com/github/EmoreiraV/RUoG/blob/main/Week2ReviewTasks_Solutions.ipynb\" target=\"_parent\"><img src=\"https://colab.research.google.com/assets/colab-badge.svg\" alt=\"Open In Colab\"/></a>"
      ]
    },
    {
      "cell_type": "markdown",
      "source": [
        "# Week 2 Live Session\n",
        "\n",
        "In week 2, we begin to cover the basics of R with a focus on different types of variables and objects we can create. We will take a look at:\n",
        "\n",
        "\n",
        "\n",
        "*   Logical variables\n",
        "*   Vectors\n",
        "*   Other data types in R\n",
        "*   Matrices\n",
        "*   Lists\n",
        "\n"
      ],
      "metadata": {
        "id": "bqa7Ny41GPDg"
      }
    },
    {
      "cell_type": "markdown",
      "source": [
        "# Logical variables\n",
        "\n",
        "A logical variable can hold two values, `TRUE` or `FALSE`.\n",
        "\n",
        "R has three binary operators - `!`, `&` and `|`"
      ],
      "metadata": {
        "id": "bAKsRc0eHiNL"
      }
    },
    {
      "cell_type": "code",
      "source": [
        "a <- TRUE\n",
        "b <- FALSE\n",
        "\n",
        "a&b\n",
        "a&!b\n",
        "a|b"
      ],
      "metadata": {
        "colab": {
          "base_uri": "https://localhost:8080/",
          "height": 69
        },
        "id": "YaHQDFg1es5U",
        "outputId": "6fb960cc-9727-40e1-c04d-1080f6240019"
      },
      "execution_count": null,
      "outputs": [
        {
          "output_type": "display_data",
          "data": {
            "text/html": [
              "FALSE"
            ],
            "text/markdown": "FALSE",
            "text/latex": "FALSE",
            "text/plain": [
              "[1] FALSE"
            ]
          },
          "metadata": {}
        },
        {
          "output_type": "display_data",
          "data": {
            "text/html": [
              "TRUE"
            ],
            "text/markdown": "TRUE",
            "text/latex": "TRUE",
            "text/plain": [
              "[1] TRUE"
            ]
          },
          "metadata": {}
        },
        {
          "output_type": "display_data",
          "data": {
            "text/html": [
              "TRUE"
            ],
            "text/markdown": "TRUE",
            "text/latex": "TRUE",
            "text/plain": [
              "[1] TRUE"
            ]
          },
          "metadata": {}
        }
      ]
    },
    {
      "cell_type": "markdown",
      "source": [
        "Precedence in R is important -  the order of operations matters! For example `&` has a higher precedence than `|`.\n",
        "\n",
        "\n",
        "If you wish to calculate an expression prior to another, be sure to use parentheses ()."
      ],
      "metadata": {
        "id": "zITu2zJ8e7Uj"
      }
    },
    {
      "cell_type": "code",
      "source": [
        "a <- TRUE\n",
        "b <- FALSE\n",
        "c <- FALSE\n",
        "\n",
        "(a | b)&c\n",
        "a | b & c"
      ],
      "metadata": {
        "colab": {
          "base_uri": "https://localhost:8080/",
          "height": 52
        },
        "id": "TLe_3Rx3iiia",
        "outputId": "d6b52c96-313d-4b5f-c2ea-b59976f8ded8"
      },
      "execution_count": null,
      "outputs": [
        {
          "output_type": "display_data",
          "data": {
            "text/html": [
              "FALSE"
            ],
            "text/markdown": "FALSE",
            "text/latex": "FALSE",
            "text/plain": [
              "[1] FALSE"
            ]
          },
          "metadata": {}
        },
        {
          "output_type": "display_data",
          "data": {
            "text/html": [
              "TRUE"
            ],
            "text/markdown": "TRUE",
            "text/latex": "TRUE",
            "text/plain": [
              "[1] TRUE"
            ]
          },
          "metadata": {}
        }
      ]
    },
    {
      "cell_type": "markdown",
      "source": [
        "We can compare different values in R by using comparison operators:\n",
        "\n",
        "\n",
        "\n",
        "*   `==`\n",
        "*   `<`\n",
        "*   `<=`\n",
        "*   `>`\n",
        "*   `>=`\n",
        "\n",
        "For non-integer values, avoid using `==` for comparison, compute the absolute difference instead or `all.equal()`.\n",
        "\n"
      ],
      "metadata": {
        "id": "4QC8gt-PjJTn"
      }
    },
    {
      "cell_type": "code",
      "source": [
        "x <- 5\n",
        "x< 0\n",
        "x <= 7\n",
        "\n",
        "x < 0 & x > 2\n",
        "\n",
        "0.3-2*0.1==0.1\n",
        "\n",
        "abs(0.3-2*0.1 - 0.1) < 1e-8\n",
        "isTRUE(all.equal(0.3-2*0.1, 0.1))"
      ],
      "metadata": {
        "colab": {
          "base_uri": "https://localhost:8080/",
          "height": 121
        },
        "id": "Pe7-5N2hjhob",
        "outputId": "8a1ed501-472f-4c4c-9c34-7b183db260fe"
      },
      "execution_count": null,
      "outputs": [
        {
          "output_type": "display_data",
          "data": {
            "text/html": [
              "FALSE"
            ],
            "text/markdown": "FALSE",
            "text/latex": "FALSE",
            "text/plain": [
              "[1] FALSE"
            ]
          },
          "metadata": {}
        },
        {
          "output_type": "display_data",
          "data": {
            "text/html": [
              "TRUE"
            ],
            "text/markdown": "TRUE",
            "text/latex": "TRUE",
            "text/plain": [
              "[1] TRUE"
            ]
          },
          "metadata": {}
        },
        {
          "output_type": "display_data",
          "data": {
            "text/html": [
              "FALSE"
            ],
            "text/markdown": "FALSE",
            "text/latex": "FALSE",
            "text/plain": [
              "[1] FALSE"
            ]
          },
          "metadata": {}
        },
        {
          "output_type": "display_data",
          "data": {
            "text/html": [
              "FALSE"
            ],
            "text/markdown": "FALSE",
            "text/latex": "FALSE",
            "text/plain": [
              "[1] FALSE"
            ]
          },
          "metadata": {}
        },
        {
          "output_type": "display_data",
          "data": {
            "text/html": [
              "TRUE"
            ],
            "text/markdown": "TRUE",
            "text/latex": "TRUE",
            "text/plain": [
              "[1] TRUE"
            ]
          },
          "metadata": {}
        },
        {
          "output_type": "display_data",
          "data": {
            "text/html": [
              "TRUE"
            ],
            "text/markdown": "TRUE",
            "text/latex": "TRUE",
            "text/plain": [
              "[1] TRUE"
            ]
          },
          "metadata": {}
        }
      ]
    },
    {
      "cell_type": "markdown",
      "source": [
        "# Vectors\n",
        "\n",
        "Vectors allow us to store more than one value. All variables in R are vector.\n",
        "\n",
        "You can create a vector by using the command `c()`\n",
        "\n"
      ],
      "metadata": {
        "id": "CtRtqCX6_I0Z"
      }
    },
    {
      "cell_type": "code",
      "source": [
        "a <- c(1,2,3)\n",
        "b <- c(4,5,6)\n",
        "c <- c(a,b)\n",
        "a\n",
        "b\n",
        "c"
      ],
      "metadata": {
        "colab": {
          "base_uri": "https://localhost:8080/",
          "height": 69
        },
        "id": "UqOknRQw_IFO",
        "outputId": "88f9a602-37bd-4461-aecc-0375b902f93a"
      },
      "execution_count": null,
      "outputs": [
        {
          "output_type": "display_data",
          "data": {
            "text/html": [
              "<style>\n",
              ".list-inline {list-style: none; margin:0; padding: 0}\n",
              ".list-inline>li {display: inline-block}\n",
              ".list-inline>li:not(:last-child)::after {content: \"\\00b7\"; padding: 0 .5ex}\n",
              "</style>\n",
              "<ol class=list-inline><li>1</li><li>2</li><li>3</li></ol>\n"
            ],
            "text/markdown": "1. 1\n2. 2\n3. 3\n\n\n",
            "text/latex": "\\begin{enumerate*}\n\\item 1\n\\item 2\n\\item 3\n\\end{enumerate*}\n",
            "text/plain": [
              "[1] 1 2 3"
            ]
          },
          "metadata": {}
        },
        {
          "output_type": "display_data",
          "data": {
            "text/html": [
              "<style>\n",
              ".list-inline {list-style: none; margin:0; padding: 0}\n",
              ".list-inline>li {display: inline-block}\n",
              ".list-inline>li:not(:last-child)::after {content: \"\\00b7\"; padding: 0 .5ex}\n",
              "</style>\n",
              "<ol class=list-inline><li>4</li><li>5</li><li>6</li></ol>\n"
            ],
            "text/markdown": "1. 4\n2. 5\n3. 6\n\n\n",
            "text/latex": "\\begin{enumerate*}\n\\item 4\n\\item 5\n\\item 6\n\\end{enumerate*}\n",
            "text/plain": [
              "[1] 4 5 6"
            ]
          },
          "metadata": {}
        },
        {
          "output_type": "display_data",
          "data": {
            "text/html": [
              "<style>\n",
              ".list-inline {list-style: none; margin:0; padding: 0}\n",
              ".list-inline>li {display: inline-block}\n",
              ".list-inline>li:not(:last-child)::after {content: \"\\00b7\"; padding: 0 .5ex}\n",
              "</style>\n",
              "<ol class=list-inline><li>1</li><li>2</li><li>3</li><li>4</li><li>5</li><li>6</li></ol>\n"
            ],
            "text/markdown": "1. 1\n2. 2\n3. 3\n4. 4\n5. 5\n6. 6\n\n\n",
            "text/latex": "\\begin{enumerate*}\n\\item 1\n\\item 2\n\\item 3\n\\item 4\n\\item 5\n\\item 6\n\\end{enumerate*}\n",
            "text/plain": [
              "[1] 1 2 3 4 5 6"
            ]
          },
          "metadata": {}
        }
      ]
    },
    {
      "cell_type": "markdown",
      "source": [
        "If the elements of a vector correspond to natural naming conventions, these can be allocated using `names()`"
      ],
      "metadata": {
        "id": "nHzNhoWiHUFK"
      }
    },
    {
      "cell_type": "code",
      "source": [
        "names(a) <- c(\"first\",\"second\",\"third\")\n",
        "a"
      ],
      "metadata": {
        "colab": {
          "base_uri": "https://localhost:8080/",
          "height": 34
        },
        "id": "XpU145goHedc",
        "outputId": "81b91f7f-56e0-4035-de85-075f31e356f8"
      },
      "execution_count": null,
      "outputs": [
        {
          "output_type": "display_data",
          "data": {
            "text/html": [
              "<style>\n",
              ".dl-inline {width: auto; margin:0; padding: 0}\n",
              ".dl-inline>dt, .dl-inline>dd {float: none; width: auto; display: inline-block}\n",
              ".dl-inline>dt::after {content: \":\\0020\"; padding-right: .5ex}\n",
              ".dl-inline>dt:not(:first-of-type) {padding-left: .5ex}\n",
              "</style><dl class=dl-inline><dt>first</dt><dd>1</dd><dt>second</dt><dd>2</dd><dt>third</dt><dd>3</dd></dl>\n"
            ],
            "text/markdown": "first\n:   1second\n:   2third\n:   3\n\n",
            "text/latex": "\\begin{description*}\n\\item[first] 1\n\\item[second] 2\n\\item[third] 3\n\\end{description*}\n",
            "text/plain": [
              " first second  third \n",
              "     1      2      3 "
            ]
          },
          "metadata": {}
        }
      ]
    },
    {
      "cell_type": "markdown",
      "source": [
        "To access elements of a vector object, we use square brackets `[]`.\n",
        "\n",
        "For example, `a[i]` returns the $i^{th}$ element of `a`.\n",
        "\n",
        "This notation can be used to change an element of a vector and can also be used for subsetting."
      ],
      "metadata": {
        "id": "XLncaFglHtON"
      }
    },
    {
      "cell_type": "code",
      "source": [
        "b[1]\n",
        "\n",
        "a[2] <- 4\n",
        "\n",
        "a\n",
        "\n",
        "a[6] <- 12\n",
        "\n",
        "a\n",
        "\n",
        "a[\"first\"]\n",
        "\n",
        "x <- c(2,5,9,11)\n",
        "\n",
        "x[c(1,2)]\n",
        "\n",
        "x[-3]\n",
        "\n",
        "x[c(TRUE,FALSE,TRUE,TRUE)]"
      ],
      "metadata": {
        "colab": {
          "base_uri": "https://localhost:8080/",
          "height": 139
        },
        "id": "wWXAVLpjH7n5",
        "outputId": "b7910451-8572-4102-9ef1-6f8cf15a8cf3"
      },
      "execution_count": null,
      "outputs": [
        {
          "output_type": "display_data",
          "data": {
            "text/html": [
              "4"
            ],
            "text/markdown": "4",
            "text/latex": "4",
            "text/plain": [
              "[1] 4"
            ]
          },
          "metadata": {}
        },
        {
          "output_type": "display_data",
          "data": {
            "text/html": [
              "<style>\n",
              ".dl-inline {width: auto; margin:0; padding: 0}\n",
              ".dl-inline>dt, .dl-inline>dd {float: none; width: auto; display: inline-block}\n",
              ".dl-inline>dt::after {content: \":\\0020\"; padding-right: .5ex}\n",
              ".dl-inline>dt:not(:first-of-type) {padding-left: .5ex}\n",
              "</style><dl class=dl-inline><dt>first</dt><dd>1</dd><dt>second</dt><dd>4</dd><dt>third</dt><dd>3</dd><dt>4</dt><dd>&lt;NA&gt;</dd><dt>5</dt><dd>&lt;NA&gt;</dd><dt>6</dt><dd>12</dd></dl>\n"
            ],
            "text/markdown": "first\n:   1second\n:   4third\n:   34\n:   &lt;NA&gt;5\n:   &lt;NA&gt;6\n:   12\n\n",
            "text/latex": "\\begin{description*}\n\\item[first] 1\n\\item[second] 4\n\\item[third] 3\n\\item[4] <NA>\n\\item[5] <NA>\n\\item[6] 12\n\\end{description*}\n",
            "text/plain": [
              " first second  third                      \n",
              "     1      4      3     NA     NA     12 "
            ]
          },
          "metadata": {}
        },
        {
          "output_type": "display_data",
          "data": {
            "text/html": [
              "<style>\n",
              ".dl-inline {width: auto; margin:0; padding: 0}\n",
              ".dl-inline>dt, .dl-inline>dd {float: none; width: auto; display: inline-block}\n",
              ".dl-inline>dt::after {content: \":\\0020\"; padding-right: .5ex}\n",
              ".dl-inline>dt:not(:first-of-type) {padding-left: .5ex}\n",
              "</style><dl class=dl-inline><dt>first</dt><dd>1</dd><dt>second</dt><dd>4</dd><dt>third</dt><dd>3</dd><dt>4</dt><dd>&lt;NA&gt;</dd><dt>5</dt><dd>&lt;NA&gt;</dd><dt>6</dt><dd>12</dd></dl>\n"
            ],
            "text/markdown": "first\n:   1second\n:   4third\n:   34\n:   &lt;NA&gt;5\n:   &lt;NA&gt;6\n:   12\n\n",
            "text/latex": "\\begin{description*}\n\\item[first] 1\n\\item[second] 4\n\\item[third] 3\n\\item[4] <NA>\n\\item[5] <NA>\n\\item[6] 12\n\\end{description*}\n",
            "text/plain": [
              " first second  third                      \n",
              "     1      4      3     NA     NA     12 "
            ]
          },
          "metadata": {}
        },
        {
          "output_type": "display_data",
          "data": {
            "text/html": [
              "<strong>first:</strong> 1"
            ],
            "text/markdown": "**first:** 1",
            "text/latex": "\\textbf{first:} 1",
            "text/plain": [
              "first \n",
              "    1 "
            ]
          },
          "metadata": {}
        },
        {
          "output_type": "display_data",
          "data": {
            "text/html": [
              "<style>\n",
              ".list-inline {list-style: none; margin:0; padding: 0}\n",
              ".list-inline>li {display: inline-block}\n",
              ".list-inline>li:not(:last-child)::after {content: \"\\00b7\"; padding: 0 .5ex}\n",
              "</style>\n",
              "<ol class=list-inline><li>2</li><li>5</li></ol>\n"
            ],
            "text/markdown": "1. 2\n2. 5\n\n\n",
            "text/latex": "\\begin{enumerate*}\n\\item 2\n\\item 5\n\\end{enumerate*}\n",
            "text/plain": [
              "[1] 2 5"
            ]
          },
          "metadata": {}
        },
        {
          "output_type": "display_data",
          "data": {
            "text/html": [
              "<style>\n",
              ".list-inline {list-style: none; margin:0; padding: 0}\n",
              ".list-inline>li {display: inline-block}\n",
              ".list-inline>li:not(:last-child)::after {content: \"\\00b7\"; padding: 0 .5ex}\n",
              "</style>\n",
              "<ol class=list-inline><li>2</li><li>5</li><li>11</li></ol>\n"
            ],
            "text/markdown": "1. 2\n2. 5\n3. 11\n\n\n",
            "text/latex": "\\begin{enumerate*}\n\\item 2\n\\item 5\n\\item 11\n\\end{enumerate*}\n",
            "text/plain": [
              "[1]  2  5 11"
            ]
          },
          "metadata": {}
        },
        {
          "output_type": "display_data",
          "data": {
            "text/html": [
              "<style>\n",
              ".list-inline {list-style: none; margin:0; padding: 0}\n",
              ".list-inline>li {display: inline-block}\n",
              ".list-inline>li:not(:last-child)::after {content: \"\\00b7\"; padding: 0 .5ex}\n",
              "</style>\n",
              "<ol class=list-inline><li>2</li><li>9</li><li>11</li></ol>\n"
            ],
            "text/markdown": "1. 2\n2. 9\n3. 11\n\n\n",
            "text/latex": "\\begin{enumerate*}\n\\item 2\n\\item 9\n\\item 11\n\\end{enumerate*}\n",
            "text/plain": [
              "[1]  2  9 11"
            ]
          },
          "metadata": {}
        }
      ]
    },
    {
      "cell_type": "markdown",
      "source": [
        "# Vectorised Calculations\n",
        "\n",
        "We can carry out calculations with vectors in a similar way to how we seen in Week 1.\n",
        "\n",
        "Computations are carried out element-wise. If vectors of different length are used, the shorter vector is \"recycled\"."
      ],
      "metadata": {
        "id": "NxaM19vDIMEw"
      }
    },
    {
      "cell_type": "code",
      "source": [
        "a <- c(1,2,3,4)\n",
        "b <- c(5,6,7,8)\n",
        "\n",
        "a+b\n",
        "\n",
        "c <- 2*a + b\n",
        "c\n",
        "\n",
        "x <- c(1,2,3,4)\n",
        "y <- c(4,1)\n",
        "\n",
        "x*y\n",
        "\n",
        "x <- c(1,2,3,4)\n",
        "y <- c(4,1, 0)\n",
        "\n",
        "x*y"
      ],
      "metadata": {
        "colab": {
          "base_uri": "https://localhost:8080/",
          "height": 121
        },
        "id": "ezsgpRskIZFz",
        "outputId": "a59e9e45-d047-45f3-978c-ab48ccd1620a"
      },
      "execution_count": null,
      "outputs": [
        {
          "output_type": "display_data",
          "data": {
            "text/html": [
              "<style>\n",
              ".list-inline {list-style: none; margin:0; padding: 0}\n",
              ".list-inline>li {display: inline-block}\n",
              ".list-inline>li:not(:last-child)::after {content: \"\\00b7\"; padding: 0 .5ex}\n",
              "</style>\n",
              "<ol class=list-inline><li>6</li><li>8</li><li>10</li><li>12</li></ol>\n"
            ],
            "text/markdown": "1. 6\n2. 8\n3. 10\n4. 12\n\n\n",
            "text/latex": "\\begin{enumerate*}\n\\item 6\n\\item 8\n\\item 10\n\\item 12\n\\end{enumerate*}\n",
            "text/plain": [
              "[1]  6  8 10 12"
            ]
          },
          "metadata": {}
        },
        {
          "output_type": "display_data",
          "data": {
            "text/html": [
              "<style>\n",
              ".list-inline {list-style: none; margin:0; padding: 0}\n",
              ".list-inline>li {display: inline-block}\n",
              ".list-inline>li:not(:last-child)::after {content: \"\\00b7\"; padding: 0 .5ex}\n",
              "</style>\n",
              "<ol class=list-inline><li>7</li><li>10</li><li>13</li><li>16</li></ol>\n"
            ],
            "text/markdown": "1. 7\n2. 10\n3. 13\n4. 16\n\n\n",
            "text/latex": "\\begin{enumerate*}\n\\item 7\n\\item 10\n\\item 13\n\\item 16\n\\end{enumerate*}\n",
            "text/plain": [
              "[1]  7 10 13 16"
            ]
          },
          "metadata": {}
        },
        {
          "output_type": "display_data",
          "data": {
            "text/html": [
              "<style>\n",
              ".list-inline {list-style: none; margin:0; padding: 0}\n",
              ".list-inline>li {display: inline-block}\n",
              ".list-inline>li:not(:last-child)::after {content: \"\\00b7\"; padding: 0 .5ex}\n",
              "</style>\n",
              "<ol class=list-inline><li>4</li><li>2</li><li>12</li><li>4</li></ol>\n"
            ],
            "text/markdown": "1. 4\n2. 2\n3. 12\n4. 4\n\n\n",
            "text/latex": "\\begin{enumerate*}\n\\item 4\n\\item 2\n\\item 12\n\\item 4\n\\end{enumerate*}\n",
            "text/plain": [
              "[1]  4  2 12  4"
            ]
          },
          "metadata": {}
        },
        {
          "output_type": "stream",
          "name": "stderr",
          "text": [
            "Warning message in x * y:\n",
            "“longer object length is not a multiple of shorter object length”\n"
          ]
        },
        {
          "output_type": "display_data",
          "data": {
            "text/html": [
              "<style>\n",
              ".list-inline {list-style: none; margin:0; padding: 0}\n",
              ".list-inline>li {display: inline-block}\n",
              ".list-inline>li:not(:last-child)::after {content: \"\\00b7\"; padding: 0 .5ex}\n",
              "</style>\n",
              "<ol class=list-inline><li>4</li><li>2</li><li>0</li><li>16</li></ol>\n"
            ],
            "text/markdown": "1. 4\n2. 2\n3. 0\n4. 16\n\n\n",
            "text/latex": "\\begin{enumerate*}\n\\item 4\n\\item 2\n\\item 0\n\\item 16\n\\end{enumerate*}\n",
            "text/plain": [
              "[1]  4  2  0 16"
            ]
          },
          "metadata": {}
        }
      ]
    },
    {
      "cell_type": "markdown",
      "source": [
        "R contains functions to help create sequences and patterend vectors. Functions such as `:`, `seq()` and `rep()` can be used to carry out such commands"
      ],
      "metadata": {
        "id": "b2ErpDw-JfqD"
      }
    },
    {
      "cell_type": "code",
      "source": [
        "1:4\n",
        "\n",
        "seq(1,3,by=0.5)\n",
        "\n",
        "seq(1,3,length.out = 5)\n",
        "\n",
        "rep(2,times=4)\n",
        "\n",
        "rep(1:3,times=2)"
      ],
      "metadata": {
        "colab": {
          "base_uri": "https://localhost:8080/",
          "height": 104
        },
        "id": "HykQRQOCJpwQ",
        "outputId": "3a220a7d-f629-463d-eb74-5ff9b5b95d5e"
      },
      "execution_count": null,
      "outputs": [
        {
          "output_type": "display_data",
          "data": {
            "text/html": [
              "<style>\n",
              ".list-inline {list-style: none; margin:0; padding: 0}\n",
              ".list-inline>li {display: inline-block}\n",
              ".list-inline>li:not(:last-child)::after {content: \"\\00b7\"; padding: 0 .5ex}\n",
              "</style>\n",
              "<ol class=list-inline><li>1</li><li>2</li><li>3</li><li>4</li></ol>\n"
            ],
            "text/markdown": "1. 1\n2. 2\n3. 3\n4. 4\n\n\n",
            "text/latex": "\\begin{enumerate*}\n\\item 1\n\\item 2\n\\item 3\n\\item 4\n\\end{enumerate*}\n",
            "text/plain": [
              "[1] 1 2 3 4"
            ]
          },
          "metadata": {}
        },
        {
          "output_type": "display_data",
          "data": {
            "text/html": [
              "<style>\n",
              ".list-inline {list-style: none; margin:0; padding: 0}\n",
              ".list-inline>li {display: inline-block}\n",
              ".list-inline>li:not(:last-child)::after {content: \"\\00b7\"; padding: 0 .5ex}\n",
              "</style>\n",
              "<ol class=list-inline><li>1</li><li>1.5</li><li>2</li><li>2.5</li><li>3</li></ol>\n"
            ],
            "text/markdown": "1. 1\n2. 1.5\n3. 2\n4. 2.5\n5. 3\n\n\n",
            "text/latex": "\\begin{enumerate*}\n\\item 1\n\\item 1.5\n\\item 2\n\\item 2.5\n\\item 3\n\\end{enumerate*}\n",
            "text/plain": [
              "[1] 1.0 1.5 2.0 2.5 3.0"
            ]
          },
          "metadata": {}
        },
        {
          "output_type": "display_data",
          "data": {
            "text/html": [
              "<style>\n",
              ".list-inline {list-style: none; margin:0; padding: 0}\n",
              ".list-inline>li {display: inline-block}\n",
              ".list-inline>li:not(:last-child)::after {content: \"\\00b7\"; padding: 0 .5ex}\n",
              "</style>\n",
              "<ol class=list-inline><li>1</li><li>1.5</li><li>2</li><li>2.5</li><li>3</li></ol>\n"
            ],
            "text/markdown": "1. 1\n2. 1.5\n3. 2\n4. 2.5\n5. 3\n\n\n",
            "text/latex": "\\begin{enumerate*}\n\\item 1\n\\item 1.5\n\\item 2\n\\item 2.5\n\\item 3\n\\end{enumerate*}\n",
            "text/plain": [
              "[1] 1.0 1.5 2.0 2.5 3.0"
            ]
          },
          "metadata": {}
        },
        {
          "output_type": "display_data",
          "data": {
            "text/html": [
              "<style>\n",
              ".list-inline {list-style: none; margin:0; padding: 0}\n",
              ".list-inline>li {display: inline-block}\n",
              ".list-inline>li:not(:last-child)::after {content: \"\\00b7\"; padding: 0 .5ex}\n",
              "</style>\n",
              "<ol class=list-inline><li>2</li><li>2</li><li>2</li><li>2</li></ol>\n"
            ],
            "text/markdown": "1. 2\n2. 2\n3. 2\n4. 2\n\n\n",
            "text/latex": "\\begin{enumerate*}\n\\item 2\n\\item 2\n\\item 2\n\\item 2\n\\end{enumerate*}\n",
            "text/plain": [
              "[1] 2 2 2 2"
            ]
          },
          "metadata": {}
        },
        {
          "output_type": "display_data",
          "data": {
            "text/html": [
              "<style>\n",
              ".list-inline {list-style: none; margin:0; padding: 0}\n",
              ".list-inline>li {display: inline-block}\n",
              ".list-inline>li:not(:last-child)::after {content: \"\\00b7\"; padding: 0 .5ex}\n",
              "</style>\n",
              "<ol class=list-inline><li>1</li><li>2</li><li>3</li><li>1</li><li>2</li><li>3</li></ol>\n"
            ],
            "text/markdown": "1. 1\n2. 2\n3. 3\n4. 1\n5. 2\n6. 3\n\n\n",
            "text/latex": "\\begin{enumerate*}\n\\item 1\n\\item 2\n\\item 3\n\\item 1\n\\item 2\n\\item 3\n\\end{enumerate*}\n",
            "text/plain": [
              "[1] 1 2 3 1 2 3"
            ]
          },
          "metadata": {}
        }
      ]
    },
    {
      "cell_type": "markdown",
      "source": [
        "We can also obtain useful information about vectors using commands such as `numeric()`, `length()` and `rev()`."
      ],
      "metadata": {
        "id": "sfni_gSsOlBR"
      }
    },
    {
      "cell_type": "code",
      "source": [
        "numeric(5)\n",
        "length(x)\n",
        "rev(y)"
      ],
      "metadata": {
        "colab": {
          "base_uri": "https://localhost:8080/",
          "height": 69
        },
        "id": "7bxxG9faOr9d",
        "outputId": "dedf49e5-4cae-4feb-e86b-de8475e095e5"
      },
      "execution_count": null,
      "outputs": [
        {
          "output_type": "display_data",
          "data": {
            "text/html": [
              "<style>\n",
              ".list-inline {list-style: none; margin:0; padding: 0}\n",
              ".list-inline>li {display: inline-block}\n",
              ".list-inline>li:not(:last-child)::after {content: \"\\00b7\"; padding: 0 .5ex}\n",
              "</style>\n",
              "<ol class=list-inline><li>0</li><li>0</li><li>0</li><li>0</li><li>0</li></ol>\n"
            ],
            "text/markdown": "1. 0\n2. 0\n3. 0\n4. 0\n5. 0\n\n\n",
            "text/latex": "\\begin{enumerate*}\n\\item 0\n\\item 0\n\\item 0\n\\item 0\n\\item 0\n\\end{enumerate*}\n",
            "text/plain": [
              "[1] 0 0 0 0 0"
            ]
          },
          "metadata": {}
        },
        {
          "output_type": "display_data",
          "data": {
            "text/html": [
              "4"
            ],
            "text/markdown": "4",
            "text/latex": "4",
            "text/plain": [
              "[1] 4"
            ]
          },
          "metadata": {}
        },
        {
          "output_type": "display_data",
          "data": {
            "text/html": [
              "<style>\n",
              ".list-inline {list-style: none; margin:0; padding: 0}\n",
              ".list-inline>li {display: inline-block}\n",
              ".list-inline>li:not(:last-child)::after {content: \"\\00b7\"; padding: 0 .5ex}\n",
              "</style>\n",
              "<ol class=list-inline><li>0</li><li>1</li><li>4</li></ol>\n"
            ],
            "text/markdown": "1. 0\n2. 1\n3. 4\n\n\n",
            "text/latex": "\\begin{enumerate*}\n\\item 0\n\\item 1\n\\item 4\n\\end{enumerate*}\n",
            "text/plain": [
              "[1] 0 1 4"
            ]
          },
          "metadata": {}
        }
      ]
    },
    {
      "cell_type": "markdown",
      "source": [
        "We can also `sort()` and `order()` vectors"
      ],
      "metadata": {
        "id": "ADqwF9_ZO5Hj"
      }
    },
    {
      "cell_type": "code",
      "source": [
        "x <- c(5,9, 2, 1)\n",
        "sort(x)\n",
        "\n",
        "order(x)"
      ],
      "metadata": {
        "colab": {
          "base_uri": "https://localhost:8080/",
          "height": 52
        },
        "id": "lXuNMt7wO8aN",
        "outputId": "4a3fced8-e178-4f9a-ac6c-d4809863293f"
      },
      "execution_count": null,
      "outputs": [
        {
          "output_type": "display_data",
          "data": {
            "text/html": [
              "<style>\n",
              ".list-inline {list-style: none; margin:0; padding: 0}\n",
              ".list-inline>li {display: inline-block}\n",
              ".list-inline>li:not(:last-child)::after {content: \"\\00b7\"; padding: 0 .5ex}\n",
              "</style>\n",
              "<ol class=list-inline><li>1</li><li>2</li><li>5</li><li>9</li></ol>\n"
            ],
            "text/markdown": "1. 1\n2. 2\n3. 5\n4. 9\n\n\n",
            "text/latex": "\\begin{enumerate*}\n\\item 1\n\\item 2\n\\item 5\n\\item 9\n\\end{enumerate*}\n",
            "text/plain": [
              "[1] 1 2 5 9"
            ]
          },
          "metadata": {}
        },
        {
          "output_type": "display_data",
          "data": {
            "text/html": [
              "<style>\n",
              ".list-inline {list-style: none; margin:0; padding: 0}\n",
              ".list-inline>li {display: inline-block}\n",
              ".list-inline>li:not(:last-child)::after {content: \"\\00b7\"; padding: 0 .5ex}\n",
              "</style>\n",
              "<ol class=list-inline><li>4</li><li>3</li><li>1</li><li>2</li></ol>\n"
            ],
            "text/markdown": "1. 4\n2. 3\n3. 1\n4. 2\n\n\n",
            "text/latex": "\\begin{enumerate*}\n\\item 4\n\\item 3\n\\item 1\n\\item 2\n\\end{enumerate*}\n",
            "text/plain": [
              "[1] 4 3 1 2"
            ]
          },
          "metadata": {}
        }
      ]
    },
    {
      "cell_type": "markdown",
      "source": [
        "# Other types of data in R\n",
        "\n",
        "Character strings allow us to include text elements within R. These do behave differently in R compared to other programming languages such as Python.\n",
        "\n",
        "You can't use character vectors for arithmetic. Comparisons between strings use lexicographic ordering."
      ],
      "metadata": {
        "id": "vmQuo8HgPK4T"
      }
    },
    {
      "cell_type": "code",
      "source": [
        "string <- \"Welcome to Week 2 of R Programming!\"\n",
        "string\n",
        "\n",
        "cat(string)\n",
        "\n",
        "library(stringr)\n",
        "str_c(\"One string\",\"Another string\", sep=\"-\")\n",
        "\n",
        "\"100\" + \"5\"\n",
        "\n",
        "\"100\" > \"5\""
      ],
      "metadata": {
        "colab": {
          "base_uri": "https://localhost:8080/",
          "height": 86
        },
        "id": "7JGTdDaKPazq",
        "outputId": "3af469c4-5025-45c0-a660-43e044abe6e2"
      },
      "execution_count": null,
      "outputs": [
        {
          "output_type": "display_data",
          "data": {
            "text/html": [
              "'Welcome to Week 2 of R Programming!'"
            ],
            "text/markdown": "'Welcome to Week 2 of R Programming!'",
            "text/latex": "'Welcome to Week 2 of R Programming!'",
            "text/plain": [
              "[1] \"Welcome to Week 2 of R Programming!\""
            ]
          },
          "metadata": {}
        },
        {
          "output_type": "stream",
          "name": "stdout",
          "text": [
            "Welcome to Week 2 of R Programming!"
          ]
        },
        {
          "output_type": "display_data",
          "data": {
            "text/html": [
              "'One string-Another string'"
            ],
            "text/markdown": "'One string-Another string'",
            "text/latex": "'One string-Another string'",
            "text/plain": [
              "[1] \"One string-Another string\""
            ]
          },
          "metadata": {}
        },
        {
          "output_type": "display_data",
          "data": {
            "text/html": [
              "FALSE"
            ],
            "text/markdown": "FALSE",
            "text/latex": "FALSE",
            "text/plain": [
              "[1] FALSE"
            ]
          },
          "metadata": {}
        }
      ]
    },
    {
      "cell_type": "markdown",
      "source": [
        "Factors are similar to strings, but factors can only take a pre-defined set of values called levels.\n",
        "\n",
        "You will use factors in many of the modelling courses on the programme."
      ],
      "metadata": {
        "id": "9lBoWIWuSaKt"
      }
    },
    {
      "cell_type": "code",
      "source": [
        "a <- c(1,2,3)\n",
        "A <- factor(a,levels=1:3,labels=c(\"one\",\"two\",\"three\"))\n",
        "A\n",
        "\n",
        "A[1] <- \"four\""
      ],
      "metadata": {
        "colab": {
          "base_uri": "https://localhost:8080/",
          "height": 86
        },
        "id": "od7jaRFcSlbG",
        "outputId": "fdd93f82-5933-480b-d4a4-dce68e4e9957"
      },
      "execution_count": null,
      "outputs": [
        {
          "output_type": "display_data",
          "data": {
            "text/html": [
              "<style>\n",
              ".list-inline {list-style: none; margin:0; padding: 0}\n",
              ".list-inline>li {display: inline-block}\n",
              ".list-inline>li:not(:last-child)::after {content: \"\\00b7\"; padding: 0 .5ex}\n",
              "</style>\n",
              "<ol class=list-inline><li>one</li><li>two</li><li>three</li></ol>\n",
              "\n",
              "<details>\n",
              "\t<summary style=display:list-item;cursor:pointer>\n",
              "\t\t<strong>Levels</strong>:\n",
              "\t</summary>\n",
              "\t<style>\n",
              "\t.list-inline {list-style: none; margin:0; padding: 0}\n",
              "\t.list-inline>li {display: inline-block}\n",
              "\t.list-inline>li:not(:last-child)::after {content: \"\\00b7\"; padding: 0 .5ex}\n",
              "\t</style>\n",
              "\t<ol class=list-inline><li>'one'</li><li>'two'</li><li>'three'</li></ol>\n",
              "</details>"
            ],
            "text/markdown": "1. one\n2. two\n3. three\n\n\n\n**Levels**: 1. 'one'\n2. 'two'\n3. 'three'\n\n\n",
            "text/latex": "\\begin{enumerate*}\n\\item one\n\\item two\n\\item three\n\\end{enumerate*}\n\n\\emph{Levels}: \\begin{enumerate*}\n\\item 'one'\n\\item 'two'\n\\item 'three'\n\\end{enumerate*}\n",
            "text/plain": [
              "[1] one   two   three\n",
              "Levels: one two three"
            ]
          },
          "metadata": {}
        },
        {
          "output_type": "stream",
          "name": "stderr",
          "text": [
            "Warning message in `[<-.factor`(`*tmp*`, 1, value = \"four\"):\n",
            "“invalid factor level, NA generated”\n"
          ]
        }
      ]
    },
    {
      "cell_type": "markdown",
      "source": [
        "You can convert between data types using the `as.` functions"
      ],
      "metadata": {
        "id": "GxreVMoNTFnF"
      }
    },
    {
      "cell_type": "code",
      "source": [
        "x <- 3\n",
        "x <- as.character(x)\n",
        "\n",
        "x"
      ],
      "metadata": {
        "colab": {
          "base_uri": "https://localhost:8080/",
          "height": 34
        },
        "id": "q0sr5yj5TJ8Z",
        "outputId": "0fe8bd68-cca5-46c9-d0e7-7715b1957888"
      },
      "execution_count": null,
      "outputs": [
        {
          "output_type": "display_data",
          "data": {
            "text/html": [
              "'3'"
            ],
            "text/markdown": "'3'",
            "text/latex": "'3'",
            "text/plain": [
              "[1] \"3\""
            ]
          },
          "metadata": {}
        }
      ]
    },
    {
      "cell_type": "markdown",
      "source": [
        "Missing values in R are denoted using the value `NA`. Care has to be taken when using these values!"
      ],
      "metadata": {
        "id": "reAw-xMLTP3S"
      }
    },
    {
      "cell_type": "code",
      "source": [
        "a <- c(1,2,3)\n",
        "a[3] <- NA\n",
        "\n",
        "a\n",
        "\n",
        "mean(a)\n",
        "\n",
        "mean(na.omit(a))\n",
        "\n",
        "is.na(a)"
      ],
      "metadata": {
        "colab": {
          "base_uri": "https://localhost:8080/",
          "height": 86
        },
        "id": "priNi_YZTWd7",
        "outputId": "b78c9641-6424-4ed9-9348-ba5a96a46d2f"
      },
      "execution_count": null,
      "outputs": [
        {
          "output_type": "display_data",
          "data": {
            "text/html": [
              "<style>\n",
              ".list-inline {list-style: none; margin:0; padding: 0}\n",
              ".list-inline>li {display: inline-block}\n",
              ".list-inline>li:not(:last-child)::after {content: \"\\00b7\"; padding: 0 .5ex}\n",
              "</style>\n",
              "<ol class=list-inline><li>1</li><li>2</li><li>&lt;NA&gt;</li></ol>\n"
            ],
            "text/markdown": "1. 1\n2. 2\n3. &lt;NA&gt;\n\n\n",
            "text/latex": "\\begin{enumerate*}\n\\item 1\n\\item 2\n\\item <NA>\n\\end{enumerate*}\n",
            "text/plain": [
              "[1]  1  2 NA"
            ]
          },
          "metadata": {}
        },
        {
          "output_type": "display_data",
          "data": {
            "text/html": [
              "&lt;NA&gt;"
            ],
            "text/markdown": "&lt;NA&gt;",
            "text/latex": "<NA>",
            "text/plain": [
              "[1] NA"
            ]
          },
          "metadata": {}
        },
        {
          "output_type": "display_data",
          "data": {
            "text/html": [
              "1.5"
            ],
            "text/markdown": "1.5",
            "text/latex": "1.5",
            "text/plain": [
              "[1] 1.5"
            ]
          },
          "metadata": {}
        },
        {
          "output_type": "display_data",
          "data": {
            "text/html": [
              "<style>\n",
              ".list-inline {list-style: none; margin:0; padding: 0}\n",
              ".list-inline>li {display: inline-block}\n",
              ".list-inline>li:not(:last-child)::after {content: \"\\00b7\"; padding: 0 .5ex}\n",
              "</style>\n",
              "<ol class=list-inline><li>FALSE</li><li>FALSE</li><li>TRUE</li></ol>\n"
            ],
            "text/markdown": "1. FALSE\n2. FALSE\n3. TRUE\n\n\n",
            "text/latex": "\\begin{enumerate*}\n\\item FALSE\n\\item FALSE\n\\item TRUE\n\\end{enumerate*}\n",
            "text/plain": [
              "[1] FALSE FALSE  TRUE"
            ]
          },
          "metadata": {}
        }
      ]
    },
    {
      "cell_type": "markdown",
      "source": [
        "# Matrices\n",
        "\n",
        "Matrices behave similarly to vectors, though this time we now have two indexes, row and column.\n",
        "\n",
        "There are several ways to create a matrix in R, using the `matrix()`, `cbind()` or `rbind()` functions."
      ],
      "metadata": {
        "id": "ExxptiBdTj8O"
      }
    },
    {
      "cell_type": "code",
      "source": [
        "A <- matrix(c(1,2,3,4,5,6,7,8,9),nrow=3)\n",
        "A\n",
        "\n",
        "B <- cbind(c(1,2,3),c(4,5,6),c(7,8,9))\n",
        "B\n",
        "\n",
        "C <- rbind(c(1,4,7),c(2,5,8),c(3,6,9))\n",
        "C"
      ],
      "metadata": {
        "colab": {
          "base_uri": "https://localhost:8080/",
          "height": 455
        },
        "id": "ynS74dgPTzRY",
        "outputId": "4fbf7907-d582-41b2-b55c-719fe92bcf20"
      },
      "execution_count": null,
      "outputs": [
        {
          "output_type": "display_data",
          "data": {
            "text/html": [
              "<table class=\"dataframe\">\n",
              "<caption>A matrix: 3 × 3 of type dbl</caption>\n",
              "<tbody>\n",
              "\t<tr><td>1</td><td>4</td><td>7</td></tr>\n",
              "\t<tr><td>2</td><td>5</td><td>8</td></tr>\n",
              "\t<tr><td>3</td><td>6</td><td>9</td></tr>\n",
              "</tbody>\n",
              "</table>\n"
            ],
            "text/markdown": "\nA matrix: 3 × 3 of type dbl\n\n| 1 | 4 | 7 |\n| 2 | 5 | 8 |\n| 3 | 6 | 9 |\n\n",
            "text/latex": "A matrix: 3 × 3 of type dbl\n\\begin{tabular}{lll}\n\t 1 & 4 & 7\\\\\n\t 2 & 5 & 8\\\\\n\t 3 & 6 & 9\\\\\n\\end{tabular}\n",
            "text/plain": [
              "     [,1] [,2] [,3]\n",
              "[1,] 1    4    7   \n",
              "[2,] 2    5    8   \n",
              "[3,] 3    6    9   "
            ]
          },
          "metadata": {}
        },
        {
          "output_type": "display_data",
          "data": {
            "text/html": [
              "<table class=\"dataframe\">\n",
              "<caption>A matrix: 3 × 3 of type dbl</caption>\n",
              "<tbody>\n",
              "\t<tr><td>1</td><td>4</td><td>7</td></tr>\n",
              "\t<tr><td>2</td><td>5</td><td>8</td></tr>\n",
              "\t<tr><td>3</td><td>6</td><td>9</td></tr>\n",
              "</tbody>\n",
              "</table>\n"
            ],
            "text/markdown": "\nA matrix: 3 × 3 of type dbl\n\n| 1 | 4 | 7 |\n| 2 | 5 | 8 |\n| 3 | 6 | 9 |\n\n",
            "text/latex": "A matrix: 3 × 3 of type dbl\n\\begin{tabular}{lll}\n\t 1 & 4 & 7\\\\\n\t 2 & 5 & 8\\\\\n\t 3 & 6 & 9\\\\\n\\end{tabular}\n",
            "text/plain": [
              "     [,1] [,2] [,3]\n",
              "[1,] 1    4    7   \n",
              "[2,] 2    5    8   \n",
              "[3,] 3    6    9   "
            ]
          },
          "metadata": {}
        },
        {
          "output_type": "display_data",
          "data": {
            "text/html": [
              "<table class=\"dataframe\">\n",
              "<caption>A matrix: 3 × 3 of type dbl</caption>\n",
              "<tbody>\n",
              "\t<tr><td>1</td><td>4</td><td>7</td></tr>\n",
              "\t<tr><td>2</td><td>5</td><td>8</td></tr>\n",
              "\t<tr><td>3</td><td>6</td><td>9</td></tr>\n",
              "</tbody>\n",
              "</table>\n"
            ],
            "text/markdown": "\nA matrix: 3 × 3 of type dbl\n\n| 1 | 4 | 7 |\n| 2 | 5 | 8 |\n| 3 | 6 | 9 |\n\n",
            "text/latex": "A matrix: 3 × 3 of type dbl\n\\begin{tabular}{lll}\n\t 1 & 4 & 7\\\\\n\t 2 & 5 & 8\\\\\n\t 3 & 6 & 9\\\\\n\\end{tabular}\n",
            "text/plain": [
              "     [,1] [,2] [,3]\n",
              "[1,] 1    4    7   \n",
              "[2,] 2    5    8   \n",
              "[3,] 3    6    9   "
            ]
          },
          "metadata": {}
        }
      ]
    },
    {
      "cell_type": "markdown",
      "source": [
        "Diagonal matrices are important in Linear Algebra (you will see why later in the programme!). As such, R has a special function to create these - `diag()`"
      ],
      "metadata": {
        "id": "j7SG0h_8UTrZ"
      }
    },
    {
      "cell_type": "code",
      "source": [
        "X <- diag(c(1,2,3))\n",
        "X"
      ],
      "metadata": {
        "colab": {
          "base_uri": "https://localhost:8080/",
          "height": 163
        },
        "id": "_YxW73H6Rhvq",
        "outputId": "99b0873e-ae18-4f61-93d4-e8809faebea1"
      },
      "execution_count": null,
      "outputs": [
        {
          "output_type": "display_data",
          "data": {
            "text/html": [
              "<table class=\"dataframe\">\n",
              "<caption>A matrix: 3 × 3 of type dbl</caption>\n",
              "<tbody>\n",
              "\t<tr><td>1</td><td>0</td><td>0</td></tr>\n",
              "\t<tr><td>0</td><td>2</td><td>0</td></tr>\n",
              "\t<tr><td>0</td><td>0</td><td>3</td></tr>\n",
              "</tbody>\n",
              "</table>\n"
            ],
            "text/markdown": "\nA matrix: 3 × 3 of type dbl\n\n| 1 | 0 | 0 |\n| 0 | 2 | 0 |\n| 0 | 0 | 3 |\n\n",
            "text/latex": "A matrix: 3 × 3 of type dbl\n\\begin{tabular}{lll}\n\t 1 & 0 & 0\\\\\n\t 0 & 2 & 0\\\\\n\t 0 & 0 & 3\\\\\n\\end{tabular}\n",
            "text/plain": [
              "     [,1] [,2] [,3]\n",
              "[1,] 1    0    0   \n",
              "[2,] 0    2    0   \n",
              "[3,] 0    0    3   "
            ]
          },
          "metadata": {}
        }
      ]
    },
    {
      "cell_type": "markdown",
      "source": [
        "We can also name rows and columns just like we did with vectors. This can be done using the `rownames()` and `colnames()` functions."
      ],
      "metadata": {
        "id": "4pNZk6NOTPPt"
      }
    },
    {
      "cell_type": "code",
      "source": [
        "A\n",
        "colnames(A) <- c(\"Column 1\", \"Column 2\", \"Column 3\")\n",
        "rownames(A) <- c(\"Row 1\", \"Row 2\", \"Row 3\")\n",
        "A"
      ],
      "metadata": {
        "colab": {
          "base_uri": "https://localhost:8080/",
          "height": 307
        },
        "id": "01av9fOOTWRU",
        "outputId": "5b1c0c1c-4df7-411e-adae-d944076415e6"
      },
      "execution_count": null,
      "outputs": [
        {
          "output_type": "display_data",
          "data": {
            "text/html": [
              "<table class=\"dataframe\">\n",
              "<caption>A matrix: 3 × 3 of type dbl</caption>\n",
              "<tbody>\n",
              "\t<tr><td>1</td><td>4</td><td>7</td></tr>\n",
              "\t<tr><td>2</td><td>5</td><td>8</td></tr>\n",
              "\t<tr><td>3</td><td>6</td><td>9</td></tr>\n",
              "</tbody>\n",
              "</table>\n"
            ],
            "text/markdown": "\nA matrix: 3 × 3 of type dbl\n\n| 1 | 4 | 7 |\n| 2 | 5 | 8 |\n| 3 | 6 | 9 |\n\n",
            "text/latex": "A matrix: 3 × 3 of type dbl\n\\begin{tabular}{lll}\n\t 1 & 4 & 7\\\\\n\t 2 & 5 & 8\\\\\n\t 3 & 6 & 9\\\\\n\\end{tabular}\n",
            "text/plain": [
              "     [,1] [,2] [,3]\n",
              "[1,] 1    4    7   \n",
              "[2,] 2    5    8   \n",
              "[3,] 3    6    9   "
            ]
          },
          "metadata": {}
        },
        {
          "output_type": "display_data",
          "data": {
            "text/html": [
              "<table class=\"dataframe\">\n",
              "<caption>A matrix: 3 × 3 of type dbl</caption>\n",
              "<thead>\n",
              "\t<tr><th></th><th scope=col>Column 1</th><th scope=col>Column 2</th><th scope=col>Column 3</th></tr>\n",
              "</thead>\n",
              "<tbody>\n",
              "\t<tr><th scope=row>Row 1</th><td>1</td><td>4</td><td>7</td></tr>\n",
              "\t<tr><th scope=row>Row 2</th><td>2</td><td>5</td><td>8</td></tr>\n",
              "\t<tr><th scope=row>Row 3</th><td>3</td><td>6</td><td>9</td></tr>\n",
              "</tbody>\n",
              "</table>\n"
            ],
            "text/markdown": "\nA matrix: 3 × 3 of type dbl\n\n| <!--/--> | Column 1 | Column 2 | Column 3 |\n|---|---|---|---|\n| Row 1 | 1 | 4 | 7 |\n| Row 2 | 2 | 5 | 8 |\n| Row 3 | 3 | 6 | 9 |\n\n",
            "text/latex": "A matrix: 3 × 3 of type dbl\n\\begin{tabular}{r|lll}\n  & Column 1 & Column 2 & Column 3\\\\\n\\hline\n\tRow 1 & 1 & 4 & 7\\\\\n\tRow 2 & 2 & 5 & 8\\\\\n\tRow 3 & 3 & 6 & 9\\\\\n\\end{tabular}\n",
            "text/plain": [
              "      Column 1 Column 2 Column 3\n",
              "Row 1 1        4        7       \n",
              "Row 2 2        5        8       \n",
              "Row 3 3        6        9       "
            ]
          },
          "metadata": {}
        }
      ]
    },
    {
      "cell_type": "markdown",
      "source": [
        "To access elements of a matrix, we use a simlilar convention as we did for a vector, though this time we now specify two arguments, e.g. `A[i,j]`"
      ],
      "metadata": {
        "id": "DbFbFvYcT035"
      }
    },
    {
      "cell_type": "code",
      "source": [
        "A[1,2]\n",
        "A[1,]\n",
        "A[,2]\n",
        "\n",
        "A[1,2] <- 5\n",
        "A"
      ],
      "metadata": {
        "colab": {
          "base_uri": "https://localhost:8080/",
          "height": 213
        },
        "id": "BWRCKFoFT-BQ",
        "outputId": "bb33bf42-2e22-4679-8ace-9fa93b072a0b"
      },
      "execution_count": null,
      "outputs": [
        {
          "output_type": "display_data",
          "data": {
            "text/html": [
              "5"
            ],
            "text/markdown": "5",
            "text/latex": "5",
            "text/plain": [
              "[1] 5"
            ]
          },
          "metadata": {}
        },
        {
          "output_type": "display_data",
          "data": {
            "text/html": [
              "<style>\n",
              ".dl-inline {width: auto; margin:0; padding: 0}\n",
              ".dl-inline>dt, .dl-inline>dd {float: none; width: auto; display: inline-block}\n",
              ".dl-inline>dt::after {content: \":\\0020\"; padding-right: .5ex}\n",
              ".dl-inline>dt:not(:first-of-type) {padding-left: .5ex}\n",
              "</style><dl class=dl-inline><dt>Column 1</dt><dd>1</dd><dt>Column 2</dt><dd>5</dd><dt>Column 3</dt><dd>7</dd></dl>\n"
            ],
            "text/markdown": "Column 1\n:   1Column 2\n:   5Column 3\n:   7\n\n",
            "text/latex": "\\begin{description*}\n\\item[Column 1] 1\n\\item[Column 2] 5\n\\item[Column 3] 7\n\\end{description*}\n",
            "text/plain": [
              "Column 1 Column 2 Column 3 \n",
              "       1        5        7 "
            ]
          },
          "metadata": {}
        },
        {
          "output_type": "display_data",
          "data": {
            "text/html": [
              "<style>\n",
              ".dl-inline {width: auto; margin:0; padding: 0}\n",
              ".dl-inline>dt, .dl-inline>dd {float: none; width: auto; display: inline-block}\n",
              ".dl-inline>dt::after {content: \":\\0020\"; padding-right: .5ex}\n",
              ".dl-inline>dt:not(:first-of-type) {padding-left: .5ex}\n",
              "</style><dl class=dl-inline><dt>Row 1</dt><dd>5</dd><dt>Row 2</dt><dd>5</dd><dt>Row 3</dt><dd>6</dd></dl>\n"
            ],
            "text/markdown": "Row 1\n:   5Row 2\n:   5Row 3\n:   6\n\n",
            "text/latex": "\\begin{description*}\n\\item[Row 1] 5\n\\item[Row 2] 5\n\\item[Row 3] 6\n\\end{description*}\n",
            "text/plain": [
              "Row 1 Row 2 Row 3 \n",
              "    5     5     6 "
            ]
          },
          "metadata": {}
        },
        {
          "output_type": "display_data",
          "data": {
            "text/html": [
              "<table class=\"dataframe\">\n",
              "<caption>A matrix: 3 × 3 of type dbl</caption>\n",
              "<thead>\n",
              "\t<tr><th></th><th scope=col>Column 1</th><th scope=col>Column 2</th><th scope=col>Column 3</th></tr>\n",
              "</thead>\n",
              "<tbody>\n",
              "\t<tr><th scope=row>Row 1</th><td>1</td><td>5</td><td>7</td></tr>\n",
              "\t<tr><th scope=row>Row 2</th><td>2</td><td>5</td><td>8</td></tr>\n",
              "\t<tr><th scope=row>Row 3</th><td>3</td><td>6</td><td>9</td></tr>\n",
              "</tbody>\n",
              "</table>\n"
            ],
            "text/markdown": "\nA matrix: 3 × 3 of type dbl\n\n| <!--/--> | Column 1 | Column 2 | Column 3 |\n|---|---|---|---|\n| Row 1 | 1 | 5 | 7 |\n| Row 2 | 2 | 5 | 8 |\n| Row 3 | 3 | 6 | 9 |\n\n",
            "text/latex": "A matrix: 3 × 3 of type dbl\n\\begin{tabular}{r|lll}\n  & Column 1 & Column 2 & Column 3\\\\\n\\hline\n\tRow 1 & 1 & 5 & 7\\\\\n\tRow 2 & 2 & 5 & 8\\\\\n\tRow 3 & 3 & 6 & 9\\\\\n\\end{tabular}\n",
            "text/plain": [
              "      Column 1 Column 2 Column 3\n",
              "Row 1 1        5        7       \n",
              "Row 2 2        5        8       \n",
              "Row 3 3        6        9       "
            ]
          },
          "metadata": {}
        }
      ]
    },
    {
      "cell_type": "markdown",
      "source": [
        "# Matrix Multiplication\n",
        "\n",
        "Calculations in matrices behave similarly to vectors and are performed element-wise.\n",
        "\n",
        "If we want to compute the matrix product, we use the `%*%` operator.\n",
        "\n",
        "The transpose of a matrix $A^{T}$ is computed using `t()`.\n",
        "\n",
        "The inverse of a matrix $A^{-1}$ is computed using `solve()`.\n",
        "\n",
        "`solve()` can also be used to solve systems of linear equations (you will see more of this in future courses.)"
      ],
      "metadata": {
        "id": "IvO8J8w1UL0s"
      }
    },
    {
      "cell_type": "code",
      "source": [
        "A %*% B\n",
        "\n",
        "t(A)\n",
        "\n",
        "t(A) %*% A\n",
        "\n",
        "solve(A)"
      ],
      "metadata": {
        "colab": {
          "base_uri": "https://localhost:8080/",
          "height": 577
        },
        "id": "wM__MUpsUh0G",
        "outputId": "6d476e26-4b4f-4384-dd6f-1eebb9dd6b98"
      },
      "execution_count": null,
      "outputs": [
        {
          "output_type": "display_data",
          "data": {
            "text/html": [
              "<table class=\"dataframe\">\n",
              "<caption>A matrix: 3 × 3 of type dbl</caption>\n",
              "<tbody>\n",
              "\t<tr><th scope=row>Row 1</th><td>32</td><td>71</td><td>110</td></tr>\n",
              "\t<tr><th scope=row>Row 2</th><td>36</td><td>81</td><td>126</td></tr>\n",
              "\t<tr><th scope=row>Row 3</th><td>42</td><td>96</td><td>150</td></tr>\n",
              "</tbody>\n",
              "</table>\n"
            ],
            "text/markdown": "\nA matrix: 3 × 3 of type dbl\n\n| Row 1 | 32 | 71 | 110 |\n| Row 2 | 36 | 81 | 126 |\n| Row 3 | 42 | 96 | 150 |\n\n",
            "text/latex": "A matrix: 3 × 3 of type dbl\n\\begin{tabular}{r|lll}\n\tRow 1 & 32 & 71 & 110\\\\\n\tRow 2 & 36 & 81 & 126\\\\\n\tRow 3 & 42 & 96 & 150\\\\\n\\end{tabular}\n",
            "text/plain": [
              "      [,1] [,2] [,3]\n",
              "Row 1 32   71   110 \n",
              "Row 2 36   81   126 \n",
              "Row 3 42   96   150 "
            ]
          },
          "metadata": {}
        },
        {
          "output_type": "display_data",
          "data": {
            "text/html": [
              "<table class=\"dataframe\">\n",
              "<caption>A matrix: 3 × 3 of type dbl</caption>\n",
              "<thead>\n",
              "\t<tr><th></th><th scope=col>Row 1</th><th scope=col>Row 2</th><th scope=col>Row 3</th></tr>\n",
              "</thead>\n",
              "<tbody>\n",
              "\t<tr><th scope=row>Column 1</th><td>1</td><td>2</td><td>3</td></tr>\n",
              "\t<tr><th scope=row>Column 2</th><td>5</td><td>5</td><td>6</td></tr>\n",
              "\t<tr><th scope=row>Column 3</th><td>7</td><td>8</td><td>9</td></tr>\n",
              "</tbody>\n",
              "</table>\n"
            ],
            "text/markdown": "\nA matrix: 3 × 3 of type dbl\n\n| <!--/--> | Row 1 | Row 2 | Row 3 |\n|---|---|---|---|\n| Column 1 | 1 | 2 | 3 |\n| Column 2 | 5 | 5 | 6 |\n| Column 3 | 7 | 8 | 9 |\n\n",
            "text/latex": "A matrix: 3 × 3 of type dbl\n\\begin{tabular}{r|lll}\n  & Row 1 & Row 2 & Row 3\\\\\n\\hline\n\tColumn 1 & 1 & 2 & 3\\\\\n\tColumn 2 & 5 & 5 & 6\\\\\n\tColumn 3 & 7 & 8 & 9\\\\\n\\end{tabular}\n",
            "text/plain": [
              "         Row 1 Row 2 Row 3\n",
              "Column 1 1     2     3    \n",
              "Column 2 5     5     6    \n",
              "Column 3 7     8     9    "
            ]
          },
          "metadata": {}
        },
        {
          "output_type": "display_data",
          "data": {
            "text/html": [
              "<table class=\"dataframe\">\n",
              "<caption>A matrix: 3 × 3 of type dbl</caption>\n",
              "<thead>\n",
              "\t<tr><th></th><th scope=col>Column 1</th><th scope=col>Column 2</th><th scope=col>Column 3</th></tr>\n",
              "</thead>\n",
              "<tbody>\n",
              "\t<tr><th scope=row>Column 1</th><td>14</td><td> 33</td><td> 50</td></tr>\n",
              "\t<tr><th scope=row>Column 2</th><td>33</td><td> 86</td><td>129</td></tr>\n",
              "\t<tr><th scope=row>Column 3</th><td>50</td><td>129</td><td>194</td></tr>\n",
              "</tbody>\n",
              "</table>\n"
            ],
            "text/markdown": "\nA matrix: 3 × 3 of type dbl\n\n| <!--/--> | Column 1 | Column 2 | Column 3 |\n|---|---|---|---|\n| Column 1 | 14 |  33 |  50 |\n| Column 2 | 33 |  86 | 129 |\n| Column 3 | 50 | 129 | 194 |\n\n",
            "text/latex": "A matrix: 3 × 3 of type dbl\n\\begin{tabular}{r|lll}\n  & Column 1 & Column 2 & Column 3\\\\\n\\hline\n\tColumn 1 & 14 &  33 &  50\\\\\n\tColumn 2 & 33 &  86 & 129\\\\\n\tColumn 3 & 50 & 129 & 194\\\\\n\\end{tabular}\n",
            "text/plain": [
              "         Column 1 Column 2 Column 3\n",
              "Column 1 14        33       50     \n",
              "Column 2 33        86      129     \n",
              "Column 3 50       129      194     "
            ]
          },
          "metadata": {}
        },
        {
          "output_type": "display_data",
          "data": {
            "text/html": [
              "<table class=\"dataframe\">\n",
              "<caption>A matrix: 3 × 3 of type dbl</caption>\n",
              "<thead>\n",
              "\t<tr><th></th><th scope=col>Row 1</th><th scope=col>Row 2</th><th scope=col>Row 3</th></tr>\n",
              "</thead>\n",
              "<tbody>\n",
              "\t<tr><th scope=row>Column 1</th><td>-0.5</td><td>-0.5</td><td> 0.8333333</td></tr>\n",
              "\t<tr><th scope=row>Column 2</th><td> 1.0</td><td>-2.0</td><td> 1.0000000</td></tr>\n",
              "\t<tr><th scope=row>Column 3</th><td>-0.5</td><td> 1.5</td><td>-0.8333333</td></tr>\n",
              "</tbody>\n",
              "</table>\n"
            ],
            "text/markdown": "\nA matrix: 3 × 3 of type dbl\n\n| <!--/--> | Row 1 | Row 2 | Row 3 |\n|---|---|---|---|\n| Column 1 | -0.5 | -0.5 |  0.8333333 |\n| Column 2 |  1.0 | -2.0 |  1.0000000 |\n| Column 3 | -0.5 |  1.5 | -0.8333333 |\n\n",
            "text/latex": "A matrix: 3 × 3 of type dbl\n\\begin{tabular}{r|lll}\n  & Row 1 & Row 2 & Row 3\\\\\n\\hline\n\tColumn 1 & -0.5 & -0.5 &  0.8333333\\\\\n\tColumn 2 &  1.0 & -2.0 &  1.0000000\\\\\n\tColumn 3 & -0.5 &  1.5 & -0.8333333\\\\\n\\end{tabular}\n",
            "text/plain": [
              "         Row 1 Row 2 Row 3     \n",
              "Column 1 -0.5  -0.5   0.8333333\n",
              "Column 2  1.0  -2.0   1.0000000\n",
              "Column 3 -0.5   1.5  -0.8333333"
            ]
          },
          "metadata": {}
        }
      ]
    },
    {
      "cell_type": "markdown",
      "source": [],
      "metadata": {
        "id": "HHyOKuJhVHMc"
      }
    },
    {
      "cell_type": "markdown",
      "source": [
        "# Lists\n",
        "\n",
        "Lists allow us to combine several variables into one single object.\n",
        "We do not require the same data types within a list.\n",
        "\n",
        "We can create a list by using `list()`\n",
        "\n",
        "We can join lists together (lists of lists!)"
      ],
      "metadata": {
        "id": "bd8IwLa0VHNd"
      }
    },
    {
      "cell_type": "code",
      "source": [
        "list_1 <- list(1:5, c(FALSE,FALSE,TRUE), 32)\n",
        "list_1\n",
        "\n"
      ],
      "metadata": {
        "colab": {
          "base_uri": "https://localhost:8080/",
          "height": 97
        },
        "id": "hWyahNu3aJbn",
        "outputId": "b6ef3b46-c082-43c5-a072-f337e3d39f1d"
      },
      "execution_count": null,
      "outputs": [
        {
          "output_type": "display_data",
          "data": {
            "text/html": [
              "<ol>\n",
              "\t<li><style>\n",
              ".list-inline {list-style: none; margin:0; padding: 0}\n",
              ".list-inline>li {display: inline-block}\n",
              ".list-inline>li:not(:last-child)::after {content: \"\\00b7\"; padding: 0 .5ex}\n",
              "</style>\n",
              "<ol class=list-inline><li>1</li><li>2</li><li>3</li><li>4</li><li>5</li></ol>\n",
              "</li>\n",
              "\t<li><style>\n",
              ".list-inline {list-style: none; margin:0; padding: 0}\n",
              ".list-inline>li {display: inline-block}\n",
              ".list-inline>li:not(:last-child)::after {content: \"\\00b7\"; padding: 0 .5ex}\n",
              "</style>\n",
              "<ol class=list-inline><li>FALSE</li><li>FALSE</li><li>TRUE</li></ol>\n",
              "</li>\n",
              "\t<li>32</li>\n",
              "</ol>\n"
            ],
            "text/markdown": "1. 1. 1\n2. 2\n3. 3\n4. 4\n5. 5\n\n\n\n2. 1. FALSE\n2. FALSE\n3. TRUE\n\n\n\n3. 32\n\n\n",
            "text/latex": "\\begin{enumerate}\n\\item \\begin{enumerate*}\n\\item 1\n\\item 2\n\\item 3\n\\item 4\n\\item 5\n\\end{enumerate*}\n\n\\item \\begin{enumerate*}\n\\item FALSE\n\\item FALSE\n\\item TRUE\n\\end{enumerate*}\n\n\\item 32\n\\end{enumerate}\n",
            "text/plain": [
              "[[1]]\n",
              "[1] 1 2 3 4 5\n",
              "\n",
              "[[2]]\n",
              "[1] FALSE FALSE  TRUE\n",
              "\n",
              "[[3]]\n",
              "[1] 32\n"
            ]
          },
          "metadata": {}
        }
      ]
    },
    {
      "cell_type": "markdown",
      "source": [
        "It is good practice to name elements of a list, which can be done using `names()`.\n",
        "\n",
        "We can access elements of a list using double square brackets `[[]]` or by using the `$` operator.\n",
        "\n",
        "We will see lists quite often over the course, particularly in week 9."
      ],
      "metadata": {
        "id": "AFPX7m03a-Rl"
      }
    },
    {
      "cell_type": "code",
      "source": [
        "names(list_1) <- c(\"one\",\"two\",\"three\")\n",
        "\n",
        "list_1[[1]]\n",
        "\n",
        "list_1[[\"two\"]]\n",
        "\n",
        "list_1$three\n",
        "\n"
      ],
      "metadata": {
        "colab": {
          "base_uri": "https://localhost:8080/",
          "height": 69
        },
        "id": "nxz7l4KmbPbj",
        "outputId": "3769151a-1e15-4c9f-f199-5f0ca0d36f6c"
      },
      "execution_count": null,
      "outputs": [
        {
          "output_type": "display_data",
          "data": {
            "text/html": [
              "<style>\n",
              ".list-inline {list-style: none; margin:0; padding: 0}\n",
              ".list-inline>li {display: inline-block}\n",
              ".list-inline>li:not(:last-child)::after {content: \"\\00b7\"; padding: 0 .5ex}\n",
              "</style>\n",
              "<ol class=list-inline><li>1</li><li>2</li><li>3</li><li>4</li><li>5</li></ol>\n"
            ],
            "text/markdown": "1. 1\n2. 2\n3. 3\n4. 4\n5. 5\n\n\n",
            "text/latex": "\\begin{enumerate*}\n\\item 1\n\\item 2\n\\item 3\n\\item 4\n\\item 5\n\\end{enumerate*}\n",
            "text/plain": [
              "[1] 1 2 3 4 5"
            ]
          },
          "metadata": {}
        },
        {
          "output_type": "display_data",
          "data": {
            "text/html": [
              "<style>\n",
              ".list-inline {list-style: none; margin:0; padding: 0}\n",
              ".list-inline>li {display: inline-block}\n",
              ".list-inline>li:not(:last-child)::after {content: \"\\00b7\"; padding: 0 .5ex}\n",
              "</style>\n",
              "<ol class=list-inline><li>FALSE</li><li>FALSE</li><li>TRUE</li></ol>\n"
            ],
            "text/markdown": "1. FALSE\n2. FALSE\n3. TRUE\n\n\n",
            "text/latex": "\\begin{enumerate*}\n\\item FALSE\n\\item FALSE\n\\item TRUE\n\\end{enumerate*}\n",
            "text/plain": [
              "[1] FALSE FALSE  TRUE"
            ]
          },
          "metadata": {}
        },
        {
          "output_type": "display_data",
          "data": {
            "text/html": [
              "32"
            ],
            "text/markdown": "32",
            "text/latex": "32",
            "text/plain": [
              "[1] 32"
            ]
          },
          "metadata": {}
        }
      ]
    },
    {
      "cell_type": "markdown",
      "metadata": {
        "id": "oFlIPvBHDuFn"
      },
      "source": [
        "# Review Exercises\n",
        "\n",
        "**Task 1 (Babylonian Method)**\n",
        "\n",
        "The Babylonian method provides a way of approximating $\\sqrt{2}$. The sequence is defined recursively as\n",
        "\n",
        "$$x_n = \\frac{x_{n-1}}{2} + \\frac{1}{x_{n-1}}$$\n",
        "\n",
        "This tends to $\\sqrt{2}$ as $n \\rightarrow \\infty$ (provided $x_0 > 0$).\n",
        "\n",
        "a) Define a new variable $x$ taking the value 1."
      ]
    },
    {
      "cell_type": "code",
      "metadata": {
        "id": "8in6USSfFGB_"
      },
      "source": [
        "x <- 1\n"
      ],
      "execution_count": null,
      "outputs": []
    },
    {
      "cell_type": "markdown",
      "metadata": {
        "id": "XPESgHuhFVxO"
      },
      "source": [
        "b) Update $x$ to take the value\n",
        "\n",
        "$$\\frac{x}{2} + \\frac{1}{x}$$"
      ]
    },
    {
      "cell_type": "code",
      "metadata": {
        "id": "cfcVbDOyFhUD",
        "colab": {
          "base_uri": "https://localhost:8080/",
          "height": 34
        },
        "outputId": "c640ea5f-fbb3-413a-f088-34beb06abfd0"
      },
      "source": [
        "x <- x/2 + 1/x\n",
        "\n",
        "\n"
      ],
      "execution_count": null,
      "outputs": [
        {
          "output_type": "display_data",
          "data": {
            "text/html": [
              "1.41666666666667"
            ],
            "text/markdown": "1.41666666666667",
            "text/latex": "1.41666666666667",
            "text/plain": [
              "[1] 1.416667"
            ]
          },
          "metadata": {}
        }
      ]
    },
    {
      "cell_type": "markdown",
      "metadata": {
        "id": "QBLeiWLQFyGo"
      },
      "source": [
        "c) Repeat the update from part (b). You should see that $x$ tends to $\\sqrt{2}$. (We will see later on in the course how we can use loops to compute this more efficiently. If you already know how to use loops, feel free to do this here)"
      ]
    },
    {
      "cell_type": "code",
      "metadata": {
        "id": "J7KGCZ3BGJZs",
        "colab": {
          "base_uri": "https://localhost:8080/",
          "height": 52
        },
        "outputId": "915e9ab3-35e6-4c91-d31f-cb9ff37fbeaa"
      },
      "source": [
        "x <- x/2 + 1/x\n",
        "x <- x/2 + 1/x\n",
        "x <- x/2 + 1/x\n",
        "x <- x/2 + 1/x\n",
        "x <- x/2 + 1/x\n",
        "x\n",
        "\n",
        "sqrt(2)\n",
        "\n"
      ],
      "execution_count": null,
      "outputs": [
        {
          "output_type": "display_data",
          "data": {
            "text/html": [
              "1.41421356237309"
            ],
            "text/markdown": "1.41421356237309",
            "text/latex": "1.41421356237309",
            "text/plain": [
              "[1] 1.414214"
            ]
          },
          "metadata": {}
        },
        {
          "output_type": "display_data",
          "data": {
            "text/html": [
              "1.4142135623731"
            ],
            "text/markdown": "1.4142135623731",
            "text/latex": "1.4142135623731",
            "text/plain": [
              "[1] 1.414214"
            ]
          },
          "metadata": {}
        }
      ]
    },
    {
      "cell_type": "code",
      "metadata": {
        "id": "H6hLJi4tLcGn",
        "colab": {
          "base_uri": "https://localhost:8080/",
          "height": 34
        },
        "outputId": "2c101a3a-efcd-47aa-880b-e2aed40773aa"
      },
      "source": [
        "x <- 1\n",
        "for(i in 1:20)\n",
        "  x <- x/2 + 1/x\n",
        "\n",
        "x"
      ],
      "execution_count": null,
      "outputs": [
        {
          "output_type": "display_data",
          "data": {
            "text/html": [
              "1.41421356237309"
            ],
            "text/markdown": "1.41421356237309",
            "text/latex": "1.41421356237309",
            "text/plain": [
              "[1] 1.414214"
            ]
          },
          "metadata": {}
        }
      ]
    },
    {
      "cell_type": "markdown",
      "metadata": {
        "id": "5aWaFJFAZGzJ"
      },
      "source": [
        "**Task 2**\n",
        "\n",
        "Suppose we want to calculate the integral $\\int_{0}^{1}f(x) dx$ for the function\n",
        "\n",
        "$$f: [0,1] \\rightarrow [0,1], x \\rightarrow f(x) = 1- \\text{exp}(\\text{sin}(\\pi x)^2)\\text{cos}(\\pi x)^2$$.\n",
        "\n",
        "Integrating this function is non-trivial, so we will compute this integral using simulation (\"Monte Carlo integration\").\n",
        "\n",
        "Suppose we consider uniform \"rain\" falling on the unit square $[0,1] \\times [0,1]$. The probability of a \"rain drop\" falling below $f(x)$ is just the area under the function, which is nothing other than the integral of interest."
      ]
    },
    {
      "cell_type": "code",
      "metadata": {
        "colab": {
          "base_uri": "https://localhost:8080/",
          "height": 437
        },
        "id": "7Xe1C6oGgxzU",
        "outputId": "6498d6c6-27f0-4c42-e9b7-8c8731fab7a3"
      },
      "source": [
        "#@title Illustration\n",
        "\n",
        "f <- function(x){\n",
        " 1-exp(sin(pi*x)^2)*cos(pi* x)^2\n",
        "}\n",
        "\n",
        "\n",
        "t <- seq(-0.1,1.1,len=1e4)\n",
        "plot(t, f(t), type=\"n\", xlim=c(0,1), ylim=c(0,1), xlab=\"x\", ylab=\"f(x)\")\n",
        "s <- t>=0 & t<=1\n",
        "rect(0,0,1,1,col=\"#9bd0fa\", border=NA)\n",
        "polygon(t[s], f(t[s]), border=NA, col=\"#fa9be1\")\n",
        "lines(t, f(t), lwd=2, col=\"#951272\")\n",
        "n <- 100\n",
        "x <- runif(n)\n",
        "y <- runif(n)\n",
        "points(x, y, col=\"003865\", bg=\"#951272\", pch=ifelse(y<f(x), 21, 1))"
      ],
      "execution_count": null,
      "outputs": [
        {
          "output_type": "display_data",
          "data": {
            "text/plain": [
              "plot without title"
            ],
            "image/png": "[encoded data removed]"
          },
          "metadata": {
            "image/png": {
              "width": 420,
              "height": 420
            }
          }
        }
      ]
    },
    {
      "cell_type": "markdown",
      "metadata": {
        "id": "5TWUUcAYhSln"
      },
      "source": [
        "We can estimate $\\int_{0}^{1}f(x)dx$ as follows\n",
        "\n",
        "\n",
        "*   We first draw a large number (say $n=10,000$) of points $(x_{i},y_{i})$ uniformly from the unit square $[0,1] \\times [0,1]$.\n",
        "*   The integral $\\int_{0}^{1} f(x) dx$ is then estimated by the proportion of simulated points, for which $y_{i} \\leq f(x_i)$.\n",
        "\n",
        "Implement this method to estimate the integral $\\int_{0}^{1} f(x) dx$.\n",
        "\n",
        "*Hint*: The function $\\texttt{runif(n)}$ generates $n$ random numbers, uniformly distributed between 0 and 1.\n",
        "\n"
      ]
    },
    {
      "cell_type": "code",
      "metadata": {
        "id": "1kEueLmArLQg",
        "colab": {
          "base_uri": "https://localhost:8080/",
          "height": 52
        },
        "outputId": "c92368b1-0678-4890-d876-2b21245b898f"
      },
      "source": [
        "n <- 100000\n",
        "x <- runif(n)\n",
        "y <- runif(n)\n",
        "fx <- 1-exp(sin(pi*x)^2)*cos(pi*x)^2\n",
        "integral <- sum(y <= fx)/n\n",
        "integral\n",
        "\n",
        "f <- function(x){\n",
        "  1-exp(sin(pi*x)^2)*cos(pi*x)^2\n",
        "}\n",
        "integrate(f,0,1)"
      ],
      "execution_count": null,
      "outputs": [
        {
          "output_type": "display_data",
          "data": {
            "text/html": [
              "0.33382"
            ],
            "text/markdown": "0.33382",
            "text/latex": "0.33382",
            "text/plain": [
              "[1] 0.33382"
            ]
          },
          "metadata": {}
        },
        {
          "output_type": "display_data",
          "data": {
            "text/plain": [
              "0.3359041 with absolute error < 8.2e-05"
            ]
          },
          "metadata": {}
        }
      ]
    }
  ]
}