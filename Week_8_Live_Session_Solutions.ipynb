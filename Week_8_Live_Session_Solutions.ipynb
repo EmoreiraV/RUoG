{
  "nbformat": 4,
  "nbformat_minor": 0,
  "metadata": {
    "colab": {
      "provenance": [],
      "include_colab_link": true
    },
    "kernelspec": {
      "name": "ir",
      "display_name": "R"
    },
    "language_info": {
      "name": "R"
    }
  },
  "cells": [
    {
      "cell_type": "markdown",
      "metadata": {
        "id": "view-in-github",
        "colab_type": "text"
      },
      "source": [
        "<a href=\"https://colab.research.google.com/github/EmoreiraV/RUoG/blob/main/Week_8_Live_Session_Solutions.ipynb\" target=\"_parent\"><img src=\"https://colab.research.google.com/assets/colab-badge.svg\" alt=\"Open In Colab\"/></a>"
      ]
    },
    {
      "cell_type": "markdown",
      "source": [
        "# Week 8 Live Session\n",
        "\n",
        "Quick reminder - Programming Quiz 2 is due in this Friday at 5pm.\n",
        "\n",
        "In week 8, we take a look at how functions work in R and how to create\n",
        "our own functions to carry out tasks. Specifically, we look at:\n",
        "\n",
        "- Calling R functions.\n",
        "- Defining your own functions within R.\n",
        "- Scoping in R.\n",
        "- General design points creating functions.\n",
        "- Warning and error messages.\n",
        "- Debugging in RStudio.\n",
        "- BONUS (**NOT ASSESSED**) Using `purrr` for functional programming.\n"
      ],
      "metadata": {
        "id": "2B9W26vEVTy9"
      }
    },
    {
      "cell_type": "markdown",
      "source": [
        "# Calling R functions\n",
        "\n",
        "In the course so far, we have used quite a few different functions to help us produce certain objects, such as `plot`, `diag` and `rnorm`. With these functions, we have almost always had to pass on additional arguments.\n",
        "\n",
        "When we use functions in R, we can specify these in two forms:\n",
        "\n",
        "\n",
        "\n",
        "*   Named form: Arguments are given a name with value (e.g. `plot(x=var1,y=var2)`)\n",
        "*   Positional form: We do not specify a name for a value. Instead, we place these by position (e.g. `plot(var1,var2)`)\n",
        "\n",
        "You can use a mixture of named and positional form with R functions.\n",
        "\n",
        "Some functions have a default for certain arguments. For example, `runif` will set default values of `min=0` and `max=1`.\n",
        "\n",
        "For some functions, we can also specify unspecified arguments. These functions in their description will contain `...`.\n",
        "\n"
      ],
      "metadata": {
        "id": "jPbs80mSVwPt"
      }
    },
    {
      "cell_type": "markdown",
      "source": [
        "# Defining your own functions\n",
        "\n",
        "Functions allow us to break a complex coding problem into manageable chunks. Functions structure code, making management of what we are doing much easier.\n",
        "\n",
        "They also allow us to reuse code and reduce duplication. We can also unit test functions to make sure they work correctly.\n",
        "\n",
        "A function can be defined in R by using the `function()` command"
      ],
      "metadata": {
        "id": "WOnbAJFtkBxU"
      }
    },
    {
      "cell_type": "code",
      "source": [
        "my_function <- function(arg1,arg2, ...){\n",
        "\n",
        "    some_code\n",
        "\n",
        "    some_more_code\n",
        "\n",
        "}"
      ],
      "metadata": {
        "id": "vB5D7JnHknnC"
      },
      "execution_count": null,
      "outputs": []
    },
    {
      "cell_type": "code",
      "source": [
        "rectangle_area <- function(length,width){\n",
        "  length*width\n",
        "}\n",
        "\n",
        "rectangle_area(10,2)"
      ],
      "metadata": {
        "colab": {
          "base_uri": "https://localhost:8080/",
          "height": 34
        },
        "id": "S9GdD_QMk2YI",
        "outputId": "21f7cc9e-51b6-4879-edd7-82cb44b24063"
      },
      "execution_count": null,
      "outputs": [
        {
          "output_type": "display_data",
          "data": {
            "text/html": [
              "20"
            ],
            "text/markdown": "20",
            "text/latex": "20",
            "text/plain": [
              "[1] 20"
            ]
          },
          "metadata": {}
        }
      ]
    },
    {
      "cell_type": "markdown",
      "source": [
        "# Returning Objects\n",
        "\n",
        "We often want our functions to do more than just perform a task, but return some sort of value.\n",
        "\n",
        "This can be performed by using the `return()` argument, which will terminate the function and return the defined object.\n",
        "\n",
        "If we do not use `return` in our function, then R will return the value of the last statement in the function."
      ],
      "metadata": {
        "id": "FEgwPSPnlaUi"
      }
    },
    {
      "cell_type": "code",
      "source": [
        "#' Compute the harmonic mean\n",
        "#' @param x numeric vector containing the data\n",
        "#' @return the harmonic mean of x\n",
        "harmonic.mean <- function(x) {\n",
        "  n <-length(x)\n",
        "  n / sum(1/x)\n",
        "}\n",
        "\n",
        "#' Compute the geometric mean\n",
        "#' @param x numeric vector containing the data\n",
        "#' @return the geometric mean of x\n",
        "geometric.mean <- function(x) {\n",
        "  n <- length(x)\n",
        "  prod(x)^(1/n)\n",
        "}\n",
        "\n",
        "#' Compute the arithmetic, geometric and harmonic mean\n",
        "#' @param x numeric vector containing the data\n",
        "#' @return a list containing the arithmetic, geometric and harmonic mean of x\n",
        "all.means <- function(x) {\n",
        "  n <- length(x)\n",
        "  list(arithmetic = mean(x),\n",
        "       harmonic = harmonic.mean(x),\n",
        "       geometric = geometric.mean(x))\n",
        "}"
      ],
      "metadata": {
        "id": "gfQZsK5clsJP"
      },
      "execution_count": null,
      "outputs": []
    },
    {
      "cell_type": "markdown",
      "source": [
        "# Scoping\n",
        "\n",
        "When we create functions, it's very important to distinguish between variables defined within the function and those in your workspace (i.e. outside the function).\n",
        "\n",
        "We can reference variables outside of a function within the function. If you make any changes to the variable in the function, these will not be permanent.\n",
        "\n",
        "Also, any variables you create inside the function will only exist as long as the function runs and will not be stored in your workspace."
      ],
      "metadata": {
        "id": "GzKC3Lghl5kV"
      }
    },
    {
      "cell_type": "markdown",
      "source": [
        "# General Good Practice\n",
        "\n",
        "When designing functions, I often find it useful to try and break down a problem into as many small steps as possible, aiming to create a series of simpler tasks (where possible!)\n",
        "\n",
        "Writing out the problem in a algorithmic or \"recipie\" style format can be helpful to try break these problems down.\n",
        "\n",
        "When you have created a function, you should aim to test it systematically to ensure it works (this is called unit testing). This can be done by using some test examples with known solutions, or by visually inspecting the code and working through this line by line."
      ],
      "metadata": {
        "id": "nphMAKL5nkaG"
      }
    },
    {
      "cell_type": "markdown",
      "source": [
        "# Warnings and Errors\n",
        "\n",
        "In R, we have two types of exceptions (when the normal flow of our command has not been exactly executed).\n",
        "\n",
        "Warnings are the less serious of the two exceptions in R. This means that R has encountered a problem processing some commands, but can continue to process the remainder.\n",
        "\n",
        "The result you obtain may not be what you expect though, so you should carefully check the variables in the command that are triggering the warning."
      ],
      "metadata": {
        "id": "tQEOUJxMoIut"
      }
    },
    {
      "cell_type": "code",
      "source": [
        "sqrt(-1)"
      ],
      "metadata": {
        "colab": {
          "base_uri": "https://localhost:8080/",
          "height": 69
        },
        "id": "oerTPl1QpEN5",
        "outputId": "33069db5-0d7f-4835-f140-116835d9fb62"
      },
      "execution_count": null,
      "outputs": [
        {
          "output_type": "stream",
          "name": "stderr",
          "text": [
            "Warning message in sqrt(-1):\n",
            "“NaNs produced”\n"
          ]
        },
        {
          "output_type": "display_data",
          "data": {
            "text/html": [
              "NaN"
            ],
            "text/markdown": "NaN",
            "text/latex": "NaN",
            "text/plain": [
              "[1] NaN"
            ]
          },
          "metadata": {}
        }
      ]
    },
    {
      "cell_type": "markdown",
      "source": [
        "Errors are far more serious exceptions. An error means that R cannot continue processing your commands and will then flag an error."
      ],
      "metadata": {
        "id": "A4qN1xkipmFO"
      }
    },
    {
      "cell_type": "code",
      "source": [
        "print(I'm an error)"
      ],
      "metadata": {
        "colab": {
          "base_uri": "https://localhost:8080/",
          "height": 141
        },
        "id": "fAJ8skKDpsgr",
        "outputId": "1cf134dd-a388-432d-9816-c848c79c163a"
      },
      "execution_count": null,
      "outputs": [
        {
          "output_type": "error",
          "ename": "ERROR",
          "evalue": "ignored",
          "traceback": [
            "Error in parse(text = x, srcfile = src): <text>:1:8: unexpected INCOMPLETE_STRING\n1: print(I'm an error)\n           ^\nTraceback:\n"
          ]
        }
      ]
    },
    {
      "cell_type": "markdown",
      "source": [
        "In your own functions, you can raise warnings and errors using the `warning` and `stop` commands respectively.\n",
        "\n",
        "The `warning` command will print a warning message to the user explaining the issue. The `stop` command will break the function run and print the error message.\n",
        "\n",
        "Warnings can be suppressed, but do use this with caution! This can be done using the `suppressWarnings` command.\n",
        "\n",
        "The `try` command can help us catch errors."
      ],
      "metadata": {
        "id": "ODG4dpdApx-f"
      }
    },
    {
      "cell_type": "markdown",
      "source": [
        "# Bugs\n",
        "\n",
        "When we have a fault in a computer programme or function, we call this a bug. Bugs in code can be caused by several factors, such as faulty design, errors in the code, numerical issues or software issues.\n",
        "\n",
        "Debugging is sadly a common part of life when programming. You should try find out how to trigger the bug (which is sometimes easier said than done!), then identify where in the code the bug is triggered. Once found, we can correct the error (also easier said than done sometimes!)\n",
        "\n",
        "RStudio contains some useful in-built features to help with the debugging process."
      ],
      "metadata": {
        "id": "qhLSzzJMqyKs"
      }
    },
    {
      "cell_type": "markdown",
      "metadata": {
        "id": "KyZka1lxlXz6"
      },
      "source": [
        "# Week 8 Task\n",
        "\n",
        "In this task, you will implement two methods for drawing (pseudo-)random realisiations from the Normal distribution. It is fairly easy to draw (pseudo-)random numbers from a Uniform distribution on a computer. This task will show two related methods for conerting these uniform random numbers into draws from a Normal distribution.\n",
        "\n",
        "a) Write a function box.muller, which takes no arguments and returns a pair of numbers ($z_1, z_2$) as follows:\n",
        "\n",
        "\n",
        "\n",
        "1.   Draw $u_1$ and $u_2$ from a Uniform distribution on the interval (0,1) (You can use the function call runif(2) for this)\n",
        "2.   Compute\n",
        "      $$\\theta = 2\\pi u_1$$\n",
        "      $$r = \\sqrt{-2\\text{log}(u_2)}$$\n",
        "      $$z_1 = r\\text{sin}(\\theta)$$\n",
        "      $$z_2 = r\\text{cos}(\\theta)$$\n",
        "\n",
        "$z_1$ and $z_2$ are then an independent pair of random realisations from the N(0,1) distribution.\n"
      ]
    },
    {
      "cell_type": "code",
      "metadata": {
        "id": "tBku4IPhlVsM"
      },
      "source": [
        "box.muller <- function(){\n",
        "  u <- runif(2)\n",
        "  theta <- 2*pi*u[1]\n",
        "  r <- sqrt(-2*log(u[2]))\n",
        "  r*(c(sin(theta),cos(theta)))\n",
        "}"
      ],
      "execution_count": null,
      "outputs": []
    },
    {
      "cell_type": "markdown",
      "metadata": {
        "id": "wqo72UmSlb9p"
      },
      "source": [
        "Write a function `polar.marsaglia` which takes no arguments and which returns a pair of numbers ($z_1 , z_2$) calculated as follows:\n",
        "\n",
        "\n",
        "\n",
        "1.   Carry out steps i) and ii) until $s < 1$:\n",
        "\n",
        "      i) Use the R function `runif` to draw a pair of independent random numbers $u_1$ and $u_2$, from the uniform distribution on the interval [-1,1] (you can use the function call `runif(2,-1,1)` for this)\n",
        "\n",
        "      ii) Compute $s = u_{1}^2 + u_{2}^{2}$\n",
        "\n",
        "\n",
        "2.   Compute $\\rho = \\sqrt{\\frac{-2 \\text{log}(s)}{s}}$\n",
        "\n",
        "\n",
        "3.   Compute $z_1 = \\rho \\cdot u_{1}$ and $z_{2} = \\rho \\cdot u_2$\n",
        "\n",
        "$z_1$ and $z_2$ is then again an independent pair of random realisations from the N(0,1) distribution."
      ]
    },
    {
      "cell_type": "code",
      "metadata": {
        "id": "cpywIYR7lgEY"
      },
      "source": [
        "polar.marsaglia <- function(){\n",
        "  while(TRUE){\n",
        "    u <- runif(2,-1,1)\n",
        "    s <- sum(u^2)\n",
        "    if(s<1) break\n",
        "  }\n",
        "  rho <- sqrt((-2*log(s))/s)\n",
        "  rho*u\n",
        "}"
      ],
      "execution_count": null,
      "outputs": []
    },
    {
      "cell_type": "markdown",
      "metadata": {
        "id": "IMdYSQhAlgWE"
      },
      "source": [
        "c) Write a function `simulate.normal` which takes the arguments `n, mu, sigma` and `method`. The default value of `mu` should be 0, the default value of `sigma` should be 1 and the default value of `method` should be box.muller.\n",
        "\n",
        "The function should use the requested method to generate a sample ($z_1 , ..., z_n$) from the standard Normal distribution (using the functions defined in (a) and (b)) and then return ($x_1 , ..., x_n$) calculated as $x_i = \\mu + \\sigma \\cdot z_i $"
      ]
    },
    {
      "cell_type": "code",
      "metadata": {
        "id": "X5BcQ1Z_llUX"
      },
      "source": [
        "simulate.normal <- function(n,mu=0,sigma=1,method=box.muller){\n",
        "  result <- matrix(nrow=ceiling(n/2),ncol=2)\n",
        "  for(i in 1:nrow(result)){\n",
        "    result[i,] <- mu+sigma*method()\n",
        "  }\n",
        "  result[1:n]\n",
        "}"
      ],
      "execution_count": null,
      "outputs": []
    },
    {
      "cell_type": "markdown",
      "metadata": {
        "id": "TblQVxEZllcC"
      },
      "source": [
        "d) Use your function to generate a sample of size 1,000 from the N($2$,$3^2$) distribution and calculate the empirical mean and empirical standard deviation of the sample."
      ]
    },
    {
      "cell_type": "code",
      "metadata": {
        "id": "J_qRCFHkloVA",
        "colab": {
          "base_uri": "https://localhost:8080/",
          "height": 52
        },
        "outputId": "96d3899f-dada-4128-8b58-75b6441bd0b1"
      },
      "source": [
        "test <- simulate.normal(1000,mu=2,sigma=3)\n",
        "mean(test)\n",
        "sd(test)"
      ],
      "execution_count": null,
      "outputs": [
        {
          "output_type": "display_data",
          "data": {
            "text/html": [
              "2.06117043852739"
            ],
            "text/markdown": "2.06117043852739",
            "text/latex": "2.06117043852739",
            "text/plain": [
              "[1] 2.06117"
            ]
          },
          "metadata": {}
        },
        {
          "output_type": "display_data",
          "data": {
            "text/html": [
              "2.96093717341244"
            ],
            "text/markdown": "2.96093717341244",
            "text/latex": "2.96093717341244",
            "text/plain": [
              "[1] 2.960937"
            ]
          },
          "metadata": {}
        }
      ]
    }
  ]
}