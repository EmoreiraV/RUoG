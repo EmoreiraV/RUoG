{
  "nbformat": 4,
  "nbformat_minor": 0,
  "metadata": {
    "colab": {
      "provenance": [],
      "include_colab_link": true
    },
    "kernelspec": {
      "name": "ir",
      "display_name": "R"
    },
    "language_info": {
      "name": "R"
    }
  },
  "cells": [
    {
      "cell_type": "markdown",
      "metadata": {
        "id": "view-in-github",
        "colab_type": "text"
      },
      "source": [
        "<a href=\"https://colab.research.google.com/github/EmoreiraV/RUoG/blob/main/Week3Solutions.ipynb\" target=\"_parent\"><img src=\"https://colab.research.google.com/assets/colab-badge.svg\" alt=\"Open In Colab\"/></a>"
      ]
    },
    {
      "cell_type": "markdown",
      "source": [
        "# Week 3 Live Session\n",
        "\n",
        "**Programming Quiz 1**\n",
        "\n",
        "The first assignment for the course will go live on Friday at 5pm (UK time). This will take the form of a timed Moodle quiz.\n",
        "\n",
        "You will have until Friday 20th October at 5pm (UK time) to complete the quiz. Once you begin the quiz, you will have **two hours** in which to complete the quiz. If you begin the quiz less than 2 hours before the deadline (5pm), you will only have until 5pm to complete the quiz.\n",
        "\n",
        "The questions for the quiz will consist of a mixture of coding tasks, based on learning material from Weeks 1-3. When answering the questions, you should provide the code required to answer the questions (so be sure to have RStudio open when you start the quiz!). You do **not** have to provide the output from the code in your answers.\n",
        "\n",
        "**For any data manipulation questions, please use base (\"classic\") R commands only, and not commands from tidyverse (covered in Week 4)**.\n",
        "\n",
        "There will be a demo assignment made available for you to practice before the main quiz. This will help you familiarise yourself with the Moodle quiz functionality. You can attempt the practics quiz as many times as you wish.\n",
        "\n",
        "Once you complete the assessed quiz, be sure to press the \"submit\" button at the end. Any unsubmitted attempts will be automatically submitted when the timer runs out (which you can view in the top right of the screen).\n",
        "\n",
        "If you have any technical issues during the assessed quiz, please submit a Good Cause claim with any supporting evidence (i.e. screenshots of the issues that happened). If this claim is accepted, you will be entitled to a fresh reattempt during the reassessment window."
      ],
      "metadata": {
        "id": "5O13tTZGCWY9"
      }
    },
    {
      "cell_type": "markdown",
      "source": [
        "# Week 3 Outline\n",
        "\n",
        "In Week 3, we cover basic data management in R. We will look at:\n",
        "\n",
        "\n",
        "\n",
        "*   Data frames\n",
        "*   Manipulating data frames\n",
        "*   Merging data sets\n",
        "*   Importing and exporting data from R\n",
        "\n"
      ],
      "metadata": {
        "id": "oB4SG6TjEYCV"
      }
    },
    {
      "cell_type": "markdown",
      "source": [
        "# Data Frames\n",
        "\n",
        "Last week, we looked at matrices. We could store data in a matrix, but there is an important constraint - all the entries in the matrix must be the same variable type"
      ],
      "metadata": {
        "id": "8milaIVrEnGP"
      }
    },
    {
      "cell_type": "code",
      "source": [
        "matrix_data <- cbind(c(1,2,3),c(\"cat\",\"dog\",\"mouse\"))\n",
        "matrix_data\n",
        "matrix_data[,1]"
      ],
      "metadata": {
        "colab": {
          "base_uri": "https://localhost:8080/",
          "height": 34
        },
        "id": "sGKHdnmeE3yD",
        "outputId": "9989fe60-6369-48c5-a5c0-2ef4476bec45"
      },
      "execution_count": null,
      "outputs": [
        {
          "output_type": "display_data",
          "data": {
            "text/html": [
              "<style>\n",
              ".list-inline {list-style: none; margin:0; padding: 0}\n",
              ".list-inline>li {display: inline-block}\n",
              ".list-inline>li:not(:last-child)::after {content: \"\\00b7\"; padding: 0 .5ex}\n",
              "</style>\n",
              "<ol class=list-inline><li>'1'</li><li>'2'</li><li>'3'</li></ol>\n"
            ],
            "text/markdown": "1. '1'\n2. '2'\n3. '3'\n\n\n",
            "text/latex": "\\begin{enumerate*}\n\\item '1'\n\\item '2'\n\\item '3'\n\\end{enumerate*}\n",
            "text/plain": [
              "[1] \"1\" \"2\" \"3\""
            ]
          },
          "metadata": {}
        }
      ]
    },
    {
      "cell_type": "markdown",
      "source": [
        "We could potentially use a list to store data (as this allows different types of variable), but lists do not enforce that each variable has to have the same number of observations."
      ],
      "metadata": {
        "id": "jam4RPSyFMi_"
      }
    },
    {
      "cell_type": "code",
      "source": [
        "list_data <- list(c(1,2,3),c(\"cat\",\"dog\"))\n",
        "list_data"
      ],
      "metadata": {
        "colab": {
          "base_uri": "https://localhost:8080/",
          "height": 80
        },
        "id": "3TeNQcYbFWc_",
        "outputId": "f6ac3cdb-370e-49fc-d7c5-4e72babbf1a3"
      },
      "execution_count": null,
      "outputs": [
        {
          "output_type": "display_data",
          "data": {
            "text/html": [
              "<ol>\n",
              "\t<li><style>\n",
              ".list-inline {list-style: none; margin:0; padding: 0}\n",
              ".list-inline>li {display: inline-block}\n",
              ".list-inline>li:not(:last-child)::after {content: \"\\00b7\"; padding: 0 .5ex}\n",
              "</style>\n",
              "<ol class=list-inline><li>1</li><li>2</li><li>3</li></ol>\n",
              "</li>\n",
              "\t<li><style>\n",
              ".list-inline {list-style: none; margin:0; padding: 0}\n",
              ".list-inline>li {display: inline-block}\n",
              ".list-inline>li:not(:last-child)::after {content: \"\\00b7\"; padding: 0 .5ex}\n",
              "</style>\n",
              "<ol class=list-inline><li>'cat'</li><li>'dog'</li></ol>\n",
              "</li>\n",
              "</ol>\n"
            ],
            "text/markdown": "1. 1. 1\n2. 2\n3. 3\n\n\n\n2. 1. 'cat'\n2. 'dog'\n\n\n\n\n\n",
            "text/latex": "\\begin{enumerate}\n\\item \\begin{enumerate*}\n\\item 1\n\\item 2\n\\item 3\n\\end{enumerate*}\n\n\\item \\begin{enumerate*}\n\\item 'cat'\n\\item 'dog'\n\\end{enumerate*}\n\n\\end{enumerate}\n",
            "text/plain": [
              "[[1]]\n",
              "[1] 1 2 3\n",
              "\n",
              "[[2]]\n",
              "[1] \"cat\" \"dog\"\n"
            ]
          },
          "metadata": {}
        }
      ]
    },
    {
      "cell_type": "markdown",
      "source": [
        "Data frames avoid these issues above. We can create a data frame in R by using the function `data.frame()`.\n",
        "\n",
        "Data frames behave just like matrices and lists, so we can use operators like `$` to access elements."
      ],
      "metadata": {
        "id": "3Nhaj1XxFjDB"
      }
    },
    {
      "cell_type": "code",
      "source": [
        "frame_data <- data.frame(numbers=c(1,2,3),pets=c(\"cat\",\"dog\",\"mouse\"))\n",
        "frame_data\n",
        "\n",
        "frame_data$pets\n",
        "frame_data[,1]"
      ],
      "metadata": {
        "colab": {
          "base_uri": "https://localhost:8080/",
          "height": 227
        },
        "id": "VWAgv2AAGNOx",
        "outputId": "97adcce8-f3e6-4c34-e09d-a9d0b59f85ca"
      },
      "execution_count": null,
      "outputs": [
        {
          "output_type": "display_data",
          "data": {
            "text/html": [
              "<table class=\"dataframe\">\n",
              "<caption>A data.frame: 3 × 2</caption>\n",
              "<thead>\n",
              "\t<tr><th scope=col>numbers</th><th scope=col>pets</th></tr>\n",
              "\t<tr><th scope=col>&lt;dbl&gt;</th><th scope=col>&lt;chr&gt;</th></tr>\n",
              "</thead>\n",
              "<tbody>\n",
              "\t<tr><td>1</td><td>cat  </td></tr>\n",
              "\t<tr><td>2</td><td>dog  </td></tr>\n",
              "\t<tr><td>3</td><td>mouse</td></tr>\n",
              "</tbody>\n",
              "</table>\n"
            ],
            "text/markdown": "\nA data.frame: 3 × 2\n\n| numbers &lt;dbl&gt; | pets &lt;chr&gt; |\n|---|---|\n| 1 | cat   |\n| 2 | dog   |\n| 3 | mouse |\n\n",
            "text/latex": "A data.frame: 3 × 2\n\\begin{tabular}{ll}\n numbers & pets\\\\\n <dbl> & <chr>\\\\\n\\hline\n\t 1 & cat  \\\\\n\t 2 & dog  \\\\\n\t 3 & mouse\\\\\n\\end{tabular}\n",
            "text/plain": [
              "  numbers pets \n",
              "1 1       cat  \n",
              "2 2       dog  \n",
              "3 3       mouse"
            ]
          },
          "metadata": {}
        },
        {
          "output_type": "display_data",
          "data": {
            "text/html": [
              "<style>\n",
              ".list-inline {list-style: none; margin:0; padding: 0}\n",
              ".list-inline>li {display: inline-block}\n",
              ".list-inline>li:not(:last-child)::after {content: \"\\00b7\"; padding: 0 .5ex}\n",
              "</style>\n",
              "<ol class=list-inline><li>'cat'</li><li>'dog'</li><li>'mouse'</li></ol>\n"
            ],
            "text/markdown": "1. 'cat'\n2. 'dog'\n3. 'mouse'\n\n\n",
            "text/latex": "\\begin{enumerate*}\n\\item 'cat'\n\\item 'dog'\n\\item 'mouse'\n\\end{enumerate*}\n",
            "text/plain": [
              "[1] \"cat\"   \"dog\"   \"mouse\""
            ]
          },
          "metadata": {}
        },
        {
          "output_type": "display_data",
          "data": {
            "text/html": [
              "<style>\n",
              ".list-inline {list-style: none; margin:0; padding: 0}\n",
              ".list-inline>li {display: inline-block}\n",
              ".list-inline>li:not(:last-child)::after {content: \"\\00b7\"; padding: 0 .5ex}\n",
              "</style>\n",
              "<ol class=list-inline><li>1</li><li>2</li><li>3</li></ol>\n"
            ],
            "text/markdown": "1. 1\n2. 2\n3. 3\n\n\n",
            "text/latex": "\\begin{enumerate*}\n\\item 1\n\\item 2\n\\item 3\n\\end{enumerate*}\n",
            "text/plain": [
              "[1] 1 2 3"
            ]
          },
          "metadata": {}
        }
      ]
    },
    {
      "cell_type": "markdown",
      "source": [
        "# Data Manipulation\n",
        "\n",
        "We can add new columns to an existing data frame. This can be done by using either `cbind()`, square bracket notation `data[]` or by using `$`.\n",
        "\n",
        "If we want to use existing variables to create a new variable, it is best to use the `transform()` function."
      ],
      "metadata": {
        "id": "qLMhqpzaHvde"
      }
    },
    {
      "cell_type": "code",
      "source": [
        "# Let's use the CIA factbook data from Task 2\n",
        "load(url(paste(\"https://github.com/UofGAnalyticsData/R/blob\",\n",
        "               \"/main/Week%203/cia.RData?raw=true\",sep=\"\")))\n",
        "\n",
        "cia$GDPpercapita <- cia$GDP/cia$Population\n",
        "#cia$GDPpercapita\n",
        "\n",
        "# Let's use transform instead\n",
        "# reload data\n",
        "load(url(paste(\"https://github.com/UofGAnalyticsData/R/blob\",\n",
        "               \"/main/Week%203/cia.RData?raw=true\",sep=\"\")))\n",
        "cia <- transform(cia, GDPpercapita=GDP/Population)\n",
        "cia$GDPpercapita"
      ],
      "metadata": {
        "colab": {
          "base_uri": "https://localhost:8080/",
          "height": 434
        },
        "id": "Z4G6uTz2IHOZ",
        "outputId": "1f5e87ba-2c31-4316-f767-a71169ee3600"
      },
      "execution_count": null,
      "outputs": [
        {
          "output_type": "display_data",
          "data": {
            "text/html": [
              "<style>\n",
              ".list-inline {list-style: none; margin:0; padding: 0}\n",
              ".list-inline>li {display: inline-block}\n",
              ".list-inline>li:not(:last-child)::after {content: \"\\00b7\"; padding: 0 .5ex}\n",
              "</style>\n",
              "<ol class=list-inline><li>382.327405136166</li><li>&lt;NA&gt;</li><li>3714.84396144146</li><li>5011.96845192612</li><li>7042.72566587432</li><li>&lt;NA&gt;</li><li>7496.50781492384</li><li>7543.64089775561</li><li>&lt;NA&gt;</li><li>13149.2899850523</li><li>&lt;NA&gt;</li><li>8278.42410481565</li><li>4068.07675351971</li><li>21908.5043419201</li><li>&lt;NA&gt;</li><li>50275.9746543245</li><li>52665.6761199769</li><li>6464.63410607923</li><li>22432.040782</li><li>27040.9530287104</li><li>532.134124482974</li><li>13271.7708695698</li><li>5978.11086928966</li><li>47569.0432880214</li><li>4491.73267857317</li><li>789.369041628639</li><li>&lt;NA&gt;</li><li>1979.33562037269</li><li>1937.54714715108</li><li>4196.45841452772</li><li>6936.64497437309</li><li>&lt;NA&gt;</li><li>8377.81082912205</li><li>&lt;NA&gt;</li><li>34286.0642685068</li><li>44256.6784306654</li><li>6860.81158001729</li><li>523.426810934832</li><li>284.599977385727</li><li>100.466272537739</li><li>710.624519595402</li><li>1324.20156869155</li><li>46704.4012746599</li><li>4295.95272356417</li><li>&lt;NA&gt;</li><li>462.596819497248</li><li>881.577755041819</li><li>10932.6107249092</li><li>3154.01098071538</li><li>&lt;NA&gt;</li><li>&lt;NA&gt;</li><li>&lt;NA&gt;</li><li>5472.78665598779</li><li>740.260327096718</li><li>188.666769676394</li><li>3326.84660545767</li><li>15433.8668913227</li><li>&lt;NA&gt;</li><li>7141.72036474021</li><li>1153.41327874555</li><li>14244.636654847</li><li>4818.51876043736</li><li>32118.3824083139</li><li>21269.2951285088</li><li>67193.7693050281</li><li>&lt;NA&gt;</li><li>1885.45794537404</li><li>5023.39664189375</li><li>4734.68853127661</li><li>3751.43217630894</li><li>1905.3265962686</li><li>3100.81058083415</li><li>31826.1684987236</li><li>261.901186577059</li><li>18054.8896350619</li><li>294.237250816068</li><li>38345.5198311108</li><li>33471.3375796178</li><li>34796.1355821189</li><li>4004.3610805318</li><li>53559.0992852755</li><li>46489.2701890193</li><li>21251.9858412999</li><li>&lt;NA&gt;</li><li>10501.6986877167</li><li>436.930314943185</li><li>4279.38362956944</li><li>2877.0700334741</li><li>46374.4834522652</li><li>743.522656775969</li><li>38025.2550474424</li><li>34784.866543459</li><li>29513.8888888889</li><li>7240.54706355591</li><li>&lt;NA&gt;</li><li>2732.64441268745</li><li>41627.4480036435</li><li>442.832677551893</li><li>288.142355361664</li><li>1468.34512066586</li><li>770.955923367468</li><li>&lt;NA&gt;</li><li>&lt;NA&gt;</li><li>1768.28668931819</li><li>31721.8636070424</li><li>13265.2290684983</li><li>62016.2115985314</li><li>1060.81986709484</li><li>2125.92818220047</li><li>5754.99203032205</li><li>3240.55522388039</li><li>67805.4815378759</li><li>35536.9092429946</li><li>26086.2316537551</li><li>41272.257686429</li><li>4766.57579386311</li><li>&lt;NA&gt;</li><li>38118.1173594038</li><li>55661.0569052452</li><li>3014.3712355832</li><li>9169.16637926438</li><li>805.583767225571</li><li>629.153743907842</li><li>1155.94975501145</li><li>17677.1422820504</li><li>1793.51276956713</li><li>59342.4837932221</li><li>929.719296572539</li><li>758.894515856901</li><li>15191.5547503185</li><li>6975.18978266633</li><li>775.288750475756</li><li>269.046048713024</li><li>17193.7461036753</li><li>143637.985098242</li><li>13712.3897277746</li><li>117147.069289818</li><li>39367.9690486312</li><li>4656.65852815914</li><li>471.05689693339</li><li>286.080501595414</li><li>8348.94661531099</li><li>3176.61366423269</li><li>692.824584094071</li><li>21186.430219787</li><li>2506.1219429032</li><li>1158.3371838059</li><li>6328.91679592358</li><li>&lt;NA&gt;</li><li>10277.6873771898</li><li>2216.24439190573</li><li>1434.24240432444</li><li>&lt;NA&gt;</li><li>1641.15980115365</li><li>6716.95081674551</li><li>&lt;NA&gt;</li><li>2595.28544467994</li><li>451.699405951597</li><li>3690.01240121119</li><li>&lt;NA&gt;</li><li>&lt;NA&gt;</li><li>442.524705674683</li><li>54408.9527643547</li><li>&lt;NA&gt;</li><li>14509.5763203714</li><li>32206.6312907953</li><li>1113.69519175978</li><li>347.701057058253</li><li>1476.25372506125</li><li>7160.22889842632</li><li>&lt;NA&gt;</li><li>7143.98502176806</li><li>103228.403409992</li><li>16477.0624487103</li><li>912.944324371241</li><li>7886.13194845163</li><li>6969.25493248869</li><li>1050.47444695731</li><li>&lt;NA&gt;</li><li>2338.59445613027</li><li>4447.15756404474</li><li>1720.81900002187</li><li>&lt;NA&gt;</li><li>14744.2037855808</li><li>23860.8342756262</li><li>22160.5532079919</li><li>140288.136711929</li><li>9628.44683429587</li><li>12546.303590113</li><li>384.502202843388</li><li>&lt;NA&gt;</li><li>&lt;NA&gt;</li><li>13929.3812763201</li><li>6433.01490637499</li><li>&lt;NA&gt;</li><li>&lt;NA&gt;</li><li>5708.87601124562</li><li>2440.93128119347</li><li>28030.6028228466</li><li>752.307468062197</li><li>16303.7607097354</li><li>1013.74041258651</li><li>7071.09403701334</li><li>8905.29973935708</li><li>306.053381858814</li><li>33172.0036018999</li><li>18414.6353517799</li><li>28424.104997178</li><li>772.313566023576</li><li>264.442179056444</li><li>6124.05213525454</li><li>&lt;NA&gt;</li><li>41529.917752996</li><li>&lt;NA&gt;</li><li>1781.96353718074</li><li>1513.58705407259</li><li>6200.30045691892</li><li>&lt;NA&gt;</li><li>2640.77379654831</li><li>56613.6598418637</li><li>64777.7155190495</li><li>2204.82360296127</li><li>17480.3662537177</li><li>651.504358670294</li><li>502.575829021121</li><li>4128.6443707732</li><li>432.126912758083</li><li>499.844099804697</li><li>&lt;NA&gt;</li><li>2134.03033962514</li><li>19643.0270099752</li><li>3983.27767202643</li><li>10401.5955935669</li><li>5899.82941263534</li><li>&lt;NA&gt;</li><li>1207.46787359573</li><li>464.634086137352</li><li>4332.56649094608</li><li>56267.689154778</li><li>45603.8919902826</li><li>46645.2946585054</li><li>&lt;NA&gt;</li><li>8957.2347842909</li><li>964.282882345136</li><li>2562.70621776596</li><li>12373.7438999736</li><li>1044.98778187591</li><li>&lt;NA&gt;</li><li>&lt;NA&gt;</li><li>&lt;NA&gt;</li><li>2698.20381128906</li><li>&lt;NA&gt;</li><li>1156.87575208992</li><li>1283.85179140738</li><li>399.205486284158</li></ol>\n"
            ],
            "text/markdown": "1. 382.327405136166\n2. &lt;NA&gt;\n3. 3714.84396144146\n4. 5011.96845192612\n5. 7042.72566587432\n6. &lt;NA&gt;\n7. 7496.50781492384\n8. 7543.64089775561\n9. &lt;NA&gt;\n10. 13149.2899850523\n11. &lt;NA&gt;\n12. 8278.42410481565\n13. 4068.07675351971\n14. 21908.5043419201\n15. &lt;NA&gt;\n16. 50275.9746543245\n17. 52665.6761199769\n18. 6464.63410607923\n19. 22432.040782\n20. 27040.9530287104\n21. 532.134124482974\n22. 13271.7708695698\n23. 5978.11086928966\n24. 47569.0432880214\n25. 4491.73267857317\n26. 789.369041628639\n27. &lt;NA&gt;\n28. 1979.33562037269\n29. 1937.54714715108\n30. 4196.45841452772\n31. 6936.64497437309\n32. &lt;NA&gt;\n33. 8377.81082912205\n34. &lt;NA&gt;\n35. 34286.0642685068\n36. 44256.6784306654\n37. 6860.81158001729\n38. 523.426810934832\n39. 284.599977385727\n40. 100.466272537739\n41. 710.624519595402\n42. 1324.20156869155\n43. 46704.4012746599\n44. 4295.95272356417\n45. &lt;NA&gt;\n46. 462.596819497248\n47. 881.577755041819\n48. 10932.6107249092\n49. 3154.01098071538\n50. &lt;NA&gt;\n51. &lt;NA&gt;\n52. &lt;NA&gt;\n53. 5472.78665598779\n54. 740.260327096718\n55. 188.666769676394\n56. 3326.84660545767\n57. 15433.8668913227\n58. &lt;NA&gt;\n59. 7141.72036474021\n60. 1153.41327874555\n61. 14244.636654847\n62. 4818.51876043736\n63. 32118.3824083139\n64. 21269.2951285088\n65. 67193.7693050281\n66. &lt;NA&gt;\n67. 1885.45794537404\n68. 5023.39664189375\n69. 4734.68853127661\n70. 3751.43217630894\n71. 1905.3265962686\n72. 3100.81058083415\n73. 31826.1684987236\n74. 261.901186577059\n75. 18054.8896350619\n76. 294.237250816068\n77. 38345.5198311108\n78. 33471.3375796178\n79. 34796.1355821189\n80. 4004.3610805318\n81. 53559.0992852755\n82. 46489.2701890193\n83. 21251.9858412999\n84. &lt;NA&gt;\n85. 10501.6986877167\n86. 436.930314943185\n87. 4279.38362956944\n88. 2877.0700334741\n89. 46374.4834522652\n90. 743.522656775969\n91. 38025.2550474424\n92. 34784.866543459\n93. 29513.8888888889\n94. 7240.54706355591\n95. &lt;NA&gt;\n96. 2732.64441268745\n97. 41627.4480036435\n98. 442.832677551893\n99. 288.142355361664\n100. 1468.34512066586\n101. 770.955923367468\n102. &lt;NA&gt;\n103. &lt;NA&gt;\n104. 1768.28668931819\n105. 31721.8636070424\n106. 13265.2290684983\n107. 62016.2115985314\n108. 1060.81986709484\n109. 2125.92818220047\n110. 5754.99203032205\n111. 3240.55522388039\n112. 67805.4815378759\n113. 35536.9092429946\n114. 26086.2316537551\n115. 41272.257686429\n116. 4766.57579386311\n117. &lt;NA&gt;\n118. 38118.1173594038\n119. 55661.0569052452\n120. 3014.3712355832\n121. 9169.16637926438\n122. 805.583767225571\n123. 629.153743907842\n124. 1155.94975501145\n125. 17677.1422820504\n126. 1793.51276956713\n127. 59342.4837932221\n128. 929.719296572539\n129. 758.894515856901\n130. 15191.5547503185\n131. 6975.18978266633\n132. 775.288750475756\n133. 269.046048713024\n134. 17193.7461036753\n135. 143637.985098242\n136. 13712.3897277746\n137. 117147.069289818\n138. 39367.9690486312\n139. 4656.65852815914\n140. 471.05689693339\n141. 286.080501595414\n142. 8348.94661531099\n143. 3176.61366423269\n144. 692.824584094071\n145. 21186.430219787\n146. 2506.1219429032\n147. 1158.3371838059\n148. 6328.91679592358\n149. &lt;NA&gt;\n150. 10277.6873771898\n151. 2216.24439190573\n152. 1434.24240432444\n153. &lt;NA&gt;\n154. 1641.15980115365\n155. 6716.95081674551\n156. &lt;NA&gt;\n157. 2595.28544467994\n158. 451.699405951597\n159. 3690.01240121119\n160. &lt;NA&gt;\n161. &lt;NA&gt;\n162. 442.524705674683\n163. 54408.9527643547\n164. &lt;NA&gt;\n165. 14509.5763203714\n166. 32206.6312907953\n167. 1113.69519175978\n168. 347.701057058253\n169. 1476.25372506125\n170. 7160.22889842632\n171. &lt;NA&gt;\n172. 7143.98502176806\n173. 103228.403409992\n174. 16477.0624487103\n175. 912.944324371241\n176. 7886.13194845163\n177. 6969.25493248869\n178. 1050.47444695731\n179. &lt;NA&gt;\n180. 2338.59445613027\n181. 4447.15756404474\n182. 1720.81900002187\n183. &lt;NA&gt;\n184. 14744.2037855808\n185. 23860.8342756262\n186. 22160.5532079919\n187. 140288.136711929\n188. 9628.44683429587\n189. 12546.303590113\n190. 384.502202843388\n191. &lt;NA&gt;\n192. &lt;NA&gt;\n193. 13929.3812763201\n194. 6433.01490637499\n195. &lt;NA&gt;\n196. &lt;NA&gt;\n197. 5708.87601124562\n198. 2440.93128119347\n199. 28030.6028228466\n200. 752.307468062197\n201. 16303.7607097354\n202. 1013.74041258651\n203. 7071.09403701334\n204. 8905.29973935708\n205. 306.053381858814\n206. 33172.0036018999\n207. 18414.6353517799\n208. 28424.104997178\n209. 772.313566023576\n210. 264.442179056444\n211. 6124.05213525454\n212. &lt;NA&gt;\n213. 41529.917752996\n214. &lt;NA&gt;\n215. 1781.96353718074\n216. 1513.58705407259\n217. 6200.30045691892\n218. &lt;NA&gt;\n219. 2640.77379654831\n220. 56613.6598418637\n221. 64777.7155190495\n222. 2204.82360296127\n223. 17480.3662537177\n224. 651.504358670294\n225. 502.575829021121\n226. 4128.6443707732\n227. 432.126912758083\n228. 499.844099804697\n229. &lt;NA&gt;\n230. 2134.03033962514\n231. 19643.0270099752\n232. 3983.27767202643\n233. 10401.5955935669\n234. 5899.82941263534\n235. &lt;NA&gt;\n236. 1207.46787359573\n237. 464.634086137352\n238. 4332.56649094608\n239. 56267.689154778\n240. 45603.8919902826\n241. 46645.2946585054\n242. &lt;NA&gt;\n243. 8957.2347842909\n244. 964.282882345136\n245. 2562.70621776596\n246. 12373.7438999736\n247. 1044.98778187591\n248. &lt;NA&gt;\n249. &lt;NA&gt;\n250. &lt;NA&gt;\n251. 2698.20381128906\n252. &lt;NA&gt;\n253. 1156.87575208992\n254. 1283.85179140738\n255. 399.205486284158\n\n\n",
            "text/latex": "\\begin{enumerate*}\n\\item 382.327405136166\n\\item <NA>\n\\item 3714.84396144146\n\\item 5011.96845192612\n\\item 7042.72566587432\n\\item <NA>\n\\item 7496.50781492384\n\\item 7543.64089775561\n\\item <NA>\n\\item 13149.2899850523\n\\item <NA>\n\\item 8278.42410481565\n\\item 4068.07675351971\n\\item 21908.5043419201\n\\item <NA>\n\\item 50275.9746543245\n\\item 52665.6761199769\n\\item 6464.63410607923\n\\item 22432.040782\n\\item 27040.9530287104\n\\item 532.134124482974\n\\item 13271.7708695698\n\\item 5978.11086928966\n\\item 47569.0432880214\n\\item 4491.73267857317\n\\item 789.369041628639\n\\item <NA>\n\\item 1979.33562037269\n\\item 1937.54714715108\n\\item 4196.45841452772\n\\item 6936.64497437309\n\\item <NA>\n\\item 8377.81082912205\n\\item <NA>\n\\item 34286.0642685068\n\\item 44256.6784306654\n\\item 6860.81158001729\n\\item 523.426810934832\n\\item 284.599977385727\n\\item 100.466272537739\n\\item 710.624519595402\n\\item 1324.20156869155\n\\item 46704.4012746599\n\\item 4295.95272356417\n\\item <NA>\n\\item 462.596819497248\n\\item 881.577755041819\n\\item 10932.6107249092\n\\item 3154.01098071538\n\\item <NA>\n\\item <NA>\n\\item <NA>\n\\item 5472.78665598779\n\\item 740.260327096718\n\\item 188.666769676394\n\\item 3326.84660545767\n\\item 15433.8668913227\n\\item <NA>\n\\item 7141.72036474021\n\\item 1153.41327874555\n\\item 14244.636654847\n\\item 4818.51876043736\n\\item 32118.3824083139\n\\item 21269.2951285088\n\\item 67193.7693050281\n\\item <NA>\n\\item 1885.45794537404\n\\item 5023.39664189375\n\\item 4734.68853127661\n\\item 3751.43217630894\n\\item 1905.3265962686\n\\item 3100.81058083415\n\\item 31826.1684987236\n\\item 261.901186577059\n\\item 18054.8896350619\n\\item 294.237250816068\n\\item 38345.5198311108\n\\item 33471.3375796178\n\\item 34796.1355821189\n\\item 4004.3610805318\n\\item 53559.0992852755\n\\item 46489.2701890193\n\\item 21251.9858412999\n\\item <NA>\n\\item 10501.6986877167\n\\item 436.930314943185\n\\item 4279.38362956944\n\\item 2877.0700334741\n\\item 46374.4834522652\n\\item 743.522656775969\n\\item 38025.2550474424\n\\item 34784.866543459\n\\item 29513.8888888889\n\\item 7240.54706355591\n\\item <NA>\n\\item 2732.64441268745\n\\item 41627.4480036435\n\\item 442.832677551893\n\\item 288.142355361664\n\\item 1468.34512066586\n\\item 770.955923367468\n\\item <NA>\n\\item <NA>\n\\item 1768.28668931819\n\\item 31721.8636070424\n\\item 13265.2290684983\n\\item 62016.2115985314\n\\item 1060.81986709484\n\\item 2125.92818220047\n\\item 5754.99203032205\n\\item 3240.55522388039\n\\item 67805.4815378759\n\\item 35536.9092429946\n\\item 26086.2316537551\n\\item 41272.257686429\n\\item 4766.57579386311\n\\item <NA>\n\\item 38118.1173594038\n\\item 55661.0569052452\n\\item 3014.3712355832\n\\item 9169.16637926438\n\\item 805.583767225571\n\\item 629.153743907842\n\\item 1155.94975501145\n\\item 17677.1422820504\n\\item 1793.51276956713\n\\item 59342.4837932221\n\\item 929.719296572539\n\\item 758.894515856901\n\\item 15191.5547503185\n\\item 6975.18978266633\n\\item 775.288750475756\n\\item 269.046048713024\n\\item 17193.7461036753\n\\item 143637.985098242\n\\item 13712.3897277746\n\\item 117147.069289818\n\\item 39367.9690486312\n\\item 4656.65852815914\n\\item 471.05689693339\n\\item 286.080501595414\n\\item 8348.94661531099\n\\item 3176.61366423269\n\\item 692.824584094071\n\\item 21186.430219787\n\\item 2506.1219429032\n\\item 1158.3371838059\n\\item 6328.91679592358\n\\item <NA>\n\\item 10277.6873771898\n\\item 2216.24439190573\n\\item 1434.24240432444\n\\item <NA>\n\\item 1641.15980115365\n\\item 6716.95081674551\n\\item <NA>\n\\item 2595.28544467994\n\\item 451.699405951597\n\\item 3690.01240121119\n\\item <NA>\n\\item <NA>\n\\item 442.524705674683\n\\item 54408.9527643547\n\\item <NA>\n\\item 14509.5763203714\n\\item 32206.6312907953\n\\item 1113.69519175978\n\\item 347.701057058253\n\\item 1476.25372506125\n\\item 7160.22889842632\n\\item <NA>\n\\item 7143.98502176806\n\\item 103228.403409992\n\\item 16477.0624487103\n\\item 912.944324371241\n\\item 7886.13194845163\n\\item 6969.25493248869\n\\item 1050.47444695731\n\\item <NA>\n\\item 2338.59445613027\n\\item 4447.15756404474\n\\item 1720.81900002187\n\\item <NA>\n\\item 14744.2037855808\n\\item 23860.8342756262\n\\item 22160.5532079919\n\\item 140288.136711929\n\\item 9628.44683429587\n\\item 12546.303590113\n\\item 384.502202843388\n\\item <NA>\n\\item <NA>\n\\item 13929.3812763201\n\\item 6433.01490637499\n\\item <NA>\n\\item <NA>\n\\item 5708.87601124562\n\\item 2440.93128119347\n\\item 28030.6028228466\n\\item 752.307468062197\n\\item 16303.7607097354\n\\item 1013.74041258651\n\\item 7071.09403701334\n\\item 8905.29973935708\n\\item 306.053381858814\n\\item 33172.0036018999\n\\item 18414.6353517799\n\\item 28424.104997178\n\\item 772.313566023576\n\\item 264.442179056444\n\\item 6124.05213525454\n\\item <NA>\n\\item 41529.917752996\n\\item <NA>\n\\item 1781.96353718074\n\\item 1513.58705407259\n\\item 6200.30045691892\n\\item <NA>\n\\item 2640.77379654831\n\\item 56613.6598418637\n\\item 64777.7155190495\n\\item 2204.82360296127\n\\item 17480.3662537177\n\\item 651.504358670294\n\\item 502.575829021121\n\\item 4128.6443707732\n\\item 432.126912758083\n\\item 499.844099804697\n\\item <NA>\n\\item 2134.03033962514\n\\item 19643.0270099752\n\\item 3983.27767202643\n\\item 10401.5955935669\n\\item 5899.82941263534\n\\item <NA>\n\\item 1207.46787359573\n\\item 464.634086137352\n\\item 4332.56649094608\n\\item 56267.689154778\n\\item 45603.8919902826\n\\item 46645.2946585054\n\\item <NA>\n\\item 8957.2347842909\n\\item 964.282882345136\n\\item 2562.70621776596\n\\item 12373.7438999736\n\\item 1044.98778187591\n\\item <NA>\n\\item <NA>\n\\item <NA>\n\\item 2698.20381128906\n\\item <NA>\n\\item 1156.87575208992\n\\item 1283.85179140738\n\\item 399.205486284158\n\\end{enumerate*}\n",
            "text/plain": [
              "  [1]    382.3274          NA   3714.8440   5011.9685   7042.7257          NA\n",
              "  [7]   7496.5078   7543.6409          NA  13149.2900          NA   8278.4241\n",
              " [13]   4068.0768  21908.5043          NA  50275.9747  52665.6761   6464.6341\n",
              " [19]  22432.0408  27040.9530    532.1341  13271.7709   5978.1109  47569.0433\n",
              " [25]   4491.7327    789.3690          NA   1979.3356   1937.5471   4196.4584\n",
              " [31]   6936.6450          NA   8377.8108          NA  34286.0643  44256.6784\n",
              " [37]   6860.8116    523.4268    284.6000    100.4663    710.6245   1324.2016\n",
              " [43]  46704.4013   4295.9527          NA    462.5968    881.5778  10932.6107\n",
              " [49]   3154.0110          NA          NA          NA   5472.7867    740.2603\n",
              " [55]    188.6668   3326.8466  15433.8669          NA   7141.7204   1153.4133\n",
              " [61]  14244.6367   4818.5188  32118.3824  21269.2951  67193.7693          NA\n",
              " [67]   1885.4579   5023.3966   4734.6885   3751.4322   1905.3266   3100.8106\n",
              " [73]  31826.1685    261.9012  18054.8896    294.2373  38345.5198  33471.3376\n",
              " [79]  34796.1356   4004.3611  53559.0993  46489.2702  21251.9858          NA\n",
              " [85]  10501.6987    436.9303   4279.3836   2877.0700  46374.4835    743.5227\n",
              " [91]  38025.2550  34784.8665  29513.8889   7240.5471          NA   2732.6444\n",
              " [97]  41627.4480    442.8327    288.1424   1468.3451    770.9559          NA\n",
              "[103]          NA   1768.2867  31721.8636  13265.2291  62016.2116   1060.8199\n",
              "[109]   2125.9282   5754.9920   3240.5552  67805.4815  35536.9092  26086.2317\n",
              "[115]  41272.2577   4766.5758          NA  38118.1174  55661.0569   3014.3712\n",
              "[121]   9169.1664    805.5838    629.1537   1155.9498  17677.1423   1793.5128\n",
              "[127]  59342.4838    929.7193    758.8945  15191.5548   6975.1898    775.2888\n",
              "[133]    269.0460  17193.7461 143637.9851  13712.3897 117147.0693  39367.9690\n",
              "[139]   4656.6585    471.0569    286.0805   8348.9466   3176.6137    692.8246\n",
              "[145]  21186.4302   2506.1219   1158.3372   6328.9168          NA  10277.6874\n",
              "[151]   2216.2444   1434.2424          NA   1641.1598   6716.9508          NA\n",
              "[157]   2595.2854    451.6994   3690.0124          NA          NA    442.5247\n",
              "[163]  54408.9528          NA  14509.5763  32206.6313   1113.6952    347.7011\n",
              "[169]   1476.2537   7160.2289          NA   7143.9850 103228.4034  16477.0624\n",
              "[175]    912.9443   7886.1319   6969.2549   1050.4744          NA   2338.5945\n",
              "[181]   4447.1576   1720.8190          NA  14744.2038  23860.8343  22160.5532\n",
              "[187] 140288.1367   9628.4468  12546.3036    384.5022          NA          NA\n",
              "[193]  13929.3813   6433.0149          NA          NA   5708.8760   2440.9313\n",
              "[199]  28030.6028    752.3075  16303.7607   1013.7404   7071.0940   8905.2997\n",
              "[205]    306.0534  33172.0036  18414.6354  28424.1050    772.3136    264.4422\n",
              "[211]   6124.0521          NA  41529.9178          NA   1781.9635   1513.5871\n",
              "[217]   6200.3005          NA   2640.7738  56613.6598  64777.7155   2204.8236\n",
              "[223]  17480.3663    651.5044    502.5758   4128.6444    432.1269    499.8441\n",
              "[229]          NA   2134.0303  19643.0270   3983.2777  10401.5956   5899.8294\n",
              "[235]          NA   1207.4679    464.6341   4332.5665  56267.6892  45603.8920\n",
              "[241]  46645.2947          NA   8957.2348    964.2829   2562.7062  12373.7439\n",
              "[247]   1044.9878          NA          NA          NA   2698.2038          NA\n",
              "[253]   1156.8758   1283.8518    399.2055"
            ]
          },
          "metadata": {}
        }
      ]
    },
    {
      "cell_type": "markdown",
      "source": [
        "We can also drop columns from a data frame, either using `data[,-x]`, `data$var <- NULL` or `data[[x]] <- NULL`."
      ],
      "metadata": {
        "id": "bpt4w5xeJNsy"
      }
    },
    {
      "cell_type": "code",
      "source": [
        "colnames(cia)\n",
        "cia$GDPpercapita <- NULL\n",
        "colnames(cia)"
      ],
      "metadata": {
        "colab": {
          "base_uri": "https://localhost:8080/",
          "height": 34
        },
        "id": "sPekNmxyJmZm",
        "outputId": "56bfceb9-aa88-4f7d-f087-4ef519acf64c"
      },
      "execution_count": null,
      "outputs": [
        {
          "output_type": "display_data",
          "data": {
            "text/html": [
              "<style>\n",
              ".list-inline {list-style: none; margin:0; padding: 0}\n",
              ".list-inline>li {display: inline-block}\n",
              ".list-inline>li:not(:last-child)::after {content: \"\\00b7\"; padding: 0 .5ex}\n",
              "</style>\n",
              "<ol class=list-inline><li>'Country'</li><li>'Continent'</li><li>'Population'</li><li>'Life'</li><li>'GDP'</li><li>'MilitaryExpenditure'</li></ol>\n"
            ],
            "text/markdown": "1. 'Country'\n2. 'Continent'\n3. 'Population'\n4. 'Life'\n5. 'GDP'\n6. 'MilitaryExpenditure'\n\n\n",
            "text/latex": "\\begin{enumerate*}\n\\item 'Country'\n\\item 'Continent'\n\\item 'Population'\n\\item 'Life'\n\\item 'GDP'\n\\item 'MilitaryExpenditure'\n\\end{enumerate*}\n",
            "text/plain": [
              "[1] \"Country\"             \"Continent\"           \"Population\"         \n",
              "[4] \"Life\"                \"GDP\"                 \"MilitaryExpenditure\""
            ]
          },
          "metadata": {}
        }
      ]
    },
    {
      "cell_type": "markdown",
      "source": [
        "We can also subset data frames in a similar way to matrices.\n",
        "\n",
        "We can also subset data by using the `subset()` function"
      ],
      "metadata": {
        "id": "bxcmR4JCJss7"
      }
    },
    {
      "cell_type": "code",
      "source": [
        "cia_asia <- cia[cia$Continent==\"Asia\",]\n",
        "head(cia_asia)\n",
        "\n",
        "cia_asia <- subset(cia, Continent==\"Asia\")\n",
        "head(cia_asia)"
      ],
      "metadata": {
        "colab": {
          "base_uri": "https://localhost:8080/",
          "height": 555
        },
        "id": "7n6AhfwFKCY5",
        "outputId": "147897c3-e7c4-47dd-e8bd-0001c0e89944"
      },
      "execution_count": null,
      "outputs": [
        {
          "output_type": "display_data",
          "data": {
            "text/html": [
              "<table class=\"dataframe\">\n",
              "<caption>A data.frame: 6 × 6</caption>\n",
              "<thead>\n",
              "\t<tr><th></th><th scope=col>Country</th><th scope=col>Continent</th><th scope=col>Population</th><th scope=col>Life</th><th scope=col>GDP</th><th scope=col>MilitaryExpenditure</th></tr>\n",
              "\t<tr><th></th><th scope=col>&lt;fct&gt;</th><th scope=col>&lt;fct&gt;</th><th scope=col>&lt;int&gt;</th><th scope=col>&lt;dbl&gt;</th><th scope=col>&lt;dbl&gt;</th><th scope=col>&lt;dbl&gt;</th></tr>\n",
              "</thead>\n",
              "<tbody>\n",
              "\t<tr><th scope=row>1</th><td>Afghanistan                </td><td>Asia</td><td> 33609937</td><td>44.64</td><td>1.285e+10</td><td> 244150000</td></tr>\n",
              "\t<tr><th scope=row>13</th><td>Armenia                    </td><td>Asia</td><td>  2967004</td><td>72.68</td><td>1.207e+10</td><td> 784550000</td></tr>\n",
              "\t<tr><th scope=row>15</th><td>Ashmore and Cartier Islands</td><td>Asia</td><td>       NA</td><td>   NA</td><td>       NA</td><td>        NA</td></tr>\n",
              "\t<tr><th scope=row>18</th><td>Azerbaijan                 </td><td>Asia</td><td>  8238672</td><td>66.66</td><td>5.326e+10</td><td>1384760000</td></tr>\n",
              "\t<tr><th scope=row>21</th><td>Bangladesh                 </td><td>Asia</td><td>156050883</td><td>60.25</td><td>8.304e+10</td><td>1245600000</td></tr>\n",
              "\t<tr><th scope=row>28</th><td>Bhutan                     </td><td>Asia</td><td>   691141</td><td>66.13</td><td>1.368e+09</td><td>  13680000</td></tr>\n",
              "</tbody>\n",
              "</table>\n"
            ],
            "text/markdown": "\nA data.frame: 6 × 6\n\n| <!--/--> | Country &lt;fct&gt; | Continent &lt;fct&gt; | Population &lt;int&gt; | Life &lt;dbl&gt; | GDP &lt;dbl&gt; | MilitaryExpenditure &lt;dbl&gt; |\n|---|---|---|---|---|---|---|\n| 1 | Afghanistan                 | Asia |  33609937 | 44.64 | 1.285e+10 |  244150000 |\n| 13 | Armenia                     | Asia |   2967004 | 72.68 | 1.207e+10 |  784550000 |\n| 15 | Ashmore and Cartier Islands | Asia |        NA |    NA |        NA |         NA |\n| 18 | Azerbaijan                  | Asia |   8238672 | 66.66 | 5.326e+10 | 1384760000 |\n| 21 | Bangladesh                  | Asia | 156050883 | 60.25 | 8.304e+10 | 1245600000 |\n| 28 | Bhutan                      | Asia |    691141 | 66.13 | 1.368e+09 |   13680000 |\n\n",
            "text/latex": "A data.frame: 6 × 6\n\\begin{tabular}{r|llllll}\n  & Country & Continent & Population & Life & GDP & MilitaryExpenditure\\\\\n  & <fct> & <fct> & <int> & <dbl> & <dbl> & <dbl>\\\\\n\\hline\n\t1 & Afghanistan                 & Asia &  33609937 & 44.64 & 1.285e+10 &  244150000\\\\\n\t13 & Armenia                     & Asia &   2967004 & 72.68 & 1.207e+10 &  784550000\\\\\n\t15 & Ashmore and Cartier Islands & Asia &        NA &    NA &        NA &         NA\\\\\n\t18 & Azerbaijan                  & Asia &   8238672 & 66.66 & 5.326e+10 & 1384760000\\\\\n\t21 & Bangladesh                  & Asia & 156050883 & 60.25 & 8.304e+10 & 1245600000\\\\\n\t28 & Bhutan                      & Asia &    691141 & 66.13 & 1.368e+09 &   13680000\\\\\n\\end{tabular}\n",
            "text/plain": [
              "   Country                     Continent Population Life  GDP      \n",
              "1  Afghanistan                 Asia       33609937  44.64 1.285e+10\n",
              "13 Armenia                     Asia        2967004  72.68 1.207e+10\n",
              "15 Ashmore and Cartier Islands Asia             NA     NA        NA\n",
              "18 Azerbaijan                  Asia        8238672  66.66 5.326e+10\n",
              "21 Bangladesh                  Asia      156050883  60.25 8.304e+10\n",
              "28 Bhutan                      Asia         691141  66.13 1.368e+09\n",
              "   MilitaryExpenditure\n",
              "1   244150000         \n",
              "13  784550000         \n",
              "15         NA         \n",
              "18 1384760000         \n",
              "21 1245600000         \n",
              "28   13680000         "
            ]
          },
          "metadata": {}
        },
        {
          "output_type": "display_data",
          "data": {
            "text/html": [
              "<table class=\"dataframe\">\n",
              "<caption>A data.frame: 6 × 6</caption>\n",
              "<thead>\n",
              "\t<tr><th></th><th scope=col>Country</th><th scope=col>Continent</th><th scope=col>Population</th><th scope=col>Life</th><th scope=col>GDP</th><th scope=col>MilitaryExpenditure</th></tr>\n",
              "\t<tr><th></th><th scope=col>&lt;fct&gt;</th><th scope=col>&lt;fct&gt;</th><th scope=col>&lt;int&gt;</th><th scope=col>&lt;dbl&gt;</th><th scope=col>&lt;dbl&gt;</th><th scope=col>&lt;dbl&gt;</th></tr>\n",
              "</thead>\n",
              "<tbody>\n",
              "\t<tr><th scope=row>1</th><td>Afghanistan                </td><td>Asia</td><td> 33609937</td><td>44.64</td><td>1.285e+10</td><td> 244150000</td></tr>\n",
              "\t<tr><th scope=row>13</th><td>Armenia                    </td><td>Asia</td><td>  2967004</td><td>72.68</td><td>1.207e+10</td><td> 784550000</td></tr>\n",
              "\t<tr><th scope=row>15</th><td>Ashmore and Cartier Islands</td><td>Asia</td><td>       NA</td><td>   NA</td><td>       NA</td><td>        NA</td></tr>\n",
              "\t<tr><th scope=row>18</th><td>Azerbaijan                 </td><td>Asia</td><td>  8238672</td><td>66.66</td><td>5.326e+10</td><td>1384760000</td></tr>\n",
              "\t<tr><th scope=row>21</th><td>Bangladesh                 </td><td>Asia</td><td>156050883</td><td>60.25</td><td>8.304e+10</td><td>1245600000</td></tr>\n",
              "\t<tr><th scope=row>28</th><td>Bhutan                     </td><td>Asia</td><td>   691141</td><td>66.13</td><td>1.368e+09</td><td>  13680000</td></tr>\n",
              "</tbody>\n",
              "</table>\n"
            ],
            "text/markdown": "\nA data.frame: 6 × 6\n\n| <!--/--> | Country &lt;fct&gt; | Continent &lt;fct&gt; | Population &lt;int&gt; | Life &lt;dbl&gt; | GDP &lt;dbl&gt; | MilitaryExpenditure &lt;dbl&gt; |\n|---|---|---|---|---|---|---|\n| 1 | Afghanistan                 | Asia |  33609937 | 44.64 | 1.285e+10 |  244150000 |\n| 13 | Armenia                     | Asia |   2967004 | 72.68 | 1.207e+10 |  784550000 |\n| 15 | Ashmore and Cartier Islands | Asia |        NA |    NA |        NA |         NA |\n| 18 | Azerbaijan                  | Asia |   8238672 | 66.66 | 5.326e+10 | 1384760000 |\n| 21 | Bangladesh                  | Asia | 156050883 | 60.25 | 8.304e+10 | 1245600000 |\n| 28 | Bhutan                      | Asia |    691141 | 66.13 | 1.368e+09 |   13680000 |\n\n",
            "text/latex": "A data.frame: 6 × 6\n\\begin{tabular}{r|llllll}\n  & Country & Continent & Population & Life & GDP & MilitaryExpenditure\\\\\n  & <fct> & <fct> & <int> & <dbl> & <dbl> & <dbl>\\\\\n\\hline\n\t1 & Afghanistan                 & Asia &  33609937 & 44.64 & 1.285e+10 &  244150000\\\\\n\t13 & Armenia                     & Asia &   2967004 & 72.68 & 1.207e+10 &  784550000\\\\\n\t15 & Ashmore and Cartier Islands & Asia &        NA &    NA &        NA &         NA\\\\\n\t18 & Azerbaijan                  & Asia &   8238672 & 66.66 & 5.326e+10 & 1384760000\\\\\n\t21 & Bangladesh                  & Asia & 156050883 & 60.25 & 8.304e+10 & 1245600000\\\\\n\t28 & Bhutan                      & Asia &    691141 & 66.13 & 1.368e+09 &   13680000\\\\\n\\end{tabular}\n",
            "text/plain": [
              "   Country                     Continent Population Life  GDP      \n",
              "1  Afghanistan                 Asia       33609937  44.64 1.285e+10\n",
              "13 Armenia                     Asia        2967004  72.68 1.207e+10\n",
              "15 Ashmore and Cartier Islands Asia             NA     NA        NA\n",
              "18 Azerbaijan                  Asia        8238672  66.66 5.326e+10\n",
              "21 Bangladesh                  Asia      156050883  60.25 8.304e+10\n",
              "28 Bhutan                      Asia         691141  66.13 1.368e+09\n",
              "   MilitaryExpenditure\n",
              "1   244150000         \n",
              "13  784550000         \n",
              "15         NA         \n",
              "18 1384760000         \n",
              "21 1245600000         \n",
              "28   13680000         "
            ]
          },
          "metadata": {}
        }
      ]
    },
    {
      "cell_type": "markdown",
      "source": [
        "We can also change the order of data sets by using the `order` function"
      ],
      "metadata": {
        "id": "s53OU5sSKptJ"
      }
    },
    {
      "cell_type": "code",
      "source": [
        "permut <- order(cia$GDP)\n",
        "cia <- cia[permut,]\n",
        "head(cia)"
      ],
      "metadata": {
        "colab": {
          "base_uri": "https://localhost:8080/",
          "height": 286
        },
        "id": "H-DEX1OjKxdd",
        "outputId": "8de7ec8a-19b6-4d61-d4c6-684a146b6e13"
      },
      "execution_count": null,
      "outputs": [
        {
          "output_type": "display_data",
          "data": {
            "text/html": [
              "<table class=\"dataframe\">\n",
              "<caption>A data.frame: 6 × 6</caption>\n",
              "<thead>\n",
              "\t<tr><th></th><th scope=col>Country</th><th scope=col>Continent</th><th scope=col>Population</th><th scope=col>Life</th><th scope=col>GDP</th><th scope=col>MilitaryExpenditure</th></tr>\n",
              "\t<tr><th></th><th scope=col>&lt;fct&gt;</th><th scope=col>&lt;fct&gt;</th><th scope=col>&lt;int&gt;</th><th scope=col>&lt;dbl&gt;</th><th scope=col>&lt;dbl&gt;</th><th scope=col>&lt;dbl&gt;</th></tr>\n",
              "</thead>\n",
              "<tbody>\n",
              "\t<tr><th scope=row>170</th><td>Niue                             </td><td>Other                </td><td>  1398</td><td>   NA</td><td> 10010000</td><td>     NA</td></tr>\n",
              "\t<tr><th scope=row>236</th><td>Tuvalu                           </td><td>Other                </td><td> 12373</td><td>69.29</td><td> 14940000</td><td>     NA</td></tr>\n",
              "\t<tr><th scope=row>123</th><td>Kiribati                         </td><td>Other                </td><td>112850</td><td>63.22</td><td> 71000000</td><td>     NA</td></tr>\n",
              "\t<tr><th scope=row>78</th><td>Falkland Islands (Islas Malvinas)</td><td>Central/South America</td><td>  3140</td><td>   NA</td><td>105100000</td><td>     NA</td></tr>\n",
              "\t<tr><th scope=row>8</th><td>Anguilla                         </td><td>Central/South America</td><td> 14436</td><td>80.65</td><td>108900000</td><td>     NA</td></tr>\n",
              "\t<tr><th scope=row>200</th><td>Sao Tome and Principe            </td><td>Africa               </td><td>212679</td><td>68.32</td><td>160000000</td><td>1280000</td></tr>\n",
              "</tbody>\n",
              "</table>\n"
            ],
            "text/markdown": "\nA data.frame: 6 × 6\n\n| <!--/--> | Country &lt;fct&gt; | Continent &lt;fct&gt; | Population &lt;int&gt; | Life &lt;dbl&gt; | GDP &lt;dbl&gt; | MilitaryExpenditure &lt;dbl&gt; |\n|---|---|---|---|---|---|---|\n| 170 | Niue                              | Other                 |   1398 |    NA |  10010000 |      NA |\n| 236 | Tuvalu                            | Other                 |  12373 | 69.29 |  14940000 |      NA |\n| 123 | Kiribati                          | Other                 | 112850 | 63.22 |  71000000 |      NA |\n| 78 | Falkland Islands (Islas Malvinas) | Central/South America |   3140 |    NA | 105100000 |      NA |\n| 8 | Anguilla                          | Central/South America |  14436 | 80.65 | 108900000 |      NA |\n| 200 | Sao Tome and Principe             | Africa                | 212679 | 68.32 | 160000000 | 1280000 |\n\n",
            "text/latex": "A data.frame: 6 × 6\n\\begin{tabular}{r|llllll}\n  & Country & Continent & Population & Life & GDP & MilitaryExpenditure\\\\\n  & <fct> & <fct> & <int> & <dbl> & <dbl> & <dbl>\\\\\n\\hline\n\t170 & Niue                              & Other                 &   1398 &    NA &  10010000 &      NA\\\\\n\t236 & Tuvalu                            & Other                 &  12373 & 69.29 &  14940000 &      NA\\\\\n\t123 & Kiribati                          & Other                 & 112850 & 63.22 &  71000000 &      NA\\\\\n\t78 & Falkland Islands (Islas Malvinas) & Central/South America &   3140 &    NA & 105100000 &      NA\\\\\n\t8 & Anguilla                          & Central/South America &  14436 & 80.65 & 108900000 &      NA\\\\\n\t200 & Sao Tome and Principe             & Africa                & 212679 & 68.32 & 160000000 & 1280000\\\\\n\\end{tabular}\n",
            "text/plain": [
              "    Country                           Continent             Population Life \n",
              "170 Niue                              Other                   1398        NA\n",
              "236 Tuvalu                            Other                  12373     69.29\n",
              "123 Kiribati                          Other                 112850     63.22\n",
              "78  Falkland Islands (Islas Malvinas) Central/South America   3140        NA\n",
              "8   Anguilla                          Central/South America  14436     80.65\n",
              "200 Sao Tome and Principe             Africa                212679     68.32\n",
              "    GDP       MilitaryExpenditure\n",
              "170  10010000      NA            \n",
              "236  14940000      NA            \n",
              "123  71000000      NA            \n",
              "78  105100000      NA            \n",
              "8   108900000      NA            \n",
              "200 160000000 1280000            "
            ]
          },
          "metadata": {}
        }
      ]
    },
    {
      "cell_type": "markdown",
      "source": [
        "# Merging data sets\n",
        "\n",
        "Quite often, studies split data sets across multiple data frames. For analysis, it is often a lot easier to combine these data into one data frame for modelling purposes. (Next week, we will look at more powerful functions in `dplyr` for merging data).\n",
        "\n",
        "We can merge multiple data sets in R by using the `merge()` function.\n",
        "\n",
        "When merging, it is best practice to specify which columns we wish to merge by, using the `by` argument.\n",
        "\n",
        "If the columns in both data frames have different names, you can specify these by using the `by.x` and `by.y` arguments."
      ],
      "metadata": {
        "id": "-omKU0RVK6U6"
      }
    },
    {
      "cell_type": "code",
      "source": [
        "# We shall use the data from Task 3 in the notes - patients and weights\n",
        "load(url(paste(\"https://github.com/UofGAnalyticsData/R/blob/\",\n",
        "\"main/Week%203/patients_weights.RData?raw=true\",sep=\"\")))\n",
        "\n",
        "head(patients)\n",
        "head(weights)\n",
        "\n",
        "# Can see we have a matching column in PatientID\n",
        "\n",
        "weights.patients <- merge(patients, weights, by=\"PatientID\")\n",
        "head(weights.patients)"
      ],
      "metadata": {
        "colab": {
          "base_uri": "https://localhost:8080/",
          "height": 793
        },
        "id": "0wqPv1LYLhKb",
        "outputId": "9c4d1506-3ac4-4f91-9252-d32e9dd8ff19"
      },
      "execution_count": null,
      "outputs": [
        {
          "output_type": "display_data",
          "data": {
            "text/html": [
              "<table class=\"dataframe\">\n",
              "<caption>A data.frame: 5 × 4</caption>\n",
              "<thead>\n",
              "\t<tr><th></th><th scope=col>PatientID</th><th scope=col>Gender</th><th scope=col>Age</th><th scope=col>Smoke</th></tr>\n",
              "\t<tr><th></th><th scope=col>&lt;int&gt;</th><th scope=col>&lt;fct&gt;</th><th scope=col>&lt;int&gt;</th><th scope=col>&lt;fct&gt;</th></tr>\n",
              "</thead>\n",
              "<tbody>\n",
              "\t<tr><th scope=row>1</th><td>1</td><td>male  </td><td>33</td><td>no     </td></tr>\n",
              "\t<tr><th scope=row>2</th><td>2</td><td>female</td><td>32</td><td>no     </td></tr>\n",
              "\t<tr><th scope=row>3</th><td>3</td><td>male  </td><td>67</td><td>ex     </td></tr>\n",
              "\t<tr><th scope=row>4</th><td>4</td><td>male  </td><td>36</td><td>current</td></tr>\n",
              "\t<tr><th scope=row>5</th><td>5</td><td>female</td><td>47</td><td>current</td></tr>\n",
              "</tbody>\n",
              "</table>\n"
            ],
            "text/markdown": "\nA data.frame: 5 × 4\n\n| <!--/--> | PatientID &lt;int&gt; | Gender &lt;fct&gt; | Age &lt;int&gt; | Smoke &lt;fct&gt; |\n|---|---|---|---|---|\n| 1 | 1 | male   | 33 | no      |\n| 2 | 2 | female | 32 | no      |\n| 3 | 3 | male   | 67 | ex      |\n| 4 | 4 | male   | 36 | current |\n| 5 | 5 | female | 47 | current |\n\n",
            "text/latex": "A data.frame: 5 × 4\n\\begin{tabular}{r|llll}\n  & PatientID & Gender & Age & Smoke\\\\\n  & <int> & <fct> & <int> & <fct>\\\\\n\\hline\n\t1 & 1 & male   & 33 & no     \\\\\n\t2 & 2 & female & 32 & no     \\\\\n\t3 & 3 & male   & 67 & ex     \\\\\n\t4 & 4 & male   & 36 & current\\\\\n\t5 & 5 & female & 47 & current\\\\\n\\end{tabular}\n",
            "text/plain": [
              "  PatientID Gender Age Smoke  \n",
              "1 1         male   33  no     \n",
              "2 2         female 32  no     \n",
              "3 3         male   67  ex     \n",
              "4 4         male   36  current\n",
              "5 5         female 47  current"
            ]
          },
          "metadata": {}
        },
        {
          "output_type": "display_data",
          "data": {
            "text/html": [
              "<table class=\"dataframe\">\n",
              "<caption>A data.frame: 6 × 3</caption>\n",
              "<thead>\n",
              "\t<tr><th></th><th scope=col>PatientID</th><th scope=col>Week</th><th scope=col>Weight</th></tr>\n",
              "\t<tr><th></th><th scope=col>&lt;int&gt;</th><th scope=col>&lt;int&gt;</th><th scope=col>&lt;int&gt;</th></tr>\n",
              "</thead>\n",
              "<tbody>\n",
              "\t<tr><th scope=row>1</th><td>1</td><td>1</td><td>72</td></tr>\n",
              "\t<tr><th scope=row>2</th><td>1</td><td>2</td><td>74</td></tr>\n",
              "\t<tr><th scope=row>3</th><td>1</td><td>3</td><td>71</td></tr>\n",
              "\t<tr><th scope=row>4</th><td>2</td><td>1</td><td>54</td></tr>\n",
              "\t<tr><th scope=row>5</th><td>2</td><td>3</td><td>54</td></tr>\n",
              "\t<tr><th scope=row>6</th><td>3</td><td>1</td><td>96</td></tr>\n",
              "</tbody>\n",
              "</table>\n"
            ],
            "text/markdown": "\nA data.frame: 6 × 3\n\n| <!--/--> | PatientID &lt;int&gt; | Week &lt;int&gt; | Weight &lt;int&gt; |\n|---|---|---|---|\n| 1 | 1 | 1 | 72 |\n| 2 | 1 | 2 | 74 |\n| 3 | 1 | 3 | 71 |\n| 4 | 2 | 1 | 54 |\n| 5 | 2 | 3 | 54 |\n| 6 | 3 | 1 | 96 |\n\n",
            "text/latex": "A data.frame: 6 × 3\n\\begin{tabular}{r|lll}\n  & PatientID & Week & Weight\\\\\n  & <int> & <int> & <int>\\\\\n\\hline\n\t1 & 1 & 1 & 72\\\\\n\t2 & 1 & 2 & 74\\\\\n\t3 & 1 & 3 & 71\\\\\n\t4 & 2 & 1 & 54\\\\\n\t5 & 2 & 3 & 54\\\\\n\t6 & 3 & 1 & 96\\\\\n\\end{tabular}\n",
            "text/plain": [
              "  PatientID Week Weight\n",
              "1 1         1    72    \n",
              "2 1         2    74    \n",
              "3 1         3    71    \n",
              "4 2         1    54    \n",
              "5 2         3    54    \n",
              "6 3         1    96    "
            ]
          },
          "metadata": {}
        },
        {
          "output_type": "display_data",
          "data": {
            "text/html": [
              "<table class=\"dataframe\">\n",
              "<caption>A data.frame: 6 × 6</caption>\n",
              "<thead>\n",
              "\t<tr><th></th><th scope=col>PatientID</th><th scope=col>Gender</th><th scope=col>Age</th><th scope=col>Smoke</th><th scope=col>Week</th><th scope=col>Weight</th></tr>\n",
              "\t<tr><th></th><th scope=col>&lt;int&gt;</th><th scope=col>&lt;fct&gt;</th><th scope=col>&lt;int&gt;</th><th scope=col>&lt;fct&gt;</th><th scope=col>&lt;int&gt;</th><th scope=col>&lt;int&gt;</th></tr>\n",
              "</thead>\n",
              "<tbody>\n",
              "\t<tr><th scope=row>1</th><td>1</td><td>male  </td><td>33</td><td>no</td><td>1</td><td>72</td></tr>\n",
              "\t<tr><th scope=row>2</th><td>1</td><td>male  </td><td>33</td><td>no</td><td>2</td><td>74</td></tr>\n",
              "\t<tr><th scope=row>3</th><td>1</td><td>male  </td><td>33</td><td>no</td><td>3</td><td>71</td></tr>\n",
              "\t<tr><th scope=row>4</th><td>2</td><td>female</td><td>32</td><td>no</td><td>1</td><td>54</td></tr>\n",
              "\t<tr><th scope=row>5</th><td>2</td><td>female</td><td>32</td><td>no</td><td>3</td><td>54</td></tr>\n",
              "\t<tr><th scope=row>6</th><td>3</td><td>male  </td><td>67</td><td>ex</td><td>1</td><td>96</td></tr>\n",
              "</tbody>\n",
              "</table>\n"
            ],
            "text/markdown": "\nA data.frame: 6 × 6\n\n| <!--/--> | PatientID &lt;int&gt; | Gender &lt;fct&gt; | Age &lt;int&gt; | Smoke &lt;fct&gt; | Week &lt;int&gt; | Weight &lt;int&gt; |\n|---|---|---|---|---|---|---|\n| 1 | 1 | male   | 33 | no | 1 | 72 |\n| 2 | 1 | male   | 33 | no | 2 | 74 |\n| 3 | 1 | male   | 33 | no | 3 | 71 |\n| 4 | 2 | female | 32 | no | 1 | 54 |\n| 5 | 2 | female | 32 | no | 3 | 54 |\n| 6 | 3 | male   | 67 | ex | 1 | 96 |\n\n",
            "text/latex": "A data.frame: 6 × 6\n\\begin{tabular}{r|llllll}\n  & PatientID & Gender & Age & Smoke & Week & Weight\\\\\n  & <int> & <fct> & <int> & <fct> & <int> & <int>\\\\\n\\hline\n\t1 & 1 & male   & 33 & no & 1 & 72\\\\\n\t2 & 1 & male   & 33 & no & 2 & 74\\\\\n\t3 & 1 & male   & 33 & no & 3 & 71\\\\\n\t4 & 2 & female & 32 & no & 1 & 54\\\\\n\t5 & 2 & female & 32 & no & 3 & 54\\\\\n\t6 & 3 & male   & 67 & ex & 1 & 96\\\\\n\\end{tabular}\n",
            "text/plain": [
              "  PatientID Gender Age Smoke Week Weight\n",
              "1 1         male   33  no    1    72    \n",
              "2 1         male   33  no    2    74    \n",
              "3 1         male   33  no    3    71    \n",
              "4 2         female 32  no    1    54    \n",
              "5 2         female 32  no    3    54    \n",
              "6 3         male   67  ex    1    96    "
            ]
          },
          "metadata": {}
        }
      ]
    },
    {
      "cell_type": "markdown",
      "source": [
        "# Importing and Exporting Data\n",
        "\n",
        "**When reading and saving files into R, be sure to set the correct working directory first! (*Session > Set Working Directory > Choose directory...*)**\n",
        "\n",
        "R has its own internal binary format called `RData`. To save any object(s) in this format, we can use the `save()` function.\n",
        "\n",
        "If you want to save all objects in your workspace, you can use `save.image()`.\n",
        "\n",
        "`RData` files can be loaded in by using the `load()` function."
      ],
      "metadata": {
        "id": "aHtjCjtINIf9"
      }
    },
    {
      "cell_type": "code",
      "source": [
        "save(data.file, file=\"MyFile.RData\")\n",
        "load(\"MyFile.RData\")"
      ],
      "metadata": {
        "id": "OzL-mk0kOKph"
      },
      "execution_count": null,
      "outputs": []
    },
    {
      "cell_type": "markdown",
      "source": [
        "Most data you will come across is stored in a tabular format, such as a spreadsheet. The most common functions you will use to read in these types of data is `read.table()` and `read.csv()`.\n",
        "\n",
        "Before reading a file into R first, it is always good practice to inspect the file first to determine its structure. Things to look for are:\n",
        "\n",
        "\n",
        "\n",
        "*   Are there column names?\n",
        "*   How are entries separated? (the delimiter - is it , -  )\n",
        "*   How are missing values stored? (NA, - , NULL,  )\n",
        "\n"
      ],
      "metadata": {
        "id": "g1jnelLqOTmw"
      }
    },
    {
      "cell_type": "code",
      "source": [
        "#https://github.com/UofGAnalyticsData/R/raw/main/Week%203/cars.csv\n",
        "\n",
        "cars <- read.csv(\"https://github.com/UofGAnalyticsData/R/raw/main/Week%203/cars.csv\", na.strings=\"*\")\n",
        "head(cars)\n",
        "\n",
        "cars <- read.table(\"https://github.com/UofGAnalyticsData/R/raw/main/Week%203/cars.csv\", sep= \",\", header=TRUE,  na.strings=\"*\")\n",
        "head(cars)"
      ],
      "metadata": {
        "colab": {
          "base_uri": "https://localhost:8080/",
          "height": 555
        },
        "id": "3ZyVriV8O092",
        "outputId": "9e05f037-abca-4f51-8d37-f75234b77776"
      },
      "execution_count": null,
      "outputs": [
        {
          "output_type": "display_data",
          "data": {
            "text/html": [
              "<table class=\"dataframe\">\n",
              "<caption>A data.frame: 6 × 5</caption>\n",
              "<thead>\n",
              "\t<tr><th></th><th scope=col>Manufacturer</th><th scope=col>Model</th><th scope=col>MPG</th><th scope=col>Displacement</th><th scope=col>Horsepower</th></tr>\n",
              "\t<tr><th></th><th scope=col>&lt;chr&gt;</th><th scope=col>&lt;chr&gt;</th><th scope=col>&lt;int&gt;</th><th scope=col>&lt;dbl&gt;</th><th scope=col>&lt;int&gt;</th></tr>\n",
              "</thead>\n",
              "<tbody>\n",
              "\t<tr><th scope=row>1</th><td>Chevrolet </td><td>Camaro </td><td>19</td><td>3.4</td><td>160</td></tr>\n",
              "\t<tr><th scope=row>2</th><td>Oldsmobile</td><td>Achieva</td><td>NA</td><td>2.3</td><td>155</td></tr>\n",
              "\t<tr><th scope=row>3</th><td>Dodge     </td><td>Spirit </td><td>22</td><td>2.5</td><td>100</td></tr>\n",
              "\t<tr><th scope=row>4</th><td>Chevrolet </td><td>Astro  </td><td>NA</td><td>4.3</td><td>165</td></tr>\n",
              "\t<tr><th scope=row>5</th><td>Chevrolet </td><td>Corsica</td><td>25</td><td>2.2</td><td>110</td></tr>\n",
              "\t<tr><th scope=row>6</th><td>Volkswagen</td><td>Corrado</td><td>18</td><td>2.8</td><td>178</td></tr>\n",
              "</tbody>\n",
              "</table>\n"
            ],
            "text/markdown": "\nA data.frame: 6 × 5\n\n| <!--/--> | Manufacturer &lt;chr&gt; | Model &lt;chr&gt; | MPG &lt;int&gt; | Displacement &lt;dbl&gt; | Horsepower &lt;int&gt; |\n|---|---|---|---|---|---|\n| 1 | Chevrolet  | Camaro  | 19 | 3.4 | 160 |\n| 2 | Oldsmobile | Achieva | NA | 2.3 | 155 |\n| 3 | Dodge      | Spirit  | 22 | 2.5 | 100 |\n| 4 | Chevrolet  | Astro   | NA | 4.3 | 165 |\n| 5 | Chevrolet  | Corsica | 25 | 2.2 | 110 |\n| 6 | Volkswagen | Corrado | 18 | 2.8 | 178 |\n\n",
            "text/latex": "A data.frame: 6 × 5\n\\begin{tabular}{r|lllll}\n  & Manufacturer & Model & MPG & Displacement & Horsepower\\\\\n  & <chr> & <chr> & <int> & <dbl> & <int>\\\\\n\\hline\n\t1 & Chevrolet  & Camaro  & 19 & 3.4 & 160\\\\\n\t2 & Oldsmobile & Achieva & NA & 2.3 & 155\\\\\n\t3 & Dodge      & Spirit  & 22 & 2.5 & 100\\\\\n\t4 & Chevrolet  & Astro   & NA & 4.3 & 165\\\\\n\t5 & Chevrolet  & Corsica & 25 & 2.2 & 110\\\\\n\t6 & Volkswagen & Corrado & 18 & 2.8 & 178\\\\\n\\end{tabular}\n",
            "text/plain": [
              "  Manufacturer Model   MPG Displacement Horsepower\n",
              "1 Chevrolet    Camaro  19  3.4          160       \n",
              "2 Oldsmobile   Achieva NA  2.3          155       \n",
              "3 Dodge        Spirit  22  2.5          100       \n",
              "4 Chevrolet    Astro   NA  4.3          165       \n",
              "5 Chevrolet    Corsica 25  2.2          110       \n",
              "6 Volkswagen   Corrado 18  2.8          178       "
            ]
          },
          "metadata": {}
        },
        {
          "output_type": "display_data",
          "data": {
            "text/html": [
              "<table class=\"dataframe\">\n",
              "<caption>A data.frame: 6 × 5</caption>\n",
              "<thead>\n",
              "\t<tr><th></th><th scope=col>Manufacturer</th><th scope=col>Model</th><th scope=col>MPG</th><th scope=col>Displacement</th><th scope=col>Horsepower</th></tr>\n",
              "\t<tr><th></th><th scope=col>&lt;chr&gt;</th><th scope=col>&lt;chr&gt;</th><th scope=col>&lt;int&gt;</th><th scope=col>&lt;dbl&gt;</th><th scope=col>&lt;int&gt;</th></tr>\n",
              "</thead>\n",
              "<tbody>\n",
              "\t<tr><th scope=row>1</th><td>Chevrolet </td><td>Camaro </td><td>19</td><td>3.4</td><td>160</td></tr>\n",
              "\t<tr><th scope=row>2</th><td>Oldsmobile</td><td>Achieva</td><td>NA</td><td>2.3</td><td>155</td></tr>\n",
              "\t<tr><th scope=row>3</th><td>Dodge     </td><td>Spirit </td><td>22</td><td>2.5</td><td>100</td></tr>\n",
              "\t<tr><th scope=row>4</th><td>Chevrolet </td><td>Astro  </td><td>NA</td><td>4.3</td><td>165</td></tr>\n",
              "\t<tr><th scope=row>5</th><td>Chevrolet </td><td>Corsica</td><td>25</td><td>2.2</td><td>110</td></tr>\n",
              "\t<tr><th scope=row>6</th><td>Volkswagen</td><td>Corrado</td><td>18</td><td>2.8</td><td>178</td></tr>\n",
              "</tbody>\n",
              "</table>\n"
            ],
            "text/markdown": "\nA data.frame: 6 × 5\n\n| <!--/--> | Manufacturer &lt;chr&gt; | Model &lt;chr&gt; | MPG &lt;int&gt; | Displacement &lt;dbl&gt; | Horsepower &lt;int&gt; |\n|---|---|---|---|---|---|\n| 1 | Chevrolet  | Camaro  | 19 | 3.4 | 160 |\n| 2 | Oldsmobile | Achieva | NA | 2.3 | 155 |\n| 3 | Dodge      | Spirit  | 22 | 2.5 | 100 |\n| 4 | Chevrolet  | Astro   | NA | 4.3 | 165 |\n| 5 | Chevrolet  | Corsica | 25 | 2.2 | 110 |\n| 6 | Volkswagen | Corrado | 18 | 2.8 | 178 |\n\n",
            "text/latex": "A data.frame: 6 × 5\n\\begin{tabular}{r|lllll}\n  & Manufacturer & Model & MPG & Displacement & Horsepower\\\\\n  & <chr> & <chr> & <int> & <dbl> & <int>\\\\\n\\hline\n\t1 & Chevrolet  & Camaro  & 19 & 3.4 & 160\\\\\n\t2 & Oldsmobile & Achieva & NA & 2.3 & 155\\\\\n\t3 & Dodge      & Spirit  & 22 & 2.5 & 100\\\\\n\t4 & Chevrolet  & Astro   & NA & 4.3 & 165\\\\\n\t5 & Chevrolet  & Corsica & 25 & 2.2 & 110\\\\\n\t6 & Volkswagen & Corrado & 18 & 2.8 & 178\\\\\n\\end{tabular}\n",
            "text/plain": [
              "  Manufacturer Model   MPG Displacement Horsepower\n",
              "1 Chevrolet    Camaro  19  3.4          160       \n",
              "2 Oldsmobile   Achieva NA  2.3          155       \n",
              "3 Dodge        Spirit  22  2.5          100       \n",
              "4 Chevrolet    Astro   NA  4.3          165       \n",
              "5 Chevrolet    Corsica 25  2.2          110       \n",
              "6 Volkswagen   Corrado 18  2.8          178       "
            ]
          },
          "metadata": {}
        }
      ]
    },
    {
      "cell_type": "markdown",
      "source": [
        "We can also export any data we have manipulated or created in R using the `write.table()` or `write.csv()` functions."
      ],
      "metadata": {
        "id": "xixMxyMNPsCa"
      }
    },
    {
      "cell_type": "code",
      "source": [
        "write.csv(cars, \"cars.csv\", row.names=FALSE)"
      ],
      "metadata": {
        "id": "I1jCZFedP1H2"
      },
      "execution_count": null,
      "outputs": []
    },
    {
      "cell_type": "markdown",
      "source": [
        "# Other data types in R\n",
        "\n",
        "Many other file formats can be read into R (too many to list them all!). Some of the most popular types though are `.xml`, SAS XPORT data, and SPSS files.\n",
        "\n",
        "We can also import SQL databases directly into R using the `DBI` and `RSQLite` libraries.\n",
        "\n",
        "JSON data can also be read into R using the `jsonlite` package. R can also interact with public API services easily using this format."
      ],
      "metadata": {
        "id": "c4fK7jl_P_fK"
      }
    },
    {
      "cell_type": "markdown",
      "metadata": {
        "id": "d6GS8TQjYlXw"
      },
      "source": [
        "# Live session Task\n",
        "\n",
        "**Task**\n",
        "\n",
        "In this task you will use the data frame houseprices which you can download using"
      ]
    },
    {
      "cell_type": "code",
      "metadata": {
        "id": "gKhbsfgA-W9D"
      },
      "source": [
        "load(url(paste(\"https://github.com/UofGAnalyticsData/R/raw\",\n",
        "\"/main/Week%203/houseprices.RData\",sep=\"\")))"
      ],
      "execution_count": null,
      "outputs": []
    },
    {
      "cell_type": "markdown",
      "metadata": {
        "id": "MfLeuENzY36D"
      },
      "source": [
        "The data frame houseprices contails data on property sales in and around Glasgow between July 1st and December 31st 2014. It contains the following columns\n",
        "\n",
        "\n",
        "\n",
        "*   Day - Day of the month of the transaction\n",
        "*   Month - Month of the transaction (integer)\n",
        "*   Address - Address of the property\n",
        "*   Lon - Longitude of the property (degrees)\n",
        "*   Lat - Latitude of the property (degrees)\n",
        "*   Price - Price of the property\n",
        "\n",
        "Provide the R code which can be used to answer the following questions\n",
        "\n",
        "What was the average house price in October 2014?\n",
        "\n",
        "\n",
        "\n",
        "\n",
        "\n"
      ]
    },
    {
      "cell_type": "code",
      "metadata": {
        "id": "y0lnOYO8ZG98",
        "colab": {
          "base_uri": "https://localhost:8080/",
          "height": 34
        },
        "outputId": "302f2b07-e516-4a87-9561-318c1f822e50"
      },
      "source": [
        "mean(subset(houseprices, Month==10)$Price)"
      ],
      "execution_count": null,
      "outputs": [
        {
          "output_type": "display_data",
          "data": {
            "text/html": [
              "135896.909097121"
            ],
            "text/markdown": "135896.909097121",
            "text/latex": "135896.909097121",
            "text/plain": [
              "[1] 135896.9"
            ]
          },
          "metadata": {}
        }
      ]
    },
    {
      "cell_type": "markdown",
      "metadata": {
        "id": "Ynq2NM27Z1LS"
      },
      "source": [
        "How many transactions occurred between November 15th and December 15th"
      ]
    },
    {
      "cell_type": "code",
      "metadata": {
        "id": "OzLixdALZ7IW",
        "colab": {
          "base_uri": "https://localhost:8080/",
          "height": 34
        },
        "outputId": "7bea8e1c-aeb3-4de3-ef5d-134d2a604dd3"
      },
      "source": [
        "nrow(subset(houseprices, (Month==11 & Day>=15)|(Month==12 & Day<=15)))"
      ],
      "execution_count": null,
      "outputs": [
        {
          "output_type": "display_data",
          "data": {
            "text/html": [
              "1945"
            ],
            "text/markdown": "1945",
            "text/latex": "1945",
            "text/plain": [
              "[1] 1945"
            ]
          },
          "metadata": {}
        }
      ]
    },
    {
      "cell_type": "markdown",
      "metadata": {
        "id": "VtC0VYuMZ7mF"
      },
      "source": [
        "Which house sold for the lowest and which sold for the highest price?"
      ]
    },
    {
      "cell_type": "code",
      "metadata": {
        "id": "USTBkKdLaAI8",
        "colab": {
          "base_uri": "https://localhost:8080/",
          "height": 242
        },
        "outputId": "232b5647-664d-4b80-9dde-8f8b400f7fa7"
      },
      "source": [
        "houseprices[which.min(houseprices$Price),]\n",
        "houseprices[which.max(houseprices$Price),]"
      ],
      "execution_count": null,
      "outputs": [
        {
          "output_type": "display_data",
          "data": {
            "text/html": [
              "<table class=\"dataframe\">\n",
              "<caption>A data.frame: 1 × 6</caption>\n",
              "<thead>\n",
              "\t<tr><th></th><th scope=col>Day</th><th scope=col>Month</th><th scope=col>Address</th><th scope=col>Lon</th><th scope=col>Lat</th><th scope=col>Price</th></tr>\n",
              "\t<tr><th></th><th scope=col>&lt;int&gt;</th><th scope=col>&lt;int&gt;</th><th scope=col>&lt;fct&gt;</th><th scope=col>&lt;dbl&gt;</th><th scope=col>&lt;dbl&gt;</th><th scope=col>&lt;dbl&gt;</th></tr>\n",
              "</thead>\n",
              "<tbody>\n",
              "\t<tr><th scope=row>727</th><td>2</td><td>7</td><td>24 Ancroft Street, Glasgow, Glasgow City G20 7HU, UK</td><td>-4.267542</td><td>55.87717</td><td>1</td></tr>\n",
              "</tbody>\n",
              "</table>\n"
            ],
            "text/markdown": "\nA data.frame: 1 × 6\n\n| <!--/--> | Day &lt;int&gt; | Month &lt;int&gt; | Address &lt;fct&gt; | Lon &lt;dbl&gt; | Lat &lt;dbl&gt; | Price &lt;dbl&gt; |\n|---|---|---|---|---|---|---|\n| 727 | 2 | 7 | 24 Ancroft Street, Glasgow, Glasgow City G20 7HU, UK | -4.267542 | 55.87717 | 1 |\n\n",
            "text/latex": "A data.frame: 1 × 6\n\\begin{tabular}{r|llllll}\n  & Day & Month & Address & Lon & Lat & Price\\\\\n  & <int> & <int> & <fct> & <dbl> & <dbl> & <dbl>\\\\\n\\hline\n\t727 & 2 & 7 & 24 Ancroft Street, Glasgow, Glasgow City G20 7HU, UK & -4.267542 & 55.87717 & 1\\\\\n\\end{tabular}\n",
            "text/plain": [
              "    Day Month Address                                              Lon      \n",
              "727 2   7     24 Ancroft Street, Glasgow, Glasgow City G20 7HU, UK -4.267542\n",
              "    Lat      Price\n",
              "727 55.87717 1    "
            ]
          },
          "metadata": {}
        },
        {
          "output_type": "display_data",
          "data": {
            "text/html": [
              "<table class=\"dataframe\">\n",
              "<caption>A data.frame: 1 × 6</caption>\n",
              "<thead>\n",
              "\t<tr><th></th><th scope=col>Day</th><th scope=col>Month</th><th scope=col>Address</th><th scope=col>Lon</th><th scope=col>Lat</th><th scope=col>Price</th></tr>\n",
              "\t<tr><th></th><th scope=col>&lt;int&gt;</th><th scope=col>&lt;int&gt;</th><th scope=col>&lt;fct&gt;</th><th scope=col>&lt;dbl&gt;</th><th scope=col>&lt;dbl&gt;</th><th scope=col>&lt;dbl&gt;</th></tr>\n",
              "</thead>\n",
              "<tbody>\n",
              "\t<tr><th scope=row>9378</th><td>24</td><td>12</td><td>155 Saint Vincent Street, Glasgow, Glasgow City G2 5NW, UK</td><td>-4.261058</td><td>55.86182</td><td>27800000</td></tr>\n",
              "</tbody>\n",
              "</table>\n"
            ],
            "text/markdown": "\nA data.frame: 1 × 6\n\n| <!--/--> | Day &lt;int&gt; | Month &lt;int&gt; | Address &lt;fct&gt; | Lon &lt;dbl&gt; | Lat &lt;dbl&gt; | Price &lt;dbl&gt; |\n|---|---|---|---|---|---|---|\n| 9378 | 24 | 12 | 155 Saint Vincent Street, Glasgow, Glasgow City G2 5NW, UK | -4.261058 | 55.86182 | 27800000 |\n\n",
            "text/latex": "A data.frame: 1 × 6\n\\begin{tabular}{r|llllll}\n  & Day & Month & Address & Lon & Lat & Price\\\\\n  & <int> & <int> & <fct> & <dbl> & <dbl> & <dbl>\\\\\n\\hline\n\t9378 & 24 & 12 & 155 Saint Vincent Street, Glasgow, Glasgow City G2 5NW, UK & -4.261058 & 55.86182 & 27800000\\\\\n\\end{tabular}\n",
            "text/plain": [
              "     Day Month Address                                                   \n",
              "9378 24  12    155 Saint Vincent Street, Glasgow, Glasgow City G2 5NW, UK\n",
              "     Lon       Lat      Price   \n",
              "9378 -4.261058 55.86182 27800000"
            ]
          },
          "metadata": {}
        }
      ]
    },
    {
      "cell_type": "markdown",
      "metadata": {
        "id": "P6cTyOIeaDW0"
      },
      "source": [
        "Use cut to create a new column called PriceGroup that takes the values low (Price $\\leq$ 100,000), medium (100,000 < Price $\\leq$ 250,000) and high (Price > 250,000)"
      ]
    },
    {
      "cell_type": "code",
      "metadata": {
        "id": "Ep5G5pY4aW0L",
        "colab": {
          "base_uri": "https://localhost:8080/",
          "height": 286
        },
        "outputId": "f55238c3-a419-43bd-fd00-203d64cb4436"
      },
      "source": [
        "houseprices <- transform(houseprices, PriceGroup= cut(Price, breaks=c(0,100000, 250000, Inf), labels=c(\"low\",\"medium\",\"high\")))\n",
        "head(houseprices)"
      ],
      "execution_count": null,
      "outputs": [
        {
          "output_type": "display_data",
          "data": {
            "text/html": [
              "<table class=\"dataframe\">\n",
              "<caption>A data.frame: 6 × 7</caption>\n",
              "<thead>\n",
              "\t<tr><th></th><th scope=col>Day</th><th scope=col>Month</th><th scope=col>Address</th><th scope=col>Lon</th><th scope=col>Lat</th><th scope=col>Price</th><th scope=col>PriceGroup</th></tr>\n",
              "\t<tr><th></th><th scope=col>&lt;int&gt;</th><th scope=col>&lt;int&gt;</th><th scope=col>&lt;fct&gt;</th><th scope=col>&lt;dbl&gt;</th><th scope=col>&lt;dbl&gt;</th><th scope=col>&lt;dbl&gt;</th><th scope=col>&lt;fct&gt;</th></tr>\n",
              "</thead>\n",
              "<tbody>\n",
              "\t<tr><th scope=row>1</th><td>1</td><td>7</td><td>13 Hollowglen Road, Glasgow, Glasgow City G32 0ND, UK         </td><td>-4.160496</td><td>55.85507</td><td> 72500</td><td>low   </td></tr>\n",
              "\t<tr><th scope=row>2</th><td>1</td><td>7</td><td>7 Clarence Street, Clydebank, West Dunbartonshire G81 2HU, UK </td><td>-4.400987</td><td>55.90835</td><td>137995</td><td>medium</td></tr>\n",
              "\t<tr><th scope=row>3</th><td>1</td><td>7</td><td>16 Clarence Street, Clydebank, West Dunbartonshire G81 2HU, UK</td><td>-4.400781</td><td>55.90897</td><td>148995</td><td>medium</td></tr>\n",
              "\t<tr><th scope=row>4</th><td>1</td><td>7</td><td>10E Park Court, Clydebank, West Dunbartonshire G81 4PH, UK    </td><td>-4.428328</td><td>55.91704</td><td> 25000</td><td>low   </td></tr>\n",
              "\t<tr><th scope=row>5</th><td>1</td><td>7</td><td>30 Ashvale Crescent, Glasgow, Glasgow City G21 1NE, UK        </td><td>-4.234017</td><td>55.88356</td><td> 65000</td><td>low   </td></tr>\n",
              "\t<tr><th scope=row>6</th><td>1</td><td>7</td><td>212 Menzies Road, Glasgow, Glasgow City G21 3NE, UK           </td><td>-4.215196</td><td>55.88965</td><td> 80000</td><td>low   </td></tr>\n",
              "</tbody>\n",
              "</table>\n"
            ],
            "text/markdown": "\nA data.frame: 6 × 7\n\n| <!--/--> | Day &lt;int&gt; | Month &lt;int&gt; | Address &lt;fct&gt; | Lon &lt;dbl&gt; | Lat &lt;dbl&gt; | Price &lt;dbl&gt; | PriceGroup &lt;fct&gt; |\n|---|---|---|---|---|---|---|---|\n| 1 | 1 | 7 | 13 Hollowglen Road, Glasgow, Glasgow City G32 0ND, UK          | -4.160496 | 55.85507 |  72500 | low    |\n| 2 | 1 | 7 | 7 Clarence Street, Clydebank, West Dunbartonshire G81 2HU, UK  | -4.400987 | 55.90835 | 137995 | medium |\n| 3 | 1 | 7 | 16 Clarence Street, Clydebank, West Dunbartonshire G81 2HU, UK | -4.400781 | 55.90897 | 148995 | medium |\n| 4 | 1 | 7 | 10E Park Court, Clydebank, West Dunbartonshire G81 4PH, UK     | -4.428328 | 55.91704 |  25000 | low    |\n| 5 | 1 | 7 | 30 Ashvale Crescent, Glasgow, Glasgow City G21 1NE, UK         | -4.234017 | 55.88356 |  65000 | low    |\n| 6 | 1 | 7 | 212 Menzies Road, Glasgow, Glasgow City G21 3NE, UK            | -4.215196 | 55.88965 |  80000 | low    |\n\n",
            "text/latex": "A data.frame: 6 × 7\n\\begin{tabular}{r|lllllll}\n  & Day & Month & Address & Lon & Lat & Price & PriceGroup\\\\\n  & <int> & <int> & <fct> & <dbl> & <dbl> & <dbl> & <fct>\\\\\n\\hline\n\t1 & 1 & 7 & 13 Hollowglen Road, Glasgow, Glasgow City G32 0ND, UK          & -4.160496 & 55.85507 &  72500 & low   \\\\\n\t2 & 1 & 7 & 7 Clarence Street, Clydebank, West Dunbartonshire G81 2HU, UK  & -4.400987 & 55.90835 & 137995 & medium\\\\\n\t3 & 1 & 7 & 16 Clarence Street, Clydebank, West Dunbartonshire G81 2HU, UK & -4.400781 & 55.90897 & 148995 & medium\\\\\n\t4 & 1 & 7 & 10E Park Court, Clydebank, West Dunbartonshire G81 4PH, UK     & -4.428328 & 55.91704 &  25000 & low   \\\\\n\t5 & 1 & 7 & 30 Ashvale Crescent, Glasgow, Glasgow City G21 1NE, UK         & -4.234017 & 55.88356 &  65000 & low   \\\\\n\t6 & 1 & 7 & 212 Menzies Road, Glasgow, Glasgow City G21 3NE, UK            & -4.215196 & 55.88965 &  80000 & low   \\\\\n\\end{tabular}\n",
            "text/plain": [
              "  Day Month Address                                                       \n",
              "1 1   7     13 Hollowglen Road, Glasgow, Glasgow City G32 0ND, UK         \n",
              "2 1   7     7 Clarence Street, Clydebank, West Dunbartonshire G81 2HU, UK \n",
              "3 1   7     16 Clarence Street, Clydebank, West Dunbartonshire G81 2HU, UK\n",
              "4 1   7     10E Park Court, Clydebank, West Dunbartonshire G81 4PH, UK    \n",
              "5 1   7     30 Ashvale Crescent, Glasgow, Glasgow City G21 1NE, UK        \n",
              "6 1   7     212 Menzies Road, Glasgow, Glasgow City G21 3NE, UK           \n",
              "  Lon       Lat      Price  PriceGroup\n",
              "1 -4.160496 55.85507  72500 low       \n",
              "2 -4.400987 55.90835 137995 medium    \n",
              "3 -4.400781 55.90897 148995 medium    \n",
              "4 -4.428328 55.91704  25000 low       \n",
              "5 -4.234017 55.88356  65000 low       \n",
              "6 -4.215196 55.88965  80000 low       "
            ]
          },
          "metadata": {}
        }
      ]
    },
    {
      "cell_type": "markdown",
      "metadata": {
        "id": "tLW7IE9vaXnr"
      },
      "source": [
        "Create a new variable Dist2Uni which contains the distance to the University in kilometres"
      ]
    },
    {
      "cell_type": "markdown",
      "metadata": {
        "id": "lTeGPxw3aiMk"
      },
      "source": [
        "What was the average price of properties which are within 1km of the University?\n",
        "\n",
        "*Hint*: Consider two locations with longitudes $\\lambda_1$ and $\\lambda_2$ and latitudes $\\phi_1$ and $\\phi_2$ (expressed in radians)\n",
        "\n",
        "Define\n",
        "\n",
        "$$\\Delta \\lambda = \\lambda_2 - \\lambda_1$$\n",
        "$$\\Delta \\phi = \\phi_2 - \\phi_1$$\n",
        "$$\\alpha = \\text{sin}\\left( \\frac{\\Delta \\phi}{2} \\right)^2 + \\text{cos}(\\phi_1)\\text{cos}(\\phi_2) \\text{sin}\\left( \\frac{\\Delta \\lambda}{2} \\right)^2$$\n",
        "$$d = 12742\\text{tan}^{-1} \\left(\\frac{\\sqrt{\\alpha}}{\\sqrt{1-\\alpha}} \\right)$$\n",
        "\n",
        "then $d$ gives the distance between the two locations.\n",
        "\n",
        "The longitude and latitude of the university are:\n",
        "$\\lambda = -4.2886^{\\circ}$ and $\\phi = 55.8711^{\\circ}$\n",
        "\n",
        "tan$(\\frac{a}{b})$ can be calculated in R using atan2(a,b)"
      ]
    },
    {
      "cell_type": "code",
      "metadata": {
        "id": "EIJkUTZEah0f"
      },
      "source": [
        "lambda1 <- houseprices$Lon / 180 * pi\n",
        "phi1 <- houseprices$Lat / 180 * pi\n",
        "lambda2 <- -4.2886 / 180 * pi\n",
        "phi2 <-  55.8711  / 180 * pi\n",
        "delta.lambda <- lambda2-lambda1\n",
        "delta.phi <- phi2-phi1\n",
        "alpha <- sin(delta.phi/2)^2 + cos(phi1)*cos(phi2)*sin(delta.lambda/2)^2\n",
        "d <- 12742 * atan2(sqrt(alpha),sqrt(1-alpha))\n",
        "houseprices <- transform(houseprices, Dist2Uni=d)"
      ],
      "execution_count": null,
      "outputs": []
    }
  ]
}