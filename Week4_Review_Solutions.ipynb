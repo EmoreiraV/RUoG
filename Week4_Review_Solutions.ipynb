{
  "nbformat": 4,
  "nbformat_minor": 0,
  "metadata": {
    "colab": {
      "provenance": [],
      "include_colab_link": true
    },
    "kernelspec": {
      "name": "ir",
      "display_name": "R"
    },
    "language_info": {
      "name": "R"
    }
  },
  "cells": [
    {
      "cell_type": "markdown",
      "metadata": {
        "id": "view-in-github",
        "colab_type": "text"
      },
      "source": [
        "<a href=\"https://colab.research.google.com/github/EmoreiraV/RUoG/blob/main/Week4_Review_Solutions.ipynb\" target=\"_parent\"><img src=\"https://colab.research.google.com/assets/colab-badge.svg\" alt=\"Open In Colab\"/></a>"
      ]
    },
    {
      "cell_type": "markdown",
      "source": [
        "# Week 4 - Efficient data management using `tidyverse`\n",
        "\n",
        "**Programming Quiz 1**\n",
        "\n",
        "A reminder that the first programming quiz is now live. This is due on Friday 20th October. You will have 2 hours to attempt the quiz once you begin. The quiz is based on weeks 1-3 materials."
      ],
      "metadata": {
        "id": "VAQ-M7N8PGCc"
      }
    },
    {
      "cell_type": "markdown",
      "source": [
        "# Week 4 Outline\n",
        "\n",
        "In Week 4, we cover efficient data management in R using the `tidyverse` package. Specifically, we will take a look at:\n",
        "\n",
        "\n",
        "\n",
        "*   Using pipelines for operations\n",
        "*   Using tibbles for data storage\n",
        "*   Reading in data with `readr`\n",
        "*   Reshaping data using `tidyr`\n",
        "\n"
      ],
      "metadata": {
        "id": "ljb1onvaP-X4"
      }
    },
    {
      "cell_type": "markdown",
      "source": [
        "# `tidyverse`\n",
        "\n",
        "This week, we will be using the `tidyverse`, library, which consists of a suite of different packages.\n",
        "\n",
        "The philosophy of `tidyverse` is that it consists of a set of packages and functions which work in harmony with one another as they share common data representations and design.\n",
        "\n",
        "The packages within `tidyverse` are meant to be used for everyday data analysis, covering data reading, manipulation, data cleaning and visualisation (more of this in Week 6).\n",
        "\n",
        "There are some libraries within `tidyverse` that we will not cover in the course, but you may see their use in other courses on the programme."
      ],
      "metadata": {
        "id": "qgdyWizVtIid"
      }
    },
    {
      "cell_type": "markdown",
      "source": [
        "# Pipelines\n",
        "\n",
        "Pipelines are a key component of all the `tidyverse` packages. The `magrittr` package provides a forward pipe operator for R.\n",
        "\n",
        "Pipelines allow us to reconstruct function calls in a much cleaner fashion, improving readability of code. They are particularly useful for nested function calls.\n",
        "\n",
        "A forward pipe is called in R using `%>%`. This is the most common type of pipe in R."
      ],
      "metadata": {
        "id": "gFjIVt4OtsDJ"
      }
    },
    {
      "cell_type": "code",
      "source": [
        "f <- function(y) {\n",
        "  y + y^2\n",
        "}\n",
        "\n",
        "y <- 2\n",
        "f(y)\n",
        "\n",
        "library(magrittr)\n",
        "y %>% f\n",
        "\n",
        "set.seed(1000)\n",
        "min(cos(rnorm(500)))\n",
        "\n",
        "set.seed(1000)\n",
        "rnorm(500) %>% cos() %>% min()"
      ],
      "metadata": {
        "colab": {
          "base_uri": "https://localhost:8080/",
          "height": 86
        },
        "id": "tdwkf50ouwvF",
        "outputId": "99899aa7-7ac2-45dd-cc94-0028f087dc77"
      },
      "execution_count": null,
      "outputs": [
        {
          "output_type": "display_data",
          "data": {
            "text/html": [
              "6"
            ],
            "text/markdown": "6",
            "text/latex": "6",
            "text/plain": [
              "[1] 6"
            ]
          },
          "metadata": {}
        },
        {
          "output_type": "display_data",
          "data": {
            "text/html": [
              "6"
            ],
            "text/markdown": "6",
            "text/latex": "6",
            "text/plain": [
              "[1] 6"
            ]
          },
          "metadata": {}
        },
        {
          "output_type": "display_data",
          "data": {
            "text/html": [
              "-0.890878421996987"
            ],
            "text/markdown": "-0.890878421996987",
            "text/latex": "-0.890878421996987",
            "text/plain": [
              "[1] -0.8908784"
            ]
          },
          "metadata": {}
        },
        {
          "output_type": "display_data",
          "data": {
            "text/html": [
              "-0.890878421996987"
            ],
            "text/markdown": "-0.890878421996987",
            "text/latex": "-0.890878421996987",
            "text/plain": [
              "[1] -0.8908784"
            ]
          },
          "metadata": {}
        }
      ]
    },
    {
      "cell_type": "markdown",
      "source": [
        "There are additional pipe operators available:\n",
        "\n",
        "\n",
        "\n",
        "*   `%$%` can be used to make variables in a data set visible to the right hand side expression\n",
        "*   `$<>$` can be used to store the result on the right hand side in the variable on the left hand side. Care should be taken when using this operator!\n",
        "\n",
        "\n",
        "\n"
      ],
      "metadata": {
        "id": "TOGJyx9ovocn"
      }
    },
    {
      "cell_type": "code",
      "source": [
        "mtcars1 <- mtcars %>%\n",
        "  subset(wt <= 4)\n",
        "\n",
        "cor(mtcars1$disp,mtcars1$hp)\n",
        "\n",
        "mtcars %>%\n",
        "subset(wt <= 4) %$%\n",
        "  cor(disp,hp)\n",
        "\n",
        "\n",
        "mtcars1 <- mtcars %>%\n",
        "  subset(wt <= 4)\n",
        "\n",
        "mtcars %<>%\n",
        "  subset(wt <= 4)\n",
        "\n",
        "  mtcars"
      ],
      "metadata": {
        "colab": {
          "base_uri": "https://localhost:8080/",
          "height": 1000
        },
        "id": "pxfFd8Ocv-gz",
        "outputId": "4c6ff240-7e80-421f-c96f-a1acd652ec5d"
      },
      "execution_count": null,
      "outputs": [
        {
          "output_type": "display_data",
          "data": {
            "text/html": [
              "0.783256672206912"
            ],
            "text/markdown": "0.783256672206912",
            "text/latex": "0.783256672206912",
            "text/plain": [
              "[1] 0.7832567"
            ]
          },
          "metadata": {}
        },
        {
          "output_type": "display_data",
          "data": {
            "text/html": [
              "0.783256672206912"
            ],
            "text/markdown": "0.783256672206912",
            "text/latex": "0.783256672206912",
            "text/plain": [
              "[1] 0.7832567"
            ]
          },
          "metadata": {}
        },
        {
          "output_type": "display_data",
          "data": {
            "text/html": [
              "<table class=\"dataframe\">\n",
              "<caption>A data.frame: 28 × 11</caption>\n",
              "<thead>\n",
              "\t<tr><th></th><th scope=col>mpg</th><th scope=col>cyl</th><th scope=col>disp</th><th scope=col>hp</th><th scope=col>drat</th><th scope=col>wt</th><th scope=col>qsec</th><th scope=col>vs</th><th scope=col>am</th><th scope=col>gear</th><th scope=col>carb</th></tr>\n",
              "\t<tr><th></th><th scope=col>&lt;dbl&gt;</th><th scope=col>&lt;dbl&gt;</th><th scope=col>&lt;dbl&gt;</th><th scope=col>&lt;dbl&gt;</th><th scope=col>&lt;dbl&gt;</th><th scope=col>&lt;dbl&gt;</th><th scope=col>&lt;dbl&gt;</th><th scope=col>&lt;dbl&gt;</th><th scope=col>&lt;dbl&gt;</th><th scope=col>&lt;dbl&gt;</th><th scope=col>&lt;dbl&gt;</th></tr>\n",
              "</thead>\n",
              "<tbody>\n",
              "\t<tr><th scope=row>Mazda RX4</th><td>21.0</td><td>6</td><td>160.0</td><td>110</td><td>3.90</td><td>2.620</td><td>16.46</td><td>0</td><td>1</td><td>4</td><td>4</td></tr>\n",
              "\t<tr><th scope=row>Mazda RX4 Wag</th><td>21.0</td><td>6</td><td>160.0</td><td>110</td><td>3.90</td><td>2.875</td><td>17.02</td><td>0</td><td>1</td><td>4</td><td>4</td></tr>\n",
              "\t<tr><th scope=row>Datsun 710</th><td>22.8</td><td>4</td><td>108.0</td><td> 93</td><td>3.85</td><td>2.320</td><td>18.61</td><td>1</td><td>1</td><td>4</td><td>1</td></tr>\n",
              "\t<tr><th scope=row>Hornet 4 Drive</th><td>21.4</td><td>6</td><td>258.0</td><td>110</td><td>3.08</td><td>3.215</td><td>19.44</td><td>1</td><td>0</td><td>3</td><td>1</td></tr>\n",
              "\t<tr><th scope=row>Hornet Sportabout</th><td>18.7</td><td>8</td><td>360.0</td><td>175</td><td>3.15</td><td>3.440</td><td>17.02</td><td>0</td><td>0</td><td>3</td><td>2</td></tr>\n",
              "\t<tr><th scope=row>Valiant</th><td>18.1</td><td>6</td><td>225.0</td><td>105</td><td>2.76</td><td>3.460</td><td>20.22</td><td>1</td><td>0</td><td>3</td><td>1</td></tr>\n",
              "\t<tr><th scope=row>Duster 360</th><td>14.3</td><td>8</td><td>360.0</td><td>245</td><td>3.21</td><td>3.570</td><td>15.84</td><td>0</td><td>0</td><td>3</td><td>4</td></tr>\n",
              "\t<tr><th scope=row>Merc 240D</th><td>24.4</td><td>4</td><td>146.7</td><td> 62</td><td>3.69</td><td>3.190</td><td>20.00</td><td>1</td><td>0</td><td>4</td><td>2</td></tr>\n",
              "\t<tr><th scope=row>Merc 230</th><td>22.8</td><td>4</td><td>140.8</td><td> 95</td><td>3.92</td><td>3.150</td><td>22.90</td><td>1</td><td>0</td><td>4</td><td>2</td></tr>\n",
              "\t<tr><th scope=row>Merc 280</th><td>19.2</td><td>6</td><td>167.6</td><td>123</td><td>3.92</td><td>3.440</td><td>18.30</td><td>1</td><td>0</td><td>4</td><td>4</td></tr>\n",
              "\t<tr><th scope=row>Merc 280C</th><td>17.8</td><td>6</td><td>167.6</td><td>123</td><td>3.92</td><td>3.440</td><td>18.90</td><td>1</td><td>0</td><td>4</td><td>4</td></tr>\n",
              "\t<tr><th scope=row>Merc 450SL</th><td>17.3</td><td>8</td><td>275.8</td><td>180</td><td>3.07</td><td>3.730</td><td>17.60</td><td>0</td><td>0</td><td>3</td><td>3</td></tr>\n",
              "\t<tr><th scope=row>Merc 450SLC</th><td>15.2</td><td>8</td><td>275.8</td><td>180</td><td>3.07</td><td>3.780</td><td>18.00</td><td>0</td><td>0</td><td>3</td><td>3</td></tr>\n",
              "\t<tr><th scope=row>Fiat 128</th><td>32.4</td><td>4</td><td> 78.7</td><td> 66</td><td>4.08</td><td>2.200</td><td>19.47</td><td>1</td><td>1</td><td>4</td><td>1</td></tr>\n",
              "\t<tr><th scope=row>Honda Civic</th><td>30.4</td><td>4</td><td> 75.7</td><td> 52</td><td>4.93</td><td>1.615</td><td>18.52</td><td>1</td><td>1</td><td>4</td><td>2</td></tr>\n",
              "\t<tr><th scope=row>Toyota Corolla</th><td>33.9</td><td>4</td><td> 71.1</td><td> 65</td><td>4.22</td><td>1.835</td><td>19.90</td><td>1</td><td>1</td><td>4</td><td>1</td></tr>\n",
              "\t<tr><th scope=row>Toyota Corona</th><td>21.5</td><td>4</td><td>120.1</td><td> 97</td><td>3.70</td><td>2.465</td><td>20.01</td><td>1</td><td>0</td><td>3</td><td>1</td></tr>\n",
              "\t<tr><th scope=row>Dodge Challenger</th><td>15.5</td><td>8</td><td>318.0</td><td>150</td><td>2.76</td><td>3.520</td><td>16.87</td><td>0</td><td>0</td><td>3</td><td>2</td></tr>\n",
              "\t<tr><th scope=row>AMC Javelin</th><td>15.2</td><td>8</td><td>304.0</td><td>150</td><td>3.15</td><td>3.435</td><td>17.30</td><td>0</td><td>0</td><td>3</td><td>2</td></tr>\n",
              "\t<tr><th scope=row>Camaro Z28</th><td>13.3</td><td>8</td><td>350.0</td><td>245</td><td>3.73</td><td>3.840</td><td>15.41</td><td>0</td><td>0</td><td>3</td><td>4</td></tr>\n",
              "\t<tr><th scope=row>Pontiac Firebird</th><td>19.2</td><td>8</td><td>400.0</td><td>175</td><td>3.08</td><td>3.845</td><td>17.05</td><td>0</td><td>0</td><td>3</td><td>2</td></tr>\n",
              "\t<tr><th scope=row>Fiat X1-9</th><td>27.3</td><td>4</td><td> 79.0</td><td> 66</td><td>4.08</td><td>1.935</td><td>18.90</td><td>1</td><td>1</td><td>4</td><td>1</td></tr>\n",
              "\t<tr><th scope=row>Porsche 914-2</th><td>26.0</td><td>4</td><td>120.3</td><td> 91</td><td>4.43</td><td>2.140</td><td>16.70</td><td>0</td><td>1</td><td>5</td><td>2</td></tr>\n",
              "\t<tr><th scope=row>Lotus Europa</th><td>30.4</td><td>4</td><td> 95.1</td><td>113</td><td>3.77</td><td>1.513</td><td>16.90</td><td>1</td><td>1</td><td>5</td><td>2</td></tr>\n",
              "\t<tr><th scope=row>Ford Pantera L</th><td>15.8</td><td>8</td><td>351.0</td><td>264</td><td>4.22</td><td>3.170</td><td>14.50</td><td>0</td><td>1</td><td>5</td><td>4</td></tr>\n",
              "\t<tr><th scope=row>Ferrari Dino</th><td>19.7</td><td>6</td><td>145.0</td><td>175</td><td>3.62</td><td>2.770</td><td>15.50</td><td>0</td><td>1</td><td>5</td><td>6</td></tr>\n",
              "\t<tr><th scope=row>Maserati Bora</th><td>15.0</td><td>8</td><td>301.0</td><td>335</td><td>3.54</td><td>3.570</td><td>14.60</td><td>0</td><td>1</td><td>5</td><td>8</td></tr>\n",
              "\t<tr><th scope=row>Volvo 142E</th><td>21.4</td><td>4</td><td>121.0</td><td>109</td><td>4.11</td><td>2.780</td><td>18.60</td><td>1</td><td>1</td><td>4</td><td>2</td></tr>\n",
              "</tbody>\n",
              "</table>\n"
            ],
            "text/markdown": "\nA data.frame: 28 × 11\n\n| <!--/--> | mpg &lt;dbl&gt; | cyl &lt;dbl&gt; | disp &lt;dbl&gt; | hp &lt;dbl&gt; | drat &lt;dbl&gt; | wt &lt;dbl&gt; | qsec &lt;dbl&gt; | vs &lt;dbl&gt; | am &lt;dbl&gt; | gear &lt;dbl&gt; | carb &lt;dbl&gt; |\n|---|---|---|---|---|---|---|---|---|---|---|---|\n| Mazda RX4 | 21.0 | 6 | 160.0 | 110 | 3.90 | 2.620 | 16.46 | 0 | 1 | 4 | 4 |\n| Mazda RX4 Wag | 21.0 | 6 | 160.0 | 110 | 3.90 | 2.875 | 17.02 | 0 | 1 | 4 | 4 |\n| Datsun 710 | 22.8 | 4 | 108.0 |  93 | 3.85 | 2.320 | 18.61 | 1 | 1 | 4 | 1 |\n| Hornet 4 Drive | 21.4 | 6 | 258.0 | 110 | 3.08 | 3.215 | 19.44 | 1 | 0 | 3 | 1 |\n| Hornet Sportabout | 18.7 | 8 | 360.0 | 175 | 3.15 | 3.440 | 17.02 | 0 | 0 | 3 | 2 |\n| Valiant | 18.1 | 6 | 225.0 | 105 | 2.76 | 3.460 | 20.22 | 1 | 0 | 3 | 1 |\n| Duster 360 | 14.3 | 8 | 360.0 | 245 | 3.21 | 3.570 | 15.84 | 0 | 0 | 3 | 4 |\n| Merc 240D | 24.4 | 4 | 146.7 |  62 | 3.69 | 3.190 | 20.00 | 1 | 0 | 4 | 2 |\n| Merc 230 | 22.8 | 4 | 140.8 |  95 | 3.92 | 3.150 | 22.90 | 1 | 0 | 4 | 2 |\n| Merc 280 | 19.2 | 6 | 167.6 | 123 | 3.92 | 3.440 | 18.30 | 1 | 0 | 4 | 4 |\n| Merc 280C | 17.8 | 6 | 167.6 | 123 | 3.92 | 3.440 | 18.90 | 1 | 0 | 4 | 4 |\n| Merc 450SL | 17.3 | 8 | 275.8 | 180 | 3.07 | 3.730 | 17.60 | 0 | 0 | 3 | 3 |\n| Merc 450SLC | 15.2 | 8 | 275.8 | 180 | 3.07 | 3.780 | 18.00 | 0 | 0 | 3 | 3 |\n| Fiat 128 | 32.4 | 4 |  78.7 |  66 | 4.08 | 2.200 | 19.47 | 1 | 1 | 4 | 1 |\n| Honda Civic | 30.4 | 4 |  75.7 |  52 | 4.93 | 1.615 | 18.52 | 1 | 1 | 4 | 2 |\n| Toyota Corolla | 33.9 | 4 |  71.1 |  65 | 4.22 | 1.835 | 19.90 | 1 | 1 | 4 | 1 |\n| Toyota Corona | 21.5 | 4 | 120.1 |  97 | 3.70 | 2.465 | 20.01 | 1 | 0 | 3 | 1 |\n| Dodge Challenger | 15.5 | 8 | 318.0 | 150 | 2.76 | 3.520 | 16.87 | 0 | 0 | 3 | 2 |\n| AMC Javelin | 15.2 | 8 | 304.0 | 150 | 3.15 | 3.435 | 17.30 | 0 | 0 | 3 | 2 |\n| Camaro Z28 | 13.3 | 8 | 350.0 | 245 | 3.73 | 3.840 | 15.41 | 0 | 0 | 3 | 4 |\n| Pontiac Firebird | 19.2 | 8 | 400.0 | 175 | 3.08 | 3.845 | 17.05 | 0 | 0 | 3 | 2 |\n| Fiat X1-9 | 27.3 | 4 |  79.0 |  66 | 4.08 | 1.935 | 18.90 | 1 | 1 | 4 | 1 |\n| Porsche 914-2 | 26.0 | 4 | 120.3 |  91 | 4.43 | 2.140 | 16.70 | 0 | 1 | 5 | 2 |\n| Lotus Europa | 30.4 | 4 |  95.1 | 113 | 3.77 | 1.513 | 16.90 | 1 | 1 | 5 | 2 |\n| Ford Pantera L | 15.8 | 8 | 351.0 | 264 | 4.22 | 3.170 | 14.50 | 0 | 1 | 5 | 4 |\n| Ferrari Dino | 19.7 | 6 | 145.0 | 175 | 3.62 | 2.770 | 15.50 | 0 | 1 | 5 | 6 |\n| Maserati Bora | 15.0 | 8 | 301.0 | 335 | 3.54 | 3.570 | 14.60 | 0 | 1 | 5 | 8 |\n| Volvo 142E | 21.4 | 4 | 121.0 | 109 | 4.11 | 2.780 | 18.60 | 1 | 1 | 4 | 2 |\n\n",
            "text/latex": "A data.frame: 28 × 11\n\\begin{tabular}{r|lllllllllll}\n  & mpg & cyl & disp & hp & drat & wt & qsec & vs & am & gear & carb\\\\\n  & <dbl> & <dbl> & <dbl> & <dbl> & <dbl> & <dbl> & <dbl> & <dbl> & <dbl> & <dbl> & <dbl>\\\\\n\\hline\n\tMazda RX4 & 21.0 & 6 & 160.0 & 110 & 3.90 & 2.620 & 16.46 & 0 & 1 & 4 & 4\\\\\n\tMazda RX4 Wag & 21.0 & 6 & 160.0 & 110 & 3.90 & 2.875 & 17.02 & 0 & 1 & 4 & 4\\\\\n\tDatsun 710 & 22.8 & 4 & 108.0 &  93 & 3.85 & 2.320 & 18.61 & 1 & 1 & 4 & 1\\\\\n\tHornet 4 Drive & 21.4 & 6 & 258.0 & 110 & 3.08 & 3.215 & 19.44 & 1 & 0 & 3 & 1\\\\\n\tHornet Sportabout & 18.7 & 8 & 360.0 & 175 & 3.15 & 3.440 & 17.02 & 0 & 0 & 3 & 2\\\\\n\tValiant & 18.1 & 6 & 225.0 & 105 & 2.76 & 3.460 & 20.22 & 1 & 0 & 3 & 1\\\\\n\tDuster 360 & 14.3 & 8 & 360.0 & 245 & 3.21 & 3.570 & 15.84 & 0 & 0 & 3 & 4\\\\\n\tMerc 240D & 24.4 & 4 & 146.7 &  62 & 3.69 & 3.190 & 20.00 & 1 & 0 & 4 & 2\\\\\n\tMerc 230 & 22.8 & 4 & 140.8 &  95 & 3.92 & 3.150 & 22.90 & 1 & 0 & 4 & 2\\\\\n\tMerc 280 & 19.2 & 6 & 167.6 & 123 & 3.92 & 3.440 & 18.30 & 1 & 0 & 4 & 4\\\\\n\tMerc 280C & 17.8 & 6 & 167.6 & 123 & 3.92 & 3.440 & 18.90 & 1 & 0 & 4 & 4\\\\\n\tMerc 450SL & 17.3 & 8 & 275.8 & 180 & 3.07 & 3.730 & 17.60 & 0 & 0 & 3 & 3\\\\\n\tMerc 450SLC & 15.2 & 8 & 275.8 & 180 & 3.07 & 3.780 & 18.00 & 0 & 0 & 3 & 3\\\\\n\tFiat 128 & 32.4 & 4 &  78.7 &  66 & 4.08 & 2.200 & 19.47 & 1 & 1 & 4 & 1\\\\\n\tHonda Civic & 30.4 & 4 &  75.7 &  52 & 4.93 & 1.615 & 18.52 & 1 & 1 & 4 & 2\\\\\n\tToyota Corolla & 33.9 & 4 &  71.1 &  65 & 4.22 & 1.835 & 19.90 & 1 & 1 & 4 & 1\\\\\n\tToyota Corona & 21.5 & 4 & 120.1 &  97 & 3.70 & 2.465 & 20.01 & 1 & 0 & 3 & 1\\\\\n\tDodge Challenger & 15.5 & 8 & 318.0 & 150 & 2.76 & 3.520 & 16.87 & 0 & 0 & 3 & 2\\\\\n\tAMC Javelin & 15.2 & 8 & 304.0 & 150 & 3.15 & 3.435 & 17.30 & 0 & 0 & 3 & 2\\\\\n\tCamaro Z28 & 13.3 & 8 & 350.0 & 245 & 3.73 & 3.840 & 15.41 & 0 & 0 & 3 & 4\\\\\n\tPontiac Firebird & 19.2 & 8 & 400.0 & 175 & 3.08 & 3.845 & 17.05 & 0 & 0 & 3 & 2\\\\\n\tFiat X1-9 & 27.3 & 4 &  79.0 &  66 & 4.08 & 1.935 & 18.90 & 1 & 1 & 4 & 1\\\\\n\tPorsche 914-2 & 26.0 & 4 & 120.3 &  91 & 4.43 & 2.140 & 16.70 & 0 & 1 & 5 & 2\\\\\n\tLotus Europa & 30.4 & 4 &  95.1 & 113 & 3.77 & 1.513 & 16.90 & 1 & 1 & 5 & 2\\\\\n\tFord Pantera L & 15.8 & 8 & 351.0 & 264 & 4.22 & 3.170 & 14.50 & 0 & 1 & 5 & 4\\\\\n\tFerrari Dino & 19.7 & 6 & 145.0 & 175 & 3.62 & 2.770 & 15.50 & 0 & 1 & 5 & 6\\\\\n\tMaserati Bora & 15.0 & 8 & 301.0 & 335 & 3.54 & 3.570 & 14.60 & 0 & 1 & 5 & 8\\\\\n\tVolvo 142E & 21.4 & 4 & 121.0 & 109 & 4.11 & 2.780 & 18.60 & 1 & 1 & 4 & 2\\\\\n\\end{tabular}\n",
            "text/plain": [
              "                  mpg  cyl disp  hp  drat wt    qsec  vs am gear carb\n",
              "Mazda RX4         21.0 6   160.0 110 3.90 2.620 16.46 0  1  4    4   \n",
              "Mazda RX4 Wag     21.0 6   160.0 110 3.90 2.875 17.02 0  1  4    4   \n",
              "Datsun 710        22.8 4   108.0  93 3.85 2.320 18.61 1  1  4    1   \n",
              "Hornet 4 Drive    21.4 6   258.0 110 3.08 3.215 19.44 1  0  3    1   \n",
              "Hornet Sportabout 18.7 8   360.0 175 3.15 3.440 17.02 0  0  3    2   \n",
              "Valiant           18.1 6   225.0 105 2.76 3.460 20.22 1  0  3    1   \n",
              "Duster 360        14.3 8   360.0 245 3.21 3.570 15.84 0  0  3    4   \n",
              "Merc 240D         24.4 4   146.7  62 3.69 3.190 20.00 1  0  4    2   \n",
              "Merc 230          22.8 4   140.8  95 3.92 3.150 22.90 1  0  4    2   \n",
              "Merc 280          19.2 6   167.6 123 3.92 3.440 18.30 1  0  4    4   \n",
              "Merc 280C         17.8 6   167.6 123 3.92 3.440 18.90 1  0  4    4   \n",
              "Merc 450SL        17.3 8   275.8 180 3.07 3.730 17.60 0  0  3    3   \n",
              "Merc 450SLC       15.2 8   275.8 180 3.07 3.780 18.00 0  0  3    3   \n",
              "Fiat 128          32.4 4    78.7  66 4.08 2.200 19.47 1  1  4    1   \n",
              "Honda Civic       30.4 4    75.7  52 4.93 1.615 18.52 1  1  4    2   \n",
              "Toyota Corolla    33.9 4    71.1  65 4.22 1.835 19.90 1  1  4    1   \n",
              "Toyota Corona     21.5 4   120.1  97 3.70 2.465 20.01 1  0  3    1   \n",
              "Dodge Challenger  15.5 8   318.0 150 2.76 3.520 16.87 0  0  3    2   \n",
              "AMC Javelin       15.2 8   304.0 150 3.15 3.435 17.30 0  0  3    2   \n",
              "Camaro Z28        13.3 8   350.0 245 3.73 3.840 15.41 0  0  3    4   \n",
              "Pontiac Firebird  19.2 8   400.0 175 3.08 3.845 17.05 0  0  3    2   \n",
              "Fiat X1-9         27.3 4    79.0  66 4.08 1.935 18.90 1  1  4    1   \n",
              "Porsche 914-2     26.0 4   120.3  91 4.43 2.140 16.70 0  1  5    2   \n",
              "Lotus Europa      30.4 4    95.1 113 3.77 1.513 16.90 1  1  5    2   \n",
              "Ford Pantera L    15.8 8   351.0 264 4.22 3.170 14.50 0  1  5    4   \n",
              "Ferrari Dino      19.7 6   145.0 175 3.62 2.770 15.50 0  1  5    6   \n",
              "Maserati Bora     15.0 8   301.0 335 3.54 3.570 14.60 0  1  5    8   \n",
              "Volvo 142E        21.4 4   121.0 109 4.11 2.780 18.60 1  1  4    2   "
            ]
          },
          "metadata": {}
        }
      ]
    },
    {
      "cell_type": "markdown",
      "source": [
        "# Tibbles\n",
        "\n",
        "The `tibble` package provides us with the `tbl_df()` function, which is a more modern version of a data frame.\n",
        "\n",
        "Tibbles can store anything. We can have multiple values per cell, unlike in a data frame.\n",
        "\n",
        "Data frames can be converted to tibbles using the `as_tibble()` function."
      ],
      "metadata": {
        "id": "0eK0FnZcxHLL"
      }
    },
    {
      "cell_type": "code",
      "source": [
        "library(dplyr)\n",
        "\n",
        "head(starwars)\n",
        "\n",
        "head(starwars[c(\"name\",\"starships\")])\n",
        "\n",
        "kids <- data.frame(name=c(\"Sarah\",\"John\"), age = c(4,10), weight = c(15, 30))\n",
        "kids\n",
        "\n",
        "kids <- as_tibble(kids)\n",
        "kids"
      ],
      "metadata": {
        "colab": {
          "base_uri": "https://localhost:8080/",
          "height": 913
        },
        "id": "H1UmjTnwxreu",
        "outputId": "929a512a-226a-4edf-d56a-f718db8238ea"
      },
      "execution_count": null,
      "outputs": [
        {
          "output_type": "display_data",
          "data": {
            "text/html": [
              "<table class=\"dataframe\">\n",
              "<caption>A tibble: 6 × 14</caption>\n",
              "<thead>\n",
              "\t<tr><th scope=col>name</th><th scope=col>height</th><th scope=col>mass</th><th scope=col>hair_color</th><th scope=col>skin_color</th><th scope=col>eye_color</th><th scope=col>birth_year</th><th scope=col>sex</th><th scope=col>gender</th><th scope=col>homeworld</th><th scope=col>species</th><th scope=col>films</th><th scope=col>vehicles</th><th scope=col>starships</th></tr>\n",
              "\t<tr><th scope=col>&lt;chr&gt;</th><th scope=col>&lt;int&gt;</th><th scope=col>&lt;dbl&gt;</th><th scope=col>&lt;chr&gt;</th><th scope=col>&lt;chr&gt;</th><th scope=col>&lt;chr&gt;</th><th scope=col>&lt;dbl&gt;</th><th scope=col>&lt;chr&gt;</th><th scope=col>&lt;chr&gt;</th><th scope=col>&lt;chr&gt;</th><th scope=col>&lt;chr&gt;</th><th scope=col>&lt;list&gt;</th><th scope=col>&lt;list&gt;</th><th scope=col>&lt;list&gt;</th></tr>\n",
              "</thead>\n",
              "<tbody>\n",
              "\t<tr><td>Luke Skywalker</td><td>172</td><td> 77</td><td>blond      </td><td>fair       </td><td>blue  </td><td> 19.0</td><td>male  </td><td>masculine</td><td>Tatooine</td><td>Human</td><td>The Empire Strikes Back, Revenge of the Sith    , Return of the Jedi     , A New Hope             , The Force Awakens      </td><td>Snowspeeder          , Imperial Speeder Bike</td><td>X-wing          , Imperial shuttle</td></tr>\n",
              "\t<tr><td>C-3PO         </td><td>167</td><td> 75</td><td>NA         </td><td>gold       </td><td>yellow</td><td>112.0</td><td>none  </td><td>masculine</td><td>Tatooine</td><td>Droid</td><td>The Empire Strikes Back, Attack of the Clones   , The Phantom Menace     , Revenge of the Sith    , Return of the Jedi     , A New Hope             </td><td></td><td></td></tr>\n",
              "\t<tr><td>R2-D2         </td><td> 96</td><td> 32</td><td>NA         </td><td>white, blue</td><td>red   </td><td> 33.0</td><td>none  </td><td>masculine</td><td>Naboo   </td><td>Droid</td><td>The Empire Strikes Back, Attack of the Clones   , The Phantom Menace     , Revenge of the Sith    , Return of the Jedi     , A New Hope             , The Force Awakens      </td><td></td><td></td></tr>\n",
              "\t<tr><td>Darth Vader   </td><td>202</td><td>136</td><td>none       </td><td>white      </td><td>yellow</td><td> 41.9</td><td>male  </td><td>masculine</td><td>Tatooine</td><td>Human</td><td>The Empire Strikes Back, Revenge of the Sith    , Return of the Jedi     , A New Hope             </td><td></td><td>TIE Advanced x1</td></tr>\n",
              "\t<tr><td>Leia Organa   </td><td>150</td><td> 49</td><td>brown      </td><td>light      </td><td>brown </td><td> 19.0</td><td>female</td><td>feminine </td><td>Alderaan</td><td>Human</td><td>The Empire Strikes Back, Revenge of the Sith    , Return of the Jedi     , A New Hope             , The Force Awakens      </td><td>Imperial Speeder Bike</td><td></td></tr>\n",
              "\t<tr><td>Owen Lars     </td><td>178</td><td>120</td><td>brown, grey</td><td>light      </td><td>blue  </td><td> 52.0</td><td>male  </td><td>masculine</td><td>Tatooine</td><td>Human</td><td>Attack of the Clones, Revenge of the Sith , A New Hope          </td><td></td><td></td></tr>\n",
              "</tbody>\n",
              "</table>\n"
            ],
            "text/markdown": "\nA tibble: 6 × 14\n\n| name &lt;chr&gt; | height &lt;int&gt; | mass &lt;dbl&gt; | hair_color &lt;chr&gt; | skin_color &lt;chr&gt; | eye_color &lt;chr&gt; | birth_year &lt;dbl&gt; | sex &lt;chr&gt; | gender &lt;chr&gt; | homeworld &lt;chr&gt; | species &lt;chr&gt; | films &lt;list&gt; | vehicles &lt;list&gt; | starships &lt;list&gt; |\n|---|---|---|---|---|---|---|---|---|---|---|---|---|---|\n| Luke Skywalker | 172 |  77 | blond       | fair        | blue   |  19.0 | male   | masculine | Tatooine | Human | The Empire Strikes Back, Revenge of the Sith    , Return of the Jedi     , A New Hope             , The Force Awakens       | Snowspeeder          , Imperial Speeder Bike | X-wing          , Imperial shuttle |\n| C-3PO          | 167 |  75 | NA          | gold        | yellow | 112.0 | none   | masculine | Tatooine | Droid | The Empire Strikes Back, Attack of the Clones   , The Phantom Menace     , Revenge of the Sith    , Return of the Jedi     , A New Hope              | <!----> | <!----> |\n| R2-D2          |  96 |  32 | NA          | white, blue | red    |  33.0 | none   | masculine | Naboo    | Droid | The Empire Strikes Back, Attack of the Clones   , The Phantom Menace     , Revenge of the Sith    , Return of the Jedi     , A New Hope             , The Force Awakens       | <!----> | <!----> |\n| Darth Vader    | 202 | 136 | none        | white       | yellow |  41.9 | male   | masculine | Tatooine | Human | The Empire Strikes Back, Revenge of the Sith    , Return of the Jedi     , A New Hope              | <!----> | TIE Advanced x1 |\n| Leia Organa    | 150 |  49 | brown       | light       | brown  |  19.0 | female | feminine  | Alderaan | Human | The Empire Strikes Back, Revenge of the Sith    , Return of the Jedi     , A New Hope             , The Force Awakens       | Imperial Speeder Bike | <!----> |\n| Owen Lars      | 178 | 120 | brown, grey | light       | blue   |  52.0 | male   | masculine | Tatooine | Human | Attack of the Clones, Revenge of the Sith , A New Hope           | <!----> | <!----> |\n\n",
            "text/latex": "A tibble: 6 × 14\n\\begin{tabular}{llllllllllllll}\n name & height & mass & hair\\_color & skin\\_color & eye\\_color & birth\\_year & sex & gender & homeworld & species & films & vehicles & starships\\\\\n <chr> & <int> & <dbl> & <chr> & <chr> & <chr> & <dbl> & <chr> & <chr> & <chr> & <chr> & <list> & <list> & <list>\\\\\n\\hline\n\t Luke Skywalker & 172 &  77 & blond       & fair        & blue   &  19.0 & male   & masculine & Tatooine & Human & The Empire Strikes Back, Revenge of the Sith    , Return of the Jedi     , A New Hope             , The Force Awakens       & Snowspeeder          , Imperial Speeder Bike & X-wing          , Imperial shuttle\\\\\n\t C-3PO          & 167 &  75 & NA          & gold        & yellow & 112.0 & none   & masculine & Tatooine & Droid & The Empire Strikes Back, Attack of the Clones   , The Phantom Menace     , Revenge of the Sith    , Return of the Jedi     , A New Hope              &  & \\\\\n\t R2-D2          &  96 &  32 & NA          & white, blue & red    &  33.0 & none   & masculine & Naboo    & Droid & The Empire Strikes Back, Attack of the Clones   , The Phantom Menace     , Revenge of the Sith    , Return of the Jedi     , A New Hope             , The Force Awakens       &  & \\\\\n\t Darth Vader    & 202 & 136 & none        & white       & yellow &  41.9 & male   & masculine & Tatooine & Human & The Empire Strikes Back, Revenge of the Sith    , Return of the Jedi     , A New Hope              &  & TIE Advanced x1\\\\\n\t Leia Organa    & 150 &  49 & brown       & light       & brown  &  19.0 & female & feminine  & Alderaan & Human & The Empire Strikes Back, Revenge of the Sith    , Return of the Jedi     , A New Hope             , The Force Awakens       & Imperial Speeder Bike & \\\\\n\t Owen Lars      & 178 & 120 & brown, grey & light       & blue   &  52.0 & male   & masculine & Tatooine & Human & Attack of the Clones, Revenge of the Sith , A New Hope           &  & \\\\\n\\end{tabular}\n",
            "text/plain": [
              "  name           height mass hair_color  skin_color  eye_color birth_year\n",
              "1 Luke Skywalker 172     77  blond       fair        blue       19.0     \n",
              "2 C-3PO          167     75  NA          gold        yellow    112.0     \n",
              "3 R2-D2           96     32  NA          white, blue red        33.0     \n",
              "4 Darth Vader    202    136  none        white       yellow     41.9     \n",
              "5 Leia Organa    150     49  brown       light       brown      19.0     \n",
              "6 Owen Lars      178    120  brown, grey light       blue       52.0     \n",
              "  sex    gender    homeworld species\n",
              "1 male   masculine Tatooine  Human  \n",
              "2 none   masculine Tatooine  Droid  \n",
              "3 none   masculine Naboo     Droid  \n",
              "4 male   masculine Tatooine  Human  \n",
              "5 female feminine  Alderaan  Human  \n",
              "6 male   masculine Tatooine  Human  \n",
              "  films                                                                                                                                                                        \n",
              "1 The Empire Strikes Back, Revenge of the Sith    , Return of the Jedi     , A New Hope             , The Force Awakens                                                        \n",
              "2 The Empire Strikes Back, Attack of the Clones   , The Phantom Menace     , Revenge of the Sith    , Return of the Jedi     , A New Hope                                      \n",
              "3 The Empire Strikes Back, Attack of the Clones   , The Phantom Menace     , Revenge of the Sith    , Return of the Jedi     , A New Hope             , The Force Awakens      \n",
              "4 The Empire Strikes Back, Revenge of the Sith    , Return of the Jedi     , A New Hope                                                                                        \n",
              "5 The Empire Strikes Back, Revenge of the Sith    , Return of the Jedi     , A New Hope             , The Force Awakens                                                        \n",
              "6 Attack of the Clones, Revenge of the Sith , A New Hope                                                                                                                       \n",
              "  vehicles                                    \n",
              "1 Snowspeeder          , Imperial Speeder Bike\n",
              "2                                             \n",
              "3                                             \n",
              "4                                             \n",
              "5 Imperial Speeder Bike                       \n",
              "6                                             \n",
              "  starships                         \n",
              "1 X-wing          , Imperial shuttle\n",
              "2                                   \n",
              "3                                   \n",
              "4 TIE Advanced x1                   \n",
              "5                                   \n",
              "6                                   "
            ]
          },
          "metadata": {}
        },
        {
          "output_type": "display_data",
          "data": {
            "text/html": [
              "<table class=\"dataframe\">\n",
              "<caption>A tibble: 6 × 2</caption>\n",
              "<thead>\n",
              "\t<tr><th scope=col>name</th><th scope=col>starships</th></tr>\n",
              "\t<tr><th scope=col>&lt;chr&gt;</th><th scope=col>&lt;list&gt;</th></tr>\n",
              "</thead>\n",
              "<tbody>\n",
              "\t<tr><td>Luke Skywalker</td><td>X-wing          , Imperial shuttle</td></tr>\n",
              "\t<tr><td>C-3PO         </td><td></td></tr>\n",
              "\t<tr><td>R2-D2         </td><td></td></tr>\n",
              "\t<tr><td>Darth Vader   </td><td>TIE Advanced x1</td></tr>\n",
              "\t<tr><td>Leia Organa   </td><td></td></tr>\n",
              "\t<tr><td>Owen Lars     </td><td></td></tr>\n",
              "</tbody>\n",
              "</table>\n"
            ],
            "text/markdown": "\nA tibble: 6 × 2\n\n| name &lt;chr&gt; | starships &lt;list&gt; |\n|---|---|\n| Luke Skywalker | X-wing          , Imperial shuttle |\n| C-3PO          | <!----> |\n| R2-D2          | <!----> |\n| Darth Vader    | TIE Advanced x1 |\n| Leia Organa    | <!----> |\n| Owen Lars      | <!----> |\n\n",
            "text/latex": "A tibble: 6 × 2\n\\begin{tabular}{ll}\n name & starships\\\\\n <chr> & <list>\\\\\n\\hline\n\t Luke Skywalker & X-wing          , Imperial shuttle\\\\\n\t C-3PO          & \\\\\n\t R2-D2          & \\\\\n\t Darth Vader    & TIE Advanced x1\\\\\n\t Leia Organa    & \\\\\n\t Owen Lars      & \\\\\n\\end{tabular}\n",
            "text/plain": [
              "  name           starships                         \n",
              "1 Luke Skywalker X-wing          , Imperial shuttle\n",
              "2 C-3PO                                            \n",
              "3 R2-D2                                            \n",
              "4 Darth Vader    TIE Advanced x1                   \n",
              "5 Leia Organa                                      \n",
              "6 Owen Lars                                        "
            ]
          },
          "metadata": {}
        },
        {
          "output_type": "display_data",
          "data": {
            "text/html": [
              "<table class=\"dataframe\">\n",
              "<caption>A data.frame: 2 × 3</caption>\n",
              "<thead>\n",
              "\t<tr><th scope=col>name</th><th scope=col>age</th><th scope=col>weight</th></tr>\n",
              "\t<tr><th scope=col>&lt;chr&gt;</th><th scope=col>&lt;dbl&gt;</th><th scope=col>&lt;dbl&gt;</th></tr>\n",
              "</thead>\n",
              "<tbody>\n",
              "\t<tr><td>Sarah</td><td> 4</td><td>15</td></tr>\n",
              "\t<tr><td>John </td><td>10</td><td>30</td></tr>\n",
              "</tbody>\n",
              "</table>\n"
            ],
            "text/markdown": "\nA data.frame: 2 × 3\n\n| name &lt;chr&gt; | age &lt;dbl&gt; | weight &lt;dbl&gt; |\n|---|---|---|\n| Sarah |  4 | 15 |\n| John  | 10 | 30 |\n\n",
            "text/latex": "A data.frame: 2 × 3\n\\begin{tabular}{lll}\n name & age & weight\\\\\n <chr> & <dbl> & <dbl>\\\\\n\\hline\n\t Sarah &  4 & 15\\\\\n\t John  & 10 & 30\\\\\n\\end{tabular}\n",
            "text/plain": [
              "  name  age weight\n",
              "1 Sarah  4  15    \n",
              "2 John  10  30    "
            ]
          },
          "metadata": {}
        },
        {
          "output_type": "display_data",
          "data": {
            "text/html": [
              "<table class=\"dataframe\">\n",
              "<caption>A tibble: 2 × 3</caption>\n",
              "<thead>\n",
              "\t<tr><th scope=col>name</th><th scope=col>age</th><th scope=col>weight</th></tr>\n",
              "\t<tr><th scope=col>&lt;chr&gt;</th><th scope=col>&lt;dbl&gt;</th><th scope=col>&lt;dbl&gt;</th></tr>\n",
              "</thead>\n",
              "<tbody>\n",
              "\t<tr><td>Sarah</td><td> 4</td><td>15</td></tr>\n",
              "\t<tr><td>John </td><td>10</td><td>30</td></tr>\n",
              "</tbody>\n",
              "</table>\n"
            ],
            "text/markdown": "\nA tibble: 2 × 3\n\n| name &lt;chr&gt; | age &lt;dbl&gt; | weight &lt;dbl&gt; |\n|---|---|---|\n| Sarah |  4 | 15 |\n| John  | 10 | 30 |\n\n",
            "text/latex": "A tibble: 2 × 3\n\\begin{tabular}{lll}\n name & age & weight\\\\\n <chr> & <dbl> & <dbl>\\\\\n\\hline\n\t Sarah &  4 & 15\\\\\n\t John  & 10 & 30\\\\\n\\end{tabular}\n",
            "text/plain": [
              "  name  age weight\n",
              "1 Sarah  4  15    \n",
              "2 John  10  30    "
            ]
          },
          "metadata": {}
        }
      ]
    },
    {
      "cell_type": "markdown",
      "source": [
        "Row names are not visible in a tibble. You can add these to the tibble using the `rownames_to_column` command.\n",
        "\n",
        "Tibbles can be created using the `tibble` command. These are assembled on a column basis. `tribble` can be used to create a tibble on a row basis."
      ],
      "metadata": {
        "id": "_sOFP9BkykTK"
      }
    },
    {
      "cell_type": "markdown",
      "source": [
        "Tibbles behave similarly to data frames, and the same subsetting commands can be used.\n",
        "\n",
        "Columns can be accessed using their full name. Rows can only be accessed by index.\n",
        "\n",
        "Tibbles are more restrictive than data frames, and often prevent us from carrying out certain tasks. Tibbles are \"lazy and surly\" - they do less and complain a (lot!) more. This is a design principle to make you construct more cleaner and expressive code, and find issues earlier.\n",
        "\n",
        "Subsetting a tibble will always result in another tibble"
      ],
      "metadata": {
        "id": "0-kKbjxJy8hK"
      }
    },
    {
      "cell_type": "code",
      "source": [
        "kids[,1]"
      ],
      "metadata": {
        "colab": {
          "base_uri": "https://localhost:8080/",
          "height": 178
        },
        "id": "IAzjDVCCF5aW",
        "outputId": "25038d19-22ae-43e1-e163-0dd340fd0411"
      },
      "execution_count": null,
      "outputs": [
        {
          "output_type": "display_data",
          "data": {
            "text/html": [
              "<table class=\"dataframe\">\n",
              "<caption>A tibble: 2 × 1</caption>\n",
              "<thead>\n",
              "\t<tr><th scope=col>name</th></tr>\n",
              "\t<tr><th scope=col>&lt;chr&gt;</th></tr>\n",
              "</thead>\n",
              "<tbody>\n",
              "\t<tr><td>Sarah</td></tr>\n",
              "\t<tr><td>John </td></tr>\n",
              "</tbody>\n",
              "</table>\n"
            ],
            "text/markdown": "\nA tibble: 2 × 1\n\n| name &lt;chr&gt; |\n|---|\n| Sarah |\n| John  |\n\n",
            "text/latex": "A tibble: 2 × 1\n\\begin{tabular}{l}\n name\\\\\n <chr>\\\\\n\\hline\n\t Sarah\\\\\n\t John \\\\\n\\end{tabular}\n",
            "text/plain": [
              "  name \n",
              "1 Sarah\n",
              "2 John "
            ]
          },
          "metadata": {}
        }
      ]
    },
    {
      "cell_type": "markdown",
      "source": [
        "# Reading in data with `readr`\n",
        "\n",
        "The `readr` package contains alternatives to several of the base R functions for reading in data.\n",
        "\n",
        "These functions are often a lot faster than their base equivalents, and provide helpful loading outputs for inspection.\n",
        "\n",
        "`read_csv()` reads in comma separated files. `read_delim()` is similar to `read_table()`, but the delimiter value needs to be specified."
      ],
      "metadata": {
        "id": "Vl-0fyufF98f"
      }
    },
    {
      "cell_type": "code",
      "source": [
        "library(readr)\n",
        "read_csv(\"https://github.com/UofGAnalyticsData/R/raw/main/Week%203/cars.csv\", na=\"*\")\n"
      ],
      "metadata": {
        "colab": {
          "base_uri": "https://localhost:8080/",
          "height": 864
        },
        "id": "kd-DU4BOzHIP",
        "outputId": "927b9799-f8e7-44aa-9623-51605a6caab5"
      },
      "execution_count": null,
      "outputs": [
        {
          "output_type": "stream",
          "name": "stderr",
          "text": [
            "\u001b[1mRows: \u001b[22m\u001b[34m20\u001b[39m \u001b[1mColumns: \u001b[22m\u001b[34m5\u001b[39m\n",
            "\u001b[36m──\u001b[39m \u001b[1mColumn specification\u001b[22m \u001b[36m────────────────────────────────────────────────────────\u001b[39m\n",
            "\u001b[1mDelimiter:\u001b[22m \",\"\n",
            "\u001b[31mchr\u001b[39m (2): Manufacturer, Model\n",
            "\u001b[32mdbl\u001b[39m (3): MPG, Displacement, Horsepower\n",
            "\n",
            "\u001b[36mℹ\u001b[39m Use `spec()` to retrieve the full column specification for this data.\n",
            "\u001b[36mℹ\u001b[39m Specify the column types or set `show_col_types = FALSE` to quiet this message.\n"
          ]
        },
        {
          "output_type": "display_data",
          "data": {
            "text/html": [
              "<table class=\"dataframe\">\n",
              "<caption>A spec_tbl_df: 20 × 5</caption>\n",
              "<thead>\n",
              "\t<tr><th scope=col>Manufacturer</th><th scope=col>Model</th><th scope=col>MPG</th><th scope=col>Displacement</th><th scope=col>Horsepower</th></tr>\n",
              "\t<tr><th scope=col>&lt;chr&gt;</th><th scope=col>&lt;chr&gt;</th><th scope=col>&lt;dbl&gt;</th><th scope=col>&lt;dbl&gt;</th><th scope=col>&lt;dbl&gt;</th></tr>\n",
              "</thead>\n",
              "<tbody>\n",
              "\t<tr><td>Chevrolet </td><td>Camaro </td><td>19</td><td>3.4</td><td>160</td></tr>\n",
              "\t<tr><td>Oldsmobile</td><td>Achieva</td><td>NA</td><td>2.3</td><td>155</td></tr>\n",
              "\t<tr><td>Dodge     </td><td>Spirit </td><td>22</td><td>2.5</td><td>100</td></tr>\n",
              "\t<tr><td>Chevrolet </td><td>Astro  </td><td>NA</td><td>4.3</td><td>165</td></tr>\n",
              "\t<tr><td>Chevrolet </td><td>Corsica</td><td>25</td><td>2.2</td><td>110</td></tr>\n",
              "\t<tr><td>Volkswagen</td><td>Corrado</td><td>18</td><td>2.8</td><td>178</td></tr>\n",
              "\t<tr><td>Dodge     </td><td>Stealth</td><td>18</td><td>3.0</td><td>300</td></tr>\n",
              "\t<tr><td>Volkswagen</td><td>Fox    </td><td>25</td><td>1.8</td><td> 81</td></tr>\n",
              "\t<tr><td>Cadillac  </td><td>DeVille</td><td>16</td><td>4.9</td><td>200</td></tr>\n",
              "\t<tr><td>Hyundai   </td><td>Excel  </td><td>29</td><td>1.5</td><td> 81</td></tr>\n",
              "\t<tr><td>Toyota    </td><td>Tercel </td><td>32</td><td>1.5</td><td> 82</td></tr>\n",
              "\t<tr><td>Dodge     </td><td>Colt   </td><td>29</td><td>1.5</td><td> 92</td></tr>\n",
              "\t<tr><td>Volkswagen</td><td>Passat </td><td>21</td><td>2.0</td><td>134</td></tr>\n",
              "\t<tr><td>Geo       </td><td>Storm  </td><td>30</td><td>1.6</td><td> 90</td></tr>\n",
              "\t<tr><td>Toyota    </td><td>Previa </td><td>18</td><td>2.4</td><td>138</td></tr>\n",
              "\t<tr><td>Nissan    </td><td>Sentra </td><td>29</td><td>1.6</td><td>110</td></tr>\n",
              "\t<tr><td>Toyota    </td><td>Celica </td><td>25</td><td>2.2</td><td>135</td></tr>\n",
              "\t<tr><td>Honda     </td><td>Civic  </td><td>42</td><td>1.5</td><td>102</td></tr>\n",
              "\t<tr><td>Dodge     </td><td>Caravan</td><td>17</td><td>3.0</td><td>142</td></tr>\n",
              "\t<tr><td>Hyundai   </td><td>Sonata </td><td>20</td><td>2.0</td><td>128</td></tr>\n",
              "</tbody>\n",
              "</table>\n"
            ],
            "text/markdown": "\nA spec_tbl_df: 20 × 5\n\n| Manufacturer &lt;chr&gt; | Model &lt;chr&gt; | MPG &lt;dbl&gt; | Displacement &lt;dbl&gt; | Horsepower &lt;dbl&gt; |\n|---|---|---|---|---|\n| Chevrolet  | Camaro  | 19 | 3.4 | 160 |\n| Oldsmobile | Achieva | NA | 2.3 | 155 |\n| Dodge      | Spirit  | 22 | 2.5 | 100 |\n| Chevrolet  | Astro   | NA | 4.3 | 165 |\n| Chevrolet  | Corsica | 25 | 2.2 | 110 |\n| Volkswagen | Corrado | 18 | 2.8 | 178 |\n| Dodge      | Stealth | 18 | 3.0 | 300 |\n| Volkswagen | Fox     | 25 | 1.8 |  81 |\n| Cadillac   | DeVille | 16 | 4.9 | 200 |\n| Hyundai    | Excel   | 29 | 1.5 |  81 |\n| Toyota     | Tercel  | 32 | 1.5 |  82 |\n| Dodge      | Colt    | 29 | 1.5 |  92 |\n| Volkswagen | Passat  | 21 | 2.0 | 134 |\n| Geo        | Storm   | 30 | 1.6 |  90 |\n| Toyota     | Previa  | 18 | 2.4 | 138 |\n| Nissan     | Sentra  | 29 | 1.6 | 110 |\n| Toyota     | Celica  | 25 | 2.2 | 135 |\n| Honda      | Civic   | 42 | 1.5 | 102 |\n| Dodge      | Caravan | 17 | 3.0 | 142 |\n| Hyundai    | Sonata  | 20 | 2.0 | 128 |\n\n",
            "text/latex": "A spec\\_tbl\\_df: 20 × 5\n\\begin{tabular}{lllll}\n Manufacturer & Model & MPG & Displacement & Horsepower\\\\\n <chr> & <chr> & <dbl> & <dbl> & <dbl>\\\\\n\\hline\n\t Chevrolet  & Camaro  & 19 & 3.4 & 160\\\\\n\t Oldsmobile & Achieva & NA & 2.3 & 155\\\\\n\t Dodge      & Spirit  & 22 & 2.5 & 100\\\\\n\t Chevrolet  & Astro   & NA & 4.3 & 165\\\\\n\t Chevrolet  & Corsica & 25 & 2.2 & 110\\\\\n\t Volkswagen & Corrado & 18 & 2.8 & 178\\\\\n\t Dodge      & Stealth & 18 & 3.0 & 300\\\\\n\t Volkswagen & Fox     & 25 & 1.8 &  81\\\\\n\t Cadillac   & DeVille & 16 & 4.9 & 200\\\\\n\t Hyundai    & Excel   & 29 & 1.5 &  81\\\\\n\t Toyota     & Tercel  & 32 & 1.5 &  82\\\\\n\t Dodge      & Colt    & 29 & 1.5 &  92\\\\\n\t Volkswagen & Passat  & 21 & 2.0 & 134\\\\\n\t Geo        & Storm   & 30 & 1.6 &  90\\\\\n\t Toyota     & Previa  & 18 & 2.4 & 138\\\\\n\t Nissan     & Sentra  & 29 & 1.6 & 110\\\\\n\t Toyota     & Celica  & 25 & 2.2 & 135\\\\\n\t Honda      & Civic   & 42 & 1.5 & 102\\\\\n\t Dodge      & Caravan & 17 & 3.0 & 142\\\\\n\t Hyundai    & Sonata  & 20 & 2.0 & 128\\\\\n\\end{tabular}\n",
            "text/plain": [
              "   Manufacturer Model   MPG Displacement Horsepower\n",
              "1  Chevrolet    Camaro  19  3.4          160       \n",
              "2  Oldsmobile   Achieva NA  2.3          155       \n",
              "3  Dodge        Spirit  22  2.5          100       \n",
              "4  Chevrolet    Astro   NA  4.3          165       \n",
              "5  Chevrolet    Corsica 25  2.2          110       \n",
              "6  Volkswagen   Corrado 18  2.8          178       \n",
              "7  Dodge        Stealth 18  3.0          300       \n",
              "8  Volkswagen   Fox     25  1.8           81       \n",
              "9  Cadillac     DeVille 16  4.9          200       \n",
              "10 Hyundai      Excel   29  1.5           81       \n",
              "11 Toyota       Tercel  32  1.5           82       \n",
              "12 Dodge        Colt    29  1.5           92       \n",
              "13 Volkswagen   Passat  21  2.0          134       \n",
              "14 Geo          Storm   30  1.6           90       \n",
              "15 Toyota       Previa  18  2.4          138       \n",
              "16 Nissan       Sentra  29  1.6          110       \n",
              "17 Toyota       Celica  25  2.2          135       \n",
              "18 Honda        Civic   42  1.5          102       \n",
              "19 Dodge        Caravan 17  3.0          142       \n",
              "20 Hyundai      Sonata  20  2.0          128       "
            ]
          },
          "metadata": {}
        }
      ]
    },
    {
      "cell_type": "markdown",
      "source": [
        "We can also specify the intended data type for a column with data we read in too using the `col_types` command"
      ],
      "metadata": {
        "id": "jJP2dCQQHoSF"
      }
    },
    {
      "cell_type": "code",
      "source": [
        "read_csv(\"https://github.com/UofGAnalyticsData/R/raw/main/Week%203/cars.csv\", na=\"*\",col_types=\"ccidi\")"
      ],
      "metadata": {
        "colab": {
          "base_uri": "https://localhost:8080/",
          "height": 725
        },
        "id": "XOV-iOs3HxCh",
        "outputId": "1deee313-c3ba-4cf1-a7fc-70997ec0c0ff"
      },
      "execution_count": null,
      "outputs": [
        {
          "output_type": "display_data",
          "data": {
            "text/html": [
              "<table class=\"dataframe\">\n",
              "<caption>A spec_tbl_df: 20 × 5</caption>\n",
              "<thead>\n",
              "\t<tr><th scope=col>Manufacturer</th><th scope=col>Model</th><th scope=col>MPG</th><th scope=col>Displacement</th><th scope=col>Horsepower</th></tr>\n",
              "\t<tr><th scope=col>&lt;chr&gt;</th><th scope=col>&lt;chr&gt;</th><th scope=col>&lt;int&gt;</th><th scope=col>&lt;dbl&gt;</th><th scope=col>&lt;int&gt;</th></tr>\n",
              "</thead>\n",
              "<tbody>\n",
              "\t<tr><td>Chevrolet </td><td>Camaro </td><td>19</td><td>3.4</td><td>160</td></tr>\n",
              "\t<tr><td>Oldsmobile</td><td>Achieva</td><td>NA</td><td>2.3</td><td>155</td></tr>\n",
              "\t<tr><td>Dodge     </td><td>Spirit </td><td>22</td><td>2.5</td><td>100</td></tr>\n",
              "\t<tr><td>Chevrolet </td><td>Astro  </td><td>NA</td><td>4.3</td><td>165</td></tr>\n",
              "\t<tr><td>Chevrolet </td><td>Corsica</td><td>25</td><td>2.2</td><td>110</td></tr>\n",
              "\t<tr><td>Volkswagen</td><td>Corrado</td><td>18</td><td>2.8</td><td>178</td></tr>\n",
              "\t<tr><td>Dodge     </td><td>Stealth</td><td>18</td><td>3.0</td><td>300</td></tr>\n",
              "\t<tr><td>Volkswagen</td><td>Fox    </td><td>25</td><td>1.8</td><td> 81</td></tr>\n",
              "\t<tr><td>Cadillac  </td><td>DeVille</td><td>16</td><td>4.9</td><td>200</td></tr>\n",
              "\t<tr><td>Hyundai   </td><td>Excel  </td><td>29</td><td>1.5</td><td> 81</td></tr>\n",
              "\t<tr><td>Toyota    </td><td>Tercel </td><td>32</td><td>1.5</td><td> 82</td></tr>\n",
              "\t<tr><td>Dodge     </td><td>Colt   </td><td>29</td><td>1.5</td><td> 92</td></tr>\n",
              "\t<tr><td>Volkswagen</td><td>Passat </td><td>21</td><td>2.0</td><td>134</td></tr>\n",
              "\t<tr><td>Geo       </td><td>Storm  </td><td>30</td><td>1.6</td><td> 90</td></tr>\n",
              "\t<tr><td>Toyota    </td><td>Previa </td><td>18</td><td>2.4</td><td>138</td></tr>\n",
              "\t<tr><td>Nissan    </td><td>Sentra </td><td>29</td><td>1.6</td><td>110</td></tr>\n",
              "\t<tr><td>Toyota    </td><td>Celica </td><td>25</td><td>2.2</td><td>135</td></tr>\n",
              "\t<tr><td>Honda     </td><td>Civic  </td><td>42</td><td>1.5</td><td>102</td></tr>\n",
              "\t<tr><td>Dodge     </td><td>Caravan</td><td>17</td><td>3.0</td><td>142</td></tr>\n",
              "\t<tr><td>Hyundai   </td><td>Sonata </td><td>20</td><td>2.0</td><td>128</td></tr>\n",
              "</tbody>\n",
              "</table>\n"
            ],
            "text/markdown": "\nA spec_tbl_df: 20 × 5\n\n| Manufacturer &lt;chr&gt; | Model &lt;chr&gt; | MPG &lt;int&gt; | Displacement &lt;dbl&gt; | Horsepower &lt;int&gt; |\n|---|---|---|---|---|\n| Chevrolet  | Camaro  | 19 | 3.4 | 160 |\n| Oldsmobile | Achieva | NA | 2.3 | 155 |\n| Dodge      | Spirit  | 22 | 2.5 | 100 |\n| Chevrolet  | Astro   | NA | 4.3 | 165 |\n| Chevrolet  | Corsica | 25 | 2.2 | 110 |\n| Volkswagen | Corrado | 18 | 2.8 | 178 |\n| Dodge      | Stealth | 18 | 3.0 | 300 |\n| Volkswagen | Fox     | 25 | 1.8 |  81 |\n| Cadillac   | DeVille | 16 | 4.9 | 200 |\n| Hyundai    | Excel   | 29 | 1.5 |  81 |\n| Toyota     | Tercel  | 32 | 1.5 |  82 |\n| Dodge      | Colt    | 29 | 1.5 |  92 |\n| Volkswagen | Passat  | 21 | 2.0 | 134 |\n| Geo        | Storm   | 30 | 1.6 |  90 |\n| Toyota     | Previa  | 18 | 2.4 | 138 |\n| Nissan     | Sentra  | 29 | 1.6 | 110 |\n| Toyota     | Celica  | 25 | 2.2 | 135 |\n| Honda      | Civic   | 42 | 1.5 | 102 |\n| Dodge      | Caravan | 17 | 3.0 | 142 |\n| Hyundai    | Sonata  | 20 | 2.0 | 128 |\n\n",
            "text/latex": "A spec\\_tbl\\_df: 20 × 5\n\\begin{tabular}{lllll}\n Manufacturer & Model & MPG & Displacement & Horsepower\\\\\n <chr> & <chr> & <int> & <dbl> & <int>\\\\\n\\hline\n\t Chevrolet  & Camaro  & 19 & 3.4 & 160\\\\\n\t Oldsmobile & Achieva & NA & 2.3 & 155\\\\\n\t Dodge      & Spirit  & 22 & 2.5 & 100\\\\\n\t Chevrolet  & Astro   & NA & 4.3 & 165\\\\\n\t Chevrolet  & Corsica & 25 & 2.2 & 110\\\\\n\t Volkswagen & Corrado & 18 & 2.8 & 178\\\\\n\t Dodge      & Stealth & 18 & 3.0 & 300\\\\\n\t Volkswagen & Fox     & 25 & 1.8 &  81\\\\\n\t Cadillac   & DeVille & 16 & 4.9 & 200\\\\\n\t Hyundai    & Excel   & 29 & 1.5 &  81\\\\\n\t Toyota     & Tercel  & 32 & 1.5 &  82\\\\\n\t Dodge      & Colt    & 29 & 1.5 &  92\\\\\n\t Volkswagen & Passat  & 21 & 2.0 & 134\\\\\n\t Geo        & Storm   & 30 & 1.6 &  90\\\\\n\t Toyota     & Previa  & 18 & 2.4 & 138\\\\\n\t Nissan     & Sentra  & 29 & 1.6 & 110\\\\\n\t Toyota     & Celica  & 25 & 2.2 & 135\\\\\n\t Honda      & Civic   & 42 & 1.5 & 102\\\\\n\t Dodge      & Caravan & 17 & 3.0 & 142\\\\\n\t Hyundai    & Sonata  & 20 & 2.0 & 128\\\\\n\\end{tabular}\n",
            "text/plain": [
              "   Manufacturer Model   MPG Displacement Horsepower\n",
              "1  Chevrolet    Camaro  19  3.4          160       \n",
              "2  Oldsmobile   Achieva NA  2.3          155       \n",
              "3  Dodge        Spirit  22  2.5          100       \n",
              "4  Chevrolet    Astro   NA  4.3          165       \n",
              "5  Chevrolet    Corsica 25  2.2          110       \n",
              "6  Volkswagen   Corrado 18  2.8          178       \n",
              "7  Dodge        Stealth 18  3.0          300       \n",
              "8  Volkswagen   Fox     25  1.8           81       \n",
              "9  Cadillac     DeVille 16  4.9          200       \n",
              "10 Hyundai      Excel   29  1.5           81       \n",
              "11 Toyota       Tercel  32  1.5           82       \n",
              "12 Dodge        Colt    29  1.5           92       \n",
              "13 Volkswagen   Passat  21  2.0          134       \n",
              "14 Geo          Storm   30  1.6           90       \n",
              "15 Toyota       Previa  18  2.4          138       \n",
              "16 Nissan       Sentra  29  1.6          110       \n",
              "17 Toyota       Celica  25  2.2          135       \n",
              "18 Honda        Civic   42  1.5          102       \n",
              "19 Dodge        Caravan 17  3.0          142       \n",
              "20 Hyundai      Sonata  20  2.0          128       "
            ]
          },
          "metadata": {}
        }
      ]
    },
    {
      "cell_type": "markdown",
      "source": [
        "# Efficient data manipulation using `dplyr`\n",
        "\n",
        "All of the functions within the `dplyr` package are designed to be used with tibbles, but you can also use these functions with data frames if you wish.\n",
        "\n",
        "We can select observations using the `filter()` function. With this function, we specify a particular column entry we wish to filter by. `subset()` is the equivalent function in base R."
      ],
      "metadata": {
        "id": "f67k0IVcIAmF"
      }
    },
    {
      "cell_type": "code",
      "source": [
        "load(url(\"https://github.com/UofGAnalyticsData/R/raw/main/Week%204/velib\"))\n",
        "\n",
        "head(stations)\n",
        "head(bikes)\n",
        "\n",
        "library(dplyr)\n",
        "\n",
        "stations_Marne <- stations %>%\n",
        "  filter(departement==\"Val-de-Marne\")\n",
        "\n",
        "head(stations_Marne)"
      ],
      "metadata": {
        "id": "Q5Lx5PguJAZ2",
        "colab": {
          "base_uri": "https://localhost:8080/",
          "height": 1000
        },
        "outputId": "8368642b-396f-4701-e555-615d81adfa72"
      },
      "execution_count": null,
      "outputs": [
        {
          "output_type": "display_data",
          "data": {
            "text/html": [
              "<table class=\"dataframe\">\n",
              "<caption>A tibble: 6 × 6</caption>\n",
              "<thead>\n",
              "\t<tr><th></th><th scope=col>name</th><th scope=col>id</th><th scope=col>address</th><th scope=col>lng</th><th scope=col>lat</th><th scope=col>departement</th></tr>\n",
              "\t<tr><th></th><th scope=col>&lt;chr&gt;</th><th scope=col>&lt;dbl&gt;</th><th scope=col>&lt;chr&gt;</th><th scope=col>&lt;dbl&gt;</th><th scope=col>&lt;dbl&gt;</th><th scope=col>&lt;chr&gt;</th></tr>\n",
              "</thead>\n",
              "<tbody>\n",
              "\t<tr><th scope=row>1</th><td>PORT SOLFERINO (STATION MOBILE)          </td><td>901</td><td>BERGES DE SEINE, SOUS LA PASSERELLE SENGHOR AU PORT DE SOLFERINO - 75007 PARIS</td><td>2.324420</td><td>48.86138</td><td>Paris</td></tr>\n",
              "\t<tr><th scope=row>2</th><td>QUAI MAURIAC  / PONT DE BERCY            </td><td>903</td><td>FETE DE L'OH (BERCY) - QUAI MAURIAC ANG PONT DE BERCY - 75013 PARIS           </td><td>2.374341</td><td>48.83713</td><td>Paris</td></tr>\n",
              "\t<tr><th scope=row>3</th><td>17/19 PLACE JOFFRE / ECOLE MILITAIRE     </td><td>904</td><td>ECOLE MILITAIRE-AVENUE DE LA MOTTE PICQUET - 75007 PARIS                      </td><td>2.301919</td><td>48.85218</td><td>Paris</td></tr>\n",
              "\t<tr><th scope=row>4</th><td>CONCORDE/BERGES DE SEINE (STATION MOBILE)</td><td>905</td><td>BERGES DE SEINE, BAS DE LA BRETELLE AVAL CONCORDE - 75007 PARIS               </td><td>2.316318</td><td>48.86315</td><td>Paris</td></tr>\n",
              "\t<tr><th scope=row>5</th><td>PORT DU GROS CAILLOU (STATION MOBILE)    </td><td>908</td><td>BERGES DE SEINE, ESCALIER PORT DU GROS CAILLOU - 75007 PARIS                  </td><td>2.306366</td><td>48.86290</td><td>Paris</td></tr>\n",
              "\t<tr><th scope=row>6</th><td>PONT D'ARCOLE (STATION MOBILE)           </td><td>909</td><td>Voie Georges Pompidou - 75004 PARIS                                           </td><td>2.350783</td><td>48.85584</td><td>Paris</td></tr>\n",
              "</tbody>\n",
              "</table>\n"
            ],
            "text/markdown": "\nA tibble: 6 × 6\n\n| <!--/--> | name &lt;chr&gt; | id &lt;dbl&gt; | address &lt;chr&gt; | lng &lt;dbl&gt; | lat &lt;dbl&gt; | departement &lt;chr&gt; |\n|---|---|---|---|---|---|---|\n| 1 | PORT SOLFERINO (STATION MOBILE)           | 901 | BERGES DE SEINE, SOUS LA PASSERELLE SENGHOR AU PORT DE SOLFERINO - 75007 PARIS | 2.324420 | 48.86138 | Paris |\n| 2 | QUAI MAURIAC  / PONT DE BERCY             | 903 | FETE DE L'OH (BERCY) - QUAI MAURIAC ANG PONT DE BERCY - 75013 PARIS            | 2.374341 | 48.83713 | Paris |\n| 3 | 17/19 PLACE JOFFRE / ECOLE MILITAIRE      | 904 | ECOLE MILITAIRE-AVENUE DE LA MOTTE PICQUET - 75007 PARIS                       | 2.301919 | 48.85218 | Paris |\n| 4 | CONCORDE/BERGES DE SEINE (STATION MOBILE) | 905 | BERGES DE SEINE, BAS DE LA BRETELLE AVAL CONCORDE - 75007 PARIS                | 2.316318 | 48.86315 | Paris |\n| 5 | PORT DU GROS CAILLOU (STATION MOBILE)     | 908 | BERGES DE SEINE, ESCALIER PORT DU GROS CAILLOU - 75007 PARIS                   | 2.306366 | 48.86290 | Paris |\n| 6 | PONT D'ARCOLE (STATION MOBILE)            | 909 | Voie Georges Pompidou - 75004 PARIS                                            | 2.350783 | 48.85584 | Paris |\n\n",
            "text/latex": "A tibble: 6 × 6\n\\begin{tabular}{r|llllll}\n  & name & id & address & lng & lat & departement\\\\\n  & <chr> & <dbl> & <chr> & <dbl> & <dbl> & <chr>\\\\\n\\hline\n\t1 & PORT SOLFERINO (STATION MOBILE)           & 901 & BERGES DE SEINE, SOUS LA PASSERELLE SENGHOR AU PORT DE SOLFERINO - 75007 PARIS & 2.324420 & 48.86138 & Paris\\\\\n\t2 & QUAI MAURIAC  / PONT DE BERCY             & 903 & FETE DE L'OH (BERCY) - QUAI MAURIAC ANG PONT DE BERCY - 75013 PARIS            & 2.374341 & 48.83713 & Paris\\\\\n\t3 & 17/19 PLACE JOFFRE / ECOLE MILITAIRE      & 904 & ECOLE MILITAIRE-AVENUE DE LA MOTTE PICQUET - 75007 PARIS                       & 2.301919 & 48.85218 & Paris\\\\\n\t4 & CONCORDE/BERGES DE SEINE (STATION MOBILE) & 905 & BERGES DE SEINE, BAS DE LA BRETELLE AVAL CONCORDE - 75007 PARIS                & 2.316318 & 48.86315 & Paris\\\\\n\t5 & PORT DU GROS CAILLOU (STATION MOBILE)     & 908 & BERGES DE SEINE, ESCALIER PORT DU GROS CAILLOU - 75007 PARIS                   & 2.306366 & 48.86290 & Paris\\\\\n\t6 & PONT D'ARCOLE (STATION MOBILE)            & 909 & Voie Georges Pompidou - 75004 PARIS                                            & 2.350783 & 48.85584 & Paris\\\\\n\\end{tabular}\n",
            "text/plain": [
              "  name                                      id \n",
              "1 PORT SOLFERINO (STATION MOBILE)           901\n",
              "2 QUAI MAURIAC  / PONT DE BERCY             903\n",
              "3 17/19 PLACE JOFFRE / ECOLE MILITAIRE      904\n",
              "4 CONCORDE/BERGES DE SEINE (STATION MOBILE) 905\n",
              "5 PORT DU GROS CAILLOU (STATION MOBILE)     908\n",
              "6 PONT D'ARCOLE (STATION MOBILE)            909\n",
              "  address                                                                       \n",
              "1 BERGES DE SEINE, SOUS LA PASSERELLE SENGHOR AU PORT DE SOLFERINO - 75007 PARIS\n",
              "2 FETE DE L'OH (BERCY) - QUAI MAURIAC ANG PONT DE BERCY - 75013 PARIS           \n",
              "3 ECOLE MILITAIRE-AVENUE DE LA MOTTE PICQUET - 75007 PARIS                      \n",
              "4 BERGES DE SEINE, BAS DE LA BRETELLE AVAL CONCORDE - 75007 PARIS               \n",
              "5 BERGES DE SEINE, ESCALIER PORT DU GROS CAILLOU - 75007 PARIS                  \n",
              "6 Voie Georges Pompidou - 75004 PARIS                                           \n",
              "  lng      lat      departement\n",
              "1 2.324420 48.86138 Paris      \n",
              "2 2.374341 48.83713 Paris      \n",
              "3 2.301919 48.85218 Paris      \n",
              "4 2.316318 48.86315 Paris      \n",
              "5 2.306366 48.86290 Paris      \n",
              "6 2.350783 48.85584 Paris      "
            ]
          },
          "metadata": {}
        },
        {
          "output_type": "display_data",
          "data": {
            "text/html": [
              "<table class=\"dataframe\">\n",
              "<caption>A tibble: 6 × 4</caption>\n",
              "<thead>\n",
              "\t<tr><th></th><th scope=col>name</th><th scope=col>available_bikes</th><th scope=col>available_bike_stands</th><th scope=col>time</th></tr>\n",
              "\t<tr><th></th><th scope=col>&lt;chr&gt;</th><th scope=col>&lt;int&gt;</th><th scope=col>&lt;int&gt;</th><th scope=col>&lt;dbl&gt;</th></tr>\n",
              "</thead>\n",
              "<tbody>\n",
              "\t<tr><th scope=row>1</th><td>CHAMPEAUX (BAGNOLET)      </td><td> 9</td><td>41</td><td>13</td></tr>\n",
              "\t<tr><th scope=row>2</th><td>POISSONNIÈRE - ENGHIEN    </td><td>33</td><td> 0</td><td>13</td></tr>\n",
              "\t<tr><th scope=row>3</th><td>METRO ROME                </td><td> 6</td><td>38</td><td>13</td></tr>\n",
              "\t<tr><th scope=row>4</th><td>DE GAULLE (PANTIN)        </td><td> 2</td><td>16</td><td>13</td></tr>\n",
              "\t<tr><th scope=row>5</th><td>PARC DE BELLEVILLE (20040)</td><td> 4</td><td>22</td><td>13</td></tr>\n",
              "\t<tr><th scope=row>6</th><td>SOLJENITSYNE (PUTEAUX)    </td><td>56</td><td> 4</td><td>13</td></tr>\n",
              "</tbody>\n",
              "</table>\n"
            ],
            "text/markdown": "\nA tibble: 6 × 4\n\n| <!--/--> | name &lt;chr&gt; | available_bikes &lt;int&gt; | available_bike_stands &lt;int&gt; | time &lt;dbl&gt; |\n|---|---|---|---|---|\n| 1 | CHAMPEAUX (BAGNOLET)       |  9 | 41 | 13 |\n| 2 | POISSONNIÈRE - ENGHIEN     | 33 |  0 | 13 |\n| 3 | METRO ROME                 |  6 | 38 | 13 |\n| 4 | DE GAULLE (PANTIN)         |  2 | 16 | 13 |\n| 5 | PARC DE BELLEVILLE (20040) |  4 | 22 | 13 |\n| 6 | SOLJENITSYNE (PUTEAUX)     | 56 |  4 | 13 |\n\n",
            "text/latex": "A tibble: 6 × 4\n\\begin{tabular}{r|llll}\n  & name & available\\_bikes & available\\_bike\\_stands & time\\\\\n  & <chr> & <int> & <int> & <dbl>\\\\\n\\hline\n\t1 & CHAMPEAUX (BAGNOLET)       &  9 & 41 & 13\\\\\n\t2 & POISSONNIÈRE - ENGHIEN     & 33 &  0 & 13\\\\\n\t3 & METRO ROME                 &  6 & 38 & 13\\\\\n\t4 & DE GAULLE (PANTIN)         &  2 & 16 & 13\\\\\n\t5 & PARC DE BELLEVILLE (20040) &  4 & 22 & 13\\\\\n\t6 & SOLJENITSYNE (PUTEAUX)     & 56 &  4 & 13\\\\\n\\end{tabular}\n",
            "text/plain": [
              "  name                       available_bikes available_bike_stands time\n",
              "1 CHAMPEAUX (BAGNOLET)        9              41                    13  \n",
              "2 POISSONNIÈRE - ENGHIEN     33               0                    13  \n",
              "3 METRO ROME                  6              38                    13  \n",
              "4 DE GAULLE (PANTIN)          2              16                    13  \n",
              "5 PARC DE BELLEVILLE (20040)  4              22                    13  \n",
              "6 SOLJENITSYNE (PUTEAUX)     56               4                    13  "
            ]
          },
          "metadata": {}
        },
        {
          "output_type": "stream",
          "name": "stderr",
          "text": [
            "\n",
            "Attaching package: ‘dplyr’\n",
            "\n",
            "\n",
            "The following objects are masked from ‘package:stats’:\n",
            "\n",
            "    filter, lag\n",
            "\n",
            "\n",
            "The following objects are masked from ‘package:base’:\n",
            "\n",
            "    intersect, setdiff, setequal, union\n",
            "\n",
            "\n"
          ]
        },
        {
          "output_type": "display_data",
          "data": {
            "text/html": [
              "<table class=\"dataframe\">\n",
              "<caption>A tibble: 6 × 6</caption>\n",
              "<thead>\n",
              "\t<tr><th scope=col>name</th><th scope=col>id</th><th scope=col>address</th><th scope=col>lng</th><th scope=col>lat</th><th scope=col>departement</th></tr>\n",
              "\t<tr><th scope=col>&lt;chr&gt;</th><th scope=col>&lt;dbl&gt;</th><th scope=col>&lt;chr&gt;</th><th scope=col>&lt;dbl&gt;</th><th scope=col>&lt;dbl&gt;</th><th scope=col>&lt;chr&gt;</th></tr>\n",
              "</thead>\n",
              "<tbody>\n",
              "\t<tr><td>DOUMER (ARCUEIL)               </td><td>41101</td><td>FACE AU 11 AVENUE PAUL DOUMER - 94110 ARCUEIL                                  </td><td>2.336710</td><td>48.80638</td><td>Val-de-Marne</td></tr>\n",
              "\t<tr><td>RENAN (ARCUEIL)                </td><td>41102</td><td>rue Ernest Renan / angle rue Vaucouleurs (A la sortie du RER B) - 94110 ARCUEIL</td><td>2.334690</td><td>48.80880</td><td>Val-de-Marne</td></tr>\n",
              "\t<tr><td>BRIAND (ARCUEIL)               </td><td>41103</td><td>AVENUE ARISTIDE BRIAND (CARREFOUR VACHE NOIRE) - 94110 ARCUEIL                 </td><td>2.326970</td><td>48.81042</td><td>Val-de-Marne</td></tr>\n",
              "\t<tr><td>DE RICARD (FONTENAY SOUS BOIS) </td><td>41201</td><td>RUE LOUIS-XAVIER DE RICARD - 94120 FONTENAY SOUS BOIS                          </td><td>2.472409</td><td>48.84630</td><td>Val-de-Marne</td></tr>\n",
              "\t<tr><td>CHARMES (FONTENAY SOUS BOIS)   </td><td>41202</td><td>ANGLE AVENUE DES CHARMES / AVENUE FOCH - 94120 FONTENAY SOUS BOIS              </td><td>2.463083</td><td>48.84367</td><td>Val-de-Marne</td></tr>\n",
              "\t<tr><td>STALINGRAD (FONTENAY SOUS BOIS)</td><td>41203</td><td>14 AVENUE STALINGRAD - 94120 FONTENAY SOUS BOIS                                </td><td>2.455529</td><td>48.85013</td><td>Val-de-Marne</td></tr>\n",
              "</tbody>\n",
              "</table>\n"
            ],
            "text/markdown": "\nA tibble: 6 × 6\n\n| name &lt;chr&gt; | id &lt;dbl&gt; | address &lt;chr&gt; | lng &lt;dbl&gt; | lat &lt;dbl&gt; | departement &lt;chr&gt; |\n|---|---|---|---|---|---|\n| DOUMER (ARCUEIL)                | 41101 | FACE AU 11 AVENUE PAUL DOUMER - 94110 ARCUEIL                                   | 2.336710 | 48.80638 | Val-de-Marne |\n| RENAN (ARCUEIL)                 | 41102 | rue Ernest Renan / angle rue Vaucouleurs (A la sortie du RER B) - 94110 ARCUEIL | 2.334690 | 48.80880 | Val-de-Marne |\n| BRIAND (ARCUEIL)                | 41103 | AVENUE ARISTIDE BRIAND (CARREFOUR VACHE NOIRE) - 94110 ARCUEIL                  | 2.326970 | 48.81042 | Val-de-Marne |\n| DE RICARD (FONTENAY SOUS BOIS)  | 41201 | RUE LOUIS-XAVIER DE RICARD - 94120 FONTENAY SOUS BOIS                           | 2.472409 | 48.84630 | Val-de-Marne |\n| CHARMES (FONTENAY SOUS BOIS)    | 41202 | ANGLE AVENUE DES CHARMES / AVENUE FOCH - 94120 FONTENAY SOUS BOIS               | 2.463083 | 48.84367 | Val-de-Marne |\n| STALINGRAD (FONTENAY SOUS BOIS) | 41203 | 14 AVENUE STALINGRAD - 94120 FONTENAY SOUS BOIS                                 | 2.455529 | 48.85013 | Val-de-Marne |\n\n",
            "text/latex": "A tibble: 6 × 6\n\\begin{tabular}{llllll}\n name & id & address & lng & lat & departement\\\\\n <chr> & <dbl> & <chr> & <dbl> & <dbl> & <chr>\\\\\n\\hline\n\t DOUMER (ARCUEIL)                & 41101 & FACE AU 11 AVENUE PAUL DOUMER - 94110 ARCUEIL                                   & 2.336710 & 48.80638 & Val-de-Marne\\\\\n\t RENAN (ARCUEIL)                 & 41102 & rue Ernest Renan / angle rue Vaucouleurs (A la sortie du RER B) - 94110 ARCUEIL & 2.334690 & 48.80880 & Val-de-Marne\\\\\n\t BRIAND (ARCUEIL)                & 41103 & AVENUE ARISTIDE BRIAND (CARREFOUR VACHE NOIRE) - 94110 ARCUEIL                  & 2.326970 & 48.81042 & Val-de-Marne\\\\\n\t DE RICARD (FONTENAY SOUS BOIS)  & 41201 & RUE LOUIS-XAVIER DE RICARD - 94120 FONTENAY SOUS BOIS                           & 2.472409 & 48.84630 & Val-de-Marne\\\\\n\t CHARMES (FONTENAY SOUS BOIS)    & 41202 & ANGLE AVENUE DES CHARMES / AVENUE FOCH - 94120 FONTENAY SOUS BOIS               & 2.463083 & 48.84367 & Val-de-Marne\\\\\n\t STALINGRAD (FONTENAY SOUS BOIS) & 41203 & 14 AVENUE STALINGRAD - 94120 FONTENAY SOUS BOIS                                 & 2.455529 & 48.85013 & Val-de-Marne\\\\\n\\end{tabular}\n",
            "text/plain": [
              "  name                            id   \n",
              "1 DOUMER (ARCUEIL)                41101\n",
              "2 RENAN (ARCUEIL)                 41102\n",
              "3 BRIAND (ARCUEIL)                41103\n",
              "4 DE RICARD (FONTENAY SOUS BOIS)  41201\n",
              "5 CHARMES (FONTENAY SOUS BOIS)    41202\n",
              "6 STALINGRAD (FONTENAY SOUS BOIS) 41203\n",
              "  address                                                                        \n",
              "1 FACE AU 11 AVENUE PAUL DOUMER - 94110 ARCUEIL                                  \n",
              "2 rue Ernest Renan / angle rue Vaucouleurs (A la sortie du RER B) - 94110 ARCUEIL\n",
              "3 AVENUE ARISTIDE BRIAND (CARREFOUR VACHE NOIRE) - 94110 ARCUEIL                 \n",
              "4 RUE LOUIS-XAVIER DE RICARD - 94120 FONTENAY SOUS BOIS                          \n",
              "5 ANGLE AVENUE DES CHARMES / AVENUE FOCH - 94120 FONTENAY SOUS BOIS              \n",
              "6 14 AVENUE STALINGRAD - 94120 FONTENAY SOUS BOIS                                \n",
              "  lng      lat      departement \n",
              "1 2.336710 48.80638 Val-de-Marne\n",
              "2 2.334690 48.80880 Val-de-Marne\n",
              "3 2.326970 48.81042 Val-de-Marne\n",
              "4 2.472409 48.84630 Val-de-Marne\n",
              "5 2.463083 48.84367 Val-de-Marne\n",
              "6 2.455529 48.85013 Val-de-Marne"
            ]
          },
          "metadata": {}
        }
      ]
    },
    {
      "cell_type": "markdown",
      "source": [
        "If you want to select observations by a specific row number, the `slice()` command can be used (similarly to the [x,] command).\n",
        "\n"
      ],
      "metadata": {
        "id": "X2clbxqbQcJ8"
      }
    },
    {
      "cell_type": "code",
      "source": [
        "stations %>%\n",
        "  slice(1:4)\n",
        "\n",
        "stations[1:4,]"
      ],
      "metadata": {
        "colab": {
          "base_uri": "https://localhost:8080/",
          "height": 430
        },
        "id": "U0fOC1jJYCby",
        "outputId": "e8b8d1d8-aef7-415c-955e-7551938d0068"
      },
      "execution_count": null,
      "outputs": [
        {
          "output_type": "display_data",
          "data": {
            "text/html": [
              "<table class=\"dataframe\">\n",
              "<caption>A tibble: 4 × 6</caption>\n",
              "<thead>\n",
              "\t<tr><th scope=col>name</th><th scope=col>id</th><th scope=col>address</th><th scope=col>lng</th><th scope=col>lat</th><th scope=col>departement</th></tr>\n",
              "\t<tr><th scope=col>&lt;chr&gt;</th><th scope=col>&lt;dbl&gt;</th><th scope=col>&lt;chr&gt;</th><th scope=col>&lt;dbl&gt;</th><th scope=col>&lt;dbl&gt;</th><th scope=col>&lt;chr&gt;</th></tr>\n",
              "</thead>\n",
              "<tbody>\n",
              "\t<tr><td>PORT SOLFERINO (STATION MOBILE)          </td><td>901</td><td>BERGES DE SEINE, SOUS LA PASSERELLE SENGHOR AU PORT DE SOLFERINO - 75007 PARIS</td><td>2.324420</td><td>48.86138</td><td>Paris</td></tr>\n",
              "\t<tr><td>QUAI MAURIAC  / PONT DE BERCY            </td><td>903</td><td>FETE DE L'OH (BERCY) - QUAI MAURIAC ANG PONT DE BERCY - 75013 PARIS           </td><td>2.374341</td><td>48.83713</td><td>Paris</td></tr>\n",
              "\t<tr><td>17/19 PLACE JOFFRE / ECOLE MILITAIRE     </td><td>904</td><td>ECOLE MILITAIRE-AVENUE DE LA MOTTE PICQUET - 75007 PARIS                      </td><td>2.301919</td><td>48.85218</td><td>Paris</td></tr>\n",
              "\t<tr><td>CONCORDE/BERGES DE SEINE (STATION MOBILE)</td><td>905</td><td>BERGES DE SEINE, BAS DE LA BRETELLE AVAL CONCORDE - 75007 PARIS               </td><td>2.316318</td><td>48.86315</td><td>Paris</td></tr>\n",
              "</tbody>\n",
              "</table>\n"
            ],
            "text/markdown": "\nA tibble: 4 × 6\n\n| name &lt;chr&gt; | id &lt;dbl&gt; | address &lt;chr&gt; | lng &lt;dbl&gt; | lat &lt;dbl&gt; | departement &lt;chr&gt; |\n|---|---|---|---|---|---|\n| PORT SOLFERINO (STATION MOBILE)           | 901 | BERGES DE SEINE, SOUS LA PASSERELLE SENGHOR AU PORT DE SOLFERINO - 75007 PARIS | 2.324420 | 48.86138 | Paris |\n| QUAI MAURIAC  / PONT DE BERCY             | 903 | FETE DE L'OH (BERCY) - QUAI MAURIAC ANG PONT DE BERCY - 75013 PARIS            | 2.374341 | 48.83713 | Paris |\n| 17/19 PLACE JOFFRE / ECOLE MILITAIRE      | 904 | ECOLE MILITAIRE-AVENUE DE LA MOTTE PICQUET - 75007 PARIS                       | 2.301919 | 48.85218 | Paris |\n| CONCORDE/BERGES DE SEINE (STATION MOBILE) | 905 | BERGES DE SEINE, BAS DE LA BRETELLE AVAL CONCORDE - 75007 PARIS                | 2.316318 | 48.86315 | Paris |\n\n",
            "text/latex": "A tibble: 4 × 6\n\\begin{tabular}{llllll}\n name & id & address & lng & lat & departement\\\\\n <chr> & <dbl> & <chr> & <dbl> & <dbl> & <chr>\\\\\n\\hline\n\t PORT SOLFERINO (STATION MOBILE)           & 901 & BERGES DE SEINE, SOUS LA PASSERELLE SENGHOR AU PORT DE SOLFERINO - 75007 PARIS & 2.324420 & 48.86138 & Paris\\\\\n\t QUAI MAURIAC  / PONT DE BERCY             & 903 & FETE DE L'OH (BERCY) - QUAI MAURIAC ANG PONT DE BERCY - 75013 PARIS            & 2.374341 & 48.83713 & Paris\\\\\n\t 17/19 PLACE JOFFRE / ECOLE MILITAIRE      & 904 & ECOLE MILITAIRE-AVENUE DE LA MOTTE PICQUET - 75007 PARIS                       & 2.301919 & 48.85218 & Paris\\\\\n\t CONCORDE/BERGES DE SEINE (STATION MOBILE) & 905 & BERGES DE SEINE, BAS DE LA BRETELLE AVAL CONCORDE - 75007 PARIS                & 2.316318 & 48.86315 & Paris\\\\\n\\end{tabular}\n",
            "text/plain": [
              "  name                                      id \n",
              "1 PORT SOLFERINO (STATION MOBILE)           901\n",
              "2 QUAI MAURIAC  / PONT DE BERCY             903\n",
              "3 17/19 PLACE JOFFRE / ECOLE MILITAIRE      904\n",
              "4 CONCORDE/BERGES DE SEINE (STATION MOBILE) 905\n",
              "  address                                                                       \n",
              "1 BERGES DE SEINE, SOUS LA PASSERELLE SENGHOR AU PORT DE SOLFERINO - 75007 PARIS\n",
              "2 FETE DE L'OH (BERCY) - QUAI MAURIAC ANG PONT DE BERCY - 75013 PARIS           \n",
              "3 ECOLE MILITAIRE-AVENUE DE LA MOTTE PICQUET - 75007 PARIS                      \n",
              "4 BERGES DE SEINE, BAS DE LA BRETELLE AVAL CONCORDE - 75007 PARIS               \n",
              "  lng      lat      departement\n",
              "1 2.324420 48.86138 Paris      \n",
              "2 2.374341 48.83713 Paris      \n",
              "3 2.301919 48.85218 Paris      \n",
              "4 2.316318 48.86315 Paris      "
            ]
          },
          "metadata": {}
        },
        {
          "output_type": "display_data",
          "data": {
            "text/html": [
              "<table class=\"dataframe\">\n",
              "<caption>A tibble: 4 × 6</caption>\n",
              "<thead>\n",
              "\t<tr><th scope=col>name</th><th scope=col>id</th><th scope=col>address</th><th scope=col>lng</th><th scope=col>lat</th><th scope=col>departement</th></tr>\n",
              "\t<tr><th scope=col>&lt;chr&gt;</th><th scope=col>&lt;dbl&gt;</th><th scope=col>&lt;chr&gt;</th><th scope=col>&lt;dbl&gt;</th><th scope=col>&lt;dbl&gt;</th><th scope=col>&lt;chr&gt;</th></tr>\n",
              "</thead>\n",
              "<tbody>\n",
              "\t<tr><td>PORT SOLFERINO (STATION MOBILE)          </td><td>901</td><td>BERGES DE SEINE, SOUS LA PASSERELLE SENGHOR AU PORT DE SOLFERINO - 75007 PARIS</td><td>2.324420</td><td>48.86138</td><td>Paris</td></tr>\n",
              "\t<tr><td>QUAI MAURIAC  / PONT DE BERCY            </td><td>903</td><td>FETE DE L'OH (BERCY) - QUAI MAURIAC ANG PONT DE BERCY - 75013 PARIS           </td><td>2.374341</td><td>48.83713</td><td>Paris</td></tr>\n",
              "\t<tr><td>17/19 PLACE JOFFRE / ECOLE MILITAIRE     </td><td>904</td><td>ECOLE MILITAIRE-AVENUE DE LA MOTTE PICQUET - 75007 PARIS                      </td><td>2.301919</td><td>48.85218</td><td>Paris</td></tr>\n",
              "\t<tr><td>CONCORDE/BERGES DE SEINE (STATION MOBILE)</td><td>905</td><td>BERGES DE SEINE, BAS DE LA BRETELLE AVAL CONCORDE - 75007 PARIS               </td><td>2.316318</td><td>48.86315</td><td>Paris</td></tr>\n",
              "</tbody>\n",
              "</table>\n"
            ],
            "text/markdown": "\nA tibble: 4 × 6\n\n| name &lt;chr&gt; | id &lt;dbl&gt; | address &lt;chr&gt; | lng &lt;dbl&gt; | lat &lt;dbl&gt; | departement &lt;chr&gt; |\n|---|---|---|---|---|---|\n| PORT SOLFERINO (STATION MOBILE)           | 901 | BERGES DE SEINE, SOUS LA PASSERELLE SENGHOR AU PORT DE SOLFERINO - 75007 PARIS | 2.324420 | 48.86138 | Paris |\n| QUAI MAURIAC  / PONT DE BERCY             | 903 | FETE DE L'OH (BERCY) - QUAI MAURIAC ANG PONT DE BERCY - 75013 PARIS            | 2.374341 | 48.83713 | Paris |\n| 17/19 PLACE JOFFRE / ECOLE MILITAIRE      | 904 | ECOLE MILITAIRE-AVENUE DE LA MOTTE PICQUET - 75007 PARIS                       | 2.301919 | 48.85218 | Paris |\n| CONCORDE/BERGES DE SEINE (STATION MOBILE) | 905 | BERGES DE SEINE, BAS DE LA BRETELLE AVAL CONCORDE - 75007 PARIS                | 2.316318 | 48.86315 | Paris |\n\n",
            "text/latex": "A tibble: 4 × 6\n\\begin{tabular}{llllll}\n name & id & address & lng & lat & departement\\\\\n <chr> & <dbl> & <chr> & <dbl> & <dbl> & <chr>\\\\\n\\hline\n\t PORT SOLFERINO (STATION MOBILE)           & 901 & BERGES DE SEINE, SOUS LA PASSERELLE SENGHOR AU PORT DE SOLFERINO - 75007 PARIS & 2.324420 & 48.86138 & Paris\\\\\n\t QUAI MAURIAC  / PONT DE BERCY             & 903 & FETE DE L'OH (BERCY) - QUAI MAURIAC ANG PONT DE BERCY - 75013 PARIS            & 2.374341 & 48.83713 & Paris\\\\\n\t 17/19 PLACE JOFFRE / ECOLE MILITAIRE      & 904 & ECOLE MILITAIRE-AVENUE DE LA MOTTE PICQUET - 75007 PARIS                       & 2.301919 & 48.85218 & Paris\\\\\n\t CONCORDE/BERGES DE SEINE (STATION MOBILE) & 905 & BERGES DE SEINE, BAS DE LA BRETELLE AVAL CONCORDE - 75007 PARIS                & 2.316318 & 48.86315 & Paris\\\\\n\\end{tabular}\n",
            "text/plain": [
              "  name                                      id \n",
              "1 PORT SOLFERINO (STATION MOBILE)           901\n",
              "2 QUAI MAURIAC  / PONT DE BERCY             903\n",
              "3 17/19 PLACE JOFFRE / ECOLE MILITAIRE      904\n",
              "4 CONCORDE/BERGES DE SEINE (STATION MOBILE) 905\n",
              "  address                                                                       \n",
              "1 BERGES DE SEINE, SOUS LA PASSERELLE SENGHOR AU PORT DE SOLFERINO - 75007 PARIS\n",
              "2 FETE DE L'OH (BERCY) - QUAI MAURIAC ANG PONT DE BERCY - 75013 PARIS           \n",
              "3 ECOLE MILITAIRE-AVENUE DE LA MOTTE PICQUET - 75007 PARIS                      \n",
              "4 BERGES DE SEINE, BAS DE LA BRETELLE AVAL CONCORDE - 75007 PARIS               \n",
              "  lng      lat      departement\n",
              "1 2.324420 48.86138 Paris      \n",
              "2 2.374341 48.83713 Paris      \n",
              "3 2.301919 48.85218 Paris      \n",
              "4 2.316318 48.86315 Paris      "
            ]
          },
          "metadata": {}
        }
      ]
    },
    {
      "cell_type": "markdown",
      "source": [
        "The `select()` function can be used to subset the columns of a data set. You can either supply the columns to keep, or the ones to remove (using a - sign)."
      ],
      "metadata": {
        "id": "OddENT9qYG6j"
      }
    },
    {
      "cell_type": "code",
      "source": [
        "bikes_subset <- bikes %>%\n",
        "  select(name,time)\n",
        "\n",
        "head(bikes_subset)"
      ],
      "metadata": {
        "colab": {
          "base_uri": "https://localhost:8080/",
          "height": 286
        },
        "id": "wLk5gkxeYR32",
        "outputId": "959a743b-8032-423d-fd49-58bd631b2052"
      },
      "execution_count": null,
      "outputs": [
        {
          "output_type": "display_data",
          "data": {
            "text/html": [
              "<table class=\"dataframe\">\n",
              "<caption>A tibble: 6 × 2</caption>\n",
              "<thead>\n",
              "\t<tr><th scope=col>name</th><th scope=col>time</th></tr>\n",
              "\t<tr><th scope=col>&lt;chr&gt;</th><th scope=col>&lt;dbl&gt;</th></tr>\n",
              "</thead>\n",
              "<tbody>\n",
              "\t<tr><td>CHAMPEAUX (BAGNOLET)      </td><td>13</td></tr>\n",
              "\t<tr><td>POISSONNIÈRE - ENGHIEN    </td><td>13</td></tr>\n",
              "\t<tr><td>METRO ROME                </td><td>13</td></tr>\n",
              "\t<tr><td>DE GAULLE (PANTIN)        </td><td>13</td></tr>\n",
              "\t<tr><td>PARC DE BELLEVILLE (20040)</td><td>13</td></tr>\n",
              "\t<tr><td>SOLJENITSYNE (PUTEAUX)    </td><td>13</td></tr>\n",
              "</tbody>\n",
              "</table>\n"
            ],
            "text/markdown": "\nA tibble: 6 × 2\n\n| name &lt;chr&gt; | time &lt;dbl&gt; |\n|---|---|\n| CHAMPEAUX (BAGNOLET)       | 13 |\n| POISSONNIÈRE - ENGHIEN     | 13 |\n| METRO ROME                 | 13 |\n| DE GAULLE (PANTIN)         | 13 |\n| PARC DE BELLEVILLE (20040) | 13 |\n| SOLJENITSYNE (PUTEAUX)     | 13 |\n\n",
            "text/latex": "A tibble: 6 × 2\n\\begin{tabular}{ll}\n name & time\\\\\n <chr> & <dbl>\\\\\n\\hline\n\t CHAMPEAUX (BAGNOLET)       & 13\\\\\n\t POISSONNIÈRE - ENGHIEN     & 13\\\\\n\t METRO ROME                 & 13\\\\\n\t DE GAULLE (PANTIN)         & 13\\\\\n\t PARC DE BELLEVILLE (20040) & 13\\\\\n\t SOLJENITSYNE (PUTEAUX)     & 13\\\\\n\\end{tabular}\n",
            "text/plain": [
              "  name                       time\n",
              "1 CHAMPEAUX (BAGNOLET)       13  \n",
              "2 POISSONNIÈRE - ENGHIEN     13  \n",
              "3 METRO ROME                 13  \n",
              "4 DE GAULLE (PANTIN)         13  \n",
              "5 PARC DE BELLEVILLE (20040) 13  \n",
              "6 SOLJENITSYNE (PUTEAUX)     13  "
            ]
          },
          "metadata": {}
        }
      ]
    },
    {
      "cell_type": "markdown",
      "source": [
        "The `mutate()` function can be used to add new variables to a data set (just like `transform()`).\n",
        "\n",
        "We can also order data sets by one or more variables by using `arrange()`"
      ],
      "metadata": {
        "id": "3aHNW5scYcWq"
      }
    },
    {
      "cell_type": "code",
      "source": [
        "bikes <- bikes %>%\n",
        "  mutate(total_stands = available_bikes + available_bike_stands)\n",
        "\n",
        "bikes %>%\n",
        "  arrange(available_bike_stands)"
      ],
      "metadata": {
        "colab": {
          "base_uri": "https://localhost:8080/",
          "height": 1000
        },
        "id": "QHAPjXm5a73m",
        "outputId": "cec4ecbc-9b41-417c-fd1b-982af3c31af5"
      },
      "execution_count": null,
      "outputs": [
        {
          "output_type": "display_data",
          "data": {
            "text/html": [
              "<table class=\"dataframe\">\n",
              "<caption>A tibble: 67354 × 5</caption>\n",
              "<thead>\n",
              "\t<tr><th scope=col>name</th><th scope=col>available_bikes</th><th scope=col>available_bike_stands</th><th scope=col>time</th><th scope=col>total_stands</th></tr>\n",
              "\t<tr><th scope=col>&lt;chr&gt;</th><th scope=col>&lt;int&gt;</th><th scope=col>&lt;int&gt;</th><th scope=col>&lt;dbl&gt;</th><th scope=col>&lt;int&gt;</th></tr>\n",
              "</thead>\n",
              "<tbody>\n",
              "\t<tr><td>POISSONNIÈRE - ENGHIEN                   </td><td>33</td><td>0</td><td>13</td><td>33</td></tr>\n",
              "\t<tr><td>MUSÉE D'ORSAY                            </td><td>65</td><td>0</td><td>13</td><td>65</td></tr>\n",
              "\t<tr><td>KARMAN (AUBERVILLIERS)                   </td><td> 0</td><td>0</td><td>13</td><td> 0</td></tr>\n",
              "\t<tr><td>ROND POINT DES CHAMPS ELYSEES            </td><td> 0</td><td>0</td><td>13</td><td> 0</td></tr>\n",
              "\t<tr><td>PORT SOLFERINO (STATION MOBILE)          </td><td>20</td><td>0</td><td>13</td><td>20</td></tr>\n",
              "\t<tr><td>CITE RIVERIN                             </td><td>17</td><td>0</td><td>13</td><td>17</td></tr>\n",
              "\t<tr><td>MAZET SAINT ANDRE DES ARTS               </td><td>54</td><td>0</td><td>13</td><td>54</td></tr>\n",
              "\t<tr><td>VAUGIRARD PRINCE                         </td><td>24</td><td>0</td><td>13</td><td>24</td></tr>\n",
              "\t<tr><td>SAINT MICHEL DANTON                      </td><td>34</td><td>0</td><td>13</td><td>34</td></tr>\n",
              "\t<tr><td>PETIT (CLICHY)                           </td><td>22</td><td>0</td><td>13</td><td>22</td></tr>\n",
              "\t<tr><td>RICHARD LENOIR VOLTAIRE NORD             </td><td>23</td><td>0</td><td>13</td><td>23</td></tr>\n",
              "\t<tr><td>CONCORDE/BERGES DE SEINE (STATION MOBILE)</td><td>19</td><td>0</td><td>13</td><td>19</td></tr>\n",
              "\t<tr><td>BACHAUMONT                               </td><td>32</td><td>0</td><td>13</td><td>32</td></tr>\n",
              "\t<tr><td>RASPAIL VARENNE                          </td><td>36</td><td>0</td><td>13</td><td>36</td></tr>\n",
              "\t<tr><td>GOBELINS                                 </td><td>31</td><td>0</td><td>13</td><td>31</td></tr>\n",
              "\t<tr><td>LINOIS                                   </td><td>33</td><td>0</td><td>13</td><td>33</td></tr>\n",
              "\t<tr><td>PLACE DUNANT                             </td><td>24</td><td>0</td><td>13</td><td>24</td></tr>\n",
              "\t<tr><td>REIMS                                    </td><td>33</td><td>0</td><td>13</td><td>33</td></tr>\n",
              "\t<tr><td>CAUMARTIN PROVENCE                       </td><td>23</td><td>0</td><td>13</td><td>23</td></tr>\n",
              "\t<tr><td>BRUNESEAU - QUAI D'IVRY                  </td><td>20</td><td>0</td><td>13</td><td>20</td></tr>\n",
              "\t<tr><td>JEMMAPES                                 </td><td> 1</td><td>0</td><td>13</td><td> 1</td></tr>\n",
              "\t<tr><td>REPUBLIQUE 23                            </td><td>18</td><td>0</td><td>13</td><td>18</td></tr>\n",
              "\t<tr><td>GARE EMGP                                </td><td> 0</td><td>0</td><td>13</td><td> 0</td></tr>\n",
              "\t<tr><td>ECLUSES SAINT MARTIN                     </td><td> 0</td><td>0</td><td>13</td><td> 0</td></tr>\n",
              "\t<tr><td>ST GERMAIN-DANTE                         </td><td>16</td><td>0</td><td>13</td><td>16</td></tr>\n",
              "\t<tr><td>BONAPARTE BEAUX ARTS                     </td><td>19</td><td>0</td><td>13</td><td>19</td></tr>\n",
              "\t<tr><td>PECQUEUR                                 </td><td> 0</td><td>0</td><td>13</td><td> 0</td></tr>\n",
              "\t<tr><td>PONT NEUF - 14                           </td><td>23</td><td>0</td><td>13</td><td>23</td></tr>\n",
              "\t<tr><td>ROLLET                                   </td><td> 8</td><td>0</td><td>13</td><td> 8</td></tr>\n",
              "\t<tr><td>POISSY                                   </td><td>25</td><td>0</td><td>13</td><td>25</td></tr>\n",
              "\t<tr><td>⋮</td><td>⋮</td><td>⋮</td><td>⋮</td><td>⋮</td></tr>\n",
              "\t<tr><td>BELLEVILLE (20041)</td><td>2</td><td>71</td><td>16.50000</td><td>73</td></tr>\n",
              "\t<tr><td>PANTIN            </td><td>4</td><td>71</td><td>16.75000</td><td>75</td></tr>\n",
              "\t<tr><td>PANTIN            </td><td>4</td><td>71</td><td>16.83333</td><td>75</td></tr>\n",
              "\t<tr><td>BELLEVILLE (20041)</td><td>2</td><td>71</td><td>16.91667</td><td>73</td></tr>\n",
              "\t<tr><td>PANTIN            </td><td>4</td><td>71</td><td>16.91667</td><td>75</td></tr>\n",
              "\t<tr><td>PANTIN            </td><td>4</td><td>71</td><td>17.00000</td><td>75</td></tr>\n",
              "\t<tr><td>BELLEVILLE (20041)</td><td>2</td><td>71</td><td>17.16667</td><td>73</td></tr>\n",
              "\t<tr><td>PANTIN            </td><td>4</td><td>71</td><td>17.16667</td><td>75</td></tr>\n",
              "\t<tr><td>PANTIN            </td><td>4</td><td>71</td><td>17.25000</td><td>75</td></tr>\n",
              "\t<tr><td>PANTIN            </td><td>4</td><td>71</td><td>17.33333</td><td>75</td></tr>\n",
              "\t<tr><td>PANTIN            </td><td>4</td><td>71</td><td>17.41667</td><td>75</td></tr>\n",
              "\t<tr><td>PANTIN            </td><td>4</td><td>71</td><td>18.08333</td><td>75</td></tr>\n",
              "\t<tr><td>PANTIN            </td><td>4</td><td>71</td><td>18.16667</td><td>75</td></tr>\n",
              "\t<tr><td>BELLEVILLE (20041)</td><td>0</td><td>72</td><td>14.41667</td><td>72</td></tr>\n",
              "\t<tr><td>BELLEVILLE (20041)</td><td>1</td><td>72</td><td>14.83333</td><td>73</td></tr>\n",
              "\t<tr><td>BELLEVILLE (20041)</td><td>1</td><td>72</td><td>14.91667</td><td>73</td></tr>\n",
              "\t<tr><td>BELLEVILLE (20041)</td><td>1</td><td>72</td><td>15.08333</td><td>73</td></tr>\n",
              "\t<tr><td>BELLEVILLE (20041)</td><td>1</td><td>72</td><td>15.16667</td><td>73</td></tr>\n",
              "\t<tr><td>BELLEVILLE (20041)</td><td>1</td><td>72</td><td>15.58333</td><td>73</td></tr>\n",
              "\t<tr><td>BELLEVILLE (20041)</td><td>1</td><td>72</td><td>15.66667</td><td>73</td></tr>\n",
              "\t<tr><td>BELLEVILLE (20041)</td><td>1</td><td>72</td><td>15.75000</td><td>73</td></tr>\n",
              "\t<tr><td>PANTIN            </td><td>3</td><td>72</td><td>15.91667</td><td>75</td></tr>\n",
              "\t<tr><td>PANTIN            </td><td>3</td><td>72</td><td>16.00000</td><td>75</td></tr>\n",
              "\t<tr><td>PANTIN            </td><td>3</td><td>72</td><td>16.25000</td><td>75</td></tr>\n",
              "\t<tr><td>PANTIN            </td><td>3</td><td>72</td><td>16.33333</td><td>75</td></tr>\n",
              "\t<tr><td>BELLEVILLE (20041)</td><td>1</td><td>72</td><td>17.00000</td><td>73</td></tr>\n",
              "\t<tr><td>PANTIN            </td><td>3</td><td>72</td><td>17.08333</td><td>75</td></tr>\n",
              "\t<tr><td>BELLEVILLE (20041)</td><td>0</td><td>73</td><td>16.25000</td><td>73</td></tr>\n",
              "\t<tr><td>BELLEVILLE (20041)</td><td>0</td><td>73</td><td>16.33333</td><td>73</td></tr>\n",
              "\t<tr><td>BELLEVILLE (20041)</td><td>0</td><td>73</td><td>16.41667</td><td>73</td></tr>\n",
              "</tbody>\n",
              "</table>\n"
            ],
            "text/markdown": "\nA tibble: 67354 × 5\n\n| name &lt;chr&gt; | available_bikes &lt;int&gt; | available_bike_stands &lt;int&gt; | time &lt;dbl&gt; | total_stands &lt;int&gt; |\n|---|---|---|---|---|\n| POISSONNIÈRE - ENGHIEN                    | 33 | 0 | 13 | 33 |\n| MUSÉE D'ORSAY                             | 65 | 0 | 13 | 65 |\n| KARMAN (AUBERVILLIERS)                    |  0 | 0 | 13 |  0 |\n| ROND POINT DES CHAMPS ELYSEES             |  0 | 0 | 13 |  0 |\n| PORT SOLFERINO (STATION MOBILE)           | 20 | 0 | 13 | 20 |\n| CITE RIVERIN                              | 17 | 0 | 13 | 17 |\n| MAZET SAINT ANDRE DES ARTS                | 54 | 0 | 13 | 54 |\n| VAUGIRARD PRINCE                          | 24 | 0 | 13 | 24 |\n| SAINT MICHEL DANTON                       | 34 | 0 | 13 | 34 |\n| PETIT (CLICHY)                            | 22 | 0 | 13 | 22 |\n| RICHARD LENOIR VOLTAIRE NORD              | 23 | 0 | 13 | 23 |\n| CONCORDE/BERGES DE SEINE (STATION MOBILE) | 19 | 0 | 13 | 19 |\n| BACHAUMONT                                | 32 | 0 | 13 | 32 |\n| RASPAIL VARENNE                           | 36 | 0 | 13 | 36 |\n| GOBELINS                                  | 31 | 0 | 13 | 31 |\n| LINOIS                                    | 33 | 0 | 13 | 33 |\n| PLACE DUNANT                              | 24 | 0 | 13 | 24 |\n| REIMS                                     | 33 | 0 | 13 | 33 |\n| CAUMARTIN PROVENCE                        | 23 | 0 | 13 | 23 |\n| BRUNESEAU - QUAI D'IVRY                   | 20 | 0 | 13 | 20 |\n| JEMMAPES                                  |  1 | 0 | 13 |  1 |\n| REPUBLIQUE 23                             | 18 | 0 | 13 | 18 |\n| GARE EMGP                                 |  0 | 0 | 13 |  0 |\n| ECLUSES SAINT MARTIN                      |  0 | 0 | 13 |  0 |\n| ST GERMAIN-DANTE                          | 16 | 0 | 13 | 16 |\n| BONAPARTE BEAUX ARTS                      | 19 | 0 | 13 | 19 |\n| PECQUEUR                                  |  0 | 0 | 13 |  0 |\n| PONT NEUF - 14                            | 23 | 0 | 13 | 23 |\n| ROLLET                                    |  8 | 0 | 13 |  8 |\n| POISSY                                    | 25 | 0 | 13 | 25 |\n| ⋮ | ⋮ | ⋮ | ⋮ | ⋮ |\n| BELLEVILLE (20041) | 2 | 71 | 16.50000 | 73 |\n| PANTIN             | 4 | 71 | 16.75000 | 75 |\n| PANTIN             | 4 | 71 | 16.83333 | 75 |\n| BELLEVILLE (20041) | 2 | 71 | 16.91667 | 73 |\n| PANTIN             | 4 | 71 | 16.91667 | 75 |\n| PANTIN             | 4 | 71 | 17.00000 | 75 |\n| BELLEVILLE (20041) | 2 | 71 | 17.16667 | 73 |\n| PANTIN             | 4 | 71 | 17.16667 | 75 |\n| PANTIN             | 4 | 71 | 17.25000 | 75 |\n| PANTIN             | 4 | 71 | 17.33333 | 75 |\n| PANTIN             | 4 | 71 | 17.41667 | 75 |\n| PANTIN             | 4 | 71 | 18.08333 | 75 |\n| PANTIN             | 4 | 71 | 18.16667 | 75 |\n| BELLEVILLE (20041) | 0 | 72 | 14.41667 | 72 |\n| BELLEVILLE (20041) | 1 | 72 | 14.83333 | 73 |\n| BELLEVILLE (20041) | 1 | 72 | 14.91667 | 73 |\n| BELLEVILLE (20041) | 1 | 72 | 15.08333 | 73 |\n| BELLEVILLE (20041) | 1 | 72 | 15.16667 | 73 |\n| BELLEVILLE (20041) | 1 | 72 | 15.58333 | 73 |\n| BELLEVILLE (20041) | 1 | 72 | 15.66667 | 73 |\n| BELLEVILLE (20041) | 1 | 72 | 15.75000 | 73 |\n| PANTIN             | 3 | 72 | 15.91667 | 75 |\n| PANTIN             | 3 | 72 | 16.00000 | 75 |\n| PANTIN             | 3 | 72 | 16.25000 | 75 |\n| PANTIN             | 3 | 72 | 16.33333 | 75 |\n| BELLEVILLE (20041) | 1 | 72 | 17.00000 | 73 |\n| PANTIN             | 3 | 72 | 17.08333 | 75 |\n| BELLEVILLE (20041) | 0 | 73 | 16.25000 | 73 |\n| BELLEVILLE (20041) | 0 | 73 | 16.33333 | 73 |\n| BELLEVILLE (20041) | 0 | 73 | 16.41667 | 73 |\n\n",
            "text/latex": "A tibble: 67354 × 5\n\\begin{tabular}{lllll}\n name & available\\_bikes & available\\_bike\\_stands & time & total\\_stands\\\\\n <chr> & <int> & <int> & <dbl> & <int>\\\\\n\\hline\n\t POISSONNIÈRE - ENGHIEN                    & 33 & 0 & 13 & 33\\\\\n\t MUSÉE D'ORSAY                             & 65 & 0 & 13 & 65\\\\\n\t KARMAN (AUBERVILLIERS)                    &  0 & 0 & 13 &  0\\\\\n\t ROND POINT DES CHAMPS ELYSEES             &  0 & 0 & 13 &  0\\\\\n\t PORT SOLFERINO (STATION MOBILE)           & 20 & 0 & 13 & 20\\\\\n\t CITE RIVERIN                              & 17 & 0 & 13 & 17\\\\\n\t MAZET SAINT ANDRE DES ARTS                & 54 & 0 & 13 & 54\\\\\n\t VAUGIRARD PRINCE                          & 24 & 0 & 13 & 24\\\\\n\t SAINT MICHEL DANTON                       & 34 & 0 & 13 & 34\\\\\n\t PETIT (CLICHY)                            & 22 & 0 & 13 & 22\\\\\n\t RICHARD LENOIR VOLTAIRE NORD              & 23 & 0 & 13 & 23\\\\\n\t CONCORDE/BERGES DE SEINE (STATION MOBILE) & 19 & 0 & 13 & 19\\\\\n\t BACHAUMONT                                & 32 & 0 & 13 & 32\\\\\n\t RASPAIL VARENNE                           & 36 & 0 & 13 & 36\\\\\n\t GOBELINS                                  & 31 & 0 & 13 & 31\\\\\n\t LINOIS                                    & 33 & 0 & 13 & 33\\\\\n\t PLACE DUNANT                              & 24 & 0 & 13 & 24\\\\\n\t REIMS                                     & 33 & 0 & 13 & 33\\\\\n\t CAUMARTIN PROVENCE                        & 23 & 0 & 13 & 23\\\\\n\t BRUNESEAU - QUAI D'IVRY                   & 20 & 0 & 13 & 20\\\\\n\t JEMMAPES                                  &  1 & 0 & 13 &  1\\\\\n\t REPUBLIQUE 23                             & 18 & 0 & 13 & 18\\\\\n\t GARE EMGP                                 &  0 & 0 & 13 &  0\\\\\n\t ECLUSES SAINT MARTIN                      &  0 & 0 & 13 &  0\\\\\n\t ST GERMAIN-DANTE                          & 16 & 0 & 13 & 16\\\\\n\t BONAPARTE BEAUX ARTS                      & 19 & 0 & 13 & 19\\\\\n\t PECQUEUR                                  &  0 & 0 & 13 &  0\\\\\n\t PONT NEUF - 14                            & 23 & 0 & 13 & 23\\\\\n\t ROLLET                                    &  8 & 0 & 13 &  8\\\\\n\t POISSY                                    & 25 & 0 & 13 & 25\\\\\n\t ⋮ & ⋮ & ⋮ & ⋮ & ⋮\\\\\n\t BELLEVILLE (20041) & 2 & 71 & 16.50000 & 73\\\\\n\t PANTIN             & 4 & 71 & 16.75000 & 75\\\\\n\t PANTIN             & 4 & 71 & 16.83333 & 75\\\\\n\t BELLEVILLE (20041) & 2 & 71 & 16.91667 & 73\\\\\n\t PANTIN             & 4 & 71 & 16.91667 & 75\\\\\n\t PANTIN             & 4 & 71 & 17.00000 & 75\\\\\n\t BELLEVILLE (20041) & 2 & 71 & 17.16667 & 73\\\\\n\t PANTIN             & 4 & 71 & 17.16667 & 75\\\\\n\t PANTIN             & 4 & 71 & 17.25000 & 75\\\\\n\t PANTIN             & 4 & 71 & 17.33333 & 75\\\\\n\t PANTIN             & 4 & 71 & 17.41667 & 75\\\\\n\t PANTIN             & 4 & 71 & 18.08333 & 75\\\\\n\t PANTIN             & 4 & 71 & 18.16667 & 75\\\\\n\t BELLEVILLE (20041) & 0 & 72 & 14.41667 & 72\\\\\n\t BELLEVILLE (20041) & 1 & 72 & 14.83333 & 73\\\\\n\t BELLEVILLE (20041) & 1 & 72 & 14.91667 & 73\\\\\n\t BELLEVILLE (20041) & 1 & 72 & 15.08333 & 73\\\\\n\t BELLEVILLE (20041) & 1 & 72 & 15.16667 & 73\\\\\n\t BELLEVILLE (20041) & 1 & 72 & 15.58333 & 73\\\\\n\t BELLEVILLE (20041) & 1 & 72 & 15.66667 & 73\\\\\n\t BELLEVILLE (20041) & 1 & 72 & 15.75000 & 73\\\\\n\t PANTIN             & 3 & 72 & 15.91667 & 75\\\\\n\t PANTIN             & 3 & 72 & 16.00000 & 75\\\\\n\t PANTIN             & 3 & 72 & 16.25000 & 75\\\\\n\t PANTIN             & 3 & 72 & 16.33333 & 75\\\\\n\t BELLEVILLE (20041) & 1 & 72 & 17.00000 & 73\\\\\n\t PANTIN             & 3 & 72 & 17.08333 & 75\\\\\n\t BELLEVILLE (20041) & 0 & 73 & 16.25000 & 73\\\\\n\t BELLEVILLE (20041) & 0 & 73 & 16.33333 & 73\\\\\n\t BELLEVILLE (20041) & 0 & 73 & 16.41667 & 73\\\\\n\\end{tabular}\n",
            "text/plain": [
              "      name                                      available_bikes\n",
              "1     POISSONNIÈRE - ENGHIEN                    33             \n",
              "2     MUSÉE D'ORSAY                             65             \n",
              "3     KARMAN (AUBERVILLIERS)                     0             \n",
              "4     ROND POINT DES CHAMPS ELYSEES              0             \n",
              "5     PORT SOLFERINO (STATION MOBILE)           20             \n",
              "6     CITE RIVERIN                              17             \n",
              "7     MAZET SAINT ANDRE DES ARTS                54             \n",
              "8     VAUGIRARD PRINCE                          24             \n",
              "9     SAINT MICHEL DANTON                       34             \n",
              "10    PETIT (CLICHY)                            22             \n",
              "11    RICHARD LENOIR VOLTAIRE NORD              23             \n",
              "12    CONCORDE/BERGES DE SEINE (STATION MOBILE) 19             \n",
              "13    BACHAUMONT                                32             \n",
              "14    RASPAIL VARENNE                           36             \n",
              "15    GOBELINS                                  31             \n",
              "16    LINOIS                                    33             \n",
              "17    PLACE DUNANT                              24             \n",
              "18    REIMS                                     33             \n",
              "19    CAUMARTIN PROVENCE                        23             \n",
              "20    BRUNESEAU - QUAI D'IVRY                   20             \n",
              "21    JEMMAPES                                   1             \n",
              "22    REPUBLIQUE 23                             18             \n",
              "23    GARE EMGP                                  0             \n",
              "24    ECLUSES SAINT MARTIN                       0             \n",
              "25    ST GERMAIN-DANTE                          16             \n",
              "26    BONAPARTE BEAUX ARTS                      19             \n",
              "27    PECQUEUR                                   0             \n",
              "28    PONT NEUF - 14                            23             \n",
              "29    ROLLET                                     8             \n",
              "30    POISSY                                    25             \n",
              "⋮     ⋮                                         ⋮              \n",
              "67325 BELLEVILLE (20041)                        2              \n",
              "67326 PANTIN                                    4              \n",
              "67327 PANTIN                                    4              \n",
              "67328 BELLEVILLE (20041)                        2              \n",
              "67329 PANTIN                                    4              \n",
              "67330 PANTIN                                    4              \n",
              "67331 BELLEVILLE (20041)                        2              \n",
              "67332 PANTIN                                    4              \n",
              "67333 PANTIN                                    4              \n",
              "67334 PANTIN                                    4              \n",
              "67335 PANTIN                                    4              \n",
              "67336 PANTIN                                    4              \n",
              "67337 PANTIN                                    4              \n",
              "67338 BELLEVILLE (20041)                        0              \n",
              "67339 BELLEVILLE (20041)                        1              \n",
              "67340 BELLEVILLE (20041)                        1              \n",
              "67341 BELLEVILLE (20041)                        1              \n",
              "67342 BELLEVILLE (20041)                        1              \n",
              "67343 BELLEVILLE (20041)                        1              \n",
              "67344 BELLEVILLE (20041)                        1              \n",
              "67345 BELLEVILLE (20041)                        1              \n",
              "67346 PANTIN                                    3              \n",
              "67347 PANTIN                                    3              \n",
              "67348 PANTIN                                    3              \n",
              "67349 PANTIN                                    3              \n",
              "67350 BELLEVILLE (20041)                        1              \n",
              "67351 PANTIN                                    3              \n",
              "67352 BELLEVILLE (20041)                        0              \n",
              "67353 BELLEVILLE (20041)                        0              \n",
              "67354 BELLEVILLE (20041)                        0              \n",
              "      available_bike_stands time     total_stands\n",
              "1     0                     13       33          \n",
              "2     0                     13       65          \n",
              "3     0                     13        0          \n",
              "4     0                     13        0          \n",
              "5     0                     13       20          \n",
              "6     0                     13       17          \n",
              "7     0                     13       54          \n",
              "8     0                     13       24          \n",
              "9     0                     13       34          \n",
              "10    0                     13       22          \n",
              "11    0                     13       23          \n",
              "12    0                     13       19          \n",
              "13    0                     13       32          \n",
              "14    0                     13       36          \n",
              "15    0                     13       31          \n",
              "16    0                     13       33          \n",
              "17    0                     13       24          \n",
              "18    0                     13       33          \n",
              "19    0                     13       23          \n",
              "20    0                     13       20          \n",
              "21    0                     13        1          \n",
              "22    0                     13       18          \n",
              "23    0                     13        0          \n",
              "24    0                     13        0          \n",
              "25    0                     13       16          \n",
              "26    0                     13       19          \n",
              "27    0                     13        0          \n",
              "28    0                     13       23          \n",
              "29    0                     13        8          \n",
              "30    0                     13       25          \n",
              "⋮     ⋮                     ⋮        ⋮           \n",
              "67325 71                    16.50000 73          \n",
              "67326 71                    16.75000 75          \n",
              "67327 71                    16.83333 75          \n",
              "67328 71                    16.91667 73          \n",
              "67329 71                    16.91667 75          \n",
              "67330 71                    17.00000 75          \n",
              "67331 71                    17.16667 73          \n",
              "67332 71                    17.16667 75          \n",
              "67333 71                    17.25000 75          \n",
              "67334 71                    17.33333 75          \n",
              "67335 71                    17.41667 75          \n",
              "67336 71                    18.08333 75          \n",
              "67337 71                    18.16667 75          \n",
              "67338 72                    14.41667 72          \n",
              "67339 72                    14.83333 73          \n",
              "67340 72                    14.91667 73          \n",
              "67341 72                    15.08333 73          \n",
              "67342 72                    15.16667 73          \n",
              "67343 72                    15.58333 73          \n",
              "67344 72                    15.66667 73          \n",
              "67345 72                    15.75000 73          \n",
              "67346 72                    15.91667 75          \n",
              "67347 72                    16.00000 75          \n",
              "67348 72                    16.25000 75          \n",
              "67349 72                    16.33333 75          \n",
              "67350 72                    17.00000 73          \n",
              "67351 72                    17.08333 75          \n",
              "67352 73                    16.25000 73          \n",
              "67353 73                    16.33333 73          \n",
              "67354 73                    16.41667 73          "
            ]
          },
          "metadata": {}
        }
      ]
    },
    {
      "cell_type": "markdown",
      "source": [
        "We can group observations by a particular variable using the `group_by()` function.\n",
        "\n",
        "This can be very useful for when we want to gather specific summary statistics on a group, where we can use `summarise()`"
      ],
      "metadata": {
        "id": "SnXGunCwdCFZ"
      }
    },
    {
      "cell_type": "code",
      "source": [
        "stations %>%\n",
        "  group_by(departement) %>%\n",
        "  summarise(n_stations=n()) %>%\n",
        "  arrange(desc(n_stations))"
      ],
      "metadata": {
        "colab": {
          "base_uri": "https://localhost:8080/",
          "height": 224
        },
        "id": "ztWH2s5PdUfv",
        "outputId": "9bc374fb-4c5c-4182-b95b-9ddc41015582"
      },
      "execution_count": null,
      "outputs": [
        {
          "output_type": "display_data",
          "data": {
            "text/html": [
              "<table class=\"dataframe\">\n",
              "<caption>A tibble: 4 × 2</caption>\n",
              "<thead>\n",
              "\t<tr><th scope=col>departement</th><th scope=col>n_stations</th></tr>\n",
              "\t<tr><th scope=col>&lt;chr&gt;</th><th scope=col>&lt;int&gt;</th></tr>\n",
              "</thead>\n",
              "<tbody>\n",
              "\t<tr><td>Paris            </td><td>743</td></tr>\n",
              "\t<tr><td>Hauts-de-Seine   </td><td> 75</td></tr>\n",
              "\t<tr><td>Seine-Saint-Denis</td><td> 60</td></tr>\n",
              "\t<tr><td>Val-de-Marne     </td><td> 50</td></tr>\n",
              "</tbody>\n",
              "</table>\n"
            ],
            "text/markdown": "\nA tibble: 4 × 2\n\n| departement &lt;chr&gt; | n_stations &lt;int&gt; |\n|---|---|\n| Paris             | 743 |\n| Hauts-de-Seine    |  75 |\n| Seine-Saint-Denis |  60 |\n| Val-de-Marne      |  50 |\n\n",
            "text/latex": "A tibble: 4 × 2\n\\begin{tabular}{ll}\n departement & n\\_stations\\\\\n <chr> & <int>\\\\\n\\hline\n\t Paris             & 743\\\\\n\t Hauts-de-Seine    &  75\\\\\n\t Seine-Saint-Denis &  60\\\\\n\t Val-de-Marne      &  50\\\\\n\\end{tabular}\n",
            "text/plain": [
              "  departement       n_stations\n",
              "1 Paris             743       \n",
              "2 Hauts-de-Seine     75       \n",
              "3 Seine-Saint-Denis  60       \n",
              "4 Val-de-Marne       50       "
            ]
          },
          "metadata": {}
        }
      ]
    },
    {
      "cell_type": "markdown",
      "source": [
        "As mentioned last week, we often want to merge different data sets together. The `join()` family of functions in `dplyr` provides a lot of flexibility in how we can do this.\n",
        "\n"
      ],
      "metadata": {
        "id": "_uxmLeYkdkA8"
      }
    },
    {
      "cell_type": "code",
      "source": [
        "bike_station <- bikes %>% inner_join(stations)\n",
        "\n",
        "head(bike_station)"
      ],
      "metadata": {
        "colab": {
          "base_uri": "https://localhost:8080/",
          "height": 304
        },
        "id": "SWi5dGCFgUL0",
        "outputId": "0f36102b-4e48-4fe7-fae2-3dd89383fd98"
      },
      "execution_count": null,
      "outputs": [
        {
          "output_type": "stream",
          "name": "stderr",
          "text": [
            "\u001b[1m\u001b[22mJoining with `by = join_by(name)`\n"
          ]
        },
        {
          "output_type": "display_data",
          "data": {
            "text/html": [
              "<table class=\"dataframe\">\n",
              "<caption>A tibble: 6 × 10</caption>\n",
              "<thead>\n",
              "\t<tr><th scope=col>name</th><th scope=col>available_bikes</th><th scope=col>available_bike_stands</th><th scope=col>time</th><th scope=col>total_stands</th><th scope=col>id</th><th scope=col>address</th><th scope=col>lng</th><th scope=col>lat</th><th scope=col>departement</th></tr>\n",
              "\t<tr><th scope=col>&lt;chr&gt;</th><th scope=col>&lt;int&gt;</th><th scope=col>&lt;int&gt;</th><th scope=col>&lt;dbl&gt;</th><th scope=col>&lt;int&gt;</th><th scope=col>&lt;dbl&gt;</th><th scope=col>&lt;chr&gt;</th><th scope=col>&lt;dbl&gt;</th><th scope=col>&lt;dbl&gt;</th><th scope=col>&lt;chr&gt;</th></tr>\n",
              "</thead>\n",
              "<tbody>\n",
              "\t<tr><td>CHAMPEAUX (BAGNOLET)      </td><td> 9</td><td>41</td><td>13</td><td>50</td><td>31705</td><td>RUE DES CHAMPEAUX (PRES DE LA GARE ROUTIERE) - 93170 BAGNOLET     </td><td>2.416171</td><td>48.86453</td><td>Seine-Saint-Denis</td></tr>\n",
              "\t<tr><td>POISSONNIÈRE - ENGHIEN    </td><td>33</td><td> 0</td><td>13</td><td>33</td><td>10042</td><td>52 RUE D'ENGHIEN / ANGLE RUE DU FAUBOURG POISSONIERE - 75010 PARIS</td><td>2.348395</td><td>48.87242</td><td>Paris            </td></tr>\n",
              "\t<tr><td>METRO ROME                </td><td> 6</td><td>38</td><td>13</td><td>44</td><td> 8020</td><td>74 BOULEVARD DES BATIGNOLLES - 75008 PARIS                        </td><td>2.319860</td><td>48.88215</td><td>Paris            </td></tr>\n",
              "\t<tr><td>DE GAULLE (PANTIN)        </td><td> 2</td><td>16</td><td>13</td><td>18</td><td>35014</td><td>139 AVENUE JEAN LOLIVE / MAIL CHARLES DE GAULLE - 93500 PANTIN    </td><td>2.412716</td><td>48.89327</td><td>Seine-Saint-Denis</td></tr>\n",
              "\t<tr><td>PARC DE BELLEVILLE (20040)</td><td> 4</td><td>22</td><td>13</td><td>26</td><td>20040</td><td><span style=white-space:pre-wrap>57 &amp; 36 RUE JULIEN LACROIX - 75020 PARIS                          </span></td><td>2.384222</td><td>48.87039</td><td><span style=white-space:pre-wrap>Paris            </span></td></tr>\n",
              "\t<tr><td>SOLJENITSYNE (PUTEAUX)    </td><td>56</td><td> 4</td><td>13</td><td>60</td><td>28002</td><td>BOULEVARD ALEXANDRE SOLJENITSYNE - 92800 PUTEAUX                  </td><td>2.247721</td><td>48.88448</td><td>Hauts-de-Seine   </td></tr>\n",
              "</tbody>\n",
              "</table>\n"
            ],
            "text/markdown": "\nA tibble: 6 × 10\n\n| name &lt;chr&gt; | available_bikes &lt;int&gt; | available_bike_stands &lt;int&gt; | time &lt;dbl&gt; | total_stands &lt;int&gt; | id &lt;dbl&gt; | address &lt;chr&gt; | lng &lt;dbl&gt; | lat &lt;dbl&gt; | departement &lt;chr&gt; |\n|---|---|---|---|---|---|---|---|---|---|\n| CHAMPEAUX (BAGNOLET)       |  9 | 41 | 13 | 50 | 31705 | RUE DES CHAMPEAUX (PRES DE LA GARE ROUTIERE) - 93170 BAGNOLET      | 2.416171 | 48.86453 | Seine-Saint-Denis |\n| POISSONNIÈRE - ENGHIEN     | 33 |  0 | 13 | 33 | 10042 | 52 RUE D'ENGHIEN / ANGLE RUE DU FAUBOURG POISSONIERE - 75010 PARIS | 2.348395 | 48.87242 | Paris             |\n| METRO ROME                 |  6 | 38 | 13 | 44 |  8020 | 74 BOULEVARD DES BATIGNOLLES - 75008 PARIS                         | 2.319860 | 48.88215 | Paris             |\n| DE GAULLE (PANTIN)         |  2 | 16 | 13 | 18 | 35014 | 139 AVENUE JEAN LOLIVE / MAIL CHARLES DE GAULLE - 93500 PANTIN     | 2.412716 | 48.89327 | Seine-Saint-Denis |\n| PARC DE BELLEVILLE (20040) |  4 | 22 | 13 | 26 | 20040 | 57 &amp; 36 RUE JULIEN LACROIX - 75020 PARIS                           | 2.384222 | 48.87039 | Paris             |\n| SOLJENITSYNE (PUTEAUX)     | 56 |  4 | 13 | 60 | 28002 | BOULEVARD ALEXANDRE SOLJENITSYNE - 92800 PUTEAUX                   | 2.247721 | 48.88448 | Hauts-de-Seine    |\n\n",
            "text/latex": "A tibble: 6 × 10\n\\begin{tabular}{llllllllll}\n name & available\\_bikes & available\\_bike\\_stands & time & total\\_stands & id & address & lng & lat & departement\\\\\n <chr> & <int> & <int> & <dbl> & <int> & <dbl> & <chr> & <dbl> & <dbl> & <chr>\\\\\n\\hline\n\t CHAMPEAUX (BAGNOLET)       &  9 & 41 & 13 & 50 & 31705 & RUE DES CHAMPEAUX (PRES DE LA GARE ROUTIERE) - 93170 BAGNOLET      & 2.416171 & 48.86453 & Seine-Saint-Denis\\\\\n\t POISSONNIÈRE - ENGHIEN     & 33 &  0 & 13 & 33 & 10042 & 52 RUE D'ENGHIEN / ANGLE RUE DU FAUBOURG POISSONIERE - 75010 PARIS & 2.348395 & 48.87242 & Paris            \\\\\n\t METRO ROME                 &  6 & 38 & 13 & 44 &  8020 & 74 BOULEVARD DES BATIGNOLLES - 75008 PARIS                         & 2.319860 & 48.88215 & Paris            \\\\\n\t DE GAULLE (PANTIN)         &  2 & 16 & 13 & 18 & 35014 & 139 AVENUE JEAN LOLIVE / MAIL CHARLES DE GAULLE - 93500 PANTIN     & 2.412716 & 48.89327 & Seine-Saint-Denis\\\\\n\t PARC DE BELLEVILLE (20040) &  4 & 22 & 13 & 26 & 20040 & 57 \\& 36 RUE JULIEN LACROIX - 75020 PARIS                           & 2.384222 & 48.87039 & Paris            \\\\\n\t SOLJENITSYNE (PUTEAUX)     & 56 &  4 & 13 & 60 & 28002 & BOULEVARD ALEXANDRE SOLJENITSYNE - 92800 PUTEAUX                   & 2.247721 & 48.88448 & Hauts-de-Seine   \\\\\n\\end{tabular}\n",
            "text/plain": [
              "  name                       available_bikes available_bike_stands time\n",
              "1 CHAMPEAUX (BAGNOLET)        9              41                    13  \n",
              "2 POISSONNIÈRE - ENGHIEN     33               0                    13  \n",
              "3 METRO ROME                  6              38                    13  \n",
              "4 DE GAULLE (PANTIN)          2              16                    13  \n",
              "5 PARC DE BELLEVILLE (20040)  4              22                    13  \n",
              "6 SOLJENITSYNE (PUTEAUX)     56               4                    13  \n",
              "  total_stands id   \n",
              "1 50           31705\n",
              "2 33           10042\n",
              "3 44            8020\n",
              "4 18           35014\n",
              "5 26           20040\n",
              "6 60           28002\n",
              "  address                                                            lng     \n",
              "1 RUE DES CHAMPEAUX (PRES DE LA GARE ROUTIERE) - 93170 BAGNOLET      2.416171\n",
              "2 52 RUE D'ENGHIEN / ANGLE RUE DU FAUBOURG POISSONIERE - 75010 PARIS 2.348395\n",
              "3 74 BOULEVARD DES BATIGNOLLES - 75008 PARIS                         2.319860\n",
              "4 139 AVENUE JEAN LOLIVE / MAIL CHARLES DE GAULLE - 93500 PANTIN     2.412716\n",
              "5 57 & 36 RUE JULIEN LACROIX - 75020 PARIS                           2.384222\n",
              "6 BOULEVARD ALEXANDRE SOLJENITSYNE - 92800 PUTEAUX                   2.247721\n",
              "  lat      departement      \n",
              "1 48.86453 Seine-Saint-Denis\n",
              "2 48.87242 Paris            \n",
              "3 48.88215 Paris            \n",
              "4 48.89327 Seine-Saint-Denis\n",
              "5 48.87039 Paris            \n",
              "6 48.88448 Hauts-de-Seine   "
            ]
          },
          "metadata": {}
        }
      ]
    },
    {
      "cell_type": "markdown",
      "source": [
        "# Reshaping data using `tidyr`\n",
        "\n",
        "For data to be 'tidy', it needs to be arranged such that each column corresponds to exactly one variable across units and each row corresponds to one observational unit.\n",
        "\n",
        "Typically we sort data into either 'long' or 'wide' format.\n",
        "\n",
        "The function `pivot_longer()` reads data from multiple columns and organises them as key-value pairs, making it 'longer'\n",
        "\n",
        "The `pivor_wider()` function allows us to spread the data stored in one column across several columns (making it 'wider')\n",
        "\n",
        "Deciding whether you want your data to be 'long' or 'wide' can depend on what tasks you want to perform with your data. We will see the importance  of this when we look at plotting in more detail."
      ],
      "metadata": {
        "id": "eU9xFMEggf1s"
      }
    },
    {
      "cell_type": "code",
      "source": [
        "library(tidyr)\n",
        "Orange %>% pivot_wider(names_from = Tree,values_from=circumference,names_prefix=\"Tree_\")"
      ],
      "metadata": {
        "colab": {
          "base_uri": "https://localhost:8080/",
          "height": 318
        },
        "id": "aLMlSW8yqmun",
        "outputId": "1318b2f1-1484-429d-a9cd-feb3b8c4dbf6"
      },
      "execution_count": null,
      "outputs": [
        {
          "output_type": "display_data",
          "data": {
            "text/html": [
              "<table class=\"dataframe\">\n",
              "<caption>A tibble: 7 × 6</caption>\n",
              "<thead>\n",
              "\t<tr><th scope=col>age</th><th scope=col>Tree_1</th><th scope=col>Tree_2</th><th scope=col>Tree_3</th><th scope=col>Tree_4</th><th scope=col>Tree_5</th></tr>\n",
              "\t<tr><th scope=col>&lt;dbl&gt;</th><th scope=col>&lt;dbl&gt;</th><th scope=col>&lt;dbl&gt;</th><th scope=col>&lt;dbl&gt;</th><th scope=col>&lt;dbl&gt;</th><th scope=col>&lt;dbl&gt;</th></tr>\n",
              "</thead>\n",
              "<tbody>\n",
              "\t<tr><td> 118</td><td> 30</td><td> 33</td><td> 30</td><td> 32</td><td> 30</td></tr>\n",
              "\t<tr><td> 484</td><td> 58</td><td> 69</td><td> 51</td><td> 62</td><td> 49</td></tr>\n",
              "\t<tr><td> 664</td><td> 87</td><td>111</td><td> 75</td><td>112</td><td> 81</td></tr>\n",
              "\t<tr><td>1004</td><td>115</td><td>156</td><td>108</td><td>167</td><td>125</td></tr>\n",
              "\t<tr><td>1231</td><td>120</td><td>172</td><td>115</td><td>179</td><td>142</td></tr>\n",
              "\t<tr><td>1372</td><td>142</td><td>203</td><td>139</td><td>209</td><td>174</td></tr>\n",
              "\t<tr><td>1582</td><td>145</td><td>203</td><td>140</td><td>214</td><td>177</td></tr>\n",
              "</tbody>\n",
              "</table>\n"
            ],
            "text/markdown": "\nA tibble: 7 × 6\n\n| age &lt;dbl&gt; | Tree_1 &lt;dbl&gt; | Tree_2 &lt;dbl&gt; | Tree_3 &lt;dbl&gt; | Tree_4 &lt;dbl&gt; | Tree_5 &lt;dbl&gt; |\n|---|---|---|---|---|---|\n|  118 |  30 |  33 |  30 |  32 |  30 |\n|  484 |  58 |  69 |  51 |  62 |  49 |\n|  664 |  87 | 111 |  75 | 112 |  81 |\n| 1004 | 115 | 156 | 108 | 167 | 125 |\n| 1231 | 120 | 172 | 115 | 179 | 142 |\n| 1372 | 142 | 203 | 139 | 209 | 174 |\n| 1582 | 145 | 203 | 140 | 214 | 177 |\n\n",
            "text/latex": "A tibble: 7 × 6\n\\begin{tabular}{llllll}\n age & Tree\\_1 & Tree\\_2 & Tree\\_3 & Tree\\_4 & Tree\\_5\\\\\n <dbl> & <dbl> & <dbl> & <dbl> & <dbl> & <dbl>\\\\\n\\hline\n\t  118 &  30 &  33 &  30 &  32 &  30\\\\\n\t  484 &  58 &  69 &  51 &  62 &  49\\\\\n\t  664 &  87 & 111 &  75 & 112 &  81\\\\\n\t 1004 & 115 & 156 & 108 & 167 & 125\\\\\n\t 1231 & 120 & 172 & 115 & 179 & 142\\\\\n\t 1372 & 142 & 203 & 139 & 209 & 174\\\\\n\t 1582 & 145 & 203 & 140 & 214 & 177\\\\\n\\end{tabular}\n",
            "text/plain": [
              "  age  Tree_1 Tree_2 Tree_3 Tree_4 Tree_5\n",
              "1  118  30     33     30     32     30   \n",
              "2  484  58     69     51     62     49   \n",
              "3  664  87    111     75    112     81   \n",
              "4 1004 115    156    108    167    125   \n",
              "5 1231 120    172    115    179    142   \n",
              "6 1372 142    203    139    209    174   \n",
              "7 1582 145    203    140    214    177   "
            ]
          },
          "metadata": {}
        }
      ]
    },
    {
      "cell_type": "markdown",
      "metadata": {
        "id": "BUNb1IFpMvVA"
      },
      "source": [
        "# Review Task\n",
        "\n",
        "**Voting patterns in the EU referendum**\n",
        "\n",
        "In this task, you will work with the data on the EU referendum and relate it to the results of the 2015 General Election. The challenge however is that the results from the EU referendum are only available on a local authority basis, whereas the results for the General Election are only available at constituency level. Though constituencies and local authorities sometimes coincide, this is not generally the case.\n",
        "\n",
        "For the General Election, we thus need to estimate the result in a local authority by combining the results from the constituencies it overlaps with.\n",
        "\n",
        "You can download the data using"
      ]
    },
    {
      "cell_type": "code",
      "metadata": {
        "id": "JQ8TgMrCNSJV"
      },
      "source": [
        "load(url(paste(\"https://github.com/UofGAnalyticsData/R/raw/\",\n",
        "\"main/Week%204/EURef.RData\",sep=\"\")))"
      ],
      "execution_count": null,
      "outputs": []
    },
    {
      "cell_type": "markdown",
      "metadata": {
        "id": "8pm3WGN_OBhP"
      },
      "source": [
        "(Consult the Week 4 review handout for how to calculate the estimate vote share of a party in a local authority)"
      ]
    },
    {
      "cell_type": "markdown",
      "metadata": {
        "id": "-eOLOxEEOQhX"
      },
      "source": [
        "The data required in this task are contained in the data frames genelec and wards.\n",
        "\n",
        "Augment the data set brexit so that it also contains the vote shares for each party on a local authority basis."
      ]
    },
    {
      "cell_type": "code",
      "metadata": {
        "colab": {
          "base_uri": "https://localhost:8080/",
          "height": 283
        },
        "id": "AEjQhCBUR-Jk",
        "outputId": "edb1072a-6f7c-4d98-e1a2-219b3cf48d53"
      },
      "source": [
        "head(brexit)"
      ],
      "execution_count": null,
      "outputs": [
        {
          "output_type": "display_data",
          "data": {
            "text/plain": [
              "  LACode    LAName       Region        Leave EUMigrants\n",
              "1 E07000223 Adur         South East    54.57 2.781864  \n",
              "2 E07000026 Allerdale    North West    58.65 1.400095  \n",
              "3 E07000032 Amber Valley East Midlands 60.28 1.620486  \n",
              "4 E07000224 Arun         South East    62.48 5.285651  \n",
              "5 E07000170 Ashfield     East Midlands 69.84 1.736445  \n",
              "6 E07000105 Ashford      South East    59.43 3.721727  "
            ],
            "text/latex": "A data.frame: 6 × 5\n\\begin{tabular}{r|lllll}\n  & LACode & LAName & Region & Leave & EUMigrants\\\\\n  & <chr> & <chr> & <chr> & <dbl> & <dbl>\\\\\n\\hline\n\t1 & E07000223 & Adur         & South East    & 54.57 & 2.781864\\\\\n\t2 & E07000026 & Allerdale    & North West    & 58.65 & 1.400095\\\\\n\t3 & E07000032 & Amber Valley & East Midlands & 60.28 & 1.620486\\\\\n\t4 & E07000224 & Arun         & South East    & 62.48 & 5.285651\\\\\n\t5 & E07000170 & Ashfield     & East Midlands & 69.84 & 1.736445\\\\\n\t6 & E07000105 & Ashford      & South East    & 59.43 & 3.721727\\\\\n\\end{tabular}\n",
            "text/markdown": "\nA data.frame: 6 × 5\n\n| <!--/--> | LACode &lt;chr&gt; | LAName &lt;chr&gt; | Region &lt;chr&gt; | Leave &lt;dbl&gt; | EUMigrants &lt;dbl&gt; |\n|---|---|---|---|---|---|\n| 1 | E07000223 | Adur         | South East    | 54.57 | 2.781864 |\n| 2 | E07000026 | Allerdale    | North West    | 58.65 | 1.400095 |\n| 3 | E07000032 | Amber Valley | East Midlands | 60.28 | 1.620486 |\n| 4 | E07000224 | Arun         | South East    | 62.48 | 5.285651 |\n| 5 | E07000170 | Ashfield     | East Midlands | 69.84 | 1.736445 |\n| 6 | E07000105 | Ashford      | South East    | 59.43 | 3.721727 |\n\n",
            "text/html": [
              "<table class=\"dataframe\">\n",
              "<caption>A data.frame: 6 × 5</caption>\n",
              "<thead>\n",
              "\t<tr><th></th><th scope=col>LACode</th><th scope=col>LAName</th><th scope=col>Region</th><th scope=col>Leave</th><th scope=col>EUMigrants</th></tr>\n",
              "\t<tr><th></th><th scope=col>&lt;chr&gt;</th><th scope=col>&lt;chr&gt;</th><th scope=col>&lt;chr&gt;</th><th scope=col>&lt;dbl&gt;</th><th scope=col>&lt;dbl&gt;</th></tr>\n",
              "</thead>\n",
              "<tbody>\n",
              "\t<tr><th scope=row>1</th><td>E07000223</td><td>Adur        </td><td>South East   </td><td>54.57</td><td>2.781864</td></tr>\n",
              "\t<tr><th scope=row>2</th><td>E07000026</td><td>Allerdale   </td><td>North West   </td><td>58.65</td><td>1.400095</td></tr>\n",
              "\t<tr><th scope=row>3</th><td>E07000032</td><td>Amber Valley</td><td>East Midlands</td><td>60.28</td><td>1.620486</td></tr>\n",
              "\t<tr><th scope=row>4</th><td>E07000224</td><td>Arun        </td><td>South East   </td><td>62.48</td><td>5.285651</td></tr>\n",
              "\t<tr><th scope=row>5</th><td>E07000170</td><td>Ashfield    </td><td>East Midlands</td><td>69.84</td><td>1.736445</td></tr>\n",
              "\t<tr><th scope=row>6</th><td>E07000105</td><td>Ashford     </td><td>South East   </td><td>59.43</td><td>3.721727</td></tr>\n",
              "</tbody>\n",
              "</table>\n"
            ]
          },
          "metadata": {}
        }
      ]
    },
    {
      "cell_type": "code",
      "metadata": {
        "colab": {
          "base_uri": "https://localhost:8080/",
          "height": 283
        },
        "id": "wCL_lGIiPX9y",
        "outputId": "c1565ce4-b9ba-4d70-bbb8-47a2a2a8c02c"
      },
      "source": [
        "head(genelec)"
      ],
      "execution_count": null,
      "outputs": [
        {
          "output_type": "display_data",
          "data": {
            "text/plain": [
              "   ConstituencyCode ConstituencyName         Country ConVote LabVote LDVote\n",
              "1  W07000049        Aberavon                 Wales    3742   15416   1397  \n",
              "2  W07000058        Aberconwy                Wales   12513    8514   1391  \n",
              "7  E14000530        Aldershot                England 23369    8468   4076  \n",
              "8  E14000531        Aldridge-Brownhills      England 20558    8835   1330  \n",
              "9  E14000532        Altrincham and Sale West England 26771   13481   4235  \n",
              "10 W07000043        Alyn and Deeside         Wales   13197   16540   1733  \n",
              "   UKIPVote GreenVote TotalVote Electorate\n",
              "1  4971      711      31523     49821     \n",
              "2  3467      727      30148     45540     \n",
              "7  8253     2025      46191     72434     \n",
              "8  7751      826      39497     60215     \n",
              "9  4047     1983      50517     72004     \n",
              "10 7260      976      41314     62016     "
            ],
            "text/latex": "A data.frame: 6 × 10\n\\begin{tabular}{r|llllllllll}\n  & ConstituencyCode & ConstituencyName & Country & ConVote & LabVote & LDVote & UKIPVote & GreenVote & TotalVote & Electorate\\\\\n  & <chr> & <chr> & <chr> & <int> & <int> & <int> & <int> & <int> & <int> & <int>\\\\\n\\hline\n\t1 & W07000049 & Aberavon                 & Wales   &  3742 & 15416 & 1397 & 4971 &  711 & 31523 & 49821\\\\\n\t2 & W07000058 & Aberconwy                & Wales   & 12513 &  8514 & 1391 & 3467 &  727 & 30148 & 45540\\\\\n\t7 & E14000530 & Aldershot                & England & 23369 &  8468 & 4076 & 8253 & 2025 & 46191 & 72434\\\\\n\t8 & E14000531 & Aldridge-Brownhills      & England & 20558 &  8835 & 1330 & 7751 &  826 & 39497 & 60215\\\\\n\t9 & E14000532 & Altrincham and Sale West & England & 26771 & 13481 & 4235 & 4047 & 1983 & 50517 & 72004\\\\\n\t10 & W07000043 & Alyn and Deeside         & Wales   & 13197 & 16540 & 1733 & 7260 &  976 & 41314 & 62016\\\\\n\\end{tabular}\n",
            "text/markdown": "\nA data.frame: 6 × 10\n\n| <!--/--> | ConstituencyCode &lt;chr&gt; | ConstituencyName &lt;chr&gt; | Country &lt;chr&gt; | ConVote &lt;int&gt; | LabVote &lt;int&gt; | LDVote &lt;int&gt; | UKIPVote &lt;int&gt; | GreenVote &lt;int&gt; | TotalVote &lt;int&gt; | Electorate &lt;int&gt; |\n|---|---|---|---|---|---|---|---|---|---|---|\n| 1 | W07000049 | Aberavon                 | Wales   |  3742 | 15416 | 1397 | 4971 |  711 | 31523 | 49821 |\n| 2 | W07000058 | Aberconwy                | Wales   | 12513 |  8514 | 1391 | 3467 |  727 | 30148 | 45540 |\n| 7 | E14000530 | Aldershot                | England | 23369 |  8468 | 4076 | 8253 | 2025 | 46191 | 72434 |\n| 8 | E14000531 | Aldridge-Brownhills      | England | 20558 |  8835 | 1330 | 7751 |  826 | 39497 | 60215 |\n| 9 | E14000532 | Altrincham and Sale West | England | 26771 | 13481 | 4235 | 4047 | 1983 | 50517 | 72004 |\n| 10 | W07000043 | Alyn and Deeside         | Wales   | 13197 | 16540 | 1733 | 7260 |  976 | 41314 | 62016 |\n\n",
            "text/html": [
              "<table class=\"dataframe\">\n",
              "<caption>A data.frame: 6 × 10</caption>\n",
              "<thead>\n",
              "\t<tr><th></th><th scope=col>ConstituencyCode</th><th scope=col>ConstituencyName</th><th scope=col>Country</th><th scope=col>ConVote</th><th scope=col>LabVote</th><th scope=col>LDVote</th><th scope=col>UKIPVote</th><th scope=col>GreenVote</th><th scope=col>TotalVote</th><th scope=col>Electorate</th></tr>\n",
              "\t<tr><th></th><th scope=col>&lt;chr&gt;</th><th scope=col>&lt;chr&gt;</th><th scope=col>&lt;chr&gt;</th><th scope=col>&lt;int&gt;</th><th scope=col>&lt;int&gt;</th><th scope=col>&lt;int&gt;</th><th scope=col>&lt;int&gt;</th><th scope=col>&lt;int&gt;</th><th scope=col>&lt;int&gt;</th><th scope=col>&lt;int&gt;</th></tr>\n",
              "</thead>\n",
              "<tbody>\n",
              "\t<tr><th scope=row>1</th><td>W07000049</td><td>Aberavon                </td><td>Wales  </td><td> 3742</td><td>15416</td><td>1397</td><td>4971</td><td> 711</td><td>31523</td><td>49821</td></tr>\n",
              "\t<tr><th scope=row>2</th><td>W07000058</td><td>Aberconwy               </td><td>Wales  </td><td>12513</td><td> 8514</td><td>1391</td><td>3467</td><td> 727</td><td>30148</td><td>45540</td></tr>\n",
              "\t<tr><th scope=row>7</th><td>E14000530</td><td>Aldershot               </td><td>England</td><td>23369</td><td> 8468</td><td>4076</td><td>8253</td><td>2025</td><td>46191</td><td>72434</td></tr>\n",
              "\t<tr><th scope=row>8</th><td>E14000531</td><td>Aldridge-Brownhills     </td><td>England</td><td>20558</td><td> 8835</td><td>1330</td><td>7751</td><td> 826</td><td>39497</td><td>60215</td></tr>\n",
              "\t<tr><th scope=row>9</th><td>E14000532</td><td>Altrincham and Sale West</td><td>England</td><td>26771</td><td>13481</td><td>4235</td><td>4047</td><td>1983</td><td>50517</td><td>72004</td></tr>\n",
              "\t<tr><th scope=row>10</th><td>W07000043</td><td>Alyn and Deeside        </td><td>Wales  </td><td>13197</td><td>16540</td><td>1733</td><td>7260</td><td> 976</td><td>41314</td><td>62016</td></tr>\n",
              "</tbody>\n",
              "</table>\n"
            ]
          },
          "metadata": {}
        }
      ]
    },
    {
      "cell_type": "code",
      "metadata": {
        "colab": {
          "base_uri": "https://localhost:8080/",
          "height": 283
        },
        "id": "Ds44Z03zPblp",
        "outputId": "4f422db7-ae8a-437c-c2a1-ebf9e9363923"
      },
      "source": [
        "head(wards)"
      ],
      "execution_count": null,
      "outputs": [
        {
          "output_type": "display_data",
          "data": {
            "text/plain": [
              "  WardCode  WardName       ConstituencyCode LACode    Population Electorate\n",
              "1 E05000026 Abbey          E14000540        E09000002 13757      7765      \n",
              "2 E05000027 Alibon         E14000540        E09000002 11102      6267      \n",
              "3 E05000028 Becontree      E14000540        E09000002 13017      7347      \n",
              "4 E05000029 Chadwell Heath E14000657        E09000002 10606      6877      \n",
              "5 E05000030 Eastbrook      E14000657        E09000002 11117      7208      \n",
              "6 E05000031 Eastbury       E14000540        E09000002 12114      6838      "
            ],
            "text/latex": "A data.frame: 6 × 6\n\\begin{tabular}{r|llllll}\n  & WardCode & WardName & ConstituencyCode & LACode & Population & Electorate\\\\\n  & <chr> & <chr> & <chr> & <chr> & <int> & <dbl>\\\\\n\\hline\n\t1 & E05000026 & Abbey          & E14000540 & E09000002 & 13757 & 7765\\\\\n\t2 & E05000027 & Alibon         & E14000540 & E09000002 & 11102 & 6267\\\\\n\t3 & E05000028 & Becontree      & E14000540 & E09000002 & 13017 & 7347\\\\\n\t4 & E05000029 & Chadwell Heath & E14000657 & E09000002 & 10606 & 6877\\\\\n\t5 & E05000030 & Eastbrook      & E14000657 & E09000002 & 11117 & 7208\\\\\n\t6 & E05000031 & Eastbury       & E14000540 & E09000002 & 12114 & 6838\\\\\n\\end{tabular}\n",
            "text/markdown": "\nA data.frame: 6 × 6\n\n| <!--/--> | WardCode &lt;chr&gt; | WardName &lt;chr&gt; | ConstituencyCode &lt;chr&gt; | LACode &lt;chr&gt; | Population &lt;int&gt; | Electorate &lt;dbl&gt; |\n|---|---|---|---|---|---|---|\n| 1 | E05000026 | Abbey          | E14000540 | E09000002 | 13757 | 7765 |\n| 2 | E05000027 | Alibon         | E14000540 | E09000002 | 11102 | 6267 |\n| 3 | E05000028 | Becontree      | E14000540 | E09000002 | 13017 | 7347 |\n| 4 | E05000029 | Chadwell Heath | E14000657 | E09000002 | 10606 | 6877 |\n| 5 | E05000030 | Eastbrook      | E14000657 | E09000002 | 11117 | 7208 |\n| 6 | E05000031 | Eastbury       | E14000540 | E09000002 | 12114 | 6838 |\n\n",
            "text/html": [
              "<table class=\"dataframe\">\n",
              "<caption>A data.frame: 6 × 6</caption>\n",
              "<thead>\n",
              "\t<tr><th></th><th scope=col>WardCode</th><th scope=col>WardName</th><th scope=col>ConstituencyCode</th><th scope=col>LACode</th><th scope=col>Population</th><th scope=col>Electorate</th></tr>\n",
              "\t<tr><th></th><th scope=col>&lt;chr&gt;</th><th scope=col>&lt;chr&gt;</th><th scope=col>&lt;chr&gt;</th><th scope=col>&lt;chr&gt;</th><th scope=col>&lt;int&gt;</th><th scope=col>&lt;dbl&gt;</th></tr>\n",
              "</thead>\n",
              "<tbody>\n",
              "\t<tr><th scope=row>1</th><td>E05000026</td><td>Abbey         </td><td>E14000540</td><td>E09000002</td><td>13757</td><td>7765</td></tr>\n",
              "\t<tr><th scope=row>2</th><td>E05000027</td><td>Alibon        </td><td>E14000540</td><td>E09000002</td><td>11102</td><td>6267</td></tr>\n",
              "\t<tr><th scope=row>3</th><td>E05000028</td><td>Becontree     </td><td>E14000540</td><td>E09000002</td><td>13017</td><td>7347</td></tr>\n",
              "\t<tr><th scope=row>4</th><td>E05000029</td><td>Chadwell Heath</td><td>E14000657</td><td>E09000002</td><td>10606</td><td>6877</td></tr>\n",
              "\t<tr><th scope=row>5</th><td>E05000030</td><td>Eastbrook     </td><td>E14000657</td><td>E09000002</td><td>11117</td><td>7208</td></tr>\n",
              "\t<tr><th scope=row>6</th><td>E05000031</td><td>Eastbury      </td><td>E14000540</td><td>E09000002</td><td>12114</td><td>6838</td></tr>\n",
              "</tbody>\n",
              "</table>\n"
            ]
          },
          "metadata": {}
        }
      ]
    },
    {
      "cell_type": "markdown",
      "metadata": {
        "id": "CM5EP810Of6k"
      },
      "source": [
        "**Solution**\n",
        "\n",
        "We start by augmenting the ward data by the estimated number of votes for each party and turnout."
      ]
    },
    {
      "cell_type": "code",
      "metadata": {
        "id": "3OKMhN1oOd6p",
        "colab": {
          "base_uri": "https://localhost:8080/",
          "height": 1000
        },
        "outputId": "87bf3d58-21e5-48d7-e7e6-35a7bfb1b410"
      },
      "source": [
        "library(tidyverse)\n",
        "\n",
        "wards_extended <- wards %>% inner_join(genelec, by=\"ConstituencyCode\", suffix=c(\"Ward\",\"Const\")) %>% mutate(ConVote=ConVote/ElectorateConst*ElectorateWard,\n",
        "LabVote=LabVote/ElectorateConst*ElectorateWard,\n",
        "LDVote=LDVote/ElectorateConst*ElectorateWard,\n",
        "UKIPVote=UKIPVote/ElectorateConst*ElectorateWard,\n",
        "GreenVote=GreenVote/ElectorateConst*ElectorateWard,\n",
        "TotalVote=TotalVote/ElectorateConst*ElectorateWard)\n",
        "\n",
        "wards_extended"
      ],
      "execution_count": null,
      "outputs": [
        {
          "output_type": "display_data",
          "data": {
            "text/html": [
              "<table class=\"dataframe\">\n",
              "<caption>A data.frame: 8640 × 15</caption>\n",
              "<thead>\n",
              "\t<tr><th scope=col>WardCode</th><th scope=col>WardName</th><th scope=col>ConstituencyCode</th><th scope=col>LACode</th><th scope=col>Population</th><th scope=col>ElectorateWard</th><th scope=col>ConstituencyName</th><th scope=col>Country</th><th scope=col>ConVote</th><th scope=col>LabVote</th><th scope=col>LDVote</th><th scope=col>UKIPVote</th><th scope=col>GreenVote</th><th scope=col>TotalVote</th><th scope=col>ElectorateConst</th></tr>\n",
              "\t<tr><th scope=col>&lt;chr&gt;</th><th scope=col>&lt;chr&gt;</th><th scope=col>&lt;chr&gt;</th><th scope=col>&lt;chr&gt;</th><th scope=col>&lt;int&gt;</th><th scope=col>&lt;dbl&gt;</th><th scope=col>&lt;chr&gt;</th><th scope=col>&lt;chr&gt;</th><th scope=col>&lt;dbl&gt;</th><th scope=col>&lt;dbl&gt;</th><th scope=col>&lt;dbl&gt;</th><th scope=col>&lt;dbl&gt;</th><th scope=col>&lt;dbl&gt;</th><th scope=col>&lt;dbl&gt;</th><th scope=col>&lt;int&gt;</th></tr>\n",
              "</thead>\n",
              "<tbody>\n",
              "\t<tr><td>E05000026</td><td>Abbey              </td><td>E14000540</td><td>E09000002</td><td>13757</td><td> 7765</td><td>Barking                   </td><td>England</td><td> 736.4809</td><td>2604.912</td><td> 58.96884</td><td>1002.4703</td><td> 92.23062</td><td>4514.264</td><td>74004</td></tr>\n",
              "\t<tr><td>E05000027</td><td>Alibon             </td><td>E14000540</td><td>E09000002</td><td>11102</td><td> 6267</td><td>Barking                   </td><td>England</td><td> 594.4013</td><td>2102.380</td><td> 47.59275</td><td> 809.0768</td><td> 74.43777</td><td>3643.386</td><td>74004</td></tr>\n",
              "\t<tr><td>E05000028</td><td>Becontree          </td><td>E14000540</td><td>E09000002</td><td>13017</td><td> 7347</td><td>Barking                   </td><td>England</td><td> 696.8352</td><td>2464.686</td><td> 55.79447</td><td> 948.5060</td><td> 87.26573</td><td>4271.255</td><td>74004</td></tr>\n",
              "\t<tr><td>E05000029</td><td>Chadwell Heath     </td><td>E14000657</td><td>E09000002</td><td>10606</td><td> 6877</td><td>Dagenham and Rainham      </td><td>England</td><td>1044.9606</td><td>1775.796</td><td> 71.41029</td><td>1279.8078</td><td> 80.27433</td><td>4287.605</td><td>69049</td></tr>\n",
              "\t<tr><td>E05000030</td><td>Eastbrook          </td><td>E14000657</td><td>E09000002</td><td>11117</td><td> 7208</td><td>Dagenham and Rainham      </td><td>England</td><td>1095.2561</td><td>1861.267</td><td> 74.84737</td><td>1341.4068</td><td> 84.13805</td><td>4493.974</td><td>69049</td></tr>\n",
              "\t<tr><td>E05000031</td><td>Eastbury           </td><td>E14000540</td><td>E09000002</td><td>12114</td><td> 6838</td><td>Barking                   </td><td>England</td><td> 648.5585</td><td>2293.933</td><td> 51.92903</td><td> 882.7935</td><td> 81.21996</td><td>3975.343</td><td>74004</td></tr>\n",
              "\t<tr><td>E05000032</td><td>Gascoigne          </td><td>E14000540</td><td>E09000002</td><td>12551</td><td> 7084</td><td>Barking                   </td><td>England</td><td> 671.8907</td><td>2376.458</td><td> 53.79720</td><td> 914.5524</td><td> 84.14188</td><td>4118.358</td><td>74004</td></tr>\n",
              "\t<tr><td>E05000033</td><td>Goresbrook         </td><td>E14000540</td><td>E09000002</td><td>11826</td><td> 6676</td><td>Barking                   </td><td>England</td><td> 633.1934</td><td>2239.587</td><td> 50.69877</td><td> 861.8791</td><td> 79.29577</td><td>3881.162</td><td>74004</td></tr>\n",
              "\t<tr><td>E05000034</td><td>Heath              </td><td>E14000657</td><td>E09000002</td><td>11382</td><td> 7380</td><td>Dagenham and Rainham      </td><td>England</td><td>1121.3915</td><td>1905.681</td><td> 76.63341</td><td>1373.4160</td><td> 86.14578</td><td>4601.211</td><td>69049</td></tr>\n",
              "\t<tr><td>E05000035</td><td>Longbridge         </td><td>E14000540</td><td>E09000002</td><td>12340</td><td> 6965</td><td>Barking                   </td><td>England</td><td> 660.6040</td><td>2336.537</td><td> 52.89349</td><td> 899.1894</td><td> 82.72843</td><td>4049.176</td><td>74004</td></tr>\n",
              "\t<tr><td>E05000036</td><td>Mayesbrook         </td><td>E14000540</td><td>E09000002</td><td>10773</td><td> 6081</td><td>Barking                   </td><td>England</td><td> 576.7599</td><td>2039.983</td><td> 46.18023</td><td> 785.0640</td><td> 72.22851</td><td>3535.253</td><td>74004</td></tr>\n",
              "\t<tr><td>E05000037</td><td>Parsloes           </td><td>E14000540</td><td>E09000002</td><td>10196</td><td> 5756</td><td>Barking                   </td><td>England</td><td> 545.9349</td><td>1930.956</td><td> 43.71212</td><td> 743.1061</td><td> 68.36825</td><td>3346.311</td><td>74004</td></tr>\n",
              "\t<tr><td>E05000038</td><td>River              </td><td>E14000657</td><td>E09000002</td><td>11610</td><td> 7527</td><td>Dagenham and Rainham      </td><td>England</td><td>1143.7281</td><td>1943.640</td><td> 78.15984</td><td>1400.7726</td><td> 87.86169</td><td>4692.861</td><td>69049</td></tr>\n",
              "\t<tr><td>E05000039</td><td>Thames             </td><td>E14000540</td><td>E09000002</td><td>12476</td><td> 7042</td><td>Barking                   </td><td>England</td><td> 667.9071</td><td>2362.368</td><td> 53.47824</td><td> 909.1302</td><td> 83.64302</td><td>4093.940</td><td>74004</td></tr>\n",
              "\t<tr><td>E05000040</td><td>Valence            </td><td>E14000540</td><td>E09000002</td><td>10953</td><td> 6183</td><td>Barking                   </td><td>England</td><td> 586.4342</td><td>2074.201</td><td> 46.95484</td><td> 798.2323</td><td> 73.44004</td><td>3594.552</td><td>74004</td></tr>\n",
              "\t<tr><td>E05000041</td><td>Village            </td><td>E14000657</td><td>E09000002</td><td>11074</td><td> 7180</td><td>Dagenham and Rainham      </td><td>England</td><td>1091.0015</td><td>1854.037</td><td> 74.55662</td><td>1336.1960</td><td> 83.81121</td><td>4476.517</td><td>69049</td></tr>\n",
              "\t<tr><td>E05000042</td><td>Whalebone          </td><td>E14000657</td><td>E09000002</td><td>11400</td><td> 7391</td><td>Dagenham and Rainham      </td><td>England</td><td>1123.0629</td><td>1908.522</td><td> 76.74763</td><td>1375.4631</td><td> 86.27418</td><td>4608.069</td><td>69049</td></tr>\n",
              "\t<tr><td>E05000043</td><td>Brunswick Park     </td><td>E14000636</td><td>E09000003</td><td>16902</td><td>11266</td><td>Chipping Barnet           </td><td>England</td><td>3727.5493</td><td>2619.660</td><td>344.55122</td><td> 600.6855</td><td>361.91625</td><td>7671.438</td><td>77853</td></tr>\n",
              "\t<tr><td>E05000044</td><td>Burnt Oak          </td><td>E14000741</td><td>E09000003</td><td>19221</td><td>10876</td><td>Hendon                    </td><td>England</td><td>3544.0452</td><td>3001.542</td><td>158.49725</td><td> 378.0334</td><td>147.86279</td><td>7229.980</td><td>74658</td></tr>\n",
              "\t<tr><td>E05000045</td><td>Childs Hill        </td><td>E14000703</td><td>E09000003</td><td>20966</td><td>11972</td><td>Finchley and Golders Green</td><td>England</td><td>4292.8649</td><td>3352.040</td><td>276.16572</td><td> 287.7972</td><td>225.48549</td><td>8434.354</td><td>72049</td></tr>\n",
              "\t<tr><td>E05000046</td><td>Colindale          </td><td>E14000741</td><td>E09000003</td><td>20185</td><td>11421</td><td>Hendon                    </td><td>England</td><td>3721.6385</td><td>3151.950</td><td>166.43960</td><td> 396.9768</td><td>155.27224</td><td>7592.277</td><td>74658</td></tr>\n",
              "\t<tr><td>E05000047</td><td>Coppetts           </td><td>E14000636</td><td>E09000003</td><td>18242</td><td>12159</td><td>Chipping Barnet           </td><td>England</td><td>4023.0136</td><td>2827.308</td><td>371.86209</td><td> 648.2988</td><td>390.60356</td><td>8279.515</td><td>77853</td></tr>\n",
              "\t<tr><td>E05000048</td><td>East Barnet        </td><td>E14000636</td><td>E09000003</td><td>16832</td><td>11218</td><td>Chipping Barnet           </td><td>England</td><td>3711.6677</td><td>2608.499</td><td>343.08322</td><td> 598.1262</td><td>360.37427</td><td>7638.753</td><td>77853</td></tr>\n",
              "\t<tr><td>E05000049</td><td>East Finchley      </td><td>E14000703</td><td>E09000003</td><td>16879</td><td> 9640</td><td>Finchley and Golders Green</td><td>England</td><td>3456.6670</td><td>2699.104</td><td>222.37200</td><td> 231.7378</td><td>181.56366</td><td>6791.444</td><td>72049</td></tr>\n",
              "\t<tr><td>E05000050</td><td>Edgware            </td><td>E14000741</td><td>E09000003</td><td>17306</td><td> 9793</td><td>Hendon                    </td><td>England</td><td>3191.1397</td><td>2702.657</td><td>142.71457</td><td> 340.3900</td><td>133.13905</td><td>6510.040</td><td>74658</td></tr>\n",
              "\t<tr><td>E05000051</td><td>Finchley Church End</td><td>E14000703</td><td>E09000003</td><td>16303</td><td> 9310</td><td>Finchley and Golders Green</td><td>England</td><td>3338.3371</td><td>2606.707</td><td>214.75968</td><td> 223.8049</td><td>175.34830</td><td>6558.957</td><td>72049</td></tr>\n",
              "\t<tr><td>E05000052</td><td>Garden Suburb      </td><td>E14000703</td><td>E09000003</td><td>16064</td><td> 9174</td><td>Finchley and Golders Green</td><td>England</td><td>3289.5708</td><td>2568.628</td><td>211.62248</td><td> 220.5356</td><td>172.78683</td><td>6463.144</td><td>72049</td></tr>\n",
              "\t<tr><td>E05000053</td><td>Golders Green      </td><td>E14000703</td><td>E09000003</td><td>20034</td><td>11440</td><td>Finchley and Golders Green</td><td>England</td><td>4102.1027</td><td>3203.086</td><td>263.89374</td><td> 275.0084</td><td>215.46559</td><td>8059.556</td><td>72049</td></tr>\n",
              "\t<tr><td>E05000054</td><td>Hale               </td><td>E14000741</td><td>E09000003</td><td>18215</td><td>10307</td><td>Hendon                    </td><td>England</td><td>3358.6313</td><td>2844.510</td><td>150.20515</td><td> 358.2558</td><td>140.12705</td><td>6851.729</td><td>74658</td></tr>\n",
              "\t<tr><td>E05000055</td><td>Hendon             </td><td>E14000741</td><td>E09000003</td><td>19430</td><td>10995</td><td>Hendon                    </td><td>England</td><td>3582.8225</td><td>3034.383</td><td>160.23146</td><td> 382.1697</td><td>149.48063</td><td>7309.087</td><td>74658</td></tr>\n",
              "\t<tr><td>⋮</td><td>⋮</td><td>⋮</td><td>⋮</td><td>⋮</td><td>⋮</td><td>⋮</td><td>⋮</td><td>⋮</td><td>⋮</td><td>⋮</td><td>⋮</td><td>⋮</td><td>⋮</td><td>⋮</td></tr>\n",
              "\t<tr><td>W05000965</td><td>Dunvant       </td><td>W07000046</td><td>W06000011</td><td> 4256</td><td>3195</td><td>Gower       </td><td>Wales</td><td> 819.7847</td><td> 818.3893</td><td> 80.21093</td><td>246.6796</td><td> 60.00315</td><td>2209.832</td><td>61820</td></tr>\n",
              "\t<tr><td>W05000965</td><td>Dunvant       </td><td>W07000047</td><td>W06000011</td><td> 4256</td><td>2810</td><td>Swansea West</td><td>Wales</td><td> 379.1702</td><td> 715.5518</td><td>151.93582</td><td>226.8041</td><td> 85.29059</td><td>1680.760</td><td>58776</td></tr>\n",
              "\t<tr><td>W05000966</td><td>Fairwood      </td><td>W07000046</td><td>W06000011</td><td> 2932</td><td>2201</td><td>Gower       </td><td>Wales</td><td> 564.7406</td><td> 563.7793</td><td> 55.25642</td><td>169.9349</td><td> 41.33551</td><td>1522.329</td><td>61820</td></tr>\n",
              "\t<tr><td>W05000967</td><td>Gorseinon     </td><td>W07000046</td><td>W06000011</td><td> 4510</td><td>3385</td><td>Gower       </td><td>Wales</td><td> 868.5356</td><td> 867.0572</td><td> 84.98091</td><td>261.3492</td><td> 63.57142</td><td>2341.246</td><td>61820</td></tr>\n",
              "\t<tr><td>W05000968</td><td>Kingsbridge   </td><td>W07000046</td><td>W06000011</td><td> 3970</td><td>2979</td><td>Gower       </td><td>Wales</td><td> 764.3626</td><td> 763.0615</td><td> 74.78822</td><td>230.0027</td><td> 55.94660</td><td>2060.435</td><td>61820</td></tr>\n",
              "\t<tr><td>W05000969</td><td>Landore       </td><td>W07000047</td><td>W06000011</td><td> 6530</td><td>4311</td><td>Swansea West</td><td>Wales</td><td> 581.7092</td><td>1097.7735</td><td>233.09443</td><td>347.9547</td><td>130.84973</td><td>2578.561</td><td>58776</td></tr>\n",
              "\t<tr><td>W05000969</td><td>Landore       </td><td>W07000048</td><td>W06000011</td><td> 6530</td><td>3527</td><td>Swansea East</td><td>Wales</td><td> 312.6275</td><td>1082.6445</td><td> 84.63195</td><td>351.3563</td><td>       NA</td><td>2043.935</td><td>58011</td></tr>\n",
              "\t<tr><td>W05000970</td><td>Llangyfelach  </td><td>W07000046</td><td>W06000011</td><td> 5065</td><td>3801</td><td>Gower       </td><td>Wales</td><td> 975.2744</td><td> 973.6143</td><td> 95.42465</td><td>293.4677</td><td> 71.38403</td><td>2628.974</td><td>61820</td></tr>\n",
              "\t<tr><td>W05000970</td><td>Llangyfelach  </td><td>W07000048</td><td>W06000011</td><td> 5065</td><td>2736</td><td>Swansea East</td><td>Wales</td><td> 242.5146</td><td> 839.8399</td><td> 65.65155</td><td>272.5577</td><td>       NA</td><td>1585.542</td><td>58011</td></tr>\n",
              "\t<tr><td>W05000971</td><td>Llansamlet    </td><td>W07000048</td><td>W06000011</td><td>14522</td><td>7846</td><td>Swansea East</td><td>Wales</td><td> 695.4566</td><td>2408.4005</td><td>188.26829</td><td>781.6110</td><td>       NA</td><td>4546.842</td><td>58011</td></tr>\n",
              "\t<tr><td>W05000972</td><td>Morriston     </td><td>W07000048</td><td>W06000011</td><td>16584</td><td>8960</td><td>Swansea East</td><td>Wales</td><td> 794.1997</td><td>2750.3529</td><td>214.99922</td><td>892.5866</td><td>       NA</td><td>5192.417</td><td>58011</td></tr>\n",
              "\t<tr><td>W05000973</td><td>Mynyddbach    </td><td>W07000048</td><td>W06000011</td><td> 8904</td><td>4811</td><td>Swansea East</td><td>Wales</td><td> 426.4392</td><td>1476.7799</td><td>115.44211</td><td>479.2672</td><td>       NA</td><td>2788.026</td><td>58011</td></tr>\n",
              "\t<tr><td>W05000974</td><td>Penclawdd     </td><td>W07000046</td><td>W06000011</td><td> 3583</td><td>2689</td><td>Gower       </td><td>Wales</td><td> 689.9534</td><td> 688.7790</td><td> 67.50773</td><td>207.6124</td><td> 50.50031</td><td>1859.855</td><td>61820</td></tr>\n",
              "\t<tr><td>W05000975</td><td>Penderry      </td><td>W07000048</td><td>W06000011</td><td>11747</td><td>6346</td><td>Swansea East</td><td>Wales</td><td> 562.4990</td><td>1947.9620</td><td>152.27512</td><td>632.1824</td><td>       NA</td><td>3677.575</td><td>58011</td></tr>\n",
              "\t<tr><td>W05000976</td><td>Penllergaer   </td><td>W07000046</td><td>W06000011</td><td> 3104</td><td>2330</td><td>Gower       </td><td>Wales</td><td> 597.8399</td><td> 596.8222</td><td> 58.49499</td><td>179.8947</td><td> 43.75817</td><td>1611.552</td><td>61820</td></tr>\n",
              "\t<tr><td>W05000977</td><td>Pennard       </td><td>W07000046</td><td>W06000011</td><td> 2704</td><td>2029</td><td>Gower       </td><td>Wales</td><td> 520.6082</td><td> 519.7220</td><td> 50.93834</td><td>156.6551</td><td> 38.10529</td><td>1403.364</td><td>61820</td></tr>\n",
              "\t<tr><td>W05000978</td><td>Penyrheol     </td><td>W07000046</td><td>W06000011</td><td> 5482</td><td>4115</td><td>Gower       </td><td>Wales</td><td>1055.8416</td><td>1054.0444</td><td>103.30767</td><td>317.7110</td><td> 77.28106</td><td>2846.153</td><td>61820</td></tr>\n",
              "\t<tr><td>W05000979</td><td>Townhill      </td><td>W07000047</td><td>W06000011</td><td> 8785</td><td>5801</td><td>Swansea West</td><td>Wales</td><td> 782.7639</td><td>1477.1942</td><td>313.65826</td><td>468.2174</td><td>176.07500</td><td>3469.783</td><td>58776</td></tr>\n",
              "\t<tr><td>W05000980</td><td>Upper Loughor </td><td>W07000046</td><td>W06000011</td><td> 2702</td><td>2028</td><td>Gower       </td><td>Wales</td><td> 520.3516</td><td> 519.4659</td><td> 50.91323</td><td>156.5779</td><td> 38.08651</td><td>1402.673</td><td>61820</td></tr>\n",
              "\t<tr><td>W05000981</td><td>Aethwy        </td><td>W07000041</td><td>W06000001</td><td> 6824</td><td>4858</td><td>Ynys Môn    </td><td>Wales</td><td> 719.1093</td><td>1057.4107</td><td> 73.04897</td><td>498.1142</td><td>       NA</td><td>3397.215</td><td>49944</td></tr>\n",
              "\t<tr><td>W05000982</td><td>Bro Aberffraw </td><td>W07000041</td><td>W06000001</td><td> 3811</td><td>2712</td><td>Ynys Môn    </td><td>Wales</td><td> 401.4459</td><td> 590.3042</td><td> 40.77991</td><td>278.0745</td><td>       NA</td><td>1896.510</td><td>49944</td></tr>\n",
              "\t<tr><td>W05000983</td><td>Bro Rhosyr    </td><td>W07000041</td><td>W06000001</td><td> 4852</td><td>3454</td><td>Ynys Môn    </td><td>Wales</td><td> 511.2811</td><td> 751.8107</td><td> 51.93725</td><td>354.1553</td><td>       NA</td><td>2415.393</td><td>49944</td></tr>\n",
              "\t<tr><td>W05000984</td><td>Caergybi      </td><td>W07000041</td><td>W06000001</td><td> 7553</td><td>5376</td><td>Ynys Môn    </td><td>Wales</td><td> 795.7866</td><td>1170.1605</td><td> 80.83806</td><td>551.2273</td><td>       NA</td><td>3759.454</td><td>49944</td></tr>\n",
              "\t<tr><td>W05000985</td><td>Canolbarth M�n</td><td>W07000041</td><td>W06000001</td><td> 8997</td><td>6404</td><td>Ynys Môn    </td><td>Wales</td><td> 947.9572</td><td>1393.9189</td><td> 96.29593</td><td>656.6331</td><td>       NA</td><td>4478.338</td><td>49944</td></tr>\n",
              "\t<tr><td>W05000986</td><td>Llif�n        </td><td>W07000041</td><td>W06000001</td><td> 6002</td><td>4272</td><td>Ynys Môn    </td><td>Wales</td><td> 632.3662</td><td> 929.8597</td><td> 64.23739</td><td>438.0288</td><td>       NA</td><td>2987.423</td><td>49944</td></tr>\n",
              "\t<tr><td>W05000987</td><td>Lligwy        </td><td>W07000041</td><td>W06000001</td><td> 6185</td><td>4402</td><td>Ynys Môn    </td><td>Wales</td><td> 651.6095</td><td> 958.1560</td><td> 66.19218</td><td>451.3584</td><td>       NA</td><td>3078.333</td><td>49944</td></tr>\n",
              "\t<tr><td>W05000988</td><td>Seiriol       </td><td>W07000041</td><td>W06000001</td><td> 5974</td><td>4252</td><td>Ynys Môn    </td><td>Wales</td><td> 629.4057</td><td> 925.5064</td><td> 63.93665</td><td>435.9781</td><td>       NA</td><td>2973.437</td><td>49944</td></tr>\n",
              "\t<tr><td>W05000989</td><td>Talybolion    </td><td>W07000041</td><td>W06000001</td><td> 6308</td><td>4490</td><td>Ynys Môn    </td><td>Wales</td><td> 664.6358</td><td> 977.3104</td><td> 67.51542</td><td>460.3814</td><td>       NA</td><td>3139.871</td><td>49944</td></tr>\n",
              "\t<tr><td>W05000990</td><td>Twrcelyn      </td><td>W07000041</td><td>W06000001</td><td> 7485</td><td>5327</td><td>Ynys Môn    </td><td>Wales</td><td> 788.5334</td><td>1159.4950</td><td> 80.10125</td><td>546.2031</td><td>       NA</td><td>3725.188</td><td>49944</td></tr>\n",
              "\t<tr><td>W05000991</td><td>Ynys Gybi     </td><td>W07000041</td><td>W06000001</td><td> 6178</td><td>4397</td><td>Ynys Môn    </td><td>Wales</td><td> 650.8694</td><td> 957.0677</td><td> 66.11699</td><td>450.8457</td><td>       NA</td><td>3074.836</td><td>49944</td></tr>\n",
              "</tbody>\n",
              "</table>\n"
            ],
            "text/markdown": "\nA data.frame: 8640 × 15\n\n| WardCode &lt;chr&gt; | WardName &lt;chr&gt; | ConstituencyCode &lt;chr&gt; | LACode &lt;chr&gt; | Population &lt;int&gt; | ElectorateWard &lt;dbl&gt; | ConstituencyName &lt;chr&gt; | Country &lt;chr&gt; | ConVote &lt;dbl&gt; | LabVote &lt;dbl&gt; | LDVote &lt;dbl&gt; | UKIPVote &lt;dbl&gt; | GreenVote &lt;dbl&gt; | TotalVote &lt;dbl&gt; | ElectorateConst &lt;int&gt; |\n|---|---|---|---|---|---|---|---|---|---|---|---|---|---|---|\n| E05000026 | Abbey               | E14000540 | E09000002 | 13757 |  7765 | Barking                    | England |  736.4809 | 2604.912 |  58.96884 | 1002.4703 |  92.23062 | 4514.264 | 74004 |\n| E05000027 | Alibon              | E14000540 | E09000002 | 11102 |  6267 | Barking                    | England |  594.4013 | 2102.380 |  47.59275 |  809.0768 |  74.43777 | 3643.386 | 74004 |\n| E05000028 | Becontree           | E14000540 | E09000002 | 13017 |  7347 | Barking                    | England |  696.8352 | 2464.686 |  55.79447 |  948.5060 |  87.26573 | 4271.255 | 74004 |\n| E05000029 | Chadwell Heath      | E14000657 | E09000002 | 10606 |  6877 | Dagenham and Rainham       | England | 1044.9606 | 1775.796 |  71.41029 | 1279.8078 |  80.27433 | 4287.605 | 69049 |\n| E05000030 | Eastbrook           | E14000657 | E09000002 | 11117 |  7208 | Dagenham and Rainham       | England | 1095.2561 | 1861.267 |  74.84737 | 1341.4068 |  84.13805 | 4493.974 | 69049 |\n| E05000031 | Eastbury            | E14000540 | E09000002 | 12114 |  6838 | Barking                    | England |  648.5585 | 2293.933 |  51.92903 |  882.7935 |  81.21996 | 3975.343 | 74004 |\n| E05000032 | Gascoigne           | E14000540 | E09000002 | 12551 |  7084 | Barking                    | England |  671.8907 | 2376.458 |  53.79720 |  914.5524 |  84.14188 | 4118.358 | 74004 |\n| E05000033 | Goresbrook          | E14000540 | E09000002 | 11826 |  6676 | Barking                    | England |  633.1934 | 2239.587 |  50.69877 |  861.8791 |  79.29577 | 3881.162 | 74004 |\n| E05000034 | Heath               | E14000657 | E09000002 | 11382 |  7380 | Dagenham and Rainham       | England | 1121.3915 | 1905.681 |  76.63341 | 1373.4160 |  86.14578 | 4601.211 | 69049 |\n| E05000035 | Longbridge          | E14000540 | E09000002 | 12340 |  6965 | Barking                    | England |  660.6040 | 2336.537 |  52.89349 |  899.1894 |  82.72843 | 4049.176 | 74004 |\n| E05000036 | Mayesbrook          | E14000540 | E09000002 | 10773 |  6081 | Barking                    | England |  576.7599 | 2039.983 |  46.18023 |  785.0640 |  72.22851 | 3535.253 | 74004 |\n| E05000037 | Parsloes            | E14000540 | E09000002 | 10196 |  5756 | Barking                    | England |  545.9349 | 1930.956 |  43.71212 |  743.1061 |  68.36825 | 3346.311 | 74004 |\n| E05000038 | River               | E14000657 | E09000002 | 11610 |  7527 | Dagenham and Rainham       | England | 1143.7281 | 1943.640 |  78.15984 | 1400.7726 |  87.86169 | 4692.861 | 69049 |\n| E05000039 | Thames              | E14000540 | E09000002 | 12476 |  7042 | Barking                    | England |  667.9071 | 2362.368 |  53.47824 |  909.1302 |  83.64302 | 4093.940 | 74004 |\n| E05000040 | Valence             | E14000540 | E09000002 | 10953 |  6183 | Barking                    | England |  586.4342 | 2074.201 |  46.95484 |  798.2323 |  73.44004 | 3594.552 | 74004 |\n| E05000041 | Village             | E14000657 | E09000002 | 11074 |  7180 | Dagenham and Rainham       | England | 1091.0015 | 1854.037 |  74.55662 | 1336.1960 |  83.81121 | 4476.517 | 69049 |\n| E05000042 | Whalebone           | E14000657 | E09000002 | 11400 |  7391 | Dagenham and Rainham       | England | 1123.0629 | 1908.522 |  76.74763 | 1375.4631 |  86.27418 | 4608.069 | 69049 |\n| E05000043 | Brunswick Park      | E14000636 | E09000003 | 16902 | 11266 | Chipping Barnet            | England | 3727.5493 | 2619.660 | 344.55122 |  600.6855 | 361.91625 | 7671.438 | 77853 |\n| E05000044 | Burnt Oak           | E14000741 | E09000003 | 19221 | 10876 | Hendon                     | England | 3544.0452 | 3001.542 | 158.49725 |  378.0334 | 147.86279 | 7229.980 | 74658 |\n| E05000045 | Childs Hill         | E14000703 | E09000003 | 20966 | 11972 | Finchley and Golders Green | England | 4292.8649 | 3352.040 | 276.16572 |  287.7972 | 225.48549 | 8434.354 | 72049 |\n| E05000046 | Colindale           | E14000741 | E09000003 | 20185 | 11421 | Hendon                     | England | 3721.6385 | 3151.950 | 166.43960 |  396.9768 | 155.27224 | 7592.277 | 74658 |\n| E05000047 | Coppetts            | E14000636 | E09000003 | 18242 | 12159 | Chipping Barnet            | England | 4023.0136 | 2827.308 | 371.86209 |  648.2988 | 390.60356 | 8279.515 | 77853 |\n| E05000048 | East Barnet         | E14000636 | E09000003 | 16832 | 11218 | Chipping Barnet            | England | 3711.6677 | 2608.499 | 343.08322 |  598.1262 | 360.37427 | 7638.753 | 77853 |\n| E05000049 | East Finchley       | E14000703 | E09000003 | 16879 |  9640 | Finchley and Golders Green | England | 3456.6670 | 2699.104 | 222.37200 |  231.7378 | 181.56366 | 6791.444 | 72049 |\n| E05000050 | Edgware             | E14000741 | E09000003 | 17306 |  9793 | Hendon                     | England | 3191.1397 | 2702.657 | 142.71457 |  340.3900 | 133.13905 | 6510.040 | 74658 |\n| E05000051 | Finchley Church End | E14000703 | E09000003 | 16303 |  9310 | Finchley and Golders Green | England | 3338.3371 | 2606.707 | 214.75968 |  223.8049 | 175.34830 | 6558.957 | 72049 |\n| E05000052 | Garden Suburb       | E14000703 | E09000003 | 16064 |  9174 | Finchley and Golders Green | England | 3289.5708 | 2568.628 | 211.62248 |  220.5356 | 172.78683 | 6463.144 | 72049 |\n| E05000053 | Golders Green       | E14000703 | E09000003 | 20034 | 11440 | Finchley and Golders Green | England | 4102.1027 | 3203.086 | 263.89374 |  275.0084 | 215.46559 | 8059.556 | 72049 |\n| E05000054 | Hale                | E14000741 | E09000003 | 18215 | 10307 | Hendon                     | England | 3358.6313 | 2844.510 | 150.20515 |  358.2558 | 140.12705 | 6851.729 | 74658 |\n| E05000055 | Hendon              | E14000741 | E09000003 | 19430 | 10995 | Hendon                     | England | 3582.8225 | 3034.383 | 160.23146 |  382.1697 | 149.48063 | 7309.087 | 74658 |\n| ⋮ | ⋮ | ⋮ | ⋮ | ⋮ | ⋮ | ⋮ | ⋮ | ⋮ | ⋮ | ⋮ | ⋮ | ⋮ | ⋮ | ⋮ |\n| W05000965 | Dunvant        | W07000046 | W06000011 |  4256 | 3195 | Gower        | Wales |  819.7847 |  818.3893 |  80.21093 | 246.6796 |  60.00315 | 2209.832 | 61820 |\n| W05000965 | Dunvant        | W07000047 | W06000011 |  4256 | 2810 | Swansea West | Wales |  379.1702 |  715.5518 | 151.93582 | 226.8041 |  85.29059 | 1680.760 | 58776 |\n| W05000966 | Fairwood       | W07000046 | W06000011 |  2932 | 2201 | Gower        | Wales |  564.7406 |  563.7793 |  55.25642 | 169.9349 |  41.33551 | 1522.329 | 61820 |\n| W05000967 | Gorseinon      | W07000046 | W06000011 |  4510 | 3385 | Gower        | Wales |  868.5356 |  867.0572 |  84.98091 | 261.3492 |  63.57142 | 2341.246 | 61820 |\n| W05000968 | Kingsbridge    | W07000046 | W06000011 |  3970 | 2979 | Gower        | Wales |  764.3626 |  763.0615 |  74.78822 | 230.0027 |  55.94660 | 2060.435 | 61820 |\n| W05000969 | Landore        | W07000047 | W06000011 |  6530 | 4311 | Swansea West | Wales |  581.7092 | 1097.7735 | 233.09443 | 347.9547 | 130.84973 | 2578.561 | 58776 |\n| W05000969 | Landore        | W07000048 | W06000011 |  6530 | 3527 | Swansea East | Wales |  312.6275 | 1082.6445 |  84.63195 | 351.3563 |        NA | 2043.935 | 58011 |\n| W05000970 | Llangyfelach   | W07000046 | W06000011 |  5065 | 3801 | Gower        | Wales |  975.2744 |  973.6143 |  95.42465 | 293.4677 |  71.38403 | 2628.974 | 61820 |\n| W05000970 | Llangyfelach   | W07000048 | W06000011 |  5065 | 2736 | Swansea East | Wales |  242.5146 |  839.8399 |  65.65155 | 272.5577 |        NA | 1585.542 | 58011 |\n| W05000971 | Llansamlet     | W07000048 | W06000011 | 14522 | 7846 | Swansea East | Wales |  695.4566 | 2408.4005 | 188.26829 | 781.6110 |        NA | 4546.842 | 58011 |\n| W05000972 | Morriston      | W07000048 | W06000011 | 16584 | 8960 | Swansea East | Wales |  794.1997 | 2750.3529 | 214.99922 | 892.5866 |        NA | 5192.417 | 58011 |\n| W05000973 | Mynyddbach     | W07000048 | W06000011 |  8904 | 4811 | Swansea East | Wales |  426.4392 | 1476.7799 | 115.44211 | 479.2672 |        NA | 2788.026 | 58011 |\n| W05000974 | Penclawdd      | W07000046 | W06000011 |  3583 | 2689 | Gower        | Wales |  689.9534 |  688.7790 |  67.50773 | 207.6124 |  50.50031 | 1859.855 | 61820 |\n| W05000975 | Penderry       | W07000048 | W06000011 | 11747 | 6346 | Swansea East | Wales |  562.4990 | 1947.9620 | 152.27512 | 632.1824 |        NA | 3677.575 | 58011 |\n| W05000976 | Penllergaer    | W07000046 | W06000011 |  3104 | 2330 | Gower        | Wales |  597.8399 |  596.8222 |  58.49499 | 179.8947 |  43.75817 | 1611.552 | 61820 |\n| W05000977 | Pennard        | W07000046 | W06000011 |  2704 | 2029 | Gower        | Wales |  520.6082 |  519.7220 |  50.93834 | 156.6551 |  38.10529 | 1403.364 | 61820 |\n| W05000978 | Penyrheol      | W07000046 | W06000011 |  5482 | 4115 | Gower        | Wales | 1055.8416 | 1054.0444 | 103.30767 | 317.7110 |  77.28106 | 2846.153 | 61820 |\n| W05000979 | Townhill       | W07000047 | W06000011 |  8785 | 5801 | Swansea West | Wales |  782.7639 | 1477.1942 | 313.65826 | 468.2174 | 176.07500 | 3469.783 | 58776 |\n| W05000980 | Upper Loughor  | W07000046 | W06000011 |  2702 | 2028 | Gower        | Wales |  520.3516 |  519.4659 |  50.91323 | 156.5779 |  38.08651 | 1402.673 | 61820 |\n| W05000981 | Aethwy         | W07000041 | W06000001 |  6824 | 4858 | Ynys Môn     | Wales |  719.1093 | 1057.4107 |  73.04897 | 498.1142 |        NA | 3397.215 | 49944 |\n| W05000982 | Bro Aberffraw  | W07000041 | W06000001 |  3811 | 2712 | Ynys Môn     | Wales |  401.4459 |  590.3042 |  40.77991 | 278.0745 |        NA | 1896.510 | 49944 |\n| W05000983 | Bro Rhosyr     | W07000041 | W06000001 |  4852 | 3454 | Ynys Môn     | Wales |  511.2811 |  751.8107 |  51.93725 | 354.1553 |        NA | 2415.393 | 49944 |\n| W05000984 | Caergybi       | W07000041 | W06000001 |  7553 | 5376 | Ynys Môn     | Wales |  795.7866 | 1170.1605 |  80.83806 | 551.2273 |        NA | 3759.454 | 49944 |\n| W05000985 | Canolbarth M�n | W07000041 | W06000001 |  8997 | 6404 | Ynys Môn     | Wales |  947.9572 | 1393.9189 |  96.29593 | 656.6331 |        NA | 4478.338 | 49944 |\n| W05000986 | Llif�n         | W07000041 | W06000001 |  6002 | 4272 | Ynys Môn     | Wales |  632.3662 |  929.8597 |  64.23739 | 438.0288 |        NA | 2987.423 | 49944 |\n| W05000987 | Lligwy         | W07000041 | W06000001 |  6185 | 4402 | Ynys Môn     | Wales |  651.6095 |  958.1560 |  66.19218 | 451.3584 |        NA | 3078.333 | 49944 |\n| W05000988 | Seiriol        | W07000041 | W06000001 |  5974 | 4252 | Ynys Môn     | Wales |  629.4057 |  925.5064 |  63.93665 | 435.9781 |        NA | 2973.437 | 49944 |\n| W05000989 | Talybolion     | W07000041 | W06000001 |  6308 | 4490 | Ynys Môn     | Wales |  664.6358 |  977.3104 |  67.51542 | 460.3814 |        NA | 3139.871 | 49944 |\n| W05000990 | Twrcelyn       | W07000041 | W06000001 |  7485 | 5327 | Ynys Môn     | Wales |  788.5334 | 1159.4950 |  80.10125 | 546.2031 |        NA | 3725.188 | 49944 |\n| W05000991 | Ynys Gybi      | W07000041 | W06000001 |  6178 | 4397 | Ynys Môn     | Wales |  650.8694 |  957.0677 |  66.11699 | 450.8457 |        NA | 3074.836 | 49944 |\n\n",
            "text/latex": "A data.frame: 8640 × 15\n\\begin{tabular}{lllllllllllllll}\n WardCode & WardName & ConstituencyCode & LACode & Population & ElectorateWard & ConstituencyName & Country & ConVote & LabVote & LDVote & UKIPVote & GreenVote & TotalVote & ElectorateConst\\\\\n <chr> & <chr> & <chr> & <chr> & <int> & <dbl> & <chr> & <chr> & <dbl> & <dbl> & <dbl> & <dbl> & <dbl> & <dbl> & <int>\\\\\n\\hline\n\t E05000026 & Abbey               & E14000540 & E09000002 & 13757 &  7765 & Barking                    & England &  736.4809 & 2604.912 &  58.96884 & 1002.4703 &  92.23062 & 4514.264 & 74004\\\\\n\t E05000027 & Alibon              & E14000540 & E09000002 & 11102 &  6267 & Barking                    & England &  594.4013 & 2102.380 &  47.59275 &  809.0768 &  74.43777 & 3643.386 & 74004\\\\\n\t E05000028 & Becontree           & E14000540 & E09000002 & 13017 &  7347 & Barking                    & England &  696.8352 & 2464.686 &  55.79447 &  948.5060 &  87.26573 & 4271.255 & 74004\\\\\n\t E05000029 & Chadwell Heath      & E14000657 & E09000002 & 10606 &  6877 & Dagenham and Rainham       & England & 1044.9606 & 1775.796 &  71.41029 & 1279.8078 &  80.27433 & 4287.605 & 69049\\\\\n\t E05000030 & Eastbrook           & E14000657 & E09000002 & 11117 &  7208 & Dagenham and Rainham       & England & 1095.2561 & 1861.267 &  74.84737 & 1341.4068 &  84.13805 & 4493.974 & 69049\\\\\n\t E05000031 & Eastbury            & E14000540 & E09000002 & 12114 &  6838 & Barking                    & England &  648.5585 & 2293.933 &  51.92903 &  882.7935 &  81.21996 & 3975.343 & 74004\\\\\n\t E05000032 & Gascoigne           & E14000540 & E09000002 & 12551 &  7084 & Barking                    & England &  671.8907 & 2376.458 &  53.79720 &  914.5524 &  84.14188 & 4118.358 & 74004\\\\\n\t E05000033 & Goresbrook          & E14000540 & E09000002 & 11826 &  6676 & Barking                    & England &  633.1934 & 2239.587 &  50.69877 &  861.8791 &  79.29577 & 3881.162 & 74004\\\\\n\t E05000034 & Heath               & E14000657 & E09000002 & 11382 &  7380 & Dagenham and Rainham       & England & 1121.3915 & 1905.681 &  76.63341 & 1373.4160 &  86.14578 & 4601.211 & 69049\\\\\n\t E05000035 & Longbridge          & E14000540 & E09000002 & 12340 &  6965 & Barking                    & England &  660.6040 & 2336.537 &  52.89349 &  899.1894 &  82.72843 & 4049.176 & 74004\\\\\n\t E05000036 & Mayesbrook          & E14000540 & E09000002 & 10773 &  6081 & Barking                    & England &  576.7599 & 2039.983 &  46.18023 &  785.0640 &  72.22851 & 3535.253 & 74004\\\\\n\t E05000037 & Parsloes            & E14000540 & E09000002 & 10196 &  5756 & Barking                    & England &  545.9349 & 1930.956 &  43.71212 &  743.1061 &  68.36825 & 3346.311 & 74004\\\\\n\t E05000038 & River               & E14000657 & E09000002 & 11610 &  7527 & Dagenham and Rainham       & England & 1143.7281 & 1943.640 &  78.15984 & 1400.7726 &  87.86169 & 4692.861 & 69049\\\\\n\t E05000039 & Thames              & E14000540 & E09000002 & 12476 &  7042 & Barking                    & England &  667.9071 & 2362.368 &  53.47824 &  909.1302 &  83.64302 & 4093.940 & 74004\\\\\n\t E05000040 & Valence             & E14000540 & E09000002 & 10953 &  6183 & Barking                    & England &  586.4342 & 2074.201 &  46.95484 &  798.2323 &  73.44004 & 3594.552 & 74004\\\\\n\t E05000041 & Village             & E14000657 & E09000002 & 11074 &  7180 & Dagenham and Rainham       & England & 1091.0015 & 1854.037 &  74.55662 & 1336.1960 &  83.81121 & 4476.517 & 69049\\\\\n\t E05000042 & Whalebone           & E14000657 & E09000002 & 11400 &  7391 & Dagenham and Rainham       & England & 1123.0629 & 1908.522 &  76.74763 & 1375.4631 &  86.27418 & 4608.069 & 69049\\\\\n\t E05000043 & Brunswick Park      & E14000636 & E09000003 & 16902 & 11266 & Chipping Barnet            & England & 3727.5493 & 2619.660 & 344.55122 &  600.6855 & 361.91625 & 7671.438 & 77853\\\\\n\t E05000044 & Burnt Oak           & E14000741 & E09000003 & 19221 & 10876 & Hendon                     & England & 3544.0452 & 3001.542 & 158.49725 &  378.0334 & 147.86279 & 7229.980 & 74658\\\\\n\t E05000045 & Childs Hill         & E14000703 & E09000003 & 20966 & 11972 & Finchley and Golders Green & England & 4292.8649 & 3352.040 & 276.16572 &  287.7972 & 225.48549 & 8434.354 & 72049\\\\\n\t E05000046 & Colindale           & E14000741 & E09000003 & 20185 & 11421 & Hendon                     & England & 3721.6385 & 3151.950 & 166.43960 &  396.9768 & 155.27224 & 7592.277 & 74658\\\\\n\t E05000047 & Coppetts            & E14000636 & E09000003 & 18242 & 12159 & Chipping Barnet            & England & 4023.0136 & 2827.308 & 371.86209 &  648.2988 & 390.60356 & 8279.515 & 77853\\\\\n\t E05000048 & East Barnet         & E14000636 & E09000003 & 16832 & 11218 & Chipping Barnet            & England & 3711.6677 & 2608.499 & 343.08322 &  598.1262 & 360.37427 & 7638.753 & 77853\\\\\n\t E05000049 & East Finchley       & E14000703 & E09000003 & 16879 &  9640 & Finchley and Golders Green & England & 3456.6670 & 2699.104 & 222.37200 &  231.7378 & 181.56366 & 6791.444 & 72049\\\\\n\t E05000050 & Edgware             & E14000741 & E09000003 & 17306 &  9793 & Hendon                     & England & 3191.1397 & 2702.657 & 142.71457 &  340.3900 & 133.13905 & 6510.040 & 74658\\\\\n\t E05000051 & Finchley Church End & E14000703 & E09000003 & 16303 &  9310 & Finchley and Golders Green & England & 3338.3371 & 2606.707 & 214.75968 &  223.8049 & 175.34830 & 6558.957 & 72049\\\\\n\t E05000052 & Garden Suburb       & E14000703 & E09000003 & 16064 &  9174 & Finchley and Golders Green & England & 3289.5708 & 2568.628 & 211.62248 &  220.5356 & 172.78683 & 6463.144 & 72049\\\\\n\t E05000053 & Golders Green       & E14000703 & E09000003 & 20034 & 11440 & Finchley and Golders Green & England & 4102.1027 & 3203.086 & 263.89374 &  275.0084 & 215.46559 & 8059.556 & 72049\\\\\n\t E05000054 & Hale                & E14000741 & E09000003 & 18215 & 10307 & Hendon                     & England & 3358.6313 & 2844.510 & 150.20515 &  358.2558 & 140.12705 & 6851.729 & 74658\\\\\n\t E05000055 & Hendon              & E14000741 & E09000003 & 19430 & 10995 & Hendon                     & England & 3582.8225 & 3034.383 & 160.23146 &  382.1697 & 149.48063 & 7309.087 & 74658\\\\\n\t ⋮ & ⋮ & ⋮ & ⋮ & ⋮ & ⋮ & ⋮ & ⋮ & ⋮ & ⋮ & ⋮ & ⋮ & ⋮ & ⋮ & ⋮\\\\\n\t W05000965 & Dunvant        & W07000046 & W06000011 &  4256 & 3195 & Gower        & Wales &  819.7847 &  818.3893 &  80.21093 & 246.6796 &  60.00315 & 2209.832 & 61820\\\\\n\t W05000965 & Dunvant        & W07000047 & W06000011 &  4256 & 2810 & Swansea West & Wales &  379.1702 &  715.5518 & 151.93582 & 226.8041 &  85.29059 & 1680.760 & 58776\\\\\n\t W05000966 & Fairwood       & W07000046 & W06000011 &  2932 & 2201 & Gower        & Wales &  564.7406 &  563.7793 &  55.25642 & 169.9349 &  41.33551 & 1522.329 & 61820\\\\\n\t W05000967 & Gorseinon      & W07000046 & W06000011 &  4510 & 3385 & Gower        & Wales &  868.5356 &  867.0572 &  84.98091 & 261.3492 &  63.57142 & 2341.246 & 61820\\\\\n\t W05000968 & Kingsbridge    & W07000046 & W06000011 &  3970 & 2979 & Gower        & Wales &  764.3626 &  763.0615 &  74.78822 & 230.0027 &  55.94660 & 2060.435 & 61820\\\\\n\t W05000969 & Landore        & W07000047 & W06000011 &  6530 & 4311 & Swansea West & Wales &  581.7092 & 1097.7735 & 233.09443 & 347.9547 & 130.84973 & 2578.561 & 58776\\\\\n\t W05000969 & Landore        & W07000048 & W06000011 &  6530 & 3527 & Swansea East & Wales &  312.6275 & 1082.6445 &  84.63195 & 351.3563 &        NA & 2043.935 & 58011\\\\\n\t W05000970 & Llangyfelach   & W07000046 & W06000011 &  5065 & 3801 & Gower        & Wales &  975.2744 &  973.6143 &  95.42465 & 293.4677 &  71.38403 & 2628.974 & 61820\\\\\n\t W05000970 & Llangyfelach   & W07000048 & W06000011 &  5065 & 2736 & Swansea East & Wales &  242.5146 &  839.8399 &  65.65155 & 272.5577 &        NA & 1585.542 & 58011\\\\\n\t W05000971 & Llansamlet     & W07000048 & W06000011 & 14522 & 7846 & Swansea East & Wales &  695.4566 & 2408.4005 & 188.26829 & 781.6110 &        NA & 4546.842 & 58011\\\\\n\t W05000972 & Morriston      & W07000048 & W06000011 & 16584 & 8960 & Swansea East & Wales &  794.1997 & 2750.3529 & 214.99922 & 892.5866 &        NA & 5192.417 & 58011\\\\\n\t W05000973 & Mynyddbach     & W07000048 & W06000011 &  8904 & 4811 & Swansea East & Wales &  426.4392 & 1476.7799 & 115.44211 & 479.2672 &        NA & 2788.026 & 58011\\\\\n\t W05000974 & Penclawdd      & W07000046 & W06000011 &  3583 & 2689 & Gower        & Wales &  689.9534 &  688.7790 &  67.50773 & 207.6124 &  50.50031 & 1859.855 & 61820\\\\\n\t W05000975 & Penderry       & W07000048 & W06000011 & 11747 & 6346 & Swansea East & Wales &  562.4990 & 1947.9620 & 152.27512 & 632.1824 &        NA & 3677.575 & 58011\\\\\n\t W05000976 & Penllergaer    & W07000046 & W06000011 &  3104 & 2330 & Gower        & Wales &  597.8399 &  596.8222 &  58.49499 & 179.8947 &  43.75817 & 1611.552 & 61820\\\\\n\t W05000977 & Pennard        & W07000046 & W06000011 &  2704 & 2029 & Gower        & Wales &  520.6082 &  519.7220 &  50.93834 & 156.6551 &  38.10529 & 1403.364 & 61820\\\\\n\t W05000978 & Penyrheol      & W07000046 & W06000011 &  5482 & 4115 & Gower        & Wales & 1055.8416 & 1054.0444 & 103.30767 & 317.7110 &  77.28106 & 2846.153 & 61820\\\\\n\t W05000979 & Townhill       & W07000047 & W06000011 &  8785 & 5801 & Swansea West & Wales &  782.7639 & 1477.1942 & 313.65826 & 468.2174 & 176.07500 & 3469.783 & 58776\\\\\n\t W05000980 & Upper Loughor  & W07000046 & W06000011 &  2702 & 2028 & Gower        & Wales &  520.3516 &  519.4659 &  50.91323 & 156.5779 &  38.08651 & 1402.673 & 61820\\\\\n\t W05000981 & Aethwy         & W07000041 & W06000001 &  6824 & 4858 & Ynys Môn     & Wales &  719.1093 & 1057.4107 &  73.04897 & 498.1142 &        NA & 3397.215 & 49944\\\\\n\t W05000982 & Bro Aberffraw  & W07000041 & W06000001 &  3811 & 2712 & Ynys Môn     & Wales &  401.4459 &  590.3042 &  40.77991 & 278.0745 &        NA & 1896.510 & 49944\\\\\n\t W05000983 & Bro Rhosyr     & W07000041 & W06000001 &  4852 & 3454 & Ynys Môn     & Wales &  511.2811 &  751.8107 &  51.93725 & 354.1553 &        NA & 2415.393 & 49944\\\\\n\t W05000984 & Caergybi       & W07000041 & W06000001 &  7553 & 5376 & Ynys Môn     & Wales &  795.7866 & 1170.1605 &  80.83806 & 551.2273 &        NA & 3759.454 & 49944\\\\\n\t W05000985 & Canolbarth M�n & W07000041 & W06000001 &  8997 & 6404 & Ynys Môn     & Wales &  947.9572 & 1393.9189 &  96.29593 & 656.6331 &        NA & 4478.338 & 49944\\\\\n\t W05000986 & Llif�n         & W07000041 & W06000001 &  6002 & 4272 & Ynys Môn     & Wales &  632.3662 &  929.8597 &  64.23739 & 438.0288 &        NA & 2987.423 & 49944\\\\\n\t W05000987 & Lligwy         & W07000041 & W06000001 &  6185 & 4402 & Ynys Môn     & Wales &  651.6095 &  958.1560 &  66.19218 & 451.3584 &        NA & 3078.333 & 49944\\\\\n\t W05000988 & Seiriol        & W07000041 & W06000001 &  5974 & 4252 & Ynys Môn     & Wales &  629.4057 &  925.5064 &  63.93665 & 435.9781 &        NA & 2973.437 & 49944\\\\\n\t W05000989 & Talybolion     & W07000041 & W06000001 &  6308 & 4490 & Ynys Môn     & Wales &  664.6358 &  977.3104 &  67.51542 & 460.3814 &        NA & 3139.871 & 49944\\\\\n\t W05000990 & Twrcelyn       & W07000041 & W06000001 &  7485 & 5327 & Ynys Môn     & Wales &  788.5334 & 1159.4950 &  80.10125 & 546.2031 &        NA & 3725.188 & 49944\\\\\n\t W05000991 & Ynys Gybi      & W07000041 & W06000001 &  6178 & 4397 & Ynys Môn     & Wales &  650.8694 &  957.0677 &  66.11699 & 450.8457 &        NA & 3074.836 & 49944\\\\\n\\end{tabular}\n",
            "text/plain": [
              "     WardCode  WardName            ConstituencyCode LACode    Population\n",
              "1    E05000026 Abbey               E14000540        E09000002 13757     \n",
              "2    E05000027 Alibon              E14000540        E09000002 11102     \n",
              "3    E05000028 Becontree           E14000540        E09000002 13017     \n",
              "4    E05000029 Chadwell Heath      E14000657        E09000002 10606     \n",
              "5    E05000030 Eastbrook           E14000657        E09000002 11117     \n",
              "6    E05000031 Eastbury            E14000540        E09000002 12114     \n",
              "7    E05000032 Gascoigne           E14000540        E09000002 12551     \n",
              "8    E05000033 Goresbrook          E14000540        E09000002 11826     \n",
              "9    E05000034 Heath               E14000657        E09000002 11382     \n",
              "10   E05000035 Longbridge          E14000540        E09000002 12340     \n",
              "11   E05000036 Mayesbrook          E14000540        E09000002 10773     \n",
              "12   E05000037 Parsloes            E14000540        E09000002 10196     \n",
              "13   E05000038 River               E14000657        E09000002 11610     \n",
              "14   E05000039 Thames              E14000540        E09000002 12476     \n",
              "15   E05000040 Valence             E14000540        E09000002 10953     \n",
              "16   E05000041 Village             E14000657        E09000002 11074     \n",
              "17   E05000042 Whalebone           E14000657        E09000002 11400     \n",
              "18   E05000043 Brunswick Park      E14000636        E09000003 16902     \n",
              "19   E05000044 Burnt Oak           E14000741        E09000003 19221     \n",
              "20   E05000045 Childs Hill         E14000703        E09000003 20966     \n",
              "21   E05000046 Colindale           E14000741        E09000003 20185     \n",
              "22   E05000047 Coppetts            E14000636        E09000003 18242     \n",
              "23   E05000048 East Barnet         E14000636        E09000003 16832     \n",
              "24   E05000049 East Finchley       E14000703        E09000003 16879     \n",
              "25   E05000050 Edgware             E14000741        E09000003 17306     \n",
              "26   E05000051 Finchley Church End E14000703        E09000003 16303     \n",
              "27   E05000052 Garden Suburb       E14000703        E09000003 16064     \n",
              "28   E05000053 Golders Green       E14000703        E09000003 20034     \n",
              "29   E05000054 Hale                E14000741        E09000003 18215     \n",
              "30   E05000055 Hendon              E14000741        E09000003 19430     \n",
              "⋮    ⋮         ⋮                   ⋮                ⋮         ⋮         \n",
              "8611 W05000965 Dunvant             W07000046        W06000011  4256     \n",
              "8612 W05000965 Dunvant             W07000047        W06000011  4256     \n",
              "8613 W05000966 Fairwood            W07000046        W06000011  2932     \n",
              "8614 W05000967 Gorseinon           W07000046        W06000011  4510     \n",
              "8615 W05000968 Kingsbridge         W07000046        W06000011  3970     \n",
              "8616 W05000969 Landore             W07000047        W06000011  6530     \n",
              "8617 W05000969 Landore             W07000048        W06000011  6530     \n",
              "8618 W05000970 Llangyfelach        W07000046        W06000011  5065     \n",
              "8619 W05000970 Llangyfelach        W07000048        W06000011  5065     \n",
              "8620 W05000971 Llansamlet          W07000048        W06000011 14522     \n",
              "8621 W05000972 Morriston           W07000048        W06000011 16584     \n",
              "8622 W05000973 Mynyddbach          W07000048        W06000011  8904     \n",
              "8623 W05000974 Penclawdd           W07000046        W06000011  3583     \n",
              "8624 W05000975 Penderry            W07000048        W06000011 11747     \n",
              "8625 W05000976 Penllergaer         W07000046        W06000011  3104     \n",
              "8626 W05000977 Pennard             W07000046        W06000011  2704     \n",
              "8627 W05000978 Penyrheol           W07000046        W06000011  5482     \n",
              "8628 W05000979 Townhill            W07000047        W06000011  8785     \n",
              "8629 W05000980 Upper Loughor       W07000046        W06000011  2702     \n",
              "8630 W05000981 Aethwy              W07000041        W06000001  6824     \n",
              "8631 W05000982 Bro Aberffraw       W07000041        W06000001  3811     \n",
              "8632 W05000983 Bro Rhosyr          W07000041        W06000001  4852     \n",
              "8633 W05000984 Caergybi            W07000041        W06000001  7553     \n",
              "8634 W05000985 Canolbarth M�n      W07000041        W06000001  8997     \n",
              "8635 W05000986 Llif�n              W07000041        W06000001  6002     \n",
              "8636 W05000987 Lligwy              W07000041        W06000001  6185     \n",
              "8637 W05000988 Seiriol             W07000041        W06000001  5974     \n",
              "8638 W05000989 Talybolion          W07000041        W06000001  6308     \n",
              "8639 W05000990 Twrcelyn            W07000041        W06000001  7485     \n",
              "8640 W05000991 Ynys Gybi           W07000041        W06000001  6178     \n",
              "     ElectorateWard ConstituencyName           Country ConVote   LabVote  \n",
              "1     7765          Barking                    England  736.4809 2604.912 \n",
              "2     6267          Barking                    England  594.4013 2102.380 \n",
              "3     7347          Barking                    England  696.8352 2464.686 \n",
              "4     6877          Dagenham and Rainham       England 1044.9606 1775.796 \n",
              "5     7208          Dagenham and Rainham       England 1095.2561 1861.267 \n",
              "6     6838          Barking                    England  648.5585 2293.933 \n",
              "7     7084          Barking                    England  671.8907 2376.458 \n",
              "8     6676          Barking                    England  633.1934 2239.587 \n",
              "9     7380          Dagenham and Rainham       England 1121.3915 1905.681 \n",
              "10    6965          Barking                    England  660.6040 2336.537 \n",
              "11    6081          Barking                    England  576.7599 2039.983 \n",
              "12    5756          Barking                    England  545.9349 1930.956 \n",
              "13    7527          Dagenham and Rainham       England 1143.7281 1943.640 \n",
              "14    7042          Barking                    England  667.9071 2362.368 \n",
              "15    6183          Barking                    England  586.4342 2074.201 \n",
              "16    7180          Dagenham and Rainham       England 1091.0015 1854.037 \n",
              "17    7391          Dagenham and Rainham       England 1123.0629 1908.522 \n",
              "18   11266          Chipping Barnet            England 3727.5493 2619.660 \n",
              "19   10876          Hendon                     England 3544.0452 3001.542 \n",
              "20   11972          Finchley and Golders Green England 4292.8649 3352.040 \n",
              "21   11421          Hendon                     England 3721.6385 3151.950 \n",
              "22   12159          Chipping Barnet            England 4023.0136 2827.308 \n",
              "23   11218          Chipping Barnet            England 3711.6677 2608.499 \n",
              "24    9640          Finchley and Golders Green England 3456.6670 2699.104 \n",
              "25    9793          Hendon                     England 3191.1397 2702.657 \n",
              "26    9310          Finchley and Golders Green England 3338.3371 2606.707 \n",
              "27    9174          Finchley and Golders Green England 3289.5708 2568.628 \n",
              "28   11440          Finchley and Golders Green England 4102.1027 3203.086 \n",
              "29   10307          Hendon                     England 3358.6313 2844.510 \n",
              "30   10995          Hendon                     England 3582.8225 3034.383 \n",
              "⋮    ⋮              ⋮                          ⋮       ⋮         ⋮        \n",
              "8611 3195           Gower                      Wales    819.7847  818.3893\n",
              "8612 2810           Swansea West               Wales    379.1702  715.5518\n",
              "8613 2201           Gower                      Wales    564.7406  563.7793\n",
              "8614 3385           Gower                      Wales    868.5356  867.0572\n",
              "8615 2979           Gower                      Wales    764.3626  763.0615\n",
              "8616 4311           Swansea West               Wales    581.7092 1097.7735\n",
              "8617 3527           Swansea East               Wales    312.6275 1082.6445\n",
              "8618 3801           Gower                      Wales    975.2744  973.6143\n",
              "8619 2736           Swansea East               Wales    242.5146  839.8399\n",
              "8620 7846           Swansea East               Wales    695.4566 2408.4005\n",
              "8621 8960           Swansea East               Wales    794.1997 2750.3529\n",
              "8622 4811           Swansea East               Wales    426.4392 1476.7799\n",
              "8623 2689           Gower                      Wales    689.9534  688.7790\n",
              "8624 6346           Swansea East               Wales    562.4990 1947.9620\n",
              "8625 2330           Gower                      Wales    597.8399  596.8222\n",
              "8626 2029           Gower                      Wales    520.6082  519.7220\n",
              "8627 4115           Gower                      Wales   1055.8416 1054.0444\n",
              "8628 5801           Swansea West               Wales    782.7639 1477.1942\n",
              "8629 2028           Gower                      Wales    520.3516  519.4659\n",
              "8630 4858           Ynys Môn                   Wales    719.1093 1057.4107\n",
              "8631 2712           Ynys Môn                   Wales    401.4459  590.3042\n",
              "8632 3454           Ynys Môn                   Wales    511.2811  751.8107\n",
              "8633 5376           Ynys Môn                   Wales    795.7866 1170.1605\n",
              "8634 6404           Ynys Môn                   Wales    947.9572 1393.9189\n",
              "8635 4272           Ynys Môn                   Wales    632.3662  929.8597\n",
              "8636 4402           Ynys Môn                   Wales    651.6095  958.1560\n",
              "8637 4252           Ynys Môn                   Wales    629.4057  925.5064\n",
              "8638 4490           Ynys Môn                   Wales    664.6358  977.3104\n",
              "8639 5327           Ynys Môn                   Wales    788.5334 1159.4950\n",
              "8640 4397           Ynys Môn                   Wales    650.8694  957.0677\n",
              "     LDVote    UKIPVote  GreenVote TotalVote ElectorateConst\n",
              "1     58.96884 1002.4703  92.23062 4514.264  74004          \n",
              "2     47.59275  809.0768  74.43777 3643.386  74004          \n",
              "3     55.79447  948.5060  87.26573 4271.255  74004          \n",
              "4     71.41029 1279.8078  80.27433 4287.605  69049          \n",
              "5     74.84737 1341.4068  84.13805 4493.974  69049          \n",
              "6     51.92903  882.7935  81.21996 3975.343  74004          \n",
              "7     53.79720  914.5524  84.14188 4118.358  74004          \n",
              "8     50.69877  861.8791  79.29577 3881.162  74004          \n",
              "9     76.63341 1373.4160  86.14578 4601.211  69049          \n",
              "10    52.89349  899.1894  82.72843 4049.176  74004          \n",
              "11    46.18023  785.0640  72.22851 3535.253  74004          \n",
              "12    43.71212  743.1061  68.36825 3346.311  74004          \n",
              "13    78.15984 1400.7726  87.86169 4692.861  69049          \n",
              "14    53.47824  909.1302  83.64302 4093.940  74004          \n",
              "15    46.95484  798.2323  73.44004 3594.552  74004          \n",
              "16    74.55662 1336.1960  83.81121 4476.517  69049          \n",
              "17    76.74763 1375.4631  86.27418 4608.069  69049          \n",
              "18   344.55122  600.6855 361.91625 7671.438  77853          \n",
              "19   158.49725  378.0334 147.86279 7229.980  74658          \n",
              "20   276.16572  287.7972 225.48549 8434.354  72049          \n",
              "21   166.43960  396.9768 155.27224 7592.277  74658          \n",
              "22   371.86209  648.2988 390.60356 8279.515  77853          \n",
              "23   343.08322  598.1262 360.37427 7638.753  77853          \n",
              "24   222.37200  231.7378 181.56366 6791.444  72049          \n",
              "25   142.71457  340.3900 133.13905 6510.040  74658          \n",
              "26   214.75968  223.8049 175.34830 6558.957  72049          \n",
              "27   211.62248  220.5356 172.78683 6463.144  72049          \n",
              "28   263.89374  275.0084 215.46559 8059.556  72049          \n",
              "29   150.20515  358.2558 140.12705 6851.729  74658          \n",
              "30   160.23146  382.1697 149.48063 7309.087  74658          \n",
              "⋮    ⋮         ⋮         ⋮         ⋮         ⋮              \n",
              "8611  80.21093 246.6796   60.00315 2209.832  61820          \n",
              "8612 151.93582 226.8041   85.29059 1680.760  58776          \n",
              "8613  55.25642 169.9349   41.33551 1522.329  61820          \n",
              "8614  84.98091 261.3492   63.57142 2341.246  61820          \n",
              "8615  74.78822 230.0027   55.94660 2060.435  61820          \n",
              "8616 233.09443 347.9547  130.84973 2578.561  58776          \n",
              "8617  84.63195 351.3563         NA 2043.935  58011          \n",
              "8618  95.42465 293.4677   71.38403 2628.974  61820          \n",
              "8619  65.65155 272.5577         NA 1585.542  58011          \n",
              "8620 188.26829 781.6110         NA 4546.842  58011          \n",
              "8621 214.99922 892.5866         NA 5192.417  58011          \n",
              "8622 115.44211 479.2672         NA 2788.026  58011          \n",
              "8623  67.50773 207.6124   50.50031 1859.855  61820          \n",
              "8624 152.27512 632.1824         NA 3677.575  58011          \n",
              "8625  58.49499 179.8947   43.75817 1611.552  61820          \n",
              "8626  50.93834 156.6551   38.10529 1403.364  61820          \n",
              "8627 103.30767 317.7110   77.28106 2846.153  61820          \n",
              "8628 313.65826 468.2174  176.07500 3469.783  58776          \n",
              "8629  50.91323 156.5779   38.08651 1402.673  61820          \n",
              "8630  73.04897 498.1142         NA 3397.215  49944          \n",
              "8631  40.77991 278.0745         NA 1896.510  49944          \n",
              "8632  51.93725 354.1553         NA 2415.393  49944          \n",
              "8633  80.83806 551.2273         NA 3759.454  49944          \n",
              "8634  96.29593 656.6331         NA 4478.338  49944          \n",
              "8635  64.23739 438.0288         NA 2987.423  49944          \n",
              "8636  66.19218 451.3584         NA 3078.333  49944          \n",
              "8637  63.93665 435.9781         NA 2973.437  49944          \n",
              "8638  67.51542 460.3814         NA 3139.871  49944          \n",
              "8639  80.10125 546.2031         NA 3725.188  49944          \n",
              "8640  66.11699 450.8457         NA 3074.836  49944          "
            ]
          },
          "metadata": {}
        }
      ]
    },
    {
      "cell_type": "markdown",
      "source": [
        "We now aggregate the ward data by local authority and divide by the total (estimated) numbers of votes cast."
      ],
      "metadata": {
        "id": "NLDwwPGBDvzH"
      }
    },
    {
      "cell_type": "code",
      "metadata": {
        "id": "XzHX8a0KZQ0S",
        "colab": {
          "base_uri": "https://localhost:8080/",
          "height": 1000
        },
        "outputId": "067570fc-58d4-4c94-b111-df319c069ad9"
      },
      "source": [
        "la_shares <- wards_extended %>% group_by(LACode) %>%summarise(ConVote=sum(ConVote)/sum(TotalVote),\n",
        "LabVote=sum(LabVote)/sum(TotalVote),\n",
        "LDVote=sum(LDVote)/sum(TotalVote),\n",
        "UKIPVote=sum(UKIPVote)/sum(TotalVote),\n",
        "GreenVote=sum(GreenVote)/sum(TotalVote))\n",
        "\n",
        "la_shares"
      ],
      "execution_count": null,
      "outputs": [
        {
          "output_type": "display_data",
          "data": {
            "text/html": [
              "<table class=\"dataframe\">\n",
              "<caption>A tibble: 348 × 6</caption>\n",
              "<thead>\n",
              "\t<tr><th scope=col>LACode</th><th scope=col>ConVote</th><th scope=col>LabVote</th><th scope=col>LDVote</th><th scope=col>UKIPVote</th><th scope=col>GreenVote</th></tr>\n",
              "\t<tr><th scope=col>&lt;chr&gt;</th><th scope=col>&lt;dbl&gt;</th><th scope=col>&lt;dbl&gt;</th><th scope=col>&lt;dbl&gt;</th><th scope=col>&lt;dbl&gt;</th><th scope=col>&lt;dbl&gt;</th></tr>\n",
              "</thead>\n",
              "<tbody>\n",
              "\t<tr><td>E06000001</td><td>0.2090656</td><td>0.35644467</td><td>0.01927070</td><td>0.27986832</td><td>0.03395796</td></tr>\n",
              "\t<tr><td>E06000002</td><td>0.2472925</td><td>0.50883604</td><td>0.03607391</td><td>0.17272565</td><td>0.03507185</td></tr>\n",
              "\t<tr><td>E06000003</td><td>0.2386435</td><td>0.43181856</td><td>0.12941810</td><td>0.17197566</td><td>0.02213076</td></tr>\n",
              "\t<tr><td>E06000004</td><td>0.3862403</td><td>0.42258778</td><td>0.02462569</td><td>0.14294939</td><td>        NA</td></tr>\n",
              "\t<tr><td>E06000005</td><td>0.3447822</td><td>0.43416758</td><td>0.04622107</td><td>0.13547020</td><td>0.03462303</td></tr>\n",
              "\t<tr><td>E06000006</td><td>0.2313309</td><td>0.58327778</td><td>0.02550359</td><td>0.13146166</td><td>0.02314775</td></tr>\n",
              "\t<tr><td>E06000007</td><td>0.3696121</td><td>0.42853052</td><td>0.04978429</td><td>0.12089108</td><td>0.02891040</td></tr>\n",
              "\t<tr><td>E06000008</td><td>0.3332464</td><td>0.49642907</td><td>0.02005798</td><td>0.14186750</td><td>        NA</td></tr>\n",
              "\t<tr><td>E06000009</td><td>0.3879165</td><td>0.39046971</td><td>0.02345000</td><td>0.16121543</td><td>0.02435190</td></tr>\n",
              "\t<tr><td>E06000010</td><td>0.1601314</td><td>0.51436329</td><td>0.08358535</td><td>0.19470525</td><td>0.03773468</td></tr>\n",
              "\t<tr><td>E06000011</td><td>0.5000972</td><td>0.23575773</td><td>0.05649957</td><td>0.16250567</td><td>0.03382478</td></tr>\n",
              "\t<tr><td>E06000012</td><td>0.3654984</td><td>0.34405497</td><td>0.03975073</td><td>0.21717603</td><td>0.02283695</td></tr>\n",
              "\t<tr><td>E06000013</td><td>0.4240212</td><td>0.34556846</td><td>0.02096497</td><td>0.16722809</td><td>0.02273751</td></tr>\n",
              "\t<tr><td>E06000014</td><td>0.3933333</td><td>0.33047760</td><td>0.09919252</td><td>0.09892664</td><td>0.07236829</td></tr>\n",
              "\t<tr><td>E06000015</td><td>0.3605191</td><td>0.39234926</td><td>0.06163078</td><td>0.14770603</td><td>0.03431698</td></tr>\n",
              "\t<tr><td>E06000016</td><td>0.2295926</td><td>0.56725173</td><td>0.03786606</td><td>0.10948246</td><td>0.04573958</td></tr>\n",
              "\t<tr><td>E06000017</td><td>0.5564346</td><td>0.15352636</td><td>0.08070985</td><td>0.15892900</td><td>0.04258008</td></tr>\n",
              "\t<tr><td>E06000018</td><td>0.2499452</td><td>0.51911557</td><td>0.03380198</td><td>0.13105940</td><td>0.06056992</td></tr>\n",
              "\t<tr><td>E06000019</td><td>0.5411419</td><td>0.12090680</td><td>0.11303526</td><td>0.15400924</td><td>0.07090680</td></tr>\n",
              "\t<tr><td>E06000020</td><td>0.4447707</td><td>0.32120013</td><td>0.03262369</td><td>0.17423323</td><td>0.02717223</td></tr>\n",
              "\t<tr><td>E06000021</td><td>0.2794225</td><td>0.39450277</td><td>0.03467343</td><td>0.22750839</td><td>0.02988772</td></tr>\n",
              "\t<tr><td>E06000022</td><td>0.4403065</td><td>0.19237461</td><td>0.18345086</td><td>0.09231051</td><td>0.08583901</td></tr>\n",
              "\t<tr><td>E06000023</td><td>0.2771943</td><td>0.36782774</td><td>0.10522907</td><td>0.10494748</td><td>0.14016933</td></tr>\n",
              "\t<tr><td>E06000024</td><td>0.5089332</td><td>0.16175758</td><td>0.11634707</td><td>0.15278849</td><td>0.05738425</td></tr>\n",
              "\t<tr><td>E06000025</td><td>0.4533458</td><td>0.21333233</td><td>0.16349557</td><td>0.13388570</td><td>0.03390354</td></tr>\n",
              "\t<tr><td>E06000026</td><td>0.4249215</td><td>0.31075144</td><td>0.04595534</td><td>0.16766475</td><td>0.04858193</td></tr>\n",
              "\t<tr><td>E06000027</td><td>0.4417979</td><td>0.09822951</td><td>0.26988789</td><td>0.13754164</td><td>0.05254310</td></tr>\n",
              "\t<tr><td>E06000028</td><td>0.4879294</td><td>0.17078563</td><td>0.08145795</td><td>0.17392931</td><td>0.07348101</td></tr>\n",
              "\t<tr><td>E06000029</td><td>0.5011588</td><td>0.11508438</td><td>0.15736425</td><td>0.15735999</td><td>0.04435280</td></tr>\n",
              "\t<tr><td>E06000030</td><td>0.4834442</td><td>0.31033939</td><td>0.03468795</td><td>0.13724447</td><td>0.03428403</td></tr>\n",
              "\t<tr><td>⋮</td><td>⋮</td><td>⋮</td><td>⋮</td><td>⋮</td><td>⋮</td></tr>\n",
              "\t<tr><td>E09000026</td><td>0.3439537</td><td>0.52256584</td><td>0.02695903</td><td>0.07441053</td><td>0.03024875</td></tr>\n",
              "\t<tr><td>E09000027</td><td>0.4760397</td><td>0.11814880</td><td>0.30989206</td><td>0.04657447</td><td>0.04732707</td></tr>\n",
              "\t<tr><td>E09000028</td><td>0.1389209</td><td>0.53297977</td><td>0.18283558</td><td>0.05171645</td><td>0.07339665</td></tr>\n",
              "\t<tr><td>E09000029</td><td>0.3673681</td><td>0.13019135</td><td>0.34264443</td><td>0.12705347</td><td>0.02607724</td></tr>\n",
              "\t<tr><td>E09000030</td><td>0.2022930</td><td>0.59896314</td><td>0.04370576</td><td>0.06104763</td><td>0.07087758</td></tr>\n",
              "\t<tr><td>E09000031</td><td>0.2660443</td><td>0.53428078</td><td>0.04940913</td><td>0.08052567</td><td>0.05986832</td></tr>\n",
              "\t<tr><td>E09000032</td><td>0.4897030</td><td>0.38604765</td><td>0.04793958</td><td>0.03468749</td><td>0.04037375</td></tr>\n",
              "\t<tr><td>E09000033</td><td>0.4746831</td><td>0.37865061</td><td>0.05197069</td><td>0.04443111</td><td>0.04290092</td></tr>\n",
              "\t<tr><td>W06000001</td><td>0.2116761</td><td>0.31125809</td><td>0.02150261</td><td>0.14662429</td><td>        NA</td></tr>\n",
              "\t<tr><td>W06000002</td><td>0.1806457</td><td>0.21571300</td><td>0.03356054</td><td>0.09691480</td><td>        NA</td></tr>\n",
              "\t<tr><td>W06000003</td><td>0.4239861</td><td>0.26917352</td><td>0.04130558</td><td>0.12308376</td><td>        NA</td></tr>\n",
              "\t<tr><td>W06000004</td><td>0.3907224</td><td>0.36115280</td><td>0.02869111</td><td>0.13208314</td><td>        NA</td></tr>\n",
              "\t<tr><td>W06000005</td><td>0.3231392</td><td>0.40277513</td><td>0.03951962</td><td>0.17024032</td><td>0.02102297</td></tr>\n",
              "\t<tr><td>W06000006</td><td>0.3101413</td><td>0.37224908</td><td>0.04589445</td><td>0.15563871</td><td>0.02321489</td></tr>\n",
              "\t<tr><td>W06000008</td><td>0.1101935</td><td>0.09661642</td><td>0.35850973</td><td>0.10233590</td><td>0.05580500</td></tr>\n",
              "\t<tr><td>W06000009</td><td>0.4161867</td><td>0.28342916</td><td>0.02095632</td><td>0.10923103</td><td>0.03437682</td></tr>\n",
              "\t<tr><td>W06000010</td><td>0.2227146</td><td>0.31995170</td><td>0.02193703</td><td>0.13290541</td><td>0.02441119</td></tr>\n",
              "\t<tr><td>W06000011</td><td>0.2594323</td><td>0.43583008</td><td>0.05489008</td><td>0.13714450</td><td>        NA</td></tr>\n",
              "\t<tr><td>W06000012</td><td>0.1373911</td><td>0.46150485</td><td>0.03743191</td><td>0.16116112</td><td>0.02761514</td></tr>\n",
              "\t<tr><td>W06000013</td><td>0.2596244</td><td>0.43148562</td><td>0.03742005</td><td>0.15133107</td><td>0.01970268</td></tr>\n",
              "\t<tr><td>W06000014</td><td>0.4206744</td><td>0.34708387</td><td>0.03049762</td><td>0.11332722</td><td>0.02402472</td></tr>\n",
              "\t<tr><td>W06000015</td><td>0.2835838</td><td>0.40199398</td><td>0.09680161</td><td>0.09563992</td><td>0.03993692</td></tr>\n",
              "\t<tr><td>W06000016</td><td>0.1272131</td><td>0.46776053</td><td>0.05906195</td><td>0.14200742</td><td>0.02235983</td></tr>\n",
              "\t<tr><td>W06000018</td><td>0.1541886</td><td>0.47137916</td><td>0.02630884</td><td>0.19385727</td><td>0.02086040</td></tr>\n",
              "\t<tr><td>W06000019</td><td>0.1079128</td><td>0.58012183</td><td>0.01956885</td><td>0.17918126</td><td>0.02329325</td></tr>\n",
              "\t<tr><td>W06000020</td><td>0.2653687</td><td>0.42370298</td><td>0.03593816</td><td>0.17892759</td><td>0.02153440</td></tr>\n",
              "\t<tr><td>W06000021</td><td>0.4635235</td><td>0.29000174</td><td>0.05441481</td><td>0.11680168</td><td>0.03288792</td></tr>\n",
              "\t<tr><td>W06000022</td><td>0.3042077</td><td>0.41014613</td><td>0.04922932</td><td>0.16498094</td><td>0.02900385</td></tr>\n",
              "\t<tr><td>W06000023</td><td>0.4292620</td><td>0.10459125</td><td>0.28766315</td><td>0.09660596</td><td>0.03421695</td></tr>\n",
              "\t<tr><td>W06000024</td><td>0.1221936</td><td>0.51133655</td><td>0.05813236</td><td>0.17945091</td><td>0.01933894</td></tr>\n",
              "</tbody>\n",
              "</table>\n"
            ],
            "text/markdown": "\nA tibble: 348 × 6\n\n| LACode &lt;chr&gt; | ConVote &lt;dbl&gt; | LabVote &lt;dbl&gt; | LDVote &lt;dbl&gt; | UKIPVote &lt;dbl&gt; | GreenVote &lt;dbl&gt; |\n|---|---|---|---|---|---|\n| E06000001 | 0.2090656 | 0.35644467 | 0.01927070 | 0.27986832 | 0.03395796 |\n| E06000002 | 0.2472925 | 0.50883604 | 0.03607391 | 0.17272565 | 0.03507185 |\n| E06000003 | 0.2386435 | 0.43181856 | 0.12941810 | 0.17197566 | 0.02213076 |\n| E06000004 | 0.3862403 | 0.42258778 | 0.02462569 | 0.14294939 |         NA |\n| E06000005 | 0.3447822 | 0.43416758 | 0.04622107 | 0.13547020 | 0.03462303 |\n| E06000006 | 0.2313309 | 0.58327778 | 0.02550359 | 0.13146166 | 0.02314775 |\n| E06000007 | 0.3696121 | 0.42853052 | 0.04978429 | 0.12089108 | 0.02891040 |\n| E06000008 | 0.3332464 | 0.49642907 | 0.02005798 | 0.14186750 |         NA |\n| E06000009 | 0.3879165 | 0.39046971 | 0.02345000 | 0.16121543 | 0.02435190 |\n| E06000010 | 0.1601314 | 0.51436329 | 0.08358535 | 0.19470525 | 0.03773468 |\n| E06000011 | 0.5000972 | 0.23575773 | 0.05649957 | 0.16250567 | 0.03382478 |\n| E06000012 | 0.3654984 | 0.34405497 | 0.03975073 | 0.21717603 | 0.02283695 |\n| E06000013 | 0.4240212 | 0.34556846 | 0.02096497 | 0.16722809 | 0.02273751 |\n| E06000014 | 0.3933333 | 0.33047760 | 0.09919252 | 0.09892664 | 0.07236829 |\n| E06000015 | 0.3605191 | 0.39234926 | 0.06163078 | 0.14770603 | 0.03431698 |\n| E06000016 | 0.2295926 | 0.56725173 | 0.03786606 | 0.10948246 | 0.04573958 |\n| E06000017 | 0.5564346 | 0.15352636 | 0.08070985 | 0.15892900 | 0.04258008 |\n| E06000018 | 0.2499452 | 0.51911557 | 0.03380198 | 0.13105940 | 0.06056992 |\n| E06000019 | 0.5411419 | 0.12090680 | 0.11303526 | 0.15400924 | 0.07090680 |\n| E06000020 | 0.4447707 | 0.32120013 | 0.03262369 | 0.17423323 | 0.02717223 |\n| E06000021 | 0.2794225 | 0.39450277 | 0.03467343 | 0.22750839 | 0.02988772 |\n| E06000022 | 0.4403065 | 0.19237461 | 0.18345086 | 0.09231051 | 0.08583901 |\n| E06000023 | 0.2771943 | 0.36782774 | 0.10522907 | 0.10494748 | 0.14016933 |\n| E06000024 | 0.5089332 | 0.16175758 | 0.11634707 | 0.15278849 | 0.05738425 |\n| E06000025 | 0.4533458 | 0.21333233 | 0.16349557 | 0.13388570 | 0.03390354 |\n| E06000026 | 0.4249215 | 0.31075144 | 0.04595534 | 0.16766475 | 0.04858193 |\n| E06000027 | 0.4417979 | 0.09822951 | 0.26988789 | 0.13754164 | 0.05254310 |\n| E06000028 | 0.4879294 | 0.17078563 | 0.08145795 | 0.17392931 | 0.07348101 |\n| E06000029 | 0.5011588 | 0.11508438 | 0.15736425 | 0.15735999 | 0.04435280 |\n| E06000030 | 0.4834442 | 0.31033939 | 0.03468795 | 0.13724447 | 0.03428403 |\n| ⋮ | ⋮ | ⋮ | ⋮ | ⋮ | ⋮ |\n| E09000026 | 0.3439537 | 0.52256584 | 0.02695903 | 0.07441053 | 0.03024875 |\n| E09000027 | 0.4760397 | 0.11814880 | 0.30989206 | 0.04657447 | 0.04732707 |\n| E09000028 | 0.1389209 | 0.53297977 | 0.18283558 | 0.05171645 | 0.07339665 |\n| E09000029 | 0.3673681 | 0.13019135 | 0.34264443 | 0.12705347 | 0.02607724 |\n| E09000030 | 0.2022930 | 0.59896314 | 0.04370576 | 0.06104763 | 0.07087758 |\n| E09000031 | 0.2660443 | 0.53428078 | 0.04940913 | 0.08052567 | 0.05986832 |\n| E09000032 | 0.4897030 | 0.38604765 | 0.04793958 | 0.03468749 | 0.04037375 |\n| E09000033 | 0.4746831 | 0.37865061 | 0.05197069 | 0.04443111 | 0.04290092 |\n| W06000001 | 0.2116761 | 0.31125809 | 0.02150261 | 0.14662429 |         NA |\n| W06000002 | 0.1806457 | 0.21571300 | 0.03356054 | 0.09691480 |         NA |\n| W06000003 | 0.4239861 | 0.26917352 | 0.04130558 | 0.12308376 |         NA |\n| W06000004 | 0.3907224 | 0.36115280 | 0.02869111 | 0.13208314 |         NA |\n| W06000005 | 0.3231392 | 0.40277513 | 0.03951962 | 0.17024032 | 0.02102297 |\n| W06000006 | 0.3101413 | 0.37224908 | 0.04589445 | 0.15563871 | 0.02321489 |\n| W06000008 | 0.1101935 | 0.09661642 | 0.35850973 | 0.10233590 | 0.05580500 |\n| W06000009 | 0.4161867 | 0.28342916 | 0.02095632 | 0.10923103 | 0.03437682 |\n| W06000010 | 0.2227146 | 0.31995170 | 0.02193703 | 0.13290541 | 0.02441119 |\n| W06000011 | 0.2594323 | 0.43583008 | 0.05489008 | 0.13714450 |         NA |\n| W06000012 | 0.1373911 | 0.46150485 | 0.03743191 | 0.16116112 | 0.02761514 |\n| W06000013 | 0.2596244 | 0.43148562 | 0.03742005 | 0.15133107 | 0.01970268 |\n| W06000014 | 0.4206744 | 0.34708387 | 0.03049762 | 0.11332722 | 0.02402472 |\n| W06000015 | 0.2835838 | 0.40199398 | 0.09680161 | 0.09563992 | 0.03993692 |\n| W06000016 | 0.1272131 | 0.46776053 | 0.05906195 | 0.14200742 | 0.02235983 |\n| W06000018 | 0.1541886 | 0.47137916 | 0.02630884 | 0.19385727 | 0.02086040 |\n| W06000019 | 0.1079128 | 0.58012183 | 0.01956885 | 0.17918126 | 0.02329325 |\n| W06000020 | 0.2653687 | 0.42370298 | 0.03593816 | 0.17892759 | 0.02153440 |\n| W06000021 | 0.4635235 | 0.29000174 | 0.05441481 | 0.11680168 | 0.03288792 |\n| W06000022 | 0.3042077 | 0.41014613 | 0.04922932 | 0.16498094 | 0.02900385 |\n| W06000023 | 0.4292620 | 0.10459125 | 0.28766315 | 0.09660596 | 0.03421695 |\n| W06000024 | 0.1221936 | 0.51133655 | 0.05813236 | 0.17945091 | 0.01933894 |\n\n",
            "text/latex": "A tibble: 348 × 6\n\\begin{tabular}{llllll}\n LACode & ConVote & LabVote & LDVote & UKIPVote & GreenVote\\\\\n <chr> & <dbl> & <dbl> & <dbl> & <dbl> & <dbl>\\\\\n\\hline\n\t E06000001 & 0.2090656 & 0.35644467 & 0.01927070 & 0.27986832 & 0.03395796\\\\\n\t E06000002 & 0.2472925 & 0.50883604 & 0.03607391 & 0.17272565 & 0.03507185\\\\\n\t E06000003 & 0.2386435 & 0.43181856 & 0.12941810 & 0.17197566 & 0.02213076\\\\\n\t E06000004 & 0.3862403 & 0.42258778 & 0.02462569 & 0.14294939 &         NA\\\\\n\t E06000005 & 0.3447822 & 0.43416758 & 0.04622107 & 0.13547020 & 0.03462303\\\\\n\t E06000006 & 0.2313309 & 0.58327778 & 0.02550359 & 0.13146166 & 0.02314775\\\\\n\t E06000007 & 0.3696121 & 0.42853052 & 0.04978429 & 0.12089108 & 0.02891040\\\\\n\t E06000008 & 0.3332464 & 0.49642907 & 0.02005798 & 0.14186750 &         NA\\\\\n\t E06000009 & 0.3879165 & 0.39046971 & 0.02345000 & 0.16121543 & 0.02435190\\\\\n\t E06000010 & 0.1601314 & 0.51436329 & 0.08358535 & 0.19470525 & 0.03773468\\\\\n\t E06000011 & 0.5000972 & 0.23575773 & 0.05649957 & 0.16250567 & 0.03382478\\\\\n\t E06000012 & 0.3654984 & 0.34405497 & 0.03975073 & 0.21717603 & 0.02283695\\\\\n\t E06000013 & 0.4240212 & 0.34556846 & 0.02096497 & 0.16722809 & 0.02273751\\\\\n\t E06000014 & 0.3933333 & 0.33047760 & 0.09919252 & 0.09892664 & 0.07236829\\\\\n\t E06000015 & 0.3605191 & 0.39234926 & 0.06163078 & 0.14770603 & 0.03431698\\\\\n\t E06000016 & 0.2295926 & 0.56725173 & 0.03786606 & 0.10948246 & 0.04573958\\\\\n\t E06000017 & 0.5564346 & 0.15352636 & 0.08070985 & 0.15892900 & 0.04258008\\\\\n\t E06000018 & 0.2499452 & 0.51911557 & 0.03380198 & 0.13105940 & 0.06056992\\\\\n\t E06000019 & 0.5411419 & 0.12090680 & 0.11303526 & 0.15400924 & 0.07090680\\\\\n\t E06000020 & 0.4447707 & 0.32120013 & 0.03262369 & 0.17423323 & 0.02717223\\\\\n\t E06000021 & 0.2794225 & 0.39450277 & 0.03467343 & 0.22750839 & 0.02988772\\\\\n\t E06000022 & 0.4403065 & 0.19237461 & 0.18345086 & 0.09231051 & 0.08583901\\\\\n\t E06000023 & 0.2771943 & 0.36782774 & 0.10522907 & 0.10494748 & 0.14016933\\\\\n\t E06000024 & 0.5089332 & 0.16175758 & 0.11634707 & 0.15278849 & 0.05738425\\\\\n\t E06000025 & 0.4533458 & 0.21333233 & 0.16349557 & 0.13388570 & 0.03390354\\\\\n\t E06000026 & 0.4249215 & 0.31075144 & 0.04595534 & 0.16766475 & 0.04858193\\\\\n\t E06000027 & 0.4417979 & 0.09822951 & 0.26988789 & 0.13754164 & 0.05254310\\\\\n\t E06000028 & 0.4879294 & 0.17078563 & 0.08145795 & 0.17392931 & 0.07348101\\\\\n\t E06000029 & 0.5011588 & 0.11508438 & 0.15736425 & 0.15735999 & 0.04435280\\\\\n\t E06000030 & 0.4834442 & 0.31033939 & 0.03468795 & 0.13724447 & 0.03428403\\\\\n\t ⋮ & ⋮ & ⋮ & ⋮ & ⋮ & ⋮\\\\\n\t E09000026 & 0.3439537 & 0.52256584 & 0.02695903 & 0.07441053 & 0.03024875\\\\\n\t E09000027 & 0.4760397 & 0.11814880 & 0.30989206 & 0.04657447 & 0.04732707\\\\\n\t E09000028 & 0.1389209 & 0.53297977 & 0.18283558 & 0.05171645 & 0.07339665\\\\\n\t E09000029 & 0.3673681 & 0.13019135 & 0.34264443 & 0.12705347 & 0.02607724\\\\\n\t E09000030 & 0.2022930 & 0.59896314 & 0.04370576 & 0.06104763 & 0.07087758\\\\\n\t E09000031 & 0.2660443 & 0.53428078 & 0.04940913 & 0.08052567 & 0.05986832\\\\\n\t E09000032 & 0.4897030 & 0.38604765 & 0.04793958 & 0.03468749 & 0.04037375\\\\\n\t E09000033 & 0.4746831 & 0.37865061 & 0.05197069 & 0.04443111 & 0.04290092\\\\\n\t W06000001 & 0.2116761 & 0.31125809 & 0.02150261 & 0.14662429 &         NA\\\\\n\t W06000002 & 0.1806457 & 0.21571300 & 0.03356054 & 0.09691480 &         NA\\\\\n\t W06000003 & 0.4239861 & 0.26917352 & 0.04130558 & 0.12308376 &         NA\\\\\n\t W06000004 & 0.3907224 & 0.36115280 & 0.02869111 & 0.13208314 &         NA\\\\\n\t W06000005 & 0.3231392 & 0.40277513 & 0.03951962 & 0.17024032 & 0.02102297\\\\\n\t W06000006 & 0.3101413 & 0.37224908 & 0.04589445 & 0.15563871 & 0.02321489\\\\\n\t W06000008 & 0.1101935 & 0.09661642 & 0.35850973 & 0.10233590 & 0.05580500\\\\\n\t W06000009 & 0.4161867 & 0.28342916 & 0.02095632 & 0.10923103 & 0.03437682\\\\\n\t W06000010 & 0.2227146 & 0.31995170 & 0.02193703 & 0.13290541 & 0.02441119\\\\\n\t W06000011 & 0.2594323 & 0.43583008 & 0.05489008 & 0.13714450 &         NA\\\\\n\t W06000012 & 0.1373911 & 0.46150485 & 0.03743191 & 0.16116112 & 0.02761514\\\\\n\t W06000013 & 0.2596244 & 0.43148562 & 0.03742005 & 0.15133107 & 0.01970268\\\\\n\t W06000014 & 0.4206744 & 0.34708387 & 0.03049762 & 0.11332722 & 0.02402472\\\\\n\t W06000015 & 0.2835838 & 0.40199398 & 0.09680161 & 0.09563992 & 0.03993692\\\\\n\t W06000016 & 0.1272131 & 0.46776053 & 0.05906195 & 0.14200742 & 0.02235983\\\\\n\t W06000018 & 0.1541886 & 0.47137916 & 0.02630884 & 0.19385727 & 0.02086040\\\\\n\t W06000019 & 0.1079128 & 0.58012183 & 0.01956885 & 0.17918126 & 0.02329325\\\\\n\t W06000020 & 0.2653687 & 0.42370298 & 0.03593816 & 0.17892759 & 0.02153440\\\\\n\t W06000021 & 0.4635235 & 0.29000174 & 0.05441481 & 0.11680168 & 0.03288792\\\\\n\t W06000022 & 0.3042077 & 0.41014613 & 0.04922932 & 0.16498094 & 0.02900385\\\\\n\t W06000023 & 0.4292620 & 0.10459125 & 0.28766315 & 0.09660596 & 0.03421695\\\\\n\t W06000024 & 0.1221936 & 0.51133655 & 0.05813236 & 0.17945091 & 0.01933894\\\\\n\\end{tabular}\n",
            "text/plain": [
              "    LACode    ConVote   LabVote    LDVote     UKIPVote   GreenVote \n",
              "1   E06000001 0.2090656 0.35644467 0.01927070 0.27986832 0.03395796\n",
              "2   E06000002 0.2472925 0.50883604 0.03607391 0.17272565 0.03507185\n",
              "3   E06000003 0.2386435 0.43181856 0.12941810 0.17197566 0.02213076\n",
              "4   E06000004 0.3862403 0.42258778 0.02462569 0.14294939         NA\n",
              "5   E06000005 0.3447822 0.43416758 0.04622107 0.13547020 0.03462303\n",
              "6   E06000006 0.2313309 0.58327778 0.02550359 0.13146166 0.02314775\n",
              "7   E06000007 0.3696121 0.42853052 0.04978429 0.12089108 0.02891040\n",
              "8   E06000008 0.3332464 0.49642907 0.02005798 0.14186750         NA\n",
              "9   E06000009 0.3879165 0.39046971 0.02345000 0.16121543 0.02435190\n",
              "10  E06000010 0.1601314 0.51436329 0.08358535 0.19470525 0.03773468\n",
              "11  E06000011 0.5000972 0.23575773 0.05649957 0.16250567 0.03382478\n",
              "12  E06000012 0.3654984 0.34405497 0.03975073 0.21717603 0.02283695\n",
              "13  E06000013 0.4240212 0.34556846 0.02096497 0.16722809 0.02273751\n",
              "14  E06000014 0.3933333 0.33047760 0.09919252 0.09892664 0.07236829\n",
              "15  E06000015 0.3605191 0.39234926 0.06163078 0.14770603 0.03431698\n",
              "16  E06000016 0.2295926 0.56725173 0.03786606 0.10948246 0.04573958\n",
              "17  E06000017 0.5564346 0.15352636 0.08070985 0.15892900 0.04258008\n",
              "18  E06000018 0.2499452 0.51911557 0.03380198 0.13105940 0.06056992\n",
              "19  E06000019 0.5411419 0.12090680 0.11303526 0.15400924 0.07090680\n",
              "20  E06000020 0.4447707 0.32120013 0.03262369 0.17423323 0.02717223\n",
              "21  E06000021 0.2794225 0.39450277 0.03467343 0.22750839 0.02988772\n",
              "22  E06000022 0.4403065 0.19237461 0.18345086 0.09231051 0.08583901\n",
              "23  E06000023 0.2771943 0.36782774 0.10522907 0.10494748 0.14016933\n",
              "24  E06000024 0.5089332 0.16175758 0.11634707 0.15278849 0.05738425\n",
              "25  E06000025 0.4533458 0.21333233 0.16349557 0.13388570 0.03390354\n",
              "26  E06000026 0.4249215 0.31075144 0.04595534 0.16766475 0.04858193\n",
              "27  E06000027 0.4417979 0.09822951 0.26988789 0.13754164 0.05254310\n",
              "28  E06000028 0.4879294 0.17078563 0.08145795 0.17392931 0.07348101\n",
              "29  E06000029 0.5011588 0.11508438 0.15736425 0.15735999 0.04435280\n",
              "30  E06000030 0.4834442 0.31033939 0.03468795 0.13724447 0.03428403\n",
              "⋮   ⋮         ⋮         ⋮          ⋮          ⋮          ⋮         \n",
              "319 E09000026 0.3439537 0.52256584 0.02695903 0.07441053 0.03024875\n",
              "320 E09000027 0.4760397 0.11814880 0.30989206 0.04657447 0.04732707\n",
              "321 E09000028 0.1389209 0.53297977 0.18283558 0.05171645 0.07339665\n",
              "322 E09000029 0.3673681 0.13019135 0.34264443 0.12705347 0.02607724\n",
              "323 E09000030 0.2022930 0.59896314 0.04370576 0.06104763 0.07087758\n",
              "324 E09000031 0.2660443 0.53428078 0.04940913 0.08052567 0.05986832\n",
              "325 E09000032 0.4897030 0.38604765 0.04793958 0.03468749 0.04037375\n",
              "326 E09000033 0.4746831 0.37865061 0.05197069 0.04443111 0.04290092\n",
              "327 W06000001 0.2116761 0.31125809 0.02150261 0.14662429         NA\n",
              "328 W06000002 0.1806457 0.21571300 0.03356054 0.09691480         NA\n",
              "329 W06000003 0.4239861 0.26917352 0.04130558 0.12308376         NA\n",
              "330 W06000004 0.3907224 0.36115280 0.02869111 0.13208314         NA\n",
              "331 W06000005 0.3231392 0.40277513 0.03951962 0.17024032 0.02102297\n",
              "332 W06000006 0.3101413 0.37224908 0.04589445 0.15563871 0.02321489\n",
              "333 W06000008 0.1101935 0.09661642 0.35850973 0.10233590 0.05580500\n",
              "334 W06000009 0.4161867 0.28342916 0.02095632 0.10923103 0.03437682\n",
              "335 W06000010 0.2227146 0.31995170 0.02193703 0.13290541 0.02441119\n",
              "336 W06000011 0.2594323 0.43583008 0.05489008 0.13714450         NA\n",
              "337 W06000012 0.1373911 0.46150485 0.03743191 0.16116112 0.02761514\n",
              "338 W06000013 0.2596244 0.43148562 0.03742005 0.15133107 0.01970268\n",
              "339 W06000014 0.4206744 0.34708387 0.03049762 0.11332722 0.02402472\n",
              "340 W06000015 0.2835838 0.40199398 0.09680161 0.09563992 0.03993692\n",
              "341 W06000016 0.1272131 0.46776053 0.05906195 0.14200742 0.02235983\n",
              "342 W06000018 0.1541886 0.47137916 0.02630884 0.19385727 0.02086040\n",
              "343 W06000019 0.1079128 0.58012183 0.01956885 0.17918126 0.02329325\n",
              "344 W06000020 0.2653687 0.42370298 0.03593816 0.17892759 0.02153440\n",
              "345 W06000021 0.4635235 0.29000174 0.05441481 0.11680168 0.03288792\n",
              "346 W06000022 0.3042077 0.41014613 0.04922932 0.16498094 0.02900385\n",
              "347 W06000023 0.4292620 0.10459125 0.28766315 0.09660596 0.03421695\n",
              "348 W06000024 0.1221936 0.51133655 0.05813236 0.17945091 0.01933894"
            ]
          },
          "metadata": {}
        }
      ]
    },
    {
      "cell_type": "code",
      "source": [
        "la_shares <- wards_extended %>% group_by(LACode) %>%\n",
        "summarise_at(vars(ConVote:GreenVote), funs(sum(.)/sum(TotalVote)))\n",
        "head(la_shares)"
      ],
      "metadata": {
        "colab": {
          "base_uri": "https://localhost:8080/",
          "height": 107
        },
        "id": "7Rkw6Zz1z6OU",
        "outputId": "4ec6c6f1-666e-4801-8787-09f59da28466"
      },
      "execution_count": null,
      "outputs": [
        {
          "output_type": "error",
          "ename": "ERROR",
          "evalue": "ignored",
          "traceback": [
            "Error in wards_extended %>% group_by(LACode) %>% summarise_at(vars(ConVote:GreenVote), : could not find function \"%>%\"\nTraceback:\n"
          ]
        }
      ]
    },
    {
      "cell_type": "markdown",
      "source": [
        "dplyr provides the functions mutate_at and summarise_at, which allow for applying the same transformation to a\n",
        "number of column in one go."
      ],
      "metadata": {
        "id": "eZbDkeWHDz6w"
      }
    },
    {
      "cell_type": "code",
      "source": [
        "wards_extended <- wards %>% inner_join(genelec, by=\"ConstituencyCode\", suffix=c(\"Ward\",\"Const\")) %>%\n",
        "mutate_at(vars(ConVote:TotalVote), funs(./ElectorateConst*ElectorateWard))"
      ],
      "metadata": {
        "id": "087H00WnD6VK",
        "colab": {
          "base_uri": "https://localhost:8080/",
          "height": 107
        },
        "outputId": "4e52485b-3e73-4a3d-9022-1dd4297c4e19"
      },
      "execution_count": null,
      "outputs": [
        {
          "output_type": "error",
          "ename": "ERROR",
          "evalue": "ignored",
          "traceback": [
            "Error in wards %>% inner_join(genelec, by = \"ConstituencyCode\", suffix = c(\"Ward\", : could not find function \"%>%\"\nTraceback:\n"
          ]
        }
      ]
    },
    {
      "cell_type": "markdown",
      "source": [
        "We can now for example plot the Leave vote against the UKIP vote."
      ],
      "metadata": {
        "id": "4V-D7d72EUT_"
      }
    },
    {
      "cell_type": "code",
      "source": [
        "qplot(UKIPVote,Leave,data=brexit %>%inner_join(la_shares))"
      ],
      "metadata": {
        "id": "Gp-0RN7dEU4X",
        "colab": {
          "base_uri": "https://localhost:8080/",
          "height": 454
        },
        "outputId": "6e5d33d0-df56-49df-ee36-26c3d247ad53"
      },
      "execution_count": null,
      "outputs": [
        {
          "output_type": "stream",
          "name": "stderr",
          "text": [
            "\u001b[1m\u001b[22mJoining, by = \"LACode\"\n"
          ]
        },
        {
          "output_type": "display_data",
          "data": {
            "text/plain": [
              "plot without title"
            ],
            "image/png": "[encoded data removed]"
          },
          "metadata": {
            "image/png": {
              "width": 420,
              "height": 420
            }
          }
        }
      ]
    }
  ]
}